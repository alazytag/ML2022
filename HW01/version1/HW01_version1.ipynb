{
  "cells": [
    {
      "cell_type": "markdown",
      "metadata": {
        "id": "guE34D3Fj2R9"
      },
      "source": [
        "# **Homework 1: COVID-19 Cases Prediction (Regression) -1**"
      ]
    },
    {
      "cell_type": "markdown",
      "metadata": {
        "id": "V57zhcTp1Xxb"
      },
      "source": [
        "Objectives:\n",
        "* Solve a regression problem with deep neural networks (DNN).\n",
        "* Understand basic DNN training tips.\n",
        "* Familiarize yourself with PyTorch.\n",
        "\n",
        "If you have any questions, please contact the TAs via TA hours, NTU COOL, or email to mlta-2022-spring@googlegroups.com"
      ]
    },
    {
      "cell_type": "markdown",
      "metadata": {
        "id": "Tm2aXcb-j9Fc"
      },
      "source": [
        "# Download data\n",
        "If the Google Drive links below do not work, you can download data from [Kaggle](https://www.kaggle.com/c/ml2022spring-hw1/data), and upload data manually to the workspace."
      ]
    },
    {
      "cell_type": "code",
      "execution_count": 18,
      "metadata": {
        "colab": {
          "base_uri": "https://localhost:8080/"
        },
        "id": "YPmfl-awlKZA",
        "outputId": "8895f38e-c9f4-4067-915a-0f3e80e6203b"
      },
      "outputs": [
        {
          "output_type": "stream",
          "name": "stdout",
          "text": [
            "/usr/local/lib/python3.10/dist-packages/gdown/cli.py:121: FutureWarning: Option `--id` was deprecated in version 4.3.1 and will be removed in 5.0. You don't need to pass it anymore to use a file ID.\n",
            "  warnings.warn(\n",
            "Downloading...\n",
            "From: https://drive.google.com/uc?id=1kLSW_-cW2Huj7bh84YTdimGBOJaODiOS\n",
            "To: /content/covid.train.csv\n",
            "100% 2.49M/2.49M [00:00<00:00, 179MB/s]\n",
            "/usr/local/lib/python3.10/dist-packages/gdown/cli.py:121: FutureWarning: Option `--id` was deprecated in version 4.3.1 and will be removed in 5.0. You don't need to pass it anymore to use a file ID.\n",
            "  warnings.warn(\n",
            "Downloading...\n",
            "From: https://drive.google.com/uc?id=1iiI5qROrAhZn-o4FPqsE97bMzDEFvIdg\n",
            "To: /content/covid.test.csv\n",
            "100% 993k/993k [00:00<00:00, 157MB/s]\n"
          ]
        }
      ],
      "source": [
        "!gdown --id '1kLSW_-cW2Huj7bh84YTdimGBOJaODiOS' --output covid.train.csv\n",
        "!gdown --id '1iiI5qROrAhZn-o4FPqsE97bMzDEFvIdg' --output covid.test.csv"
      ]
    },
    {
      "cell_type": "markdown",
      "metadata": {
        "id": "igqIMEgu64-F"
      },
      "source": [
        "# Import packages"
      ]
    },
    {
      "cell_type": "code",
      "execution_count": 19,
      "metadata": {
        "id": "xybQNYCXYu13"
      },
      "outputs": [],
      "source": [
        "# Numerical Operations\n",
        "import math\n",
        "import numpy as np\n",
        "\n",
        "# Reading/Writing Data\n",
        "import pandas as pd\n",
        "import os\n",
        "import csv\n",
        "\n",
        "# For Progress Bar\n",
        "from tqdm import tqdm\n",
        "\n",
        "# Pytorch\n",
        "import torch \n",
        "import torch.nn as nn\n",
        "from torch.utils.data import Dataset, DataLoader, random_split\n",
        "\n",
        "# For plotting learning curve\n",
        "from torch.utils.tensorboard import SummaryWriter"
      ]
    },
    {
      "cell_type": "markdown",
      "metadata": {
        "id": "fTAVqRfc2KK3"
      },
      "source": [
        "# Some Utility Functions\n",
        "\n",
        "You do not need to modify this part."
      ]
    },
    {
      "cell_type": "code",
      "execution_count": 20,
      "metadata": {
        "id": "RbrcpfYN2I-H"
      },
      "outputs": [],
      "source": [
        "def same_seed(seed): \n",
        "    '''Fixes random number generator seeds for reproducibility.'''\n",
        "    torch.backends.cudnn.deterministic = True\n",
        "    torch.backends.cudnn.benchmark = False\n",
        "    np.random.seed(seed)\n",
        "    torch.manual_seed(seed)\n",
        "    if torch.cuda.is_available():\n",
        "        torch.cuda.manual_seed_all(seed)\n",
        "\n",
        "def train_valid_split(data_set, valid_ratio, seed):\n",
        "    '''Split provided training data into training set and validation set'''\n",
        "    valid_set_size = int(valid_ratio * len(data_set)) \n",
        "    train_set_size = len(data_set) - valid_set_size\n",
        "    train_set, valid_set = random_split(data_set, [train_set_size, valid_set_size], generator=torch.Generator().manual_seed(seed))\n",
        "    return np.array(train_set), np.array(valid_set)\n",
        "\n",
        "def predict(test_loader, model, device):\n",
        "    model.eval() # Set your model to evaluation mode.\n",
        "    preds = []\n",
        "    for x in tqdm(test_loader):\n",
        "        x = x.to(device)                        \n",
        "        with torch.no_grad():                   \n",
        "            pred = model(x)                     \n",
        "            preds.append(pred.detach().cpu())   \n",
        "    preds = torch.cat(preds, dim=0).numpy()  \n",
        "    return preds"
      ]
    },
    {
      "cell_type": "markdown",
      "metadata": {
        "id": "IqO3lTm78nNO"
      },
      "source": [
        "# Dataset"
      ]
    },
    {
      "cell_type": "code",
      "execution_count": 21,
      "metadata": {
        "id": "-mjaJM0wprMs"
      },
      "outputs": [],
      "source": [
        "class COVID19Dataset(Dataset):\n",
        "    '''\n",
        "    x: Features.\n",
        "    y: Targets, if none, do prediction.\n",
        "    '''\n",
        "    def __init__(self, x, y=None):\n",
        "        if y is None:\n",
        "            self.y = y\n",
        "        else:\n",
        "            self.y = torch.FloatTensor(y)\n",
        "        self.x = torch.FloatTensor(x)\n",
        "        \n",
        "    def __getitem__(self, idx):\n",
        "        if self.y is None:\n",
        "            return self.x[idx]\n",
        "        else:\n",
        "            return self.x[idx], self.y[idx]\n",
        "\n",
        "    def __len__(self):\n",
        "        return len(self.x)"
      ]
    },
    {
      "cell_type": "markdown",
      "metadata": {
        "id": "m73ooU75CL_j"
      },
      "source": [
        "# Neural Network Model\n",
        "Try out different model architectures by modifying the class below."
      ]
    },
    {
      "cell_type": "code",
      "execution_count": 22,
      "metadata": {
        "id": "8CQIP4O93f7L"
      },
      "outputs": [],
      "source": [
        "class My_Model(nn.Module):\n",
        "    def __init__(self, input_dim):\n",
        "        super(My_Model, self).__init__()\n",
        "        # TODO: modify model's structure, be aware of dimensions. \n",
        "        self.layers = nn.Sequential(\n",
        "            nn.Linear(input_dim, 512),\n",
        "            nn.Dropout(0.4),\n",
        "            nn.LeakyReLU(),\n",
        "            nn.Linear(512, 1),\n",
        "        )\n",
        "\n",
        "    def forward(self, x):\n",
        "        x = self.layers(x)\n",
        "        x = x.squeeze(1) # (B, 1) -> (B)\n",
        "        return x"
      ]
    },
    {
      "cell_type": "markdown",
      "metadata": {
        "id": "x5-LKF6R8xeq"
      },
      "source": [
        "# Feature Selection\n",
        "Choose features you deem useful by modifying the function below."
      ]
    },
    {
      "cell_type": "code",
      "execution_count": 23,
      "metadata": {
        "id": "0FEnKRaIIeKp"
      },
      "outputs": [],
      "source": [
        "def select_feat(train_data, valid_data, test_data, select_all=True, feature_selection_idx_list=None):\n",
        "    '''Selects useful features to perform regression'''\n",
        "    y_train, y_valid = train_data[:,-1], valid_data[:,-1]\n",
        "    raw_x_train, raw_x_valid, raw_x_test = train_data[:,:-1], valid_data[:,:-1], test_data\n",
        "\n",
        "    if not select_all and feature_selection_idx_list is not None:\n",
        "        feat_idx = feature_selection_idx_list\n",
        "    else:\n",
        "        feat_idx = list(range(raw_x_train.shape[1]))\n",
        "        \n",
        "    return raw_x_train[:,feat_idx], raw_x_valid[:,feat_idx], raw_x_test[:,feat_idx], y_train, y_valid"
      ]
    },
    {
      "cell_type": "markdown",
      "metadata": {
        "id": "kADIPNQ2Ih5X"
      },
      "source": [
        "# Training Loop"
      ]
    },
    {
      "cell_type": "code",
      "execution_count": 24,
      "metadata": {
        "id": "k4Rq8_TztAhq"
      },
      "outputs": [],
      "source": [
        "def trainer(train_loader, valid_loader, model, config, device):\n",
        "\n",
        "    criterion = nn.MSELoss(reduction='mean') # Define your loss function, do not modify this.\n",
        "\n",
        "    # Define your optimization algorithm. \n",
        "    # TODO: Please check https://pytorch.org/docs/stable/optim.html to get more available algorithms.\n",
        "    # TODO: L2 regularization (optimizer(weight decay...) or implement by your self).\n",
        "    optimizer = torch.optim.AdamW(model.parameters(), weight_decay=5e-5)  # 5e-5\n",
        "#     optimizer = torch.optim.SGD(model.parameters(), lr=config['learning_rate'], momentum=0.5) \n",
        "\n",
        "    writer = SummaryWriter() # Writer of tensoboard.\n",
        "\n",
        "    if not os.path.isdir('./models'):\n",
        "        os.mkdir('./models') # Create directory of saving models.\n",
        "\n",
        "    n_epochs, best_loss, step, early_stop_count = config['n_epochs'], math.inf, 0, 0\n",
        "\n",
        "    for epoch in range(n_epochs):\n",
        "        model.train() # Set your model to train mode.\n",
        "        loss_record = []\n",
        "\n",
        "        # tqdm is a package to visualize your training progress.\n",
        "        train_pbar = tqdm(train_loader, position=0, leave=True)\n",
        "\n",
        "        for x, y in train_pbar:\n",
        "            optimizer.zero_grad()               # Set gradient to zero.\n",
        "            x, y = x.to(device), y.to(device)   # Move your data to device. \n",
        "            pred = model(x)             \n",
        "            loss = criterion(pred, y)  # RMSE\n",
        "            loss.backward()                     # Compute gradient(backpropagation).\n",
        "            optimizer.step()                    # Update parameters.\n",
        "            step += 1\n",
        "            loss_record.append(loss.detach().item())\n",
        "            \n",
        "            # Display current epoch number and loss on tqdm progress bar.\n",
        "            train_pbar.set_description(f'Epoch [{epoch+1}/{n_epochs}]')\n",
        "            train_pbar.set_postfix({'loss': loss.detach().item()})\n",
        "\n",
        "        mean_train_loss = sum(loss_record)/len(loss_record)\n",
        "        writer.add_scalar('Loss/train', mean_train_loss, step)\n",
        "\n",
        "        model.eval() # Set your model to evaluation mode.\n",
        "        loss_record = []\n",
        "        for x, y in valid_loader:\n",
        "            x, y = x.to(device), y.to(device)\n",
        "            with torch.no_grad():\n",
        "                pred = model(x)\n",
        "                loss = criterion(pred, y)\n",
        "\n",
        "            loss_record.append(loss.item())\n",
        "            \n",
        "        mean_valid_loss = sum(loss_record)/len(loss_record)\n",
        "        print(f'Epoch [{epoch+1}/{n_epochs}]: Train loss: {mean_train_loss:.4f}, Valid loss: {mean_valid_loss:.4f}')\n",
        "        writer.add_scalar('Loss/valid', mean_valid_loss, step)\n",
        "\n",
        "        if mean_valid_loss < best_loss:\n",
        "            best_loss = mean_valid_loss\n",
        "            torch.save(model.state_dict(), config['save_path']) # Save your best model\n",
        "            print('Saving model with loss {:.3f}...'.format(best_loss))\n",
        "            early_stop_count = 0\n",
        "        else: \n",
        "            early_stop_count += 1\n",
        "\n",
        "        if early_stop_count >= config['early_stop']:\n",
        "            print('\\nModel is not improving, so we halt the training session.')\n",
        "            print(f'Best Loss: {best_loss}')\n",
        "            return"
      ]
    },
    {
      "cell_type": "markdown",
      "metadata": {
        "id": "0pgkOh2e9UjE"
      },
      "source": [
        "# Configurations\n",
        "`config` contains hyper-parameters for training and the path to save your model."
      ]
    },
    {
      "cell_type": "code",
      "execution_count": 25,
      "metadata": {
        "id": "QoWPUahCtoT6"
      },
      "outputs": [],
      "source": [
        "device = 'cuda' if torch.cuda.is_available() else 'cpu'\n",
        "\n",
        "config = {\n",
        "    'seed': 98979979,      # 5201314 Your seed number, you can pick your lucky number. :)\n",
        "    'select_all': True,   # True Whether to use all features.\n",
        "    'valid_ratio': 0.3, # 0.3   # validation_size = train_size * valid_ratio\n",
        "    'n_epochs': 5000,     # 5000 Number of epochs.            \n",
        "    'batch_size': 1024,  # 1024\n",
        "    'learning_rate': 2e-4, # 2e-4             \n",
        "    'early_stop': 300,   # 300 If model has not improved for this many consecutive epochs, stop training.     \n",
        "    'save_path': './models/model.ckpt'  # Your model will be saved here.\n",
        "}"
      ]
    },
    {
      "cell_type": "markdown",
      "metadata": {
        "id": "lrS-aJJh9XkW"
      },
      "source": [
        "# Dataloader\n",
        "Read data from files and set up training, validation, and testing sets. You do not need to modify this part."
      ]
    },
    {
      "cell_type": "code",
      "execution_count": 26,
      "metadata": {
        "colab": {
          "base_uri": "https://localhost:8080/"
        },
        "id": "2jc7ZfDot2t9",
        "outputId": "fae755c1-ecbd-4525-cd5d-857cc756a8aa"
      },
      "outputs": [
        {
          "output_type": "stream",
          "name": "stdout",
          "text": [
            " -- Before feature selection --\n",
            "train_data size: (9821, 10) \n",
            "valid_data size: (4209, 10) \n",
            "test_data size: (1078, 9)\n",
            " -- After feature selection --\n",
            "train_data size: (9821, 9) \n",
            "valid_data size: (4209, 9) \n",
            "test_data size: (1078, 9)\n",
            "number of features: 9\n"
          ]
        }
      ],
      "source": [
        "# Set seed for reproducibility\n",
        "same_seed(config['seed'])\n",
        "\n",
        "\n",
        "# train_data size: 2699 x 118 (id + 37 states + 16 features x 5 days) \n",
        "# test_data size: 1078 x 117 (without last day's positive rate)\n",
        "train_data, test_data = pd.read_csv('./covid.train_test_1.csv').values, pd.read_csv('./covid.test_1.csv').values\n",
        "train_data, valid_data = train_valid_split(train_data, config['valid_ratio'], config['seed'])\n",
        "\n",
        "# Print out the data size before feature selection.\n",
        "print(f\"\"\" -- Before feature selection --\n",
        "train_data size: {train_data.shape} \n",
        "valid_data size: {valid_data.shape} \n",
        "test_data size: {test_data.shape}\"\"\")\n",
        "\n",
        "# Select features\n",
        "x_train, x_valid, x_test, y_train, y_valid = select_feat(train_data, valid_data, test_data, config['select_all'])\n",
        "\n",
        "# Print out the data size after feature selection.\n",
        "print(f\"\"\" -- After feature selection --\n",
        "train_data size: {x_train.shape} \n",
        "valid_data size: {x_valid.shape} \n",
        "test_data size: {x_test.shape}\"\"\")\n",
        "\n",
        "# Print out the number of features.\n",
        "print(f'number of features: {x_train.shape[1]}')\n",
        "\n",
        "train_dataset = COVID19Dataset(x_train, y_train)\n",
        "valid_dataset = COVID19Dataset(x_valid, y_valid)\n",
        "test_dataset = COVID19Dataset(x_test)\n",
        "                                            \n",
        "# Pytorch data loader loads pytorch dataset into batches.\n",
        "train_loader = DataLoader(train_dataset, batch_size=config['batch_size'], shuffle=True, pin_memory=True)\n",
        "valid_loader = DataLoader(valid_dataset, batch_size=config['batch_size'], shuffle=True, pin_memory=True)\n",
        "test_loader = DataLoader(test_dataset, batch_size=config['batch_size'], shuffle=False, pin_memory=True)"
      ]
    },
    {
      "cell_type": "code",
      "execution_count": 27,
      "metadata": {
        "id": "kVAOzk7_3f7M"
      },
      "outputs": [],
      "source": [
        "# print(relevant_features)"
      ]
    },
    {
      "cell_type": "code",
      "execution_count": 28,
      "metadata": {
        "id": "1my3axtUH3tU"
      },
      "outputs": [],
      "source": [
        "# train_data size: (2160, 118) \n",
        "# valid_data size: (539, 118) \n",
        "# test_data size: (1078, 117)\n",
        "# number of features: 117"
      ]
    },
    {
      "cell_type": "markdown",
      "metadata": {
        "id": "0OBYgjCA-YwD"
      },
      "source": [
        "# Start training!"
      ]
    },
    {
      "cell_type": "code",
      "execution_count": 12,
      "metadata": {
        "colab": {
          "base_uri": "https://localhost:8080/"
        },
        "id": "YdttVRkAfu2t",
        "outputId": "fa07cff5-4d61-44ed-8069-8f89d4ed6574"
      },
      "outputs": [
        {
          "metadata": {
            "tags": null
          },
          "name": "stderr",
          "output_type": "stream",
          "text": [
            "Epoch [1/5000]: 100%|██████████| 10/10 [00:02<00:00,  3.42it/s, loss=36.1]\n"
          ]
        },
        {
          "metadata": {
            "tags": null
          },
          "name": "stdout",
          "output_type": "stream",
          "text": [
            "Epoch [1/5000]: Train loss: 49.3859, Valid loss: 23.6702\n",
            "Saving model with loss 23.670...\n"
          ]
        },
        {
          "metadata": {
            "tags": null
          },
          "name": "stderr",
          "output_type": "stream",
          "text": [
            "Epoch [2/5000]: 100%|██████████| 10/10 [00:00<00:00, 66.67it/s, loss=15.8]\n"
          ]
        },
        {
          "metadata": {
            "tags": null
          },
          "name": "stdout",
          "output_type": "stream",
          "text": [
            "Epoch [2/5000]: Train loss: 26.8423, Valid loss: 7.0961\n",
            "Saving model with loss 7.096...\n"
          ]
        },
        {
          "metadata": {
            "tags": null
          },
          "name": "stderr",
          "output_type": "stream",
          "text": [
            "Epoch [3/5000]: 100%|██████████| 10/10 [00:00<00:00, 65.15it/s, loss=15.1]\n"
          ]
        },
        {
          "metadata": {
            "tags": null
          },
          "name": "stdout",
          "output_type": "stream",
          "text": [
            "Epoch [3/5000]: Train loss: 18.6741, Valid loss: 4.8369\n",
            "Saving model with loss 4.837...\n"
          ]
        },
        {
          "metadata": {
            "tags": null
          },
          "name": "stderr",
          "output_type": "stream",
          "text": [
            "Epoch [4/5000]: 100%|██████████| 10/10 [00:00<00:00, 61.76it/s, loss=15.5]\n"
          ]
        },
        {
          "metadata": {
            "tags": null
          },
          "name": "stdout",
          "output_type": "stream",
          "text": [
            "Epoch [4/5000]: Train loss: 14.5616, Valid loss: 3.2637\n",
            "Saving model with loss 3.264...\n"
          ]
        },
        {
          "metadata": {
            "tags": null
          },
          "name": "stderr",
          "output_type": "stream",
          "text": [
            "Epoch [5/5000]: 100%|██████████| 10/10 [00:00<00:00, 64.40it/s, loss=10.3]\n"
          ]
        },
        {
          "metadata": {
            "tags": null
          },
          "name": "stdout",
          "output_type": "stream",
          "text": [
            "Epoch [5/5000]: Train loss: 11.6281, Valid loss: 2.3599\n",
            "Saving model with loss 2.360...\n"
          ]
        },
        {
          "metadata": {
            "tags": null
          },
          "name": "stderr",
          "output_type": "stream",
          "text": [
            "Epoch [6/5000]: 100%|██████████| 10/10 [00:00<00:00, 61.70it/s, loss=9.89]\n"
          ]
        },
        {
          "metadata": {
            "tags": null
          },
          "name": "stdout",
          "output_type": "stream",
          "text": [
            "Epoch [6/5000]: Train loss: 10.2539, Valid loss: 1.4092\n",
            "Saving model with loss 1.409...\n"
          ]
        },
        {
          "metadata": {
            "tags": null
          },
          "name": "stderr",
          "output_type": "stream",
          "text": [
            "Epoch [7/5000]: 100%|██████████| 10/10 [00:00<00:00, 63.64it/s, loss=10.4]\n"
          ]
        },
        {
          "metadata": {
            "tags": null
          },
          "name": "stdout",
          "output_type": "stream",
          "text": [
            "Epoch [7/5000]: Train loss: 9.3313, Valid loss: 1.1795\n",
            "Saving model with loss 1.179...\n"
          ]
        },
        {
          "metadata": {
            "tags": null
          },
          "name": "stderr",
          "output_type": "stream",
          "text": [
            "Epoch [8/5000]: 100%|██████████| 10/10 [00:00<00:00, 64.45it/s, loss=7.82]\n"
          ]
        },
        {
          "metadata": {
            "tags": null
          },
          "name": "stdout",
          "output_type": "stream",
          "text": [
            "Epoch [8/5000]: Train loss: 8.1335, Valid loss: 1.1272\n",
            "Saving model with loss 1.127...\n"
          ]
        },
        {
          "metadata": {
            "tags": null
          },
          "name": "stderr",
          "output_type": "stream",
          "text": [
            "Epoch [9/5000]: 100%|██████████| 10/10 [00:00<00:00, 52.67it/s, loss=7.07]\n"
          ]
        },
        {
          "metadata": {
            "tags": null
          },
          "name": "stdout",
          "output_type": "stream",
          "text": [
            "Epoch [9/5000]: Train loss: 7.6176, Valid loss: 1.1323\n"
          ]
        },
        {
          "metadata": {
            "tags": null
          },
          "name": "stderr",
          "output_type": "stream",
          "text": [
            "Epoch [10/5000]: 100%|██████████| 10/10 [00:00<00:00, 23.92it/s, loss=6.34]\n"
          ]
        },
        {
          "metadata": {
            "tags": null
          },
          "name": "stdout",
          "output_type": "stream",
          "text": [
            "Epoch [10/5000]: Train loss: 6.7545, Valid loss: 1.1180\n",
            "Saving model with loss 1.118...\n"
          ]
        },
        {
          "metadata": {
            "tags": null
          },
          "name": "stderr",
          "output_type": "stream",
          "text": [
            "Epoch [11/5000]: 100%|██████████| 10/10 [00:00<00:00, 80.74it/s, loss=6.04]\n"
          ]
        },
        {
          "metadata": {
            "tags": null
          },
          "name": "stdout",
          "output_type": "stream",
          "text": [
            "Epoch [11/5000]: Train loss: 6.2962, Valid loss: 1.1190\n"
          ]
        },
        {
          "metadata": {
            "tags": null
          },
          "name": "stderr",
          "output_type": "stream",
          "text": [
            "Epoch [12/5000]: 100%|██████████| 10/10 [00:00<00:00, 80.82it/s, loss=5.81]\n"
          ]
        },
        {
          "metadata": {
            "tags": null
          },
          "name": "stdout",
          "output_type": "stream",
          "text": [
            "Epoch [12/5000]: Train loss: 5.8269, Valid loss: 1.1021\n",
            "Saving model with loss 1.102...\n"
          ]
        },
        {
          "metadata": {
            "tags": null
          },
          "name": "stderr",
          "output_type": "stream",
          "text": [
            "Epoch [13/5000]: 100%|██████████| 10/10 [00:00<00:00, 77.69it/s, loss=4.48]\n"
          ]
        },
        {
          "metadata": {
            "tags": null
          },
          "name": "stdout",
          "output_type": "stream",
          "text": [
            "Epoch [13/5000]: Train loss: 5.3992, Valid loss: 1.1845\n"
          ]
        },
        {
          "metadata": {
            "tags": null
          },
          "name": "stderr",
          "output_type": "stream",
          "text": [
            "Epoch [14/5000]: 100%|██████████| 10/10 [00:00<00:00, 79.26it/s, loss=5.2]\n"
          ]
        },
        {
          "metadata": {
            "tags": null
          },
          "name": "stdout",
          "output_type": "stream",
          "text": [
            "Epoch [14/5000]: Train loss: 5.1341, Valid loss: 1.1256\n"
          ]
        },
        {
          "metadata": {
            "tags": null
          },
          "name": "stderr",
          "output_type": "stream",
          "text": [
            "Epoch [15/5000]: 100%|██████████| 10/10 [00:00<00:00, 71.92it/s, loss=4.18]\n"
          ]
        },
        {
          "metadata": {
            "tags": null
          },
          "name": "stdout",
          "output_type": "stream",
          "text": [
            "Epoch [15/5000]: Train loss: 4.6614, Valid loss: 1.1249\n"
          ]
        },
        {
          "metadata": {
            "tags": null
          },
          "name": "stderr",
          "output_type": "stream",
          "text": [
            "Epoch [16/5000]: 100%|██████████| 10/10 [00:00<00:00, 78.05it/s, loss=4.27]\n"
          ]
        },
        {
          "metadata": {
            "tags": null
          },
          "name": "stdout",
          "output_type": "stream",
          "text": [
            "Epoch [16/5000]: Train loss: 4.4090, Valid loss: 1.1436\n"
          ]
        },
        {
          "metadata": {
            "tags": null
          },
          "name": "stderr",
          "output_type": "stream",
          "text": [
            "Epoch [17/5000]: 100%|██████████| 10/10 [00:00<00:00, 74.17it/s, loss=4.08]\n"
          ]
        },
        {
          "metadata": {
            "tags": null
          },
          "name": "stdout",
          "output_type": "stream",
          "text": [
            "Epoch [17/5000]: Train loss: 4.1214, Valid loss: 1.1706\n"
          ]
        },
        {
          "metadata": {
            "tags": null
          },
          "name": "stderr",
          "output_type": "stream",
          "text": [
            "Epoch [18/5000]: 100%|██████████| 10/10 [00:00<00:00, 78.35it/s, loss=3.44]\n"
          ]
        },
        {
          "metadata": {
            "tags": null
          },
          "name": "stdout",
          "output_type": "stream",
          "text": [
            "Epoch [18/5000]: Train loss: 3.8415, Valid loss: 1.0898\n",
            "Saving model with loss 1.090...\n"
          ]
        },
        {
          "metadata": {
            "tags": null
          },
          "name": "stderr",
          "output_type": "stream",
          "text": [
            "Epoch [19/5000]: 100%|██████████| 10/10 [00:00<00:00, 74.05it/s, loss=3.83]\n"
          ]
        },
        {
          "metadata": {
            "tags": null
          },
          "name": "stdout",
          "output_type": "stream",
          "text": [
            "Epoch [19/5000]: Train loss: 3.7547, Valid loss: 1.1842\n"
          ]
        },
        {
          "metadata": {
            "tags": null
          },
          "name": "stderr",
          "output_type": "stream",
          "text": [
            "Epoch [20/5000]: 100%|██████████| 10/10 [00:00<00:00, 29.59it/s, loss=3.46]\n"
          ]
        },
        {
          "metadata": {
            "tags": null
          },
          "name": "stdout",
          "output_type": "stream",
          "text": [
            "Epoch [20/5000]: Train loss: 3.4562, Valid loss: 1.1069\n"
          ]
        },
        {
          "metadata": {
            "tags": null
          },
          "name": "stderr",
          "output_type": "stream",
          "text": [
            "Epoch [21/5000]: 100%|██████████| 10/10 [00:00<00:00, 76.87it/s, loss=3.55]\n"
          ]
        },
        {
          "metadata": {
            "tags": null
          },
          "name": "stdout",
          "output_type": "stream",
          "text": [
            "Epoch [21/5000]: Train loss: 3.2799, Valid loss: 1.3209\n"
          ]
        },
        {
          "metadata": {
            "tags": null
          },
          "name": "stderr",
          "output_type": "stream",
          "text": [
            "Epoch [22/5000]: 100%|██████████| 10/10 [00:00<00:00, 76.48it/s, loss=3.12]\n"
          ]
        },
        {
          "metadata": {
            "tags": null
          },
          "name": "stdout",
          "output_type": "stream",
          "text": [
            "Epoch [22/5000]: Train loss: 3.1934, Valid loss: 1.1892\n"
          ]
        },
        {
          "metadata": {
            "tags": null
          },
          "name": "stderr",
          "output_type": "stream",
          "text": [
            "Epoch [23/5000]: 100%|██████████| 10/10 [00:00<00:00, 61.47it/s, loss=3.19]\n"
          ]
        },
        {
          "metadata": {
            "tags": null
          },
          "name": "stdout",
          "output_type": "stream",
          "text": [
            "Epoch [23/5000]: Train loss: 2.9749, Valid loss: 1.1205\n"
          ]
        },
        {
          "metadata": {
            "tags": null
          },
          "name": "stderr",
          "output_type": "stream",
          "text": [
            "Epoch [24/5000]: 100%|██████████| 10/10 [00:00<00:00, 56.69it/s, loss=2.95]\n"
          ]
        },
        {
          "metadata": {
            "tags": null
          },
          "name": "stdout",
          "output_type": "stream",
          "text": [
            "Epoch [24/5000]: Train loss: 2.9460, Valid loss: 1.1975\n"
          ]
        },
        {
          "metadata": {
            "tags": null
          },
          "name": "stderr",
          "output_type": "stream",
          "text": [
            "Epoch [25/5000]: 100%|██████████| 10/10 [00:00<00:00, 63.13it/s, loss=2.44]\n"
          ]
        },
        {
          "metadata": {
            "tags": null
          },
          "name": "stdout",
          "output_type": "stream",
          "text": [
            "Epoch [25/5000]: Train loss: 2.7072, Valid loss: 1.0751\n",
            "Saving model with loss 1.075...\n"
          ]
        },
        {
          "metadata": {
            "tags": null
          },
          "name": "stderr",
          "output_type": "stream",
          "text": [
            "Epoch [26/5000]: 100%|██████████| 10/10 [00:00<00:00, 66.84it/s, loss=2.68]\n"
          ]
        },
        {
          "metadata": {
            "tags": null
          },
          "name": "stdout",
          "output_type": "stream",
          "text": [
            "Epoch [26/5000]: Train loss: 2.6731, Valid loss: 1.1156\n"
          ]
        },
        {
          "metadata": {
            "tags": null
          },
          "name": "stderr",
          "output_type": "stream",
          "text": [
            "Epoch [27/5000]: 100%|██████████| 10/10 [00:00<00:00, 74.78it/s, loss=2.6]\n"
          ]
        },
        {
          "metadata": {
            "tags": null
          },
          "name": "stdout",
          "output_type": "stream",
          "text": [
            "Epoch [27/5000]: Train loss: 2.6588, Valid loss: 1.0724\n",
            "Saving model with loss 1.072...\n"
          ]
        },
        {
          "metadata": {
            "tags": null
          },
          "name": "stderr",
          "output_type": "stream",
          "text": [
            "Epoch [28/5000]: 100%|██████████| 10/10 [00:00<00:00, 75.56it/s, loss=2.65]\n"
          ]
        },
        {
          "metadata": {
            "tags": null
          },
          "name": "stdout",
          "output_type": "stream",
          "text": [
            "Epoch [28/5000]: Train loss: 2.5017, Valid loss: 1.1044\n"
          ]
        },
        {
          "metadata": {
            "tags": null
          },
          "name": "stderr",
          "output_type": "stream",
          "text": [
            "Epoch [29/5000]: 100%|██████████| 10/10 [00:00<00:00, 69.75it/s, loss=2.61]\n"
          ]
        },
        {
          "metadata": {
            "tags": null
          },
          "name": "stdout",
          "output_type": "stream",
          "text": [
            "Epoch [29/5000]: Train loss: 2.4463, Valid loss: 1.0691\n",
            "Saving model with loss 1.069...\n"
          ]
        },
        {
          "metadata": {
            "tags": null
          },
          "name": "stderr",
          "output_type": "stream",
          "text": [
            "Epoch [30/5000]: 100%|██████████| 10/10 [00:00<00:00, 29.23it/s, loss=2.09]\n"
          ]
        },
        {
          "metadata": {
            "tags": null
          },
          "name": "stdout",
          "output_type": "stream",
          "text": [
            "Epoch [30/5000]: Train loss: 2.4333, Valid loss: 1.0650\n",
            "Saving model with loss 1.065...\n"
          ]
        },
        {
          "metadata": {
            "tags": null
          },
          "name": "stderr",
          "output_type": "stream",
          "text": [
            "Epoch [31/5000]: 100%|██████████| 10/10 [00:00<00:00, 77.23it/s, loss=2.67]\n"
          ]
        },
        {
          "metadata": {
            "tags": null
          },
          "name": "stdout",
          "output_type": "stream",
          "text": [
            "Epoch [31/5000]: Train loss: 2.4258, Valid loss: 1.0629\n",
            "Saving model with loss 1.063...\n"
          ]
        },
        {
          "metadata": {
            "tags": null
          },
          "name": "stderr",
          "output_type": "stream",
          "text": [
            "Epoch [32/5000]: 100%|██████████| 10/10 [00:00<00:00, 76.13it/s, loss=2.19]\n"
          ]
        },
        {
          "metadata": {
            "tags": null
          },
          "name": "stdout",
          "output_type": "stream",
          "text": [
            "Epoch [32/5000]: Train loss: 2.3255, Valid loss: 1.1148\n"
          ]
        },
        {
          "metadata": {
            "tags": null
          },
          "name": "stderr",
          "output_type": "stream",
          "text": [
            "Epoch [33/5000]: 100%|██████████| 10/10 [00:00<00:00, 77.78it/s, loss=2.32]\n"
          ]
        },
        {
          "metadata": {
            "tags": null
          },
          "name": "stdout",
          "output_type": "stream",
          "text": [
            "Epoch [33/5000]: Train loss: 2.2367, Valid loss: 1.2542\n"
          ]
        },
        {
          "metadata": {
            "tags": null
          },
          "name": "stderr",
          "output_type": "stream",
          "text": [
            "Epoch [34/5000]: 100%|██████████| 10/10 [00:00<00:00, 76.48it/s, loss=2.09]\n"
          ]
        },
        {
          "metadata": {
            "tags": null
          },
          "name": "stdout",
          "output_type": "stream",
          "text": [
            "Epoch [34/5000]: Train loss: 2.2033, Valid loss: 1.1205\n"
          ]
        },
        {
          "metadata": {
            "tags": null
          },
          "name": "stderr",
          "output_type": "stream",
          "text": [
            "Epoch [35/5000]: 100%|██████████| 10/10 [00:00<00:00, 75.52it/s, loss=2.29]\n"
          ]
        },
        {
          "metadata": {
            "tags": null
          },
          "name": "stdout",
          "output_type": "stream",
          "text": [
            "Epoch [35/5000]: Train loss: 2.1961, Valid loss: 1.0767\n"
          ]
        },
        {
          "metadata": {
            "tags": null
          },
          "name": "stderr",
          "output_type": "stream",
          "text": [
            "Epoch [36/5000]: 100%|██████████| 10/10 [00:00<00:00, 75.70it/s, loss=2.17]\n"
          ]
        },
        {
          "metadata": {
            "tags": null
          },
          "name": "stdout",
          "output_type": "stream",
          "text": [
            "Epoch [36/5000]: Train loss: 2.1591, Valid loss: 1.0889\n"
          ]
        },
        {
          "metadata": {
            "tags": null
          },
          "name": "stderr",
          "output_type": "stream",
          "text": [
            "Epoch [37/5000]: 100%|██████████| 10/10 [00:00<00:00, 78.23it/s, loss=1.87]\n"
          ]
        },
        {
          "metadata": {
            "tags": null
          },
          "name": "stdout",
          "output_type": "stream",
          "text": [
            "Epoch [37/5000]: Train loss: 2.1046, Valid loss: 1.0726\n"
          ]
        },
        {
          "metadata": {
            "tags": null
          },
          "name": "stderr",
          "output_type": "stream",
          "text": [
            "Epoch [38/5000]: 100%|██████████| 10/10 [00:00<00:00, 73.01it/s, loss=1.98]\n"
          ]
        },
        {
          "metadata": {
            "tags": null
          },
          "name": "stdout",
          "output_type": "stream",
          "text": [
            "Epoch [38/5000]: Train loss: 2.1012, Valid loss: 1.0879\n"
          ]
        },
        {
          "metadata": {
            "tags": null
          },
          "name": "stderr",
          "output_type": "stream",
          "text": [
            "Epoch [39/5000]: 100%|██████████| 10/10 [00:00<00:00, 70.81it/s, loss=2.4]\n"
          ]
        },
        {
          "metadata": {
            "tags": null
          },
          "name": "stdout",
          "output_type": "stream",
          "text": [
            "Epoch [39/5000]: Train loss: 2.1590, Valid loss: 1.1080\n"
          ]
        },
        {
          "metadata": {
            "tags": null
          },
          "name": "stderr",
          "output_type": "stream",
          "text": [
            "Epoch [40/5000]: 100%|██████████| 10/10 [00:00<00:00, 74.32it/s, loss=1.99]\n"
          ]
        },
        {
          "metadata": {
            "tags": null
          },
          "name": "stdout",
          "output_type": "stream",
          "text": [
            "Epoch [40/5000]: Train loss: 2.0906, Valid loss: 1.0839\n"
          ]
        },
        {
          "metadata": {
            "tags": null
          },
          "name": "stderr",
          "output_type": "stream",
          "text": [
            "Epoch [41/5000]: 100%|██████████| 10/10 [00:00<00:00, 72.30it/s, loss=1.87]\n"
          ]
        },
        {
          "metadata": {
            "tags": null
          },
          "name": "stdout",
          "output_type": "stream",
          "text": [
            "Epoch [41/5000]: Train loss: 2.0690, Valid loss: 1.0424\n",
            "Saving model with loss 1.042...\n"
          ]
        },
        {
          "metadata": {
            "tags": null
          },
          "name": "stderr",
          "output_type": "stream",
          "text": [
            "Epoch [42/5000]: 100%|██████████| 10/10 [00:00<00:00, 78.81it/s, loss=2.02]\n"
          ]
        },
        {
          "metadata": {
            "tags": null
          },
          "name": "stdout",
          "output_type": "stream",
          "text": [
            "Epoch [42/5000]: Train loss: 2.0894, Valid loss: 1.0523\n"
          ]
        },
        {
          "metadata": {
            "tags": null
          },
          "name": "stderr",
          "output_type": "stream",
          "text": [
            "Epoch [43/5000]: 100%|██████████| 10/10 [00:00<00:00, 74.55it/s, loss=2.29]\n"
          ]
        },
        {
          "metadata": {
            "tags": null
          },
          "name": "stdout",
          "output_type": "stream",
          "text": [
            "Epoch [43/5000]: Train loss: 2.0888, Valid loss: 1.0949\n"
          ]
        },
        {
          "metadata": {
            "tags": null
          },
          "name": "stderr",
          "output_type": "stream",
          "text": [
            "Epoch [44/5000]: 100%|██████████| 10/10 [00:00<00:00, 75.11it/s, loss=2.32]\n"
          ]
        },
        {
          "metadata": {
            "tags": null
          },
          "name": "stdout",
          "output_type": "stream",
          "text": [
            "Epoch [44/5000]: Train loss: 2.0609, Valid loss: 1.1029\n"
          ]
        },
        {
          "metadata": {
            "tags": null
          },
          "name": "stderr",
          "output_type": "stream",
          "text": [
            "Epoch [45/5000]: 100%|██████████| 10/10 [00:00<00:00, 73.09it/s, loss=2.06]\n"
          ]
        },
        {
          "metadata": {
            "tags": null
          },
          "name": "stdout",
          "output_type": "stream",
          "text": [
            "Epoch [45/5000]: Train loss: 2.0141, Valid loss: 1.1589\n"
          ]
        },
        {
          "metadata": {
            "tags": null
          },
          "name": "stderr",
          "output_type": "stream",
          "text": [
            "Epoch [46/5000]: 100%|██████████| 10/10 [00:00<00:00, 76.15it/s, loss=2.05]\n"
          ]
        },
        {
          "metadata": {
            "tags": null
          },
          "name": "stdout",
          "output_type": "stream",
          "text": [
            "Epoch [46/5000]: Train loss: 1.9804, Valid loss: 1.1127\n"
          ]
        },
        {
          "metadata": {
            "tags": null
          },
          "name": "stderr",
          "output_type": "stream",
          "text": [
            "Epoch [47/5000]: 100%|██████████| 10/10 [00:00<00:00, 75.45it/s, loss=1.8]\n"
          ]
        },
        {
          "metadata": {
            "tags": null
          },
          "name": "stdout",
          "output_type": "stream",
          "text": [
            "Epoch [47/5000]: Train loss: 1.9466, Valid loss: 1.1839\n"
          ]
        },
        {
          "metadata": {
            "tags": null
          },
          "name": "stderr",
          "output_type": "stream",
          "text": [
            "Epoch [48/5000]: 100%|██████████| 10/10 [00:00<00:00, 74.89it/s, loss=2.1]\n"
          ]
        },
        {
          "metadata": {
            "tags": null
          },
          "name": "stdout",
          "output_type": "stream",
          "text": [
            "Epoch [48/5000]: Train loss: 2.0135, Valid loss: 1.0912\n"
          ]
        },
        {
          "metadata": {
            "tags": null
          },
          "name": "stderr",
          "output_type": "stream",
          "text": [
            "Epoch [49/5000]: 100%|██████████| 10/10 [00:00<00:00, 28.39it/s, loss=2.02]\n"
          ]
        },
        {
          "metadata": {
            "tags": null
          },
          "name": "stdout",
          "output_type": "stream",
          "text": [
            "Epoch [49/5000]: Train loss: 1.9315, Valid loss: 1.1081\n"
          ]
        },
        {
          "metadata": {
            "tags": null
          },
          "name": "stderr",
          "output_type": "stream",
          "text": [
            "Epoch [50/5000]: 100%|██████████| 10/10 [00:00<00:00, 76.87it/s, loss=2.02]\n"
          ]
        },
        {
          "metadata": {
            "tags": null
          },
          "name": "stdout",
          "output_type": "stream",
          "text": [
            "Epoch [50/5000]: Train loss: 1.9803, Valid loss: 1.1473\n"
          ]
        },
        {
          "metadata": {
            "tags": null
          },
          "name": "stderr",
          "output_type": "stream",
          "text": [
            "Epoch [51/5000]: 100%|██████████| 10/10 [00:00<00:00, 73.35it/s, loss=1.76]\n"
          ]
        },
        {
          "metadata": {
            "tags": null
          },
          "name": "stdout",
          "output_type": "stream",
          "text": [
            "Epoch [51/5000]: Train loss: 1.8997, Valid loss: 1.1059\n"
          ]
        },
        {
          "metadata": {
            "tags": null
          },
          "name": "stderr",
          "output_type": "stream",
          "text": [
            "Epoch [52/5000]: 100%|██████████| 10/10 [00:00<00:00, 76.51it/s, loss=1.86]\n"
          ]
        },
        {
          "metadata": {
            "tags": null
          },
          "name": "stdout",
          "output_type": "stream",
          "text": [
            "Epoch [52/5000]: Train loss: 1.9294, Valid loss: 1.1566\n"
          ]
        },
        {
          "metadata": {
            "tags": null
          },
          "name": "stderr",
          "output_type": "stream",
          "text": [
            "Epoch [53/5000]: 100%|██████████| 10/10 [00:00<00:00, 69.45it/s, loss=1.98]\n"
          ]
        },
        {
          "metadata": {
            "tags": null
          },
          "name": "stdout",
          "output_type": "stream",
          "text": [
            "Epoch [53/5000]: Train loss: 1.8385, Valid loss: 1.1701\n"
          ]
        },
        {
          "metadata": {
            "tags": null
          },
          "name": "stderr",
          "output_type": "stream",
          "text": [
            "Epoch [54/5000]: 100%|██████████| 10/10 [00:00<00:00, 71.03it/s, loss=2.09]\n"
          ]
        },
        {
          "metadata": {
            "tags": null
          },
          "name": "stdout",
          "output_type": "stream",
          "text": [
            "Epoch [54/5000]: Train loss: 1.9062, Valid loss: 1.1255\n"
          ]
        },
        {
          "metadata": {
            "tags": null
          },
          "name": "stderr",
          "output_type": "stream",
          "text": [
            "Epoch [55/5000]: 100%|██████████| 10/10 [00:00<00:00, 74.27it/s, loss=2]\n"
          ]
        },
        {
          "metadata": {
            "tags": null
          },
          "name": "stdout",
          "output_type": "stream",
          "text": [
            "Epoch [55/5000]: Train loss: 1.8714, Valid loss: 1.2335\n"
          ]
        },
        {
          "metadata": {
            "tags": null
          },
          "name": "stderr",
          "output_type": "stream",
          "text": [
            "Epoch [56/5000]: 100%|██████████| 10/10 [00:00<00:00, 74.41it/s, loss=1.77]\n"
          ]
        },
        {
          "metadata": {
            "tags": null
          },
          "name": "stdout",
          "output_type": "stream",
          "text": [
            "Epoch [56/5000]: Train loss: 1.8699, Valid loss: 1.0394\n",
            "Saving model with loss 1.039...\n"
          ]
        },
        {
          "metadata": {
            "tags": null
          },
          "name": "stderr",
          "output_type": "stream",
          "text": [
            "Epoch [57/5000]: 100%|██████████| 10/10 [00:00<00:00, 70.98it/s, loss=1.83]\n"
          ]
        },
        {
          "metadata": {
            "tags": null
          },
          "name": "stdout",
          "output_type": "stream",
          "text": [
            "Epoch [57/5000]: Train loss: 1.8702, Valid loss: 1.1990\n"
          ]
        },
        {
          "metadata": {
            "tags": null
          },
          "name": "stderr",
          "output_type": "stream",
          "text": [
            "Epoch [58/5000]: 100%|██████████| 10/10 [00:00<00:00, 74.00it/s, loss=1.88]\n"
          ]
        },
        {
          "metadata": {
            "tags": null
          },
          "name": "stdout",
          "output_type": "stream",
          "text": [
            "Epoch [58/5000]: Train loss: 1.8786, Valid loss: 1.1030\n"
          ]
        },
        {
          "metadata": {
            "tags": null
          },
          "name": "stderr",
          "output_type": "stream",
          "text": [
            "Epoch [59/5000]: 100%|██████████| 10/10 [00:00<00:00, 71.63it/s, loss=1.92]\n"
          ]
        },
        {
          "metadata": {
            "tags": null
          },
          "name": "stdout",
          "output_type": "stream",
          "text": [
            "Epoch [59/5000]: Train loss: 1.8594, Valid loss: 1.0404\n"
          ]
        },
        {
          "metadata": {
            "tags": null
          },
          "name": "stderr",
          "output_type": "stream",
          "text": [
            "Epoch [60/5000]: 100%|██████████| 10/10 [00:00<00:00, 75.43it/s, loss=1.87]\n"
          ]
        },
        {
          "metadata": {
            "tags": null
          },
          "name": "stdout",
          "output_type": "stream",
          "text": [
            "Epoch [60/5000]: Train loss: 1.8382, Valid loss: 1.0574\n"
          ]
        },
        {
          "metadata": {
            "tags": null
          },
          "name": "stderr",
          "output_type": "stream",
          "text": [
            "Epoch [61/5000]: 100%|██████████| 10/10 [00:00<00:00, 59.15it/s, loss=1.88]\n"
          ]
        },
        {
          "metadata": {
            "tags": null
          },
          "name": "stdout",
          "output_type": "stream",
          "text": [
            "Epoch [61/5000]: Train loss: 1.8617, Valid loss: 1.0697\n"
          ]
        },
        {
          "metadata": {
            "tags": null
          },
          "name": "stderr",
          "output_type": "stream",
          "text": [
            "Epoch [62/5000]: 100%|██████████| 10/10 [00:00<00:00, 59.12it/s, loss=1.72]\n"
          ]
        },
        {
          "metadata": {
            "tags": null
          },
          "name": "stdout",
          "output_type": "stream",
          "text": [
            "Epoch [62/5000]: Train loss: 1.8316, Valid loss: 1.0999\n"
          ]
        },
        {
          "metadata": {
            "tags": null
          },
          "name": "stderr",
          "output_type": "stream",
          "text": [
            "Epoch [63/5000]: 100%|██████████| 10/10 [00:00<00:00, 62.10it/s, loss=1.95]\n"
          ]
        },
        {
          "metadata": {
            "tags": null
          },
          "name": "stdout",
          "output_type": "stream",
          "text": [
            "Epoch [63/5000]: Train loss: 1.8171, Valid loss: 1.0774\n"
          ]
        },
        {
          "metadata": {
            "tags": null
          },
          "name": "stderr",
          "output_type": "stream",
          "text": [
            "Epoch [64/5000]: 100%|██████████| 10/10 [00:00<00:00, 22.39it/s, loss=1.72]\n"
          ]
        },
        {
          "metadata": {
            "tags": null
          },
          "name": "stdout",
          "output_type": "stream",
          "text": [
            "Epoch [64/5000]: Train loss: 1.8252, Valid loss: 1.0300\n",
            "Saving model with loss 1.030...\n"
          ]
        },
        {
          "metadata": {
            "tags": null
          },
          "name": "stderr",
          "output_type": "stream",
          "text": [
            "Epoch [65/5000]: 100%|██████████| 10/10 [00:00<00:00, 51.76it/s, loss=1.8]\n"
          ]
        },
        {
          "metadata": {
            "tags": null
          },
          "name": "stdout",
          "output_type": "stream",
          "text": [
            "Epoch [65/5000]: Train loss: 1.8528, Valid loss: 1.0477\n"
          ]
        },
        {
          "metadata": {
            "tags": null
          },
          "name": "stderr",
          "output_type": "stream",
          "text": [
            "Epoch [66/5000]: 100%|██████████| 10/10 [00:00<00:00, 64.22it/s, loss=1.67]\n"
          ]
        },
        {
          "metadata": {
            "tags": null
          },
          "name": "stdout",
          "output_type": "stream",
          "text": [
            "Epoch [66/5000]: Train loss: 1.8066, Valid loss: 1.0840\n"
          ]
        },
        {
          "metadata": {
            "tags": null
          },
          "name": "stderr",
          "output_type": "stream",
          "text": [
            "Epoch [67/5000]: 100%|██████████| 10/10 [00:00<00:00, 57.80it/s, loss=1.71]\n"
          ]
        },
        {
          "metadata": {
            "tags": null
          },
          "name": "stdout",
          "output_type": "stream",
          "text": [
            "Epoch [67/5000]: Train loss: 1.8263, Valid loss: 1.1879\n"
          ]
        },
        {
          "metadata": {
            "tags": null
          },
          "name": "stderr",
          "output_type": "stream",
          "text": [
            "Epoch [68/5000]: 100%|██████████| 10/10 [00:00<00:00, 56.84it/s, loss=1.83]\n"
          ]
        },
        {
          "metadata": {
            "tags": null
          },
          "name": "stdout",
          "output_type": "stream",
          "text": [
            "Epoch [68/5000]: Train loss: 1.8073, Valid loss: 1.0168\n",
            "Saving model with loss 1.017...\n"
          ]
        },
        {
          "metadata": {
            "tags": null
          },
          "name": "stderr",
          "output_type": "stream",
          "text": [
            "Epoch [69/5000]: 100%|██████████| 10/10 [00:00<00:00, 58.24it/s, loss=1.77]\n"
          ]
        },
        {
          "metadata": {
            "tags": null
          },
          "name": "stdout",
          "output_type": "stream",
          "text": [
            "Epoch [69/5000]: Train loss: 1.7971, Valid loss: 1.0568\n"
          ]
        },
        {
          "metadata": {
            "tags": null
          },
          "name": "stderr",
          "output_type": "stream",
          "text": [
            "Epoch [70/5000]: 100%|██████████| 10/10 [00:00<00:00, 63.14it/s, loss=1.8]\n"
          ]
        },
        {
          "metadata": {
            "tags": null
          },
          "name": "stdout",
          "output_type": "stream",
          "text": [
            "Epoch [70/5000]: Train loss: 1.8383, Valid loss: 1.0331\n"
          ]
        },
        {
          "metadata": {
            "tags": null
          },
          "name": "stderr",
          "output_type": "stream",
          "text": [
            "Epoch [71/5000]: 100%|██████████| 10/10 [00:00<00:00, 60.72it/s, loss=1.52]\n"
          ]
        },
        {
          "metadata": {
            "tags": null
          },
          "name": "stdout",
          "output_type": "stream",
          "text": [
            "Epoch [71/5000]: Train loss: 1.7711, Valid loss: 1.0222\n"
          ]
        },
        {
          "metadata": {
            "tags": null
          },
          "name": "stderr",
          "output_type": "stream",
          "text": [
            "Epoch [72/5000]: 100%|██████████| 10/10 [00:00<00:00, 56.55it/s, loss=1.97]\n"
          ]
        },
        {
          "metadata": {
            "tags": null
          },
          "name": "stdout",
          "output_type": "stream",
          "text": [
            "Epoch [72/5000]: Train loss: 1.7700, Valid loss: 1.0759\n"
          ]
        },
        {
          "metadata": {
            "tags": null
          },
          "name": "stderr",
          "output_type": "stream",
          "text": [
            "Epoch [73/5000]: 100%|██████████| 10/10 [00:00<00:00, 54.69it/s, loss=1.85]\n"
          ]
        },
        {
          "metadata": {
            "tags": null
          },
          "name": "stdout",
          "output_type": "stream",
          "text": [
            "Epoch [73/5000]: Train loss: 1.7943, Valid loss: 1.0829\n"
          ]
        },
        {
          "metadata": {
            "tags": null
          },
          "name": "stderr",
          "output_type": "stream",
          "text": [
            "Epoch [74/5000]: 100%|██████████| 10/10 [00:00<00:00, 59.83it/s, loss=1.8]\n"
          ]
        },
        {
          "metadata": {
            "tags": null
          },
          "name": "stdout",
          "output_type": "stream",
          "text": [
            "Epoch [74/5000]: Train loss: 1.7840, Valid loss: 1.1322\n"
          ]
        },
        {
          "metadata": {
            "tags": null
          },
          "name": "stderr",
          "output_type": "stream",
          "text": [
            "Epoch [75/5000]: 100%|██████████| 10/10 [00:00<00:00, 73.46it/s, loss=2.01]\n"
          ]
        },
        {
          "metadata": {
            "tags": null
          },
          "name": "stdout",
          "output_type": "stream",
          "text": [
            "Epoch [75/5000]: Train loss: 1.7840, Valid loss: 1.1005\n"
          ]
        },
        {
          "metadata": {
            "tags": null
          },
          "name": "stderr",
          "output_type": "stream",
          "text": [
            "Epoch [76/5000]: 100%|██████████| 10/10 [00:00<00:00, 70.43it/s, loss=1.73]\n"
          ]
        },
        {
          "metadata": {
            "tags": null
          },
          "name": "stdout",
          "output_type": "stream",
          "text": [
            "Epoch [76/5000]: Train loss: 1.7889, Valid loss: 1.1106\n"
          ]
        },
        {
          "metadata": {
            "tags": null
          },
          "name": "stderr",
          "output_type": "stream",
          "text": [
            "Epoch [77/5000]: 100%|██████████| 10/10 [00:00<00:00, 70.90it/s, loss=1.79]\n"
          ]
        },
        {
          "metadata": {
            "tags": null
          },
          "name": "stdout",
          "output_type": "stream",
          "text": [
            "Epoch [77/5000]: Train loss: 1.7994, Valid loss: 1.0328\n"
          ]
        },
        {
          "metadata": {
            "tags": null
          },
          "name": "stderr",
          "output_type": "stream",
          "text": [
            "Epoch [78/5000]: 100%|██████████| 10/10 [00:00<00:00, 72.14it/s, loss=1.58]\n"
          ]
        },
        {
          "metadata": {
            "tags": null
          },
          "name": "stdout",
          "output_type": "stream",
          "text": [
            "Epoch [78/5000]: Train loss: 1.7608, Valid loss: 1.1376\n"
          ]
        },
        {
          "metadata": {
            "tags": null
          },
          "name": "stderr",
          "output_type": "stream",
          "text": [
            "Epoch [79/5000]: 100%|██████████| 10/10 [00:00<00:00, 77.87it/s, loss=1.69]\n"
          ]
        },
        {
          "metadata": {
            "tags": null
          },
          "name": "stdout",
          "output_type": "stream",
          "text": [
            "Epoch [79/5000]: Train loss: 1.7089, Valid loss: 1.0622\n"
          ]
        },
        {
          "metadata": {
            "tags": null
          },
          "name": "stderr",
          "output_type": "stream",
          "text": [
            "Epoch [80/5000]: 100%|██████████| 10/10 [00:00<00:00, 67.77it/s, loss=1.75]\n"
          ]
        },
        {
          "metadata": {
            "tags": null
          },
          "name": "stdout",
          "output_type": "stream",
          "text": [
            "Epoch [80/5000]: Train loss: 1.7289, Valid loss: 1.0908\n"
          ]
        },
        {
          "metadata": {
            "tags": null
          },
          "name": "stderr",
          "output_type": "stream",
          "text": [
            "Epoch [81/5000]: 100%|██████████| 10/10 [00:00<00:00, 73.28it/s, loss=1.61]\n"
          ]
        },
        {
          "metadata": {
            "tags": null
          },
          "name": "stdout",
          "output_type": "stream",
          "text": [
            "Epoch [81/5000]: Train loss: 1.7153, Valid loss: 1.1111\n"
          ]
        },
        {
          "metadata": {
            "tags": null
          },
          "name": "stderr",
          "output_type": "stream",
          "text": [
            "Epoch [82/5000]: 100%|██████████| 10/10 [00:00<00:00, 66.87it/s, loss=1.61]\n"
          ]
        },
        {
          "metadata": {
            "tags": null
          },
          "name": "stdout",
          "output_type": "stream",
          "text": [
            "Epoch [82/5000]: Train loss: 1.7339, Valid loss: 1.0784\n"
          ]
        },
        {
          "metadata": {
            "tags": null
          },
          "name": "stderr",
          "output_type": "stream",
          "text": [
            "Epoch [83/5000]: 100%|██████████| 10/10 [00:00<00:00, 69.63it/s, loss=1.86]\n"
          ]
        },
        {
          "metadata": {
            "tags": null
          },
          "name": "stdout",
          "output_type": "stream",
          "text": [
            "Epoch [83/5000]: Train loss: 1.7636, Valid loss: 1.1163\n"
          ]
        },
        {
          "metadata": {
            "tags": null
          },
          "name": "stderr",
          "output_type": "stream",
          "text": [
            "Epoch [84/5000]: 100%|██████████| 10/10 [00:00<00:00, 69.83it/s, loss=1.81]\n"
          ]
        },
        {
          "metadata": {
            "tags": null
          },
          "name": "stdout",
          "output_type": "stream",
          "text": [
            "Epoch [84/5000]: Train loss: 1.7737, Valid loss: 1.0671\n"
          ]
        },
        {
          "metadata": {
            "tags": null
          },
          "name": "stderr",
          "output_type": "stream",
          "text": [
            "Epoch [85/5000]: 100%|██████████| 10/10 [00:00<00:00, 29.33it/s, loss=1.84]\n"
          ]
        },
        {
          "metadata": {
            "tags": null
          },
          "name": "stdout",
          "output_type": "stream",
          "text": [
            "Epoch [85/5000]: Train loss: 1.8204, Valid loss: 1.0740\n"
          ]
        },
        {
          "metadata": {
            "tags": null
          },
          "name": "stderr",
          "output_type": "stream",
          "text": [
            "Epoch [86/5000]: 100%|██████████| 10/10 [00:00<00:00, 77.08it/s, loss=1.67]\n"
          ]
        },
        {
          "metadata": {
            "tags": null
          },
          "name": "stdout",
          "output_type": "stream",
          "text": [
            "Epoch [86/5000]: Train loss: 1.7024, Valid loss: 1.0336\n"
          ]
        },
        {
          "metadata": {
            "tags": null
          },
          "name": "stderr",
          "output_type": "stream",
          "text": [
            "Epoch [87/5000]: 100%|██████████| 10/10 [00:00<00:00, 60.77it/s, loss=1.79]\n"
          ]
        },
        {
          "metadata": {
            "tags": null
          },
          "name": "stdout",
          "output_type": "stream",
          "text": [
            "Epoch [87/5000]: Train loss: 1.7467, Valid loss: 1.0954\n"
          ]
        },
        {
          "metadata": {
            "tags": null
          },
          "name": "stderr",
          "output_type": "stream",
          "text": [
            "Epoch [88/5000]: 100%|██████████| 10/10 [00:00<00:00, 74.42it/s, loss=1.71]\n"
          ]
        },
        {
          "metadata": {
            "tags": null
          },
          "name": "stdout",
          "output_type": "stream",
          "text": [
            "Epoch [88/5000]: Train loss: 1.6838, Valid loss: 1.0415\n"
          ]
        },
        {
          "metadata": {
            "tags": null
          },
          "name": "stderr",
          "output_type": "stream",
          "text": [
            "Epoch [89/5000]: 100%|██████████| 10/10 [00:00<00:00, 78.07it/s, loss=1.94]\n"
          ]
        },
        {
          "metadata": {
            "tags": null
          },
          "name": "stdout",
          "output_type": "stream",
          "text": [
            "Epoch [89/5000]: Train loss: 1.7021, Valid loss: 1.0897\n"
          ]
        },
        {
          "metadata": {
            "tags": null
          },
          "name": "stderr",
          "output_type": "stream",
          "text": [
            "Epoch [90/5000]: 100%|██████████| 10/10 [00:00<00:00, 72.26it/s, loss=1.6]\n"
          ]
        },
        {
          "metadata": {
            "tags": null
          },
          "name": "stdout",
          "output_type": "stream",
          "text": [
            "Epoch [90/5000]: Train loss: 1.7141, Valid loss: 1.1227\n"
          ]
        },
        {
          "metadata": {
            "tags": null
          },
          "name": "stderr",
          "output_type": "stream",
          "text": [
            "Epoch [91/5000]: 100%|██████████| 10/10 [00:00<00:00, 72.16it/s, loss=1.9]\n"
          ]
        },
        {
          "metadata": {
            "tags": null
          },
          "name": "stdout",
          "output_type": "stream",
          "text": [
            "Epoch [91/5000]: Train loss: 1.7018, Valid loss: 1.0900\n"
          ]
        },
        {
          "metadata": {
            "tags": null
          },
          "name": "stderr",
          "output_type": "stream",
          "text": [
            "Epoch [92/5000]: 100%|██████████| 10/10 [00:00<00:00, 70.94it/s, loss=1.64]\n"
          ]
        },
        {
          "metadata": {
            "tags": null
          },
          "name": "stdout",
          "output_type": "stream",
          "text": [
            "Epoch [92/5000]: Train loss: 1.6953, Valid loss: 1.0685\n"
          ]
        },
        {
          "metadata": {
            "tags": null
          },
          "name": "stderr",
          "output_type": "stream",
          "text": [
            "Epoch [93/5000]: 100%|██████████| 10/10 [00:00<00:00, 72.07it/s, loss=1.7]\n"
          ]
        },
        {
          "metadata": {
            "tags": null
          },
          "name": "stdout",
          "output_type": "stream",
          "text": [
            "Epoch [93/5000]: Train loss: 1.6743, Valid loss: 1.0617\n"
          ]
        },
        {
          "metadata": {
            "tags": null
          },
          "name": "stderr",
          "output_type": "stream",
          "text": [
            "Epoch [94/5000]: 100%|██████████| 10/10 [00:00<00:00, 71.86it/s, loss=1.67]\n"
          ]
        },
        {
          "metadata": {
            "tags": null
          },
          "name": "stdout",
          "output_type": "stream",
          "text": [
            "Epoch [94/5000]: Train loss: 1.7295, Valid loss: 1.0993\n"
          ]
        },
        {
          "metadata": {
            "tags": null
          },
          "name": "stderr",
          "output_type": "stream",
          "text": [
            "Epoch [95/5000]: 100%|██████████| 10/10 [00:00<00:00, 29.74it/s, loss=1.66]\n"
          ]
        },
        {
          "metadata": {
            "tags": null
          },
          "name": "stdout",
          "output_type": "stream",
          "text": [
            "Epoch [95/5000]: Train loss: 1.6873, Valid loss: 1.0695\n"
          ]
        },
        {
          "metadata": {
            "tags": null
          },
          "name": "stderr",
          "output_type": "stream",
          "text": [
            "Epoch [96/5000]: 100%|██████████| 10/10 [00:00<00:00, 73.81it/s, loss=1.84]\n"
          ]
        },
        {
          "metadata": {
            "tags": null
          },
          "name": "stdout",
          "output_type": "stream",
          "text": [
            "Epoch [96/5000]: Train loss: 1.6900, Valid loss: 1.0743\n"
          ]
        },
        {
          "metadata": {
            "tags": null
          },
          "name": "stderr",
          "output_type": "stream",
          "text": [
            "Epoch [97/5000]: 100%|██████████| 10/10 [00:00<00:00, 67.27it/s, loss=1.45]\n"
          ]
        },
        {
          "metadata": {
            "tags": null
          },
          "name": "stdout",
          "output_type": "stream",
          "text": [
            "Epoch [97/5000]: Train loss: 1.6472, Valid loss: 1.0601\n"
          ]
        },
        {
          "metadata": {
            "tags": null
          },
          "name": "stderr",
          "output_type": "stream",
          "text": [
            "Epoch [98/5000]: 100%|██████████| 10/10 [00:00<00:00, 69.70it/s, loss=1.79]\n"
          ]
        },
        {
          "metadata": {
            "tags": null
          },
          "name": "stdout",
          "output_type": "stream",
          "text": [
            "Epoch [98/5000]: Train loss: 1.7021, Valid loss: 1.1964\n"
          ]
        },
        {
          "metadata": {
            "tags": null
          },
          "name": "stderr",
          "output_type": "stream",
          "text": [
            "Epoch [99/5000]: 100%|██████████| 10/10 [00:00<00:00, 73.93it/s, loss=1.62]\n"
          ]
        },
        {
          "metadata": {
            "tags": null
          },
          "name": "stdout",
          "output_type": "stream",
          "text": [
            "Epoch [99/5000]: Train loss: 1.6536, Valid loss: 1.0625\n"
          ]
        },
        {
          "metadata": {
            "tags": null
          },
          "name": "stderr",
          "output_type": "stream",
          "text": [
            "Epoch [100/5000]: 100%|██████████| 10/10 [00:00<00:00, 69.22it/s, loss=1.67]\n"
          ]
        },
        {
          "metadata": {
            "tags": null
          },
          "name": "stdout",
          "output_type": "stream",
          "text": [
            "Epoch [100/5000]: Train loss: 1.6681, Valid loss: 1.0843\n"
          ]
        },
        {
          "metadata": {
            "tags": null
          },
          "name": "stderr",
          "output_type": "stream",
          "text": [
            "Epoch [101/5000]: 100%|██████████| 10/10 [00:00<00:00, 68.16it/s, loss=1.72]\n"
          ]
        },
        {
          "metadata": {
            "tags": null
          },
          "name": "stdout",
          "output_type": "stream",
          "text": [
            "Epoch [101/5000]: Train loss: 1.6226, Valid loss: 1.0661\n"
          ]
        },
        {
          "metadata": {
            "tags": null
          },
          "name": "stderr",
          "output_type": "stream",
          "text": [
            "Epoch [102/5000]: 100%|██████████| 10/10 [00:00<00:00, 72.07it/s, loss=1.78]\n"
          ]
        },
        {
          "metadata": {
            "tags": null
          },
          "name": "stdout",
          "output_type": "stream",
          "text": [
            "Epoch [102/5000]: Train loss: 1.6397, Valid loss: 1.0864\n"
          ]
        },
        {
          "metadata": {
            "tags": null
          },
          "name": "stderr",
          "output_type": "stream",
          "text": [
            "Epoch [103/5000]: 100%|██████████| 10/10 [00:00<00:00, 64.53it/s, loss=1.62]\n"
          ]
        },
        {
          "metadata": {
            "tags": null
          },
          "name": "stdout",
          "output_type": "stream",
          "text": [
            "Epoch [103/5000]: Train loss: 1.6595, Valid loss: 1.1098\n"
          ]
        },
        {
          "metadata": {
            "tags": null
          },
          "name": "stderr",
          "output_type": "stream",
          "text": [
            "Epoch [104/5000]: 100%|██████████| 10/10 [00:00<00:00, 71.24it/s, loss=1.93]\n"
          ]
        },
        {
          "metadata": {
            "tags": null
          },
          "name": "stdout",
          "output_type": "stream",
          "text": [
            "Epoch [104/5000]: Train loss: 1.6925, Valid loss: 1.0453\n"
          ]
        },
        {
          "metadata": {
            "tags": null
          },
          "name": "stderr",
          "output_type": "stream",
          "text": [
            "Epoch [105/5000]: 100%|██████████| 10/10 [00:00<00:00, 29.47it/s, loss=1.67]\n"
          ]
        },
        {
          "metadata": {
            "tags": null
          },
          "name": "stdout",
          "output_type": "stream",
          "text": [
            "Epoch [105/5000]: Train loss: 1.6295, Valid loss: 1.1179\n"
          ]
        },
        {
          "metadata": {
            "tags": null
          },
          "name": "stderr",
          "output_type": "stream",
          "text": [
            "Epoch [106/5000]: 100%|██████████| 10/10 [00:00<00:00, 69.85it/s, loss=1.56]\n"
          ]
        },
        {
          "metadata": {
            "tags": null
          },
          "name": "stdout",
          "output_type": "stream",
          "text": [
            "Epoch [106/5000]: Train loss: 1.6658, Valid loss: 1.0451\n"
          ]
        },
        {
          "metadata": {
            "tags": null
          },
          "name": "stderr",
          "output_type": "stream",
          "text": [
            "Epoch [107/5000]: 100%|██████████| 10/10 [00:00<00:00, 66.28it/s, loss=1.56]\n"
          ]
        },
        {
          "metadata": {
            "tags": null
          },
          "name": "stdout",
          "output_type": "stream",
          "text": [
            "Epoch [107/5000]: Train loss: 1.6313, Valid loss: 1.0603\n"
          ]
        },
        {
          "metadata": {
            "tags": null
          },
          "name": "stderr",
          "output_type": "stream",
          "text": [
            "Epoch [108/5000]: 100%|██████████| 10/10 [00:00<00:00, 72.44it/s, loss=1.76]\n"
          ]
        },
        {
          "metadata": {
            "tags": null
          },
          "name": "stdout",
          "output_type": "stream",
          "text": [
            "Epoch [108/5000]: Train loss: 1.6722, Valid loss: 1.1479\n"
          ]
        },
        {
          "metadata": {
            "tags": null
          },
          "name": "stderr",
          "output_type": "stream",
          "text": [
            "Epoch [109/5000]: 100%|██████████| 10/10 [00:00<00:00, 69.32it/s, loss=1.83]\n"
          ]
        },
        {
          "metadata": {
            "tags": null
          },
          "name": "stdout",
          "output_type": "stream",
          "text": [
            "Epoch [109/5000]: Train loss: 1.6678, Valid loss: 1.0506\n"
          ]
        },
        {
          "metadata": {
            "tags": null
          },
          "name": "stderr",
          "output_type": "stream",
          "text": [
            "Epoch [110/5000]: 100%|██████████| 10/10 [00:00<00:00, 72.67it/s, loss=1.5]\n"
          ]
        },
        {
          "metadata": {
            "tags": null
          },
          "name": "stdout",
          "output_type": "stream",
          "text": [
            "Epoch [110/5000]: Train loss: 1.6564, Valid loss: 1.0527\n"
          ]
        },
        {
          "metadata": {
            "tags": null
          },
          "name": "stderr",
          "output_type": "stream",
          "text": [
            "Epoch [111/5000]: 100%|██████████| 10/10 [00:00<00:00, 74.82it/s, loss=1.56]\n"
          ]
        },
        {
          "metadata": {
            "tags": null
          },
          "name": "stdout",
          "output_type": "stream",
          "text": [
            "Epoch [111/5000]: Train loss: 1.6204, Valid loss: 1.1064\n"
          ]
        },
        {
          "metadata": {
            "tags": null
          },
          "name": "stderr",
          "output_type": "stream",
          "text": [
            "Epoch [112/5000]: 100%|██████████| 10/10 [00:00<00:00, 72.31it/s, loss=1.5]\n"
          ]
        },
        {
          "metadata": {
            "tags": null
          },
          "name": "stdout",
          "output_type": "stream",
          "text": [
            "Epoch [112/5000]: Train loss: 1.6354, Valid loss: 1.1487\n"
          ]
        },
        {
          "metadata": {
            "tags": null
          },
          "name": "stderr",
          "output_type": "stream",
          "text": [
            "Epoch [113/5000]: 100%|██████████| 10/10 [00:00<00:00, 66.00it/s, loss=1.66]\n"
          ]
        },
        {
          "metadata": {
            "tags": null
          },
          "name": "stdout",
          "output_type": "stream",
          "text": [
            "Epoch [113/5000]: Train loss: 1.6561, Valid loss: 1.0512\n"
          ]
        },
        {
          "metadata": {
            "tags": null
          },
          "name": "stderr",
          "output_type": "stream",
          "text": [
            "Epoch [114/5000]: 100%|██████████| 10/10 [00:00<00:00, 72.41it/s, loss=1.5]\n"
          ]
        },
        {
          "metadata": {
            "tags": null
          },
          "name": "stdout",
          "output_type": "stream",
          "text": [
            "Epoch [114/5000]: Train loss: 1.6163, Valid loss: 1.1357\n"
          ]
        },
        {
          "metadata": {
            "tags": null
          },
          "name": "stderr",
          "output_type": "stream",
          "text": [
            "Epoch [115/5000]: 100%|██████████| 10/10 [00:00<00:00, 76.20it/s, loss=1.62]\n"
          ]
        },
        {
          "metadata": {
            "tags": null
          },
          "name": "stdout",
          "output_type": "stream",
          "text": [
            "Epoch [115/5000]: Train loss: 1.6518, Valid loss: 1.0325\n"
          ]
        },
        {
          "metadata": {
            "tags": null
          },
          "name": "stderr",
          "output_type": "stream",
          "text": [
            "Epoch [116/5000]: 100%|██████████| 10/10 [00:00<00:00, 28.46it/s, loss=1.76]\n"
          ]
        },
        {
          "metadata": {
            "tags": null
          },
          "name": "stdout",
          "output_type": "stream",
          "text": [
            "Epoch [116/5000]: Train loss: 1.6652, Valid loss: 1.0579\n"
          ]
        },
        {
          "metadata": {
            "tags": null
          },
          "name": "stderr",
          "output_type": "stream",
          "text": [
            "Epoch [117/5000]: 100%|██████████| 10/10 [00:00<00:00, 67.21it/s, loss=1.9]\n"
          ]
        },
        {
          "metadata": {
            "tags": null
          },
          "name": "stdout",
          "output_type": "stream",
          "text": [
            "Epoch [117/5000]: Train loss: 1.6295, Valid loss: 1.1001\n"
          ]
        },
        {
          "metadata": {
            "tags": null
          },
          "name": "stderr",
          "output_type": "stream",
          "text": [
            "Epoch [118/5000]: 100%|██████████| 10/10 [00:00<00:00, 70.92it/s, loss=1.64]\n"
          ]
        },
        {
          "metadata": {
            "tags": null
          },
          "name": "stdout",
          "output_type": "stream",
          "text": [
            "Epoch [118/5000]: Train loss: 1.6304, Valid loss: 1.0366\n"
          ]
        },
        {
          "metadata": {
            "tags": null
          },
          "name": "stderr",
          "output_type": "stream",
          "text": [
            "Epoch [119/5000]: 100%|██████████| 10/10 [00:00<00:00, 73.34it/s, loss=1.65]\n"
          ]
        },
        {
          "metadata": {
            "tags": null
          },
          "name": "stdout",
          "output_type": "stream",
          "text": [
            "Epoch [119/5000]: Train loss: 1.6390, Valid loss: 1.0789\n"
          ]
        },
        {
          "metadata": {
            "tags": null
          },
          "name": "stderr",
          "output_type": "stream",
          "text": [
            "Epoch [120/5000]: 100%|██████████| 10/10 [00:00<00:00, 69.65it/s, loss=1.51]\n"
          ]
        },
        {
          "metadata": {
            "tags": null
          },
          "name": "stdout",
          "output_type": "stream",
          "text": [
            "Epoch [120/5000]: Train loss: 1.6378, Valid loss: 1.0851\n"
          ]
        },
        {
          "metadata": {
            "tags": null
          },
          "name": "stderr",
          "output_type": "stream",
          "text": [
            "Epoch [121/5000]: 100%|██████████| 10/10 [00:00<00:00, 71.40it/s, loss=1.55]\n"
          ]
        },
        {
          "metadata": {
            "tags": null
          },
          "name": "stdout",
          "output_type": "stream",
          "text": [
            "Epoch [121/5000]: Train loss: 1.6159, Valid loss: 1.0691\n"
          ]
        },
        {
          "metadata": {
            "tags": null
          },
          "name": "stderr",
          "output_type": "stream",
          "text": [
            "Epoch [122/5000]: 100%|██████████| 10/10 [00:00<00:00, 71.30it/s, loss=1.62]\n"
          ]
        },
        {
          "metadata": {
            "tags": null
          },
          "name": "stdout",
          "output_type": "stream",
          "text": [
            "Epoch [122/5000]: Train loss: 1.5636, Valid loss: 1.0591\n"
          ]
        },
        {
          "metadata": {
            "tags": null
          },
          "name": "stderr",
          "output_type": "stream",
          "text": [
            "Epoch [123/5000]: 100%|██████████| 10/10 [00:00<00:00, 67.59it/s, loss=1.57]\n"
          ]
        },
        {
          "metadata": {
            "tags": null
          },
          "name": "stdout",
          "output_type": "stream",
          "text": [
            "Epoch [123/5000]: Train loss: 1.6238, Valid loss: 1.0627\n"
          ]
        },
        {
          "metadata": {
            "tags": null
          },
          "name": "stderr",
          "output_type": "stream",
          "text": [
            "Epoch [124/5000]: 100%|██████████| 10/10 [00:00<00:00, 62.37it/s, loss=1.64]\n"
          ]
        },
        {
          "metadata": {
            "tags": null
          },
          "name": "stdout",
          "output_type": "stream",
          "text": [
            "Epoch [124/5000]: Train loss: 1.6140, Valid loss: 1.0954\n"
          ]
        },
        {
          "metadata": {
            "tags": null
          },
          "name": "stderr",
          "output_type": "stream",
          "text": [
            "Epoch [125/5000]: 100%|██████████| 10/10 [00:00<00:00, 54.95it/s, loss=1.74]\n"
          ]
        },
        {
          "metadata": {
            "tags": null
          },
          "name": "stdout",
          "output_type": "stream",
          "text": [
            "Epoch [125/5000]: Train loss: 1.6462, Valid loss: 1.0802\n"
          ]
        },
        {
          "metadata": {
            "tags": null
          },
          "name": "stderr",
          "output_type": "stream",
          "text": [
            "Epoch [126/5000]: 100%|██████████| 10/10 [00:00<00:00, 60.66it/s, loss=1.58]\n"
          ]
        },
        {
          "metadata": {
            "tags": null
          },
          "name": "stdout",
          "output_type": "stream",
          "text": [
            "Epoch [126/5000]: Train loss: 1.6048, Valid loss: 1.0256\n"
          ]
        },
        {
          "metadata": {
            "tags": null
          },
          "name": "stderr",
          "output_type": "stream",
          "text": [
            "Epoch [127/5000]: 100%|██████████| 10/10 [00:00<00:00, 58.07it/s, loss=1.71]\n"
          ]
        },
        {
          "metadata": {
            "tags": null
          },
          "name": "stdout",
          "output_type": "stream",
          "text": [
            "Epoch [127/5000]: Train loss: 1.5963, Valid loss: 1.0976\n"
          ]
        },
        {
          "metadata": {
            "tags": null
          },
          "name": "stderr",
          "output_type": "stream",
          "text": [
            "Epoch [128/5000]: 100%|██████████| 10/10 [00:00<00:00, 60.12it/s, loss=1.57]\n"
          ]
        },
        {
          "metadata": {
            "tags": null
          },
          "name": "stdout",
          "output_type": "stream",
          "text": [
            "Epoch [128/5000]: Train loss: 1.6063, Valid loss: 1.0716\n"
          ]
        },
        {
          "metadata": {
            "tags": null
          },
          "name": "stderr",
          "output_type": "stream",
          "text": [
            "Epoch [129/5000]: 100%|██████████| 10/10 [00:00<00:00, 50.18it/s, loss=1.55]\n"
          ]
        },
        {
          "metadata": {
            "tags": null
          },
          "name": "stdout",
          "output_type": "stream",
          "text": [
            "Epoch [129/5000]: Train loss: 1.6497, Valid loss: 1.0609\n"
          ]
        },
        {
          "metadata": {
            "tags": null
          },
          "name": "stderr",
          "output_type": "stream",
          "text": [
            "Epoch [130/5000]: 100%|██████████| 10/10 [00:00<00:00, 61.92it/s, loss=1.67]\n"
          ]
        },
        {
          "metadata": {
            "tags": null
          },
          "name": "stdout",
          "output_type": "stream",
          "text": [
            "Epoch [130/5000]: Train loss: 1.6294, Valid loss: 1.1717\n"
          ]
        },
        {
          "metadata": {
            "tags": null
          },
          "name": "stderr",
          "output_type": "stream",
          "text": [
            "Epoch [131/5000]: 100%|██████████| 10/10 [00:00<00:00, 57.03it/s, loss=1.77]\n"
          ]
        },
        {
          "metadata": {
            "tags": null
          },
          "name": "stdout",
          "output_type": "stream",
          "text": [
            "Epoch [131/5000]: Train loss: 1.6073, Valid loss: 1.0543\n"
          ]
        },
        {
          "metadata": {
            "tags": null
          },
          "name": "stderr",
          "output_type": "stream",
          "text": [
            "Epoch [132/5000]: 100%|██████████| 10/10 [00:00<00:00, 55.84it/s, loss=1.63]\n"
          ]
        },
        {
          "metadata": {
            "tags": null
          },
          "name": "stdout",
          "output_type": "stream",
          "text": [
            "Epoch [132/5000]: Train loss: 1.5775, Valid loss: 1.0971\n"
          ]
        },
        {
          "metadata": {
            "tags": null
          },
          "name": "stderr",
          "output_type": "stream",
          "text": [
            "Epoch [133/5000]: 100%|██████████| 10/10 [00:00<00:00, 58.52it/s, loss=1.64]\n"
          ]
        },
        {
          "metadata": {
            "tags": null
          },
          "name": "stdout",
          "output_type": "stream",
          "text": [
            "Epoch [133/5000]: Train loss: 1.5990, Valid loss: 1.0728\n"
          ]
        },
        {
          "metadata": {
            "tags": null
          },
          "name": "stderr",
          "output_type": "stream",
          "text": [
            "Epoch [134/5000]: 100%|██████████| 10/10 [00:00<00:00, 62.22it/s, loss=1.46]\n"
          ]
        },
        {
          "metadata": {
            "tags": null
          },
          "name": "stdout",
          "output_type": "stream",
          "text": [
            "Epoch [134/5000]: Train loss: 1.5715, Valid loss: 1.0966\n"
          ]
        },
        {
          "metadata": {
            "tags": null
          },
          "name": "stderr",
          "output_type": "stream",
          "text": [
            "Epoch [135/5000]: 100%|██████████| 10/10 [00:00<00:00, 59.16it/s, loss=1.4]\n"
          ]
        },
        {
          "metadata": {
            "tags": null
          },
          "name": "stdout",
          "output_type": "stream",
          "text": [
            "Epoch [135/5000]: Train loss: 1.5696, Valid loss: 1.0855\n"
          ]
        },
        {
          "metadata": {
            "tags": null
          },
          "name": "stderr",
          "output_type": "stream",
          "text": [
            "Epoch [136/5000]: 100%|██████████| 10/10 [00:00<00:00, 61.53it/s, loss=1.75]\n"
          ]
        },
        {
          "metadata": {
            "tags": null
          },
          "name": "stdout",
          "output_type": "stream",
          "text": [
            "Epoch [136/5000]: Train loss: 1.6064, Valid loss: 1.0262\n"
          ]
        },
        {
          "metadata": {
            "tags": null
          },
          "name": "stderr",
          "output_type": "stream",
          "text": [
            "Epoch [137/5000]: 100%|██████████| 10/10 [00:00<00:00, 62.18it/s, loss=1.53]\n"
          ]
        },
        {
          "metadata": {
            "tags": null
          },
          "name": "stdout",
          "output_type": "stream",
          "text": [
            "Epoch [137/5000]: Train loss: 1.5428, Valid loss: 1.0319\n"
          ]
        },
        {
          "metadata": {
            "tags": null
          },
          "name": "stderr",
          "output_type": "stream",
          "text": [
            "Epoch [138/5000]: 100%|██████████| 10/10 [00:00<00:00, 56.26it/s, loss=1.77]\n"
          ]
        },
        {
          "metadata": {
            "tags": null
          },
          "name": "stdout",
          "output_type": "stream",
          "text": [
            "Epoch [138/5000]: Train loss: 1.6549, Valid loss: 1.0980\n"
          ]
        },
        {
          "metadata": {
            "tags": null
          },
          "name": "stderr",
          "output_type": "stream",
          "text": [
            "Epoch [139/5000]: 100%|██████████| 10/10 [00:00<00:00, 57.14it/s, loss=1.53]\n"
          ]
        },
        {
          "metadata": {
            "tags": null
          },
          "name": "stdout",
          "output_type": "stream",
          "text": [
            "Epoch [139/5000]: Train loss: 1.5930, Valid loss: 1.0217\n"
          ]
        },
        {
          "metadata": {
            "tags": null
          },
          "name": "stderr",
          "output_type": "stream",
          "text": [
            "Epoch [140/5000]: 100%|██████████| 10/10 [00:00<00:00, 58.84it/s, loss=1.75]\n"
          ]
        },
        {
          "metadata": {
            "tags": null
          },
          "name": "stdout",
          "output_type": "stream",
          "text": [
            "Epoch [140/5000]: Train loss: 1.5795, Valid loss: 1.0263\n"
          ]
        },
        {
          "metadata": {
            "tags": null
          },
          "name": "stderr",
          "output_type": "stream",
          "text": [
            "Epoch [141/5000]: 100%|██████████| 10/10 [00:00<00:00, 24.85it/s, loss=1.57]\n"
          ]
        },
        {
          "metadata": {
            "tags": null
          },
          "name": "stdout",
          "output_type": "stream",
          "text": [
            "Epoch [141/5000]: Train loss: 1.6391, Valid loss: 1.0845\n"
          ]
        },
        {
          "metadata": {
            "tags": null
          },
          "name": "stderr",
          "output_type": "stream",
          "text": [
            "Epoch [142/5000]: 100%|██████████| 10/10 [00:00<00:00, 67.66it/s, loss=1.67]\n"
          ]
        },
        {
          "metadata": {
            "tags": null
          },
          "name": "stdout",
          "output_type": "stream",
          "text": [
            "Epoch [142/5000]: Train loss: 1.5978, Valid loss: 1.0531\n"
          ]
        },
        {
          "metadata": {
            "tags": null
          },
          "name": "stderr",
          "output_type": "stream",
          "text": [
            "Epoch [143/5000]: 100%|██████████| 10/10 [00:00<00:00, 68.40it/s, loss=1.59]\n"
          ]
        },
        {
          "metadata": {
            "tags": null
          },
          "name": "stdout",
          "output_type": "stream",
          "text": [
            "Epoch [143/5000]: Train loss: 1.5479, Valid loss: 1.0379\n"
          ]
        },
        {
          "metadata": {
            "tags": null
          },
          "name": "stderr",
          "output_type": "stream",
          "text": [
            "Epoch [144/5000]: 100%|██████████| 10/10 [00:00<00:00, 63.04it/s, loss=1.32]\n"
          ]
        },
        {
          "metadata": {
            "tags": null
          },
          "name": "stdout",
          "output_type": "stream",
          "text": [
            "Epoch [144/5000]: Train loss: 1.5511, Valid loss: 1.0993\n"
          ]
        },
        {
          "metadata": {
            "tags": null
          },
          "name": "stderr",
          "output_type": "stream",
          "text": [
            "Epoch [145/5000]: 100%|██████████| 10/10 [00:00<00:00, 60.81it/s, loss=1.53]\n"
          ]
        },
        {
          "metadata": {
            "tags": null
          },
          "name": "stdout",
          "output_type": "stream",
          "text": [
            "Epoch [145/5000]: Train loss: 1.6083, Valid loss: 1.0460\n"
          ]
        },
        {
          "metadata": {
            "tags": null
          },
          "name": "stderr",
          "output_type": "stream",
          "text": [
            "Epoch [146/5000]: 100%|██████████| 10/10 [00:00<00:00, 68.08it/s, loss=1.71]\n"
          ]
        },
        {
          "metadata": {
            "tags": null
          },
          "name": "stdout",
          "output_type": "stream",
          "text": [
            "Epoch [146/5000]: Train loss: 1.5749, Valid loss: 1.0104\n",
            "Saving model with loss 1.010...\n"
          ]
        },
        {
          "metadata": {
            "tags": null
          },
          "name": "stderr",
          "output_type": "stream",
          "text": [
            "Epoch [147/5000]: 100%|██████████| 10/10 [00:00<00:00, 69.73it/s, loss=1.54]\n"
          ]
        },
        {
          "metadata": {
            "tags": null
          },
          "name": "stdout",
          "output_type": "stream",
          "text": [
            "Epoch [147/5000]: Train loss: 1.6050, Valid loss: 1.0763\n"
          ]
        },
        {
          "metadata": {
            "tags": null
          },
          "name": "stderr",
          "output_type": "stream",
          "text": [
            "Epoch [148/5000]: 100%|██████████| 10/10 [00:00<00:00, 66.85it/s, loss=1.78]\n"
          ]
        },
        {
          "metadata": {
            "tags": null
          },
          "name": "stdout",
          "output_type": "stream",
          "text": [
            "Epoch [148/5000]: Train loss: 1.5984, Valid loss: 1.1459\n"
          ]
        },
        {
          "metadata": {
            "tags": null
          },
          "name": "stderr",
          "output_type": "stream",
          "text": [
            "Epoch [149/5000]: 100%|██████████| 10/10 [00:00<00:00, 72.37it/s, loss=1.66]\n"
          ]
        },
        {
          "metadata": {
            "tags": null
          },
          "name": "stdout",
          "output_type": "stream",
          "text": [
            "Epoch [149/5000]: Train loss: 1.5647, Valid loss: 1.0141\n"
          ]
        },
        {
          "metadata": {
            "tags": null
          },
          "name": "stderr",
          "output_type": "stream",
          "text": [
            "Epoch [150/5000]: 100%|██████████| 10/10 [00:00<00:00, 65.03it/s, loss=1.59]\n"
          ]
        },
        {
          "metadata": {
            "tags": null
          },
          "name": "stdout",
          "output_type": "stream",
          "text": [
            "Epoch [150/5000]: Train loss: 1.5927, Valid loss: 1.0356\n"
          ]
        },
        {
          "metadata": {
            "tags": null
          },
          "name": "stderr",
          "output_type": "stream",
          "text": [
            "Epoch [151/5000]: 100%|██████████| 10/10 [00:00<00:00, 70.17it/s, loss=1.77]\n"
          ]
        },
        {
          "metadata": {
            "tags": null
          },
          "name": "stdout",
          "output_type": "stream",
          "text": [
            "Epoch [151/5000]: Train loss: 1.5853, Valid loss: 1.0323\n"
          ]
        },
        {
          "metadata": {
            "tags": null
          },
          "name": "stderr",
          "output_type": "stream",
          "text": [
            "Epoch [152/5000]: 100%|██████████| 10/10 [00:00<00:00, 70.08it/s, loss=1.34]\n"
          ]
        },
        {
          "metadata": {
            "tags": null
          },
          "name": "stdout",
          "output_type": "stream",
          "text": [
            "Epoch [152/5000]: Train loss: 1.5725, Valid loss: 1.0279\n"
          ]
        },
        {
          "metadata": {
            "tags": null
          },
          "name": "stderr",
          "output_type": "stream",
          "text": [
            "Epoch [153/5000]: 100%|██████████| 10/10 [00:00<00:00, 69.10it/s, loss=1.71]\n"
          ]
        },
        {
          "metadata": {
            "tags": null
          },
          "name": "stdout",
          "output_type": "stream",
          "text": [
            "Epoch [153/5000]: Train loss: 1.5776, Valid loss: 1.0778\n"
          ]
        },
        {
          "metadata": {
            "tags": null
          },
          "name": "stderr",
          "output_type": "stream",
          "text": [
            "Epoch [154/5000]: 100%|██████████| 10/10 [00:00<00:00, 69.20it/s, loss=1.49]\n"
          ]
        },
        {
          "metadata": {
            "tags": null
          },
          "name": "stdout",
          "output_type": "stream",
          "text": [
            "Epoch [154/5000]: Train loss: 1.6089, Valid loss: 1.0738\n"
          ]
        },
        {
          "metadata": {
            "tags": null
          },
          "name": "stderr",
          "output_type": "stream",
          "text": [
            "Epoch [155/5000]: 100%|██████████| 10/10 [00:00<00:00, 70.45it/s, loss=1.48]\n"
          ]
        },
        {
          "metadata": {
            "tags": null
          },
          "name": "stdout",
          "output_type": "stream",
          "text": [
            "Epoch [155/5000]: Train loss: 1.5496, Valid loss: 1.1356\n"
          ]
        },
        {
          "metadata": {
            "tags": null
          },
          "name": "stderr",
          "output_type": "stream",
          "text": [
            "Epoch [156/5000]: 100%|██████████| 10/10 [00:00<00:00, 63.80it/s, loss=1.64]\n"
          ]
        },
        {
          "metadata": {
            "tags": null
          },
          "name": "stdout",
          "output_type": "stream",
          "text": [
            "Epoch [156/5000]: Train loss: 1.5702, Valid loss: 1.0050\n",
            "Saving model with loss 1.005...\n"
          ]
        },
        {
          "metadata": {
            "tags": null
          },
          "name": "stderr",
          "output_type": "stream",
          "text": [
            "Epoch [157/5000]: 100%|██████████| 10/10 [00:00<00:00, 69.73it/s, loss=1.52]\n"
          ]
        },
        {
          "metadata": {
            "tags": null
          },
          "name": "stdout",
          "output_type": "stream",
          "text": [
            "Epoch [157/5000]: Train loss: 1.5864, Valid loss: 1.0462\n"
          ]
        },
        {
          "metadata": {
            "tags": null
          },
          "name": "stderr",
          "output_type": "stream",
          "text": [
            "Epoch [158/5000]: 100%|██████████| 10/10 [00:00<00:00, 70.03it/s, loss=1.32]\n"
          ]
        },
        {
          "metadata": {
            "tags": null
          },
          "name": "stdout",
          "output_type": "stream",
          "text": [
            "Epoch [158/5000]: Train loss: 1.5857, Valid loss: 1.0546\n"
          ]
        },
        {
          "metadata": {
            "tags": null
          },
          "name": "stderr",
          "output_type": "stream",
          "text": [
            "Epoch [159/5000]: 100%|██████████| 10/10 [00:00<00:00, 64.12it/s, loss=1.83]\n"
          ]
        },
        {
          "metadata": {
            "tags": null
          },
          "name": "stdout",
          "output_type": "stream",
          "text": [
            "Epoch [159/5000]: Train loss: 1.5986, Valid loss: 1.0527\n"
          ]
        },
        {
          "metadata": {
            "tags": null
          },
          "name": "stderr",
          "output_type": "stream",
          "text": [
            "Epoch [160/5000]: 100%|██████████| 10/10 [00:00<00:00, 67.76it/s, loss=1.68]\n"
          ]
        },
        {
          "metadata": {
            "tags": null
          },
          "name": "stdout",
          "output_type": "stream",
          "text": [
            "Epoch [160/5000]: Train loss: 1.5716, Valid loss: 1.1127\n"
          ]
        },
        {
          "metadata": {
            "tags": null
          },
          "name": "stderr",
          "output_type": "stream",
          "text": [
            "Epoch [161/5000]: 100%|██████████| 10/10 [00:00<00:00, 59.09it/s, loss=1.75]\n"
          ]
        },
        {
          "metadata": {
            "tags": null
          },
          "name": "stdout",
          "output_type": "stream",
          "text": [
            "Epoch [161/5000]: Train loss: 1.5679, Valid loss: 1.0548\n"
          ]
        },
        {
          "metadata": {
            "tags": null
          },
          "name": "stderr",
          "output_type": "stream",
          "text": [
            "Epoch [162/5000]: 100%|██████████| 10/10 [00:00<00:00, 68.19it/s, loss=1.54]\n"
          ]
        },
        {
          "metadata": {
            "tags": null
          },
          "name": "stdout",
          "output_type": "stream",
          "text": [
            "Epoch [162/5000]: Train loss: 1.5697, Valid loss: 1.0748\n"
          ]
        },
        {
          "metadata": {
            "tags": null
          },
          "name": "stderr",
          "output_type": "stream",
          "text": [
            "Epoch [163/5000]: 100%|██████████| 10/10 [00:00<00:00, 66.43it/s, loss=1.51]\n"
          ]
        },
        {
          "metadata": {
            "tags": null
          },
          "name": "stdout",
          "output_type": "stream",
          "text": [
            "Epoch [163/5000]: Train loss: 1.5830, Valid loss: 1.0729\n"
          ]
        },
        {
          "metadata": {
            "tags": null
          },
          "name": "stderr",
          "output_type": "stream",
          "text": [
            "Epoch [164/5000]: 100%|██████████| 10/10 [00:00<00:00, 27.68it/s, loss=1.62]\n"
          ]
        },
        {
          "metadata": {
            "tags": null
          },
          "name": "stdout",
          "output_type": "stream",
          "text": [
            "Epoch [164/5000]: Train loss: 1.5728, Valid loss: 1.0026\n",
            "Saving model with loss 1.003...\n"
          ]
        },
        {
          "metadata": {
            "tags": null
          },
          "name": "stderr",
          "output_type": "stream",
          "text": [
            "Epoch [165/5000]: 100%|██████████| 10/10 [00:00<00:00, 69.21it/s, loss=1.75]\n"
          ]
        },
        {
          "metadata": {
            "tags": null
          },
          "name": "stdout",
          "output_type": "stream",
          "text": [
            "Epoch [165/5000]: Train loss: 1.5595, Valid loss: 1.1691\n"
          ]
        },
        {
          "metadata": {
            "tags": null
          },
          "name": "stderr",
          "output_type": "stream",
          "text": [
            "Epoch [166/5000]: 100%|██████████| 10/10 [00:00<00:00, 68.66it/s, loss=1.41]\n"
          ]
        },
        {
          "metadata": {
            "tags": null
          },
          "name": "stdout",
          "output_type": "stream",
          "text": [
            "Epoch [166/5000]: Train loss: 1.5581, Valid loss: 1.0358\n"
          ]
        },
        {
          "metadata": {
            "tags": null
          },
          "name": "stderr",
          "output_type": "stream",
          "text": [
            "Epoch [167/5000]: 100%|██████████| 10/10 [00:00<00:00, 63.04it/s, loss=1.47]\n"
          ]
        },
        {
          "metadata": {
            "tags": null
          },
          "name": "stdout",
          "output_type": "stream",
          "text": [
            "Epoch [167/5000]: Train loss: 1.5479, Valid loss: 1.1702\n"
          ]
        },
        {
          "metadata": {
            "tags": null
          },
          "name": "stderr",
          "output_type": "stream",
          "text": [
            "Epoch [168/5000]: 100%|██████████| 10/10 [00:00<00:00, 66.52it/s, loss=1.45]\n"
          ]
        },
        {
          "metadata": {
            "tags": null
          },
          "name": "stdout",
          "output_type": "stream",
          "text": [
            "Epoch [168/5000]: Train loss: 1.5613, Valid loss: 1.0599\n"
          ]
        },
        {
          "metadata": {
            "tags": null
          },
          "name": "stderr",
          "output_type": "stream",
          "text": [
            "Epoch [169/5000]: 100%|██████████| 10/10 [00:00<00:00, 74.29it/s, loss=1.6]\n"
          ]
        },
        {
          "metadata": {
            "tags": null
          },
          "name": "stdout",
          "output_type": "stream",
          "text": [
            "Epoch [169/5000]: Train loss: 1.5645, Valid loss: 1.1597\n"
          ]
        },
        {
          "metadata": {
            "tags": null
          },
          "name": "stderr",
          "output_type": "stream",
          "text": [
            "Epoch [170/5000]: 100%|██████████| 10/10 [00:00<00:00, 68.25it/s, loss=1.65]\n"
          ]
        },
        {
          "metadata": {
            "tags": null
          },
          "name": "stdout",
          "output_type": "stream",
          "text": [
            "Epoch [170/5000]: Train loss: 1.5793, Valid loss: 1.0771\n"
          ]
        },
        {
          "metadata": {
            "tags": null
          },
          "name": "stderr",
          "output_type": "stream",
          "text": [
            "Epoch [171/5000]: 100%|██████████| 10/10 [00:00<00:00, 64.73it/s, loss=1.7]\n"
          ]
        },
        {
          "metadata": {
            "tags": null
          },
          "name": "stdout",
          "output_type": "stream",
          "text": [
            "Epoch [171/5000]: Train loss: 1.5720, Valid loss: 1.1250\n"
          ]
        },
        {
          "metadata": {
            "tags": null
          },
          "name": "stderr",
          "output_type": "stream",
          "text": [
            "Epoch [172/5000]: 100%|██████████| 10/10 [00:00<00:00, 68.38it/s, loss=1.64]\n"
          ]
        },
        {
          "metadata": {
            "tags": null
          },
          "name": "stdout",
          "output_type": "stream",
          "text": [
            "Epoch [172/5000]: Train loss: 1.5640, Valid loss: 1.0954\n"
          ]
        },
        {
          "metadata": {
            "tags": null
          },
          "name": "stderr",
          "output_type": "stream",
          "text": [
            "Epoch [173/5000]: 100%|██████████| 10/10 [00:00<00:00, 69.93it/s, loss=1.65]\n"
          ]
        },
        {
          "metadata": {
            "tags": null
          },
          "name": "stdout",
          "output_type": "stream",
          "text": [
            "Epoch [173/5000]: Train loss: 1.5774, Valid loss: 1.0555\n"
          ]
        },
        {
          "metadata": {
            "tags": null
          },
          "name": "stderr",
          "output_type": "stream",
          "text": [
            "Epoch [174/5000]: 100%|██████████| 10/10 [00:00<00:00, 64.16it/s, loss=1.66]\n"
          ]
        },
        {
          "metadata": {
            "tags": null
          },
          "name": "stdout",
          "output_type": "stream",
          "text": [
            "Epoch [174/5000]: Train loss: 1.5677, Valid loss: 1.0107\n"
          ]
        },
        {
          "metadata": {
            "tags": null
          },
          "name": "stderr",
          "output_type": "stream",
          "text": [
            "Epoch [175/5000]: 100%|██████████| 10/10 [00:00<00:00, 65.63it/s, loss=1.4]\n"
          ]
        },
        {
          "metadata": {
            "tags": null
          },
          "name": "stdout",
          "output_type": "stream",
          "text": [
            "Epoch [175/5000]: Train loss: 1.5578, Valid loss: 1.0956\n"
          ]
        },
        {
          "metadata": {
            "tags": null
          },
          "name": "stderr",
          "output_type": "stream",
          "text": [
            "Epoch [176/5000]: 100%|██████████| 10/10 [00:00<00:00, 67.06it/s, loss=1.53]\n"
          ]
        },
        {
          "metadata": {
            "tags": null
          },
          "name": "stdout",
          "output_type": "stream",
          "text": [
            "Epoch [176/5000]: Train loss: 1.5536, Valid loss: 1.0633\n"
          ]
        },
        {
          "metadata": {
            "tags": null
          },
          "name": "stderr",
          "output_type": "stream",
          "text": [
            "Epoch [177/5000]: 100%|██████████| 10/10 [00:00<00:00, 68.67it/s, loss=1.88]\n"
          ]
        },
        {
          "metadata": {
            "tags": null
          },
          "name": "stdout",
          "output_type": "stream",
          "text": [
            "Epoch [177/5000]: Train loss: 1.5643, Valid loss: 1.0790\n"
          ]
        },
        {
          "metadata": {
            "tags": null
          },
          "name": "stderr",
          "output_type": "stream",
          "text": [
            "Epoch [178/5000]: 100%|██████████| 10/10 [00:00<00:00, 68.62it/s, loss=1.3]\n"
          ]
        },
        {
          "metadata": {
            "tags": null
          },
          "name": "stdout",
          "output_type": "stream",
          "text": [
            "Epoch [178/5000]: Train loss: 1.5419, Valid loss: 1.1037\n"
          ]
        },
        {
          "metadata": {
            "tags": null
          },
          "name": "stderr",
          "output_type": "stream",
          "text": [
            "Epoch [179/5000]: 100%|██████████| 10/10 [00:00<00:00, 67.52it/s, loss=1.55]\n"
          ]
        },
        {
          "metadata": {
            "tags": null
          },
          "name": "stdout",
          "output_type": "stream",
          "text": [
            "Epoch [179/5000]: Train loss: 1.5610, Valid loss: 1.0125\n"
          ]
        },
        {
          "metadata": {
            "tags": null
          },
          "name": "stderr",
          "output_type": "stream",
          "text": [
            "Epoch [180/5000]: 100%|██████████| 10/10 [00:00<00:00, 72.05it/s, loss=1.58]\n"
          ]
        },
        {
          "metadata": {
            "tags": null
          },
          "name": "stdout",
          "output_type": "stream",
          "text": [
            "Epoch [180/5000]: Train loss: 1.5580, Valid loss: 1.1971\n"
          ]
        },
        {
          "metadata": {
            "tags": null
          },
          "name": "stderr",
          "output_type": "stream",
          "text": [
            "Epoch [181/5000]: 100%|██████████| 10/10 [00:00<00:00, 75.71it/s, loss=1.54]\n"
          ]
        },
        {
          "metadata": {
            "tags": null
          },
          "name": "stdout",
          "output_type": "stream",
          "text": [
            "Epoch [181/5000]: Train loss: 1.5323, Valid loss: 1.0426\n"
          ]
        },
        {
          "metadata": {
            "tags": null
          },
          "name": "stderr",
          "output_type": "stream",
          "text": [
            "Epoch [182/5000]: 100%|██████████| 10/10 [00:00<00:00, 71.38it/s, loss=1.5]\n"
          ]
        },
        {
          "metadata": {
            "tags": null
          },
          "name": "stdout",
          "output_type": "stream",
          "text": [
            "Epoch [182/5000]: Train loss: 1.5416, Valid loss: 1.0280\n"
          ]
        },
        {
          "metadata": {
            "tags": null
          },
          "name": "stderr",
          "output_type": "stream",
          "text": [
            "Epoch [183/5000]: 100%|██████████| 10/10 [00:00<00:00, 61.18it/s, loss=1.27]\n"
          ]
        },
        {
          "metadata": {
            "tags": null
          },
          "name": "stdout",
          "output_type": "stream",
          "text": [
            "Epoch [183/5000]: Train loss: 1.5544, Valid loss: 0.9874\n",
            "Saving model with loss 0.987...\n"
          ]
        },
        {
          "metadata": {
            "tags": null
          },
          "name": "stderr",
          "output_type": "stream",
          "text": [
            "Epoch [184/5000]: 100%|██████████| 10/10 [00:00<00:00, 64.69it/s, loss=1.57]\n"
          ]
        },
        {
          "metadata": {
            "tags": null
          },
          "name": "stdout",
          "output_type": "stream",
          "text": [
            "Epoch [184/5000]: Train loss: 1.5285, Valid loss: 1.0730\n"
          ]
        },
        {
          "metadata": {
            "tags": null
          },
          "name": "stderr",
          "output_type": "stream",
          "text": [
            "Epoch [185/5000]: 100%|██████████| 10/10 [00:00<00:00, 68.21it/s, loss=1.5]\n"
          ]
        },
        {
          "metadata": {
            "tags": null
          },
          "name": "stdout",
          "output_type": "stream",
          "text": [
            "Epoch [185/5000]: Train loss: 1.5221, Valid loss: 1.0629\n"
          ]
        },
        {
          "metadata": {
            "tags": null
          },
          "name": "stderr",
          "output_type": "stream",
          "text": [
            "Epoch [186/5000]: 100%|██████████| 10/10 [00:00<00:00, 66.37it/s, loss=1.51]\n"
          ]
        },
        {
          "metadata": {
            "tags": null
          },
          "name": "stdout",
          "output_type": "stream",
          "text": [
            "Epoch [186/5000]: Train loss: 1.5556, Valid loss: 1.0522\n"
          ]
        },
        {
          "metadata": {
            "tags": null
          },
          "name": "stderr",
          "output_type": "stream",
          "text": [
            "Epoch [187/5000]: 100%|██████████| 10/10 [00:00<00:00, 71.29it/s, loss=1.54]\n"
          ]
        },
        {
          "metadata": {
            "tags": null
          },
          "name": "stdout",
          "output_type": "stream",
          "text": [
            "Epoch [187/5000]: Train loss: 1.5234, Valid loss: 1.1098\n"
          ]
        },
        {
          "metadata": {
            "tags": null
          },
          "name": "stderr",
          "output_type": "stream",
          "text": [
            "Epoch [188/5000]: 100%|██████████| 10/10 [00:00<00:00, 61.40it/s, loss=1.55]\n"
          ]
        },
        {
          "metadata": {
            "tags": null
          },
          "name": "stdout",
          "output_type": "stream",
          "text": [
            "Epoch [188/5000]: Train loss: 1.5276, Valid loss: 1.0823\n"
          ]
        },
        {
          "metadata": {
            "tags": null
          },
          "name": "stderr",
          "output_type": "stream",
          "text": [
            "Epoch [189/5000]: 100%|██████████| 10/10 [00:00<00:00, 52.14it/s, loss=1.73]\n"
          ]
        },
        {
          "metadata": {
            "tags": null
          },
          "name": "stdout",
          "output_type": "stream",
          "text": [
            "Epoch [189/5000]: Train loss: 1.5786, Valid loss: 1.1188\n"
          ]
        },
        {
          "metadata": {
            "tags": null
          },
          "name": "stderr",
          "output_type": "stream",
          "text": [
            "Epoch [190/5000]: 100%|██████████| 10/10 [00:00<00:00, 23.58it/s, loss=1.62]\n"
          ]
        },
        {
          "metadata": {
            "tags": null
          },
          "name": "stdout",
          "output_type": "stream",
          "text": [
            "Epoch [190/5000]: Train loss: 1.5618, Valid loss: 1.1951\n"
          ]
        },
        {
          "metadata": {
            "tags": null
          },
          "name": "stderr",
          "output_type": "stream",
          "text": [
            "Epoch [191/5000]: 100%|██████████| 10/10 [00:00<00:00, 55.48it/s, loss=1.69]\n"
          ]
        },
        {
          "metadata": {
            "tags": null
          },
          "name": "stdout",
          "output_type": "stream",
          "text": [
            "Epoch [191/5000]: Train loss: 1.5219, Valid loss: 1.0179\n"
          ]
        },
        {
          "metadata": {
            "tags": null
          },
          "name": "stderr",
          "output_type": "stream",
          "text": [
            "Epoch [192/5000]: 100%|██████████| 10/10 [00:00<00:00, 64.90it/s, loss=1.68]\n"
          ]
        },
        {
          "metadata": {
            "tags": null
          },
          "name": "stdout",
          "output_type": "stream",
          "text": [
            "Epoch [192/5000]: Train loss: 1.5433, Valid loss: 1.0791\n"
          ]
        },
        {
          "metadata": {
            "tags": null
          },
          "name": "stderr",
          "output_type": "stream",
          "text": [
            "Epoch [193/5000]: 100%|██████████| 10/10 [00:00<00:00, 65.46it/s, loss=1.65]\n"
          ]
        },
        {
          "metadata": {
            "tags": null
          },
          "name": "stdout",
          "output_type": "stream",
          "text": [
            "Epoch [193/5000]: Train loss: 1.5382, Valid loss: 1.0038\n"
          ]
        },
        {
          "metadata": {
            "tags": null
          },
          "name": "stderr",
          "output_type": "stream",
          "text": [
            "Epoch [194/5000]: 100%|██████████| 10/10 [00:00<00:00, 63.63it/s, loss=1.54]\n"
          ]
        },
        {
          "metadata": {
            "tags": null
          },
          "name": "stdout",
          "output_type": "stream",
          "text": [
            "Epoch [194/5000]: Train loss: 1.5205, Valid loss: 1.0812\n"
          ]
        },
        {
          "metadata": {
            "tags": null
          },
          "name": "stderr",
          "output_type": "stream",
          "text": [
            "Epoch [195/5000]: 100%|██████████| 10/10 [00:00<00:00, 51.18it/s, loss=1.73]\n"
          ]
        },
        {
          "metadata": {
            "tags": null
          },
          "name": "stdout",
          "output_type": "stream",
          "text": [
            "Epoch [195/5000]: Train loss: 1.5740, Valid loss: 1.1023\n"
          ]
        },
        {
          "metadata": {
            "tags": null
          },
          "name": "stderr",
          "output_type": "stream",
          "text": [
            "Epoch [196/5000]: 100%|██████████| 10/10 [00:00<00:00, 52.85it/s, loss=1.4]\n"
          ]
        },
        {
          "metadata": {
            "tags": null
          },
          "name": "stdout",
          "output_type": "stream",
          "text": [
            "Epoch [196/5000]: Train loss: 1.5678, Valid loss: 1.1282\n"
          ]
        },
        {
          "metadata": {
            "tags": null
          },
          "name": "stderr",
          "output_type": "stream",
          "text": [
            "Epoch [197/5000]: 100%|██████████| 10/10 [00:00<00:00, 61.84it/s, loss=1.64]\n"
          ]
        },
        {
          "metadata": {
            "tags": null
          },
          "name": "stdout",
          "output_type": "stream",
          "text": [
            "Epoch [197/5000]: Train loss: 1.5444, Valid loss: 1.0355\n"
          ]
        },
        {
          "metadata": {
            "tags": null
          },
          "name": "stderr",
          "output_type": "stream",
          "text": [
            "Epoch [198/5000]: 100%|██████████| 10/10 [00:00<00:00, 52.93it/s, loss=1.44]\n"
          ]
        },
        {
          "metadata": {
            "tags": null
          },
          "name": "stdout",
          "output_type": "stream",
          "text": [
            "Epoch [198/5000]: Train loss: 1.5470, Valid loss: 1.0933\n"
          ]
        },
        {
          "metadata": {
            "tags": null
          },
          "name": "stderr",
          "output_type": "stream",
          "text": [
            "Epoch [199/5000]: 100%|██████████| 10/10 [00:00<00:00, 57.81it/s, loss=1.53]\n"
          ]
        },
        {
          "metadata": {
            "tags": null
          },
          "name": "stdout",
          "output_type": "stream",
          "text": [
            "Epoch [199/5000]: Train loss: 1.5538, Valid loss: 1.0751\n"
          ]
        },
        {
          "metadata": {
            "tags": null
          },
          "name": "stderr",
          "output_type": "stream",
          "text": [
            "Epoch [200/5000]: 100%|██████████| 10/10 [00:00<00:00, 22.57it/s, loss=1.74]\n"
          ]
        },
        {
          "metadata": {
            "tags": null
          },
          "name": "stdout",
          "output_type": "stream",
          "text": [
            "Epoch [200/5000]: Train loss: 1.5361, Valid loss: 1.0212\n"
          ]
        },
        {
          "metadata": {
            "tags": null
          },
          "name": "stderr",
          "output_type": "stream",
          "text": [
            "Epoch [201/5000]: 100%|██████████| 10/10 [00:00<00:00, 58.58it/s, loss=1.36]\n"
          ]
        },
        {
          "metadata": {
            "tags": null
          },
          "name": "stdout",
          "output_type": "stream",
          "text": [
            "Epoch [201/5000]: Train loss: 1.5565, Valid loss: 1.0729\n"
          ]
        },
        {
          "metadata": {
            "tags": null
          },
          "name": "stderr",
          "output_type": "stream",
          "text": [
            "Epoch [202/5000]: 100%|██████████| 10/10 [00:00<00:00, 54.59it/s, loss=1.61]\n"
          ]
        },
        {
          "metadata": {
            "tags": null
          },
          "name": "stdout",
          "output_type": "stream",
          "text": [
            "Epoch [202/5000]: Train loss: 1.5580, Valid loss: 1.1461\n"
          ]
        },
        {
          "metadata": {
            "tags": null
          },
          "name": "stderr",
          "output_type": "stream",
          "text": [
            "Epoch [203/5000]: 100%|██████████| 10/10 [00:00<00:00, 64.40it/s, loss=1.6]\n"
          ]
        },
        {
          "metadata": {
            "tags": null
          },
          "name": "stdout",
          "output_type": "stream",
          "text": [
            "Epoch [203/5000]: Train loss: 1.5555, Valid loss: 1.0726\n"
          ]
        },
        {
          "metadata": {
            "tags": null
          },
          "name": "stderr",
          "output_type": "stream",
          "text": [
            "Epoch [204/5000]: 100%|██████████| 10/10 [00:00<00:00, 61.51it/s, loss=1.5]\n"
          ]
        },
        {
          "metadata": {
            "tags": null
          },
          "name": "stdout",
          "output_type": "stream",
          "text": [
            "Epoch [204/5000]: Train loss: 1.5209, Valid loss: 1.0613\n"
          ]
        },
        {
          "metadata": {
            "tags": null
          },
          "name": "stderr",
          "output_type": "stream",
          "text": [
            "Epoch [205/5000]: 100%|██████████| 10/10 [00:00<00:00, 56.81it/s, loss=1.61]\n"
          ]
        },
        {
          "metadata": {
            "tags": null
          },
          "name": "stdout",
          "output_type": "stream",
          "text": [
            "Epoch [205/5000]: Train loss: 1.5568, Valid loss: 1.1038\n"
          ]
        },
        {
          "metadata": {
            "tags": null
          },
          "name": "stderr",
          "output_type": "stream",
          "text": [
            "Epoch [206/5000]: 100%|██████████| 10/10 [00:00<00:00, 63.86it/s, loss=1.55]\n"
          ]
        },
        {
          "metadata": {
            "tags": null
          },
          "name": "stdout",
          "output_type": "stream",
          "text": [
            "Epoch [206/5000]: Train loss: 1.5597, Valid loss: 1.1250\n"
          ]
        },
        {
          "metadata": {
            "tags": null
          },
          "name": "stderr",
          "output_type": "stream",
          "text": [
            "Epoch [207/5000]: 100%|██████████| 10/10 [00:00<00:00, 71.08it/s, loss=1.56]\n"
          ]
        },
        {
          "metadata": {
            "tags": null
          },
          "name": "stdout",
          "output_type": "stream",
          "text": [
            "Epoch [207/5000]: Train loss: 1.5231, Valid loss: 1.0541\n"
          ]
        },
        {
          "metadata": {
            "tags": null
          },
          "name": "stderr",
          "output_type": "stream",
          "text": [
            "Epoch [208/5000]: 100%|██████████| 10/10 [00:00<00:00, 64.72it/s, loss=1.42]\n"
          ]
        },
        {
          "metadata": {
            "tags": null
          },
          "name": "stdout",
          "output_type": "stream",
          "text": [
            "Epoch [208/5000]: Train loss: 1.5465, Valid loss: 1.1101\n"
          ]
        },
        {
          "metadata": {
            "tags": null
          },
          "name": "stderr",
          "output_type": "stream",
          "text": [
            "Epoch [209/5000]: 100%|██████████| 10/10 [00:00<00:00, 64.89it/s, loss=1.42]\n"
          ]
        },
        {
          "metadata": {
            "tags": null
          },
          "name": "stdout",
          "output_type": "stream",
          "text": [
            "Epoch [209/5000]: Train loss: 1.5484, Valid loss: 1.0583\n"
          ]
        },
        {
          "metadata": {
            "tags": null
          },
          "name": "stderr",
          "output_type": "stream",
          "text": [
            "Epoch [210/5000]: 100%|██████████| 10/10 [00:00<00:00, 28.60it/s, loss=1.66]\n"
          ]
        },
        {
          "metadata": {
            "tags": null
          },
          "name": "stdout",
          "output_type": "stream",
          "text": [
            "Epoch [210/5000]: Train loss: 1.5684, Valid loss: 1.0875\n"
          ]
        },
        {
          "metadata": {
            "tags": null
          },
          "name": "stderr",
          "output_type": "stream",
          "text": [
            "Epoch [211/5000]: 100%|██████████| 10/10 [00:00<00:00, 67.71it/s, loss=1.36]\n"
          ]
        },
        {
          "metadata": {
            "tags": null
          },
          "name": "stdout",
          "output_type": "stream",
          "text": [
            "Epoch [211/5000]: Train loss: 1.4840, Valid loss: 1.0298\n"
          ]
        },
        {
          "metadata": {
            "tags": null
          },
          "name": "stderr",
          "output_type": "stream",
          "text": [
            "Epoch [212/5000]: 100%|██████████| 10/10 [00:00<00:00, 61.21it/s, loss=1.67]\n"
          ]
        },
        {
          "metadata": {
            "tags": null
          },
          "name": "stdout",
          "output_type": "stream",
          "text": [
            "Epoch [212/5000]: Train loss: 1.5608, Valid loss: 1.0458\n"
          ]
        },
        {
          "metadata": {
            "tags": null
          },
          "name": "stderr",
          "output_type": "stream",
          "text": [
            "Epoch [213/5000]: 100%|██████████| 10/10 [00:00<00:00, 64.87it/s, loss=1.48]\n"
          ]
        },
        {
          "metadata": {
            "tags": null
          },
          "name": "stdout",
          "output_type": "stream",
          "text": [
            "Epoch [213/5000]: Train loss: 1.5352, Valid loss: 1.0166\n"
          ]
        },
        {
          "metadata": {
            "tags": null
          },
          "name": "stderr",
          "output_type": "stream",
          "text": [
            "Epoch [214/5000]: 100%|██████████| 10/10 [00:00<00:00, 64.48it/s, loss=1.64]\n"
          ]
        },
        {
          "metadata": {
            "tags": null
          },
          "name": "stdout",
          "output_type": "stream",
          "text": [
            "Epoch [214/5000]: Train loss: 1.5326, Valid loss: 1.0332\n"
          ]
        },
        {
          "metadata": {
            "tags": null
          },
          "name": "stderr",
          "output_type": "stream",
          "text": [
            "Epoch [215/5000]: 100%|██████████| 10/10 [00:00<00:00, 69.25it/s, loss=1.46]\n"
          ]
        },
        {
          "metadata": {
            "tags": null
          },
          "name": "stdout",
          "output_type": "stream",
          "text": [
            "Epoch [215/5000]: Train loss: 1.5072, Valid loss: 1.0371\n"
          ]
        },
        {
          "metadata": {
            "tags": null
          },
          "name": "stderr",
          "output_type": "stream",
          "text": [
            "Epoch [216/5000]: 100%|██████████| 10/10 [00:00<00:00, 67.61it/s, loss=1.6]\n"
          ]
        },
        {
          "metadata": {
            "tags": null
          },
          "name": "stdout",
          "output_type": "stream",
          "text": [
            "Epoch [216/5000]: Train loss: 1.5467, Valid loss: 1.1166\n"
          ]
        },
        {
          "metadata": {
            "tags": null
          },
          "name": "stderr",
          "output_type": "stream",
          "text": [
            "Epoch [217/5000]: 100%|██████████| 10/10 [00:00<00:00, 67.85it/s, loss=1.42]\n"
          ]
        },
        {
          "metadata": {
            "tags": null
          },
          "name": "stdout",
          "output_type": "stream",
          "text": [
            "Epoch [217/5000]: Train loss: 1.5245, Valid loss: 1.0341\n"
          ]
        },
        {
          "metadata": {
            "tags": null
          },
          "name": "stderr",
          "output_type": "stream",
          "text": [
            "Epoch [218/5000]: 100%|██████████| 10/10 [00:00<00:00, 64.65it/s, loss=1.56]\n"
          ]
        },
        {
          "metadata": {
            "tags": null
          },
          "name": "stdout",
          "output_type": "stream",
          "text": [
            "Epoch [218/5000]: Train loss: 1.5319, Valid loss: 1.0619\n"
          ]
        },
        {
          "metadata": {
            "tags": null
          },
          "name": "stderr",
          "output_type": "stream",
          "text": [
            "Epoch [219/5000]: 100%|██████████| 10/10 [00:00<00:00, 53.23it/s, loss=1.55]\n"
          ]
        },
        {
          "metadata": {
            "tags": null
          },
          "name": "stdout",
          "output_type": "stream",
          "text": [
            "Epoch [219/5000]: Train loss: 1.5706, Valid loss: 1.2037\n"
          ]
        },
        {
          "metadata": {
            "tags": null
          },
          "name": "stderr",
          "output_type": "stream",
          "text": [
            "Epoch [220/5000]: 100%|██████████| 10/10 [00:00<00:00, 59.98it/s, loss=1.65]\n"
          ]
        },
        {
          "metadata": {
            "tags": null
          },
          "name": "stdout",
          "output_type": "stream",
          "text": [
            "Epoch [220/5000]: Train loss: 1.5788, Valid loss: 1.0830\n"
          ]
        },
        {
          "metadata": {
            "tags": null
          },
          "name": "stderr",
          "output_type": "stream",
          "text": [
            "Epoch [221/5000]: 100%|██████████| 10/10 [00:00<00:00, 27.48it/s, loss=1.54]\n"
          ]
        },
        {
          "metadata": {
            "tags": null
          },
          "name": "stdout",
          "output_type": "stream",
          "text": [
            "Epoch [221/5000]: Train loss: 1.5490, Valid loss: 1.0959\n"
          ]
        },
        {
          "metadata": {
            "tags": null
          },
          "name": "stderr",
          "output_type": "stream",
          "text": [
            "Epoch [222/5000]: 100%|██████████| 10/10 [00:00<00:00, 65.03it/s, loss=1.42]\n"
          ]
        },
        {
          "metadata": {
            "tags": null
          },
          "name": "stdout",
          "output_type": "stream",
          "text": [
            "Epoch [222/5000]: Train loss: 1.5358, Valid loss: 1.0617\n"
          ]
        },
        {
          "metadata": {
            "tags": null
          },
          "name": "stderr",
          "output_type": "stream",
          "text": [
            "Epoch [223/5000]: 100%|██████████| 10/10 [00:00<00:00, 63.81it/s, loss=1.45]\n"
          ]
        },
        {
          "metadata": {
            "tags": null
          },
          "name": "stdout",
          "output_type": "stream",
          "text": [
            "Epoch [223/5000]: Train loss: 1.5074, Valid loss: 1.0878\n"
          ]
        },
        {
          "metadata": {
            "tags": null
          },
          "name": "stderr",
          "output_type": "stream",
          "text": [
            "Epoch [224/5000]: 100%|██████████| 10/10 [00:00<00:00, 70.27it/s, loss=1.56]\n"
          ]
        },
        {
          "metadata": {
            "tags": null
          },
          "name": "stdout",
          "output_type": "stream",
          "text": [
            "Epoch [224/5000]: Train loss: 1.5392, Valid loss: 1.0754\n"
          ]
        },
        {
          "metadata": {
            "tags": null
          },
          "name": "stderr",
          "output_type": "stream",
          "text": [
            "Epoch [225/5000]: 100%|██████████| 10/10 [00:00<00:00, 68.73it/s, loss=1.57]\n"
          ]
        },
        {
          "metadata": {
            "tags": null
          },
          "name": "stdout",
          "output_type": "stream",
          "text": [
            "Epoch [225/5000]: Train loss: 1.5555, Valid loss: 1.0246\n"
          ]
        },
        {
          "metadata": {
            "tags": null
          },
          "name": "stderr",
          "output_type": "stream",
          "text": [
            "Epoch [226/5000]: 100%|██████████| 10/10 [00:00<00:00, 61.75it/s, loss=1.51]\n"
          ]
        },
        {
          "metadata": {
            "tags": null
          },
          "name": "stdout",
          "output_type": "stream",
          "text": [
            "Epoch [226/5000]: Train loss: 1.5110, Valid loss: 1.0741\n"
          ]
        },
        {
          "metadata": {
            "tags": null
          },
          "name": "stderr",
          "output_type": "stream",
          "text": [
            "Epoch [227/5000]: 100%|██████████| 10/10 [00:00<00:00, 62.71it/s, loss=1.52]\n"
          ]
        },
        {
          "metadata": {
            "tags": null
          },
          "name": "stdout",
          "output_type": "stream",
          "text": [
            "Epoch [227/5000]: Train loss: 1.5102, Valid loss: 1.0554\n"
          ]
        },
        {
          "metadata": {
            "tags": null
          },
          "name": "stderr",
          "output_type": "stream",
          "text": [
            "Epoch [228/5000]: 100%|██████████| 10/10 [00:00<00:00, 66.58it/s, loss=1.42]\n"
          ]
        },
        {
          "metadata": {
            "tags": null
          },
          "name": "stdout",
          "output_type": "stream",
          "text": [
            "Epoch [228/5000]: Train loss: 1.5193, Valid loss: 1.0890\n"
          ]
        },
        {
          "metadata": {
            "tags": null
          },
          "name": "stderr",
          "output_type": "stream",
          "text": [
            "Epoch [229/5000]: 100%|██████████| 10/10 [00:00<00:00, 67.84it/s, loss=1.52]\n"
          ]
        },
        {
          "metadata": {
            "tags": null
          },
          "name": "stdout",
          "output_type": "stream",
          "text": [
            "Epoch [229/5000]: Train loss: 1.5261, Valid loss: 1.1208\n"
          ]
        },
        {
          "metadata": {
            "tags": null
          },
          "name": "stderr",
          "output_type": "stream",
          "text": [
            "Epoch [230/5000]: 100%|██████████| 10/10 [00:00<00:00, 66.54it/s, loss=1.61]\n"
          ]
        },
        {
          "metadata": {
            "tags": null
          },
          "name": "stdout",
          "output_type": "stream",
          "text": [
            "Epoch [230/5000]: Train loss: 1.5197, Valid loss: 1.0885\n"
          ]
        },
        {
          "metadata": {
            "tags": null
          },
          "name": "stderr",
          "output_type": "stream",
          "text": [
            "Epoch [231/5000]: 100%|██████████| 10/10 [00:00<00:00, 56.37it/s, loss=1.35]\n"
          ]
        },
        {
          "metadata": {
            "tags": null
          },
          "name": "stdout",
          "output_type": "stream",
          "text": [
            "Epoch [231/5000]: Train loss: 1.5273, Valid loss: 1.0654\n"
          ]
        },
        {
          "metadata": {
            "tags": null
          },
          "name": "stderr",
          "output_type": "stream",
          "text": [
            "Epoch [232/5000]: 100%|██████████| 10/10 [00:00<00:00, 63.81it/s, loss=1.56]\n"
          ]
        },
        {
          "metadata": {
            "tags": null
          },
          "name": "stdout",
          "output_type": "stream",
          "text": [
            "Epoch [232/5000]: Train loss: 1.5478, Valid loss: 1.1080\n"
          ]
        },
        {
          "metadata": {
            "tags": null
          },
          "name": "stderr",
          "output_type": "stream",
          "text": [
            "Epoch [233/5000]: 100%|██████████| 10/10 [00:00<00:00, 59.27it/s, loss=1.48]\n"
          ]
        },
        {
          "metadata": {
            "tags": null
          },
          "name": "stdout",
          "output_type": "stream",
          "text": [
            "Epoch [233/5000]: Train loss: 1.5204, Valid loss: 1.0965\n"
          ]
        },
        {
          "metadata": {
            "tags": null
          },
          "name": "stderr",
          "output_type": "stream",
          "text": [
            "Epoch [234/5000]: 100%|██████████| 10/10 [00:00<00:00, 65.00it/s, loss=1.53]\n"
          ]
        },
        {
          "metadata": {
            "tags": null
          },
          "name": "stdout",
          "output_type": "stream",
          "text": [
            "Epoch [234/5000]: Train loss: 1.5104, Valid loss: 1.0540\n"
          ]
        },
        {
          "metadata": {
            "tags": null
          },
          "name": "stderr",
          "output_type": "stream",
          "text": [
            "Epoch [235/5000]: 100%|██████████| 10/10 [00:00<00:00, 66.83it/s, loss=1.68]\n"
          ]
        },
        {
          "metadata": {
            "tags": null
          },
          "name": "stdout",
          "output_type": "stream",
          "text": [
            "Epoch [235/5000]: Train loss: 1.5162, Valid loss: 1.0658\n"
          ]
        },
        {
          "metadata": {
            "tags": null
          },
          "name": "stderr",
          "output_type": "stream",
          "text": [
            "Epoch [236/5000]: 100%|██████████| 10/10 [00:00<00:00, 67.39it/s, loss=1.5]\n"
          ]
        },
        {
          "metadata": {
            "tags": null
          },
          "name": "stdout",
          "output_type": "stream",
          "text": [
            "Epoch [236/5000]: Train loss: 1.5173, Valid loss: 1.0569\n"
          ]
        },
        {
          "metadata": {
            "tags": null
          },
          "name": "stderr",
          "output_type": "stream",
          "text": [
            "Epoch [237/5000]: 100%|██████████| 10/10 [00:00<00:00, 64.87it/s, loss=1.66]\n"
          ]
        },
        {
          "metadata": {
            "tags": null
          },
          "name": "stdout",
          "output_type": "stream",
          "text": [
            "Epoch [237/5000]: Train loss: 1.5716, Valid loss: 1.1179\n"
          ]
        },
        {
          "metadata": {
            "tags": null
          },
          "name": "stderr",
          "output_type": "stream",
          "text": [
            "Epoch [238/5000]: 100%|██████████| 10/10 [00:00<00:00, 66.70it/s, loss=1.66]\n"
          ]
        },
        {
          "metadata": {
            "tags": null
          },
          "name": "stdout",
          "output_type": "stream",
          "text": [
            "Epoch [238/5000]: Train loss: 1.5174, Valid loss: 1.1960\n"
          ]
        },
        {
          "metadata": {
            "tags": null
          },
          "name": "stderr",
          "output_type": "stream",
          "text": [
            "Epoch [239/5000]: 100%|██████████| 10/10 [00:00<00:00, 67.07it/s, loss=1.61]\n"
          ]
        },
        {
          "metadata": {
            "tags": null
          },
          "name": "stdout",
          "output_type": "stream",
          "text": [
            "Epoch [239/5000]: Train loss: 1.5845, Valid loss: 1.1812\n"
          ]
        },
        {
          "metadata": {
            "tags": null
          },
          "name": "stderr",
          "output_type": "stream",
          "text": [
            "Epoch [240/5000]: 100%|██████████| 10/10 [00:00<00:00, 68.13it/s, loss=1.54]\n"
          ]
        },
        {
          "metadata": {
            "tags": null
          },
          "name": "stdout",
          "output_type": "stream",
          "text": [
            "Epoch [240/5000]: Train loss: 1.5067, Valid loss: 1.0965\n"
          ]
        },
        {
          "metadata": {
            "tags": null
          },
          "name": "stderr",
          "output_type": "stream",
          "text": [
            "Epoch [241/5000]: 100%|██████████| 10/10 [00:00<00:00, 65.42it/s, loss=1.36]\n"
          ]
        },
        {
          "metadata": {
            "tags": null
          },
          "name": "stdout",
          "output_type": "stream",
          "text": [
            "Epoch [241/5000]: Train loss: 1.5081, Valid loss: 1.0092\n"
          ]
        },
        {
          "metadata": {
            "tags": null
          },
          "name": "stderr",
          "output_type": "stream",
          "text": [
            "Epoch [242/5000]: 100%|██████████| 10/10 [00:00<00:00, 66.86it/s, loss=1.79]\n"
          ]
        },
        {
          "metadata": {
            "tags": null
          },
          "name": "stdout",
          "output_type": "stream",
          "text": [
            "Epoch [242/5000]: Train loss: 1.5511, Valid loss: 1.0544\n"
          ]
        },
        {
          "metadata": {
            "tags": null
          },
          "name": "stderr",
          "output_type": "stream",
          "text": [
            "Epoch [243/5000]: 100%|██████████| 10/10 [00:00<00:00, 69.57it/s, loss=1.68]\n"
          ]
        },
        {
          "metadata": {
            "tags": null
          },
          "name": "stdout",
          "output_type": "stream",
          "text": [
            "Epoch [243/5000]: Train loss: 1.4969, Valid loss: 1.0115\n"
          ]
        },
        {
          "metadata": {
            "tags": null
          },
          "name": "stderr",
          "output_type": "stream",
          "text": [
            "Epoch [244/5000]: 100%|██████████| 10/10 [00:00<00:00, 67.39it/s, loss=1.31]\n"
          ]
        },
        {
          "metadata": {
            "tags": null
          },
          "name": "stdout",
          "output_type": "stream",
          "text": [
            "Epoch [244/5000]: Train loss: 1.5083, Valid loss: 1.0833\n"
          ]
        },
        {
          "metadata": {
            "tags": null
          },
          "name": "stderr",
          "output_type": "stream",
          "text": [
            "Epoch [245/5000]: 100%|██████████| 10/10 [00:00<00:00, 72.60it/s, loss=1.59]\n"
          ]
        },
        {
          "metadata": {
            "tags": null
          },
          "name": "stdout",
          "output_type": "stream",
          "text": [
            "Epoch [245/5000]: Train loss: 1.5143, Valid loss: 1.0756\n"
          ]
        },
        {
          "metadata": {
            "tags": null
          },
          "name": "stderr",
          "output_type": "stream",
          "text": [
            "Epoch [246/5000]: 100%|██████████| 10/10 [00:00<00:00, 26.72it/s, loss=1.55]\n"
          ]
        },
        {
          "metadata": {
            "tags": null
          },
          "name": "stdout",
          "output_type": "stream",
          "text": [
            "Epoch [246/5000]: Train loss: 1.4942, Valid loss: 1.0450\n"
          ]
        },
        {
          "metadata": {
            "tags": null
          },
          "name": "stderr",
          "output_type": "stream",
          "text": [
            "Epoch [247/5000]: 100%|██████████| 10/10 [00:00<00:00, 63.48it/s, loss=1.21]\n"
          ]
        },
        {
          "metadata": {
            "tags": null
          },
          "name": "stdout",
          "output_type": "stream",
          "text": [
            "Epoch [247/5000]: Train loss: 1.4961, Valid loss: 1.0352\n"
          ]
        },
        {
          "metadata": {
            "tags": null
          },
          "name": "stderr",
          "output_type": "stream",
          "text": [
            "Epoch [248/5000]: 100%|██████████| 10/10 [00:00<00:00, 70.84it/s, loss=1.46]\n"
          ]
        },
        {
          "metadata": {
            "tags": null
          },
          "name": "stdout",
          "output_type": "stream",
          "text": [
            "Epoch [248/5000]: Train loss: 1.5080, Valid loss: 1.0598\n"
          ]
        },
        {
          "metadata": {
            "tags": null
          },
          "name": "stderr",
          "output_type": "stream",
          "text": [
            "Epoch [249/5000]: 100%|██████████| 10/10 [00:00<00:00, 67.46it/s, loss=1.49]\n"
          ]
        },
        {
          "metadata": {
            "tags": null
          },
          "name": "stdout",
          "output_type": "stream",
          "text": [
            "Epoch [249/5000]: Train loss: 1.5245, Valid loss: 1.0687\n"
          ]
        },
        {
          "metadata": {
            "tags": null
          },
          "name": "stderr",
          "output_type": "stream",
          "text": [
            "Epoch [250/5000]: 100%|██████████| 10/10 [00:00<00:00, 66.00it/s, loss=1.48]\n"
          ]
        },
        {
          "metadata": {
            "tags": null
          },
          "name": "stdout",
          "output_type": "stream",
          "text": [
            "Epoch [250/5000]: Train loss: 1.5097, Valid loss: 1.1218\n"
          ]
        },
        {
          "metadata": {
            "tags": null
          },
          "name": "stderr",
          "output_type": "stream",
          "text": [
            "Epoch [251/5000]: 100%|██████████| 10/10 [00:00<00:00, 59.57it/s, loss=1.51]\n"
          ]
        },
        {
          "metadata": {
            "tags": null
          },
          "name": "stdout",
          "output_type": "stream",
          "text": [
            "Epoch [251/5000]: Train loss: 1.5365, Valid loss: 1.0341\n"
          ]
        },
        {
          "metadata": {
            "tags": null
          },
          "name": "stderr",
          "output_type": "stream",
          "text": [
            "Epoch [252/5000]: 100%|██████████| 10/10 [00:00<00:00, 63.30it/s, loss=1.48]\n"
          ]
        },
        {
          "metadata": {
            "tags": null
          },
          "name": "stdout",
          "output_type": "stream",
          "text": [
            "Epoch [252/5000]: Train loss: 1.4911, Valid loss: 1.1297\n"
          ]
        },
        {
          "metadata": {
            "tags": null
          },
          "name": "stderr",
          "output_type": "stream",
          "text": [
            "Epoch [253/5000]: 100%|██████████| 10/10 [00:00<00:00, 53.40it/s, loss=1.5]\n"
          ]
        },
        {
          "metadata": {
            "tags": null
          },
          "name": "stdout",
          "output_type": "stream",
          "text": [
            "Epoch [253/5000]: Train loss: 1.4983, Valid loss: 1.0403\n"
          ]
        },
        {
          "metadata": {
            "tags": null
          },
          "name": "stderr",
          "output_type": "stream",
          "text": [
            "Epoch [254/5000]: 100%|██████████| 10/10 [00:00<00:00, 63.43it/s, loss=1.5]\n"
          ]
        },
        {
          "metadata": {
            "tags": null
          },
          "name": "stdout",
          "output_type": "stream",
          "text": [
            "Epoch [254/5000]: Train loss: 1.5187, Valid loss: 1.0414\n"
          ]
        },
        {
          "metadata": {
            "tags": null
          },
          "name": "stderr",
          "output_type": "stream",
          "text": [
            "Epoch [255/5000]: 100%|██████████| 10/10 [00:00<00:00, 60.08it/s, loss=1.37]\n"
          ]
        },
        {
          "metadata": {
            "tags": null
          },
          "name": "stdout",
          "output_type": "stream",
          "text": [
            "Epoch [255/5000]: Train loss: 1.5000, Valid loss: 1.1163\n"
          ]
        },
        {
          "metadata": {
            "tags": null
          },
          "name": "stderr",
          "output_type": "stream",
          "text": [
            "Epoch [256/5000]: 100%|██████████| 10/10 [00:00<00:00, 46.45it/s, loss=1.43]\n"
          ]
        },
        {
          "metadata": {
            "tags": null
          },
          "name": "stdout",
          "output_type": "stream",
          "text": [
            "Epoch [256/5000]: Train loss: 1.5501, Valid loss: 1.1808\n"
          ]
        },
        {
          "metadata": {
            "tags": null
          },
          "name": "stderr",
          "output_type": "stream",
          "text": [
            "Epoch [257/5000]: 100%|██████████| 10/10 [00:00<00:00, 62.12it/s, loss=1.46]\n"
          ]
        },
        {
          "metadata": {
            "tags": null
          },
          "name": "stdout",
          "output_type": "stream",
          "text": [
            "Epoch [257/5000]: Train loss: 1.5018, Valid loss: 1.0022\n"
          ]
        },
        {
          "metadata": {
            "tags": null
          },
          "name": "stderr",
          "output_type": "stream",
          "text": [
            "Epoch [258/5000]: 100%|██████████| 10/10 [00:00<00:00, 60.90it/s, loss=1.41]\n"
          ]
        },
        {
          "metadata": {
            "tags": null
          },
          "name": "stdout",
          "output_type": "stream",
          "text": [
            "Epoch [258/5000]: Train loss: 1.5188, Valid loss: 1.0178\n"
          ]
        },
        {
          "metadata": {
            "tags": null
          },
          "name": "stderr",
          "output_type": "stream",
          "text": [
            "Epoch [259/5000]: 100%|██████████| 10/10 [00:00<00:00, 60.73it/s, loss=1.86]\n"
          ]
        },
        {
          "metadata": {
            "tags": null
          },
          "name": "stdout",
          "output_type": "stream",
          "text": [
            "Epoch [259/5000]: Train loss: 1.5434, Valid loss: 1.0111\n"
          ]
        },
        {
          "metadata": {
            "tags": null
          },
          "name": "stderr",
          "output_type": "stream",
          "text": [
            "Epoch [260/5000]: 100%|██████████| 10/10 [00:00<00:00, 52.15it/s, loss=1.65]\n"
          ]
        },
        {
          "metadata": {
            "tags": null
          },
          "name": "stdout",
          "output_type": "stream",
          "text": [
            "Epoch [260/5000]: Train loss: 1.5057, Valid loss: 1.1635\n"
          ]
        },
        {
          "metadata": {
            "tags": null
          },
          "name": "stderr",
          "output_type": "stream",
          "text": [
            "Epoch [261/5000]: 100%|██████████| 10/10 [00:00<00:00, 64.32it/s, loss=1.39]\n"
          ]
        },
        {
          "metadata": {
            "tags": null
          },
          "name": "stdout",
          "output_type": "stream",
          "text": [
            "Epoch [261/5000]: Train loss: 1.5282, Valid loss: 1.1033\n"
          ]
        },
        {
          "metadata": {
            "tags": null
          },
          "name": "stderr",
          "output_type": "stream",
          "text": [
            "Epoch [262/5000]: 100%|██████████| 10/10 [00:00<00:00, 46.67it/s, loss=1.53]\n"
          ]
        },
        {
          "metadata": {
            "tags": null
          },
          "name": "stdout",
          "output_type": "stream",
          "text": [
            "Epoch [262/5000]: Train loss: 1.5095, Valid loss: 1.0973\n"
          ]
        },
        {
          "metadata": {
            "tags": null
          },
          "name": "stderr",
          "output_type": "stream",
          "text": [
            "Epoch [263/5000]: 100%|██████████| 10/10 [00:00<00:00, 55.05it/s, loss=1.45]\n"
          ]
        },
        {
          "metadata": {
            "tags": null
          },
          "name": "stdout",
          "output_type": "stream",
          "text": [
            "Epoch [263/5000]: Train loss: 1.5359, Valid loss: 1.0488\n"
          ]
        },
        {
          "metadata": {
            "tags": null
          },
          "name": "stderr",
          "output_type": "stream",
          "text": [
            "Epoch [264/5000]: 100%|██████████| 10/10 [00:00<00:00, 61.73it/s, loss=1.38]\n"
          ]
        },
        {
          "metadata": {
            "tags": null
          },
          "name": "stdout",
          "output_type": "stream",
          "text": [
            "Epoch [264/5000]: Train loss: 1.5368, Valid loss: 1.0443\n"
          ]
        },
        {
          "metadata": {
            "tags": null
          },
          "name": "stderr",
          "output_type": "stream",
          "text": [
            "Epoch [265/5000]: 100%|██████████| 10/10 [00:00<00:00, 51.47it/s, loss=1.57]\n"
          ]
        },
        {
          "metadata": {
            "tags": null
          },
          "name": "stdout",
          "output_type": "stream",
          "text": [
            "Epoch [265/5000]: Train loss: 1.5399, Valid loss: 1.0900\n"
          ]
        },
        {
          "metadata": {
            "tags": null
          },
          "name": "stderr",
          "output_type": "stream",
          "text": [
            "Epoch [266/5000]: 100%|██████████| 10/10 [00:00<00:00, 52.84it/s, loss=1.4]\n"
          ]
        },
        {
          "metadata": {
            "tags": null
          },
          "name": "stdout",
          "output_type": "stream",
          "text": [
            "Epoch [266/5000]: Train loss: 1.5292, Valid loss: 1.0655\n"
          ]
        },
        {
          "metadata": {
            "tags": null
          },
          "name": "stderr",
          "output_type": "stream",
          "text": [
            "Epoch [267/5000]: 100%|██████████| 10/10 [00:00<00:00, 53.74it/s, loss=1.59]\n"
          ]
        },
        {
          "metadata": {
            "tags": null
          },
          "name": "stdout",
          "output_type": "stream",
          "text": [
            "Epoch [267/5000]: Train loss: 1.5129, Valid loss: 1.1435\n"
          ]
        },
        {
          "metadata": {
            "tags": null
          },
          "name": "stderr",
          "output_type": "stream",
          "text": [
            "Epoch [268/5000]: 100%|██████████| 10/10 [00:00<00:00, 56.88it/s, loss=1.64]\n"
          ]
        },
        {
          "metadata": {
            "tags": null
          },
          "name": "stdout",
          "output_type": "stream",
          "text": [
            "Epoch [268/5000]: Train loss: 1.5263, Valid loss: 1.0869\n"
          ]
        },
        {
          "metadata": {
            "tags": null
          },
          "name": "stderr",
          "output_type": "stream",
          "text": [
            "Epoch [269/5000]: 100%|██████████| 10/10 [00:00<00:00, 64.90it/s, loss=1.67]\n"
          ]
        },
        {
          "metadata": {
            "tags": null
          },
          "name": "stdout",
          "output_type": "stream",
          "text": [
            "Epoch [269/5000]: Train loss: 1.5528, Valid loss: 1.0627\n"
          ]
        },
        {
          "metadata": {
            "tags": null
          },
          "name": "stderr",
          "output_type": "stream",
          "text": [
            "Epoch [270/5000]: 100%|██████████| 10/10 [00:00<00:00, 53.06it/s, loss=1.53]\n"
          ]
        },
        {
          "metadata": {
            "tags": null
          },
          "name": "stdout",
          "output_type": "stream",
          "text": [
            "Epoch [270/5000]: Train loss: 1.5421, Valid loss: 1.0606\n"
          ]
        },
        {
          "metadata": {
            "tags": null
          },
          "name": "stderr",
          "output_type": "stream",
          "text": [
            "Epoch [271/5000]: 100%|██████████| 10/10 [00:00<00:00, 23.88it/s, loss=1.68]\n"
          ]
        },
        {
          "metadata": {
            "tags": null
          },
          "name": "stdout",
          "output_type": "stream",
          "text": [
            "Epoch [271/5000]: Train loss: 1.5126, Valid loss: 1.0341\n"
          ]
        },
        {
          "metadata": {
            "tags": null
          },
          "name": "stderr",
          "output_type": "stream",
          "text": [
            "Epoch [272/5000]: 100%|██████████| 10/10 [00:00<00:00, 63.42it/s, loss=1.59]\n"
          ]
        },
        {
          "metadata": {
            "tags": null
          },
          "name": "stdout",
          "output_type": "stream",
          "text": [
            "Epoch [272/5000]: Train loss: 1.5383, Valid loss: 1.0696\n"
          ]
        },
        {
          "metadata": {
            "tags": null
          },
          "name": "stderr",
          "output_type": "stream",
          "text": [
            "Epoch [273/5000]: 100%|██████████| 10/10 [00:00<00:00, 67.74it/s, loss=1.46]\n"
          ]
        },
        {
          "metadata": {
            "tags": null
          },
          "name": "stdout",
          "output_type": "stream",
          "text": [
            "Epoch [273/5000]: Train loss: 1.5588, Valid loss: 1.0683\n"
          ]
        },
        {
          "metadata": {
            "tags": null
          },
          "name": "stderr",
          "output_type": "stream",
          "text": [
            "Epoch [274/5000]: 100%|██████████| 10/10 [00:00<00:00, 51.76it/s, loss=1.46]\n"
          ]
        },
        {
          "metadata": {
            "tags": null
          },
          "name": "stdout",
          "output_type": "stream",
          "text": [
            "Epoch [274/5000]: Train loss: 1.4848, Valid loss: 1.0249\n"
          ]
        },
        {
          "metadata": {
            "tags": null
          },
          "name": "stderr",
          "output_type": "stream",
          "text": [
            "Epoch [275/5000]: 100%|██████████| 10/10 [00:00<00:00, 62.80it/s, loss=1.44]\n"
          ]
        },
        {
          "metadata": {
            "tags": null
          },
          "name": "stdout",
          "output_type": "stream",
          "text": [
            "Epoch [275/5000]: Train loss: 1.5603, Valid loss: 1.1423\n"
          ]
        },
        {
          "metadata": {
            "tags": null
          },
          "name": "stderr",
          "output_type": "stream",
          "text": [
            "Epoch [276/5000]: 100%|██████████| 10/10 [00:00<00:00, 63.73it/s, loss=1.43]\n"
          ]
        },
        {
          "metadata": {
            "tags": null
          },
          "name": "stdout",
          "output_type": "stream",
          "text": [
            "Epoch [276/5000]: Train loss: 1.5239, Valid loss: 1.0771\n"
          ]
        },
        {
          "metadata": {
            "tags": null
          },
          "name": "stderr",
          "output_type": "stream",
          "text": [
            "Epoch [277/5000]: 100%|██████████| 10/10 [00:00<00:00, 61.41it/s, loss=1.59]\n"
          ]
        },
        {
          "metadata": {
            "tags": null
          },
          "name": "stdout",
          "output_type": "stream",
          "text": [
            "Epoch [277/5000]: Train loss: 1.5294, Valid loss: 1.1142\n"
          ]
        },
        {
          "metadata": {
            "tags": null
          },
          "name": "stderr",
          "output_type": "stream",
          "text": [
            "Epoch [278/5000]: 100%|██████████| 10/10 [00:00<00:00, 60.29it/s, loss=1.43]\n"
          ]
        },
        {
          "metadata": {
            "tags": null
          },
          "name": "stdout",
          "output_type": "stream",
          "text": [
            "Epoch [278/5000]: Train loss: 1.5144, Valid loss: 1.0758\n"
          ]
        },
        {
          "metadata": {
            "tags": null
          },
          "name": "stderr",
          "output_type": "stream",
          "text": [
            "Epoch [279/5000]: 100%|██████████| 10/10 [00:00<00:00, 65.22it/s, loss=1.49]\n"
          ]
        },
        {
          "metadata": {
            "tags": null
          },
          "name": "stdout",
          "output_type": "stream",
          "text": [
            "Epoch [279/5000]: Train loss: 1.5156, Valid loss: 1.0460\n"
          ]
        },
        {
          "metadata": {
            "tags": null
          },
          "name": "stderr",
          "output_type": "stream",
          "text": [
            "Epoch [280/5000]: 100%|██████████| 10/10 [00:00<00:00, 66.60it/s, loss=1.46]\n"
          ]
        },
        {
          "metadata": {
            "tags": null
          },
          "name": "stdout",
          "output_type": "stream",
          "text": [
            "Epoch [280/5000]: Train loss: 1.5236, Valid loss: 1.2437\n"
          ]
        },
        {
          "metadata": {
            "tags": null
          },
          "name": "stderr",
          "output_type": "stream",
          "text": [
            "Epoch [281/5000]: 100%|██████████| 10/10 [00:00<00:00, 59.31it/s, loss=1.45]\n"
          ]
        },
        {
          "metadata": {
            "tags": null
          },
          "name": "stdout",
          "output_type": "stream",
          "text": [
            "Epoch [281/5000]: Train loss: 1.5099, Valid loss: 1.0790\n"
          ]
        },
        {
          "metadata": {
            "tags": null
          },
          "name": "stderr",
          "output_type": "stream",
          "text": [
            "Epoch [282/5000]: 100%|██████████| 10/10 [00:00<00:00, 64.67it/s, loss=1.58]\n"
          ]
        },
        {
          "metadata": {
            "tags": null
          },
          "name": "stdout",
          "output_type": "stream",
          "text": [
            "Epoch [282/5000]: Train loss: 1.5151, Valid loss: 1.1117\n"
          ]
        },
        {
          "metadata": {
            "tags": null
          },
          "name": "stderr",
          "output_type": "stream",
          "text": [
            "Epoch [283/5000]: 100%|██████████| 10/10 [00:00<00:00, 60.61it/s, loss=1.31]\n"
          ]
        },
        {
          "metadata": {
            "tags": null
          },
          "name": "stdout",
          "output_type": "stream",
          "text": [
            "Epoch [283/5000]: Train loss: 1.4694, Valid loss: 1.0474\n"
          ]
        },
        {
          "metadata": {
            "tags": null
          },
          "name": "stderr",
          "output_type": "stream",
          "text": [
            "Epoch [284/5000]: 100%|██████████| 10/10 [00:00<00:00, 61.58it/s, loss=1.35]\n"
          ]
        },
        {
          "metadata": {
            "tags": null
          },
          "name": "stdout",
          "output_type": "stream",
          "text": [
            "Epoch [284/5000]: Train loss: 1.4706, Valid loss: 0.9991\n"
          ]
        },
        {
          "metadata": {
            "tags": null
          },
          "name": "stderr",
          "output_type": "stream",
          "text": [
            "Epoch [285/5000]: 100%|██████████| 10/10 [00:00<00:00, 63.87it/s, loss=1.65]\n"
          ]
        },
        {
          "metadata": {
            "tags": null
          },
          "name": "stdout",
          "output_type": "stream",
          "text": [
            "Epoch [285/5000]: Train loss: 1.5298, Valid loss: 1.1311\n"
          ]
        },
        {
          "metadata": {
            "tags": null
          },
          "name": "stderr",
          "output_type": "stream",
          "text": [
            "Epoch [286/5000]: 100%|██████████| 10/10 [00:00<00:00, 64.53it/s, loss=1.64]\n"
          ]
        },
        {
          "metadata": {
            "tags": null
          },
          "name": "stdout",
          "output_type": "stream",
          "text": [
            "Epoch [286/5000]: Train loss: 1.4973, Valid loss: 1.1079\n"
          ]
        },
        {
          "metadata": {
            "tags": null
          },
          "name": "stderr",
          "output_type": "stream",
          "text": [
            "Epoch [287/5000]: 100%|██████████| 10/10 [00:00<00:00, 67.57it/s, loss=1.54]\n"
          ]
        },
        {
          "metadata": {
            "tags": null
          },
          "name": "stdout",
          "output_type": "stream",
          "text": [
            "Epoch [287/5000]: Train loss: 1.5223, Valid loss: 1.1290\n"
          ]
        },
        {
          "metadata": {
            "tags": null
          },
          "name": "stderr",
          "output_type": "stream",
          "text": [
            "Epoch [288/5000]: 100%|██████████| 10/10 [00:00<00:00, 70.31it/s, loss=1.47]\n"
          ]
        },
        {
          "metadata": {
            "tags": null
          },
          "name": "stdout",
          "output_type": "stream",
          "text": [
            "Epoch [288/5000]: Train loss: 1.5099, Valid loss: 1.1136\n"
          ]
        },
        {
          "metadata": {
            "tags": null
          },
          "name": "stderr",
          "output_type": "stream",
          "text": [
            "Epoch [289/5000]: 100%|██████████| 10/10 [00:00<00:00, 65.00it/s, loss=1.29]\n"
          ]
        },
        {
          "metadata": {
            "tags": null
          },
          "name": "stdout",
          "output_type": "stream",
          "text": [
            "Epoch [289/5000]: Train loss: 1.4736, Valid loss: 1.0657\n"
          ]
        },
        {
          "metadata": {
            "tags": null
          },
          "name": "stderr",
          "output_type": "stream",
          "text": [
            "Epoch [290/5000]: 100%|██████████| 10/10 [00:00<00:00, 64.41it/s, loss=1.74]\n"
          ]
        },
        {
          "metadata": {
            "tags": null
          },
          "name": "stdout",
          "output_type": "stream",
          "text": [
            "Epoch [290/5000]: Train loss: 1.5150, Valid loss: 1.0473\n"
          ]
        },
        {
          "metadata": {
            "tags": null
          },
          "name": "stderr",
          "output_type": "stream",
          "text": [
            "Epoch [291/5000]: 100%|██████████| 10/10 [00:00<00:00, 60.13it/s, loss=1.7]\n"
          ]
        },
        {
          "metadata": {
            "tags": null
          },
          "name": "stdout",
          "output_type": "stream",
          "text": [
            "Epoch [291/5000]: Train loss: 1.5093, Valid loss: 0.9746\n",
            "Saving model with loss 0.975...\n"
          ]
        },
        {
          "metadata": {
            "tags": null
          },
          "name": "stderr",
          "output_type": "stream",
          "text": [
            "Epoch [292/5000]: 100%|██████████| 10/10 [00:00<00:00, 63.60it/s, loss=1.57]\n"
          ]
        },
        {
          "metadata": {
            "tags": null
          },
          "name": "stdout",
          "output_type": "stream",
          "text": [
            "Epoch [292/5000]: Train loss: 1.5606, Valid loss: 1.1147\n"
          ]
        },
        {
          "metadata": {
            "tags": null
          },
          "name": "stderr",
          "output_type": "stream",
          "text": [
            "Epoch [293/5000]: 100%|██████████| 10/10 [00:00<00:00, 62.82it/s, loss=1.64]\n"
          ]
        },
        {
          "metadata": {
            "tags": null
          },
          "name": "stdout",
          "output_type": "stream",
          "text": [
            "Epoch [293/5000]: Train loss: 1.5022, Valid loss: 1.0939\n"
          ]
        },
        {
          "metadata": {
            "tags": null
          },
          "name": "stderr",
          "output_type": "stream",
          "text": [
            "Epoch [294/5000]: 100%|██████████| 10/10 [00:00<00:00, 69.29it/s, loss=1.63]\n"
          ]
        },
        {
          "metadata": {
            "tags": null
          },
          "name": "stdout",
          "output_type": "stream",
          "text": [
            "Epoch [294/5000]: Train loss: 1.4958, Valid loss: 1.0627\n"
          ]
        },
        {
          "metadata": {
            "tags": null
          },
          "name": "stderr",
          "output_type": "stream",
          "text": [
            "Epoch [295/5000]: 100%|██████████| 10/10 [00:00<00:00, 26.51it/s, loss=1.42]\n"
          ]
        },
        {
          "metadata": {
            "tags": null
          },
          "name": "stdout",
          "output_type": "stream",
          "text": [
            "Epoch [295/5000]: Train loss: 1.5124, Valid loss: 1.0786\n"
          ]
        },
        {
          "metadata": {
            "tags": null
          },
          "name": "stderr",
          "output_type": "stream",
          "text": [
            "Epoch [296/5000]: 100%|██████████| 10/10 [00:00<00:00, 66.53it/s, loss=1.34]\n"
          ]
        },
        {
          "metadata": {
            "tags": null
          },
          "name": "stdout",
          "output_type": "stream",
          "text": [
            "Epoch [296/5000]: Train loss: 1.5323, Valid loss: 1.1130\n"
          ]
        },
        {
          "metadata": {
            "tags": null
          },
          "name": "stderr",
          "output_type": "stream",
          "text": [
            "Epoch [297/5000]: 100%|██████████| 10/10 [00:00<00:00, 63.27it/s, loss=1.48]\n"
          ]
        },
        {
          "metadata": {
            "tags": null
          },
          "name": "stdout",
          "output_type": "stream",
          "text": [
            "Epoch [297/5000]: Train loss: 1.5027, Valid loss: 1.0668\n"
          ]
        },
        {
          "metadata": {
            "tags": null
          },
          "name": "stderr",
          "output_type": "stream",
          "text": [
            "Epoch [298/5000]: 100%|██████████| 10/10 [00:00<00:00, 58.64it/s, loss=1.53]\n"
          ]
        },
        {
          "metadata": {
            "tags": null
          },
          "name": "stdout",
          "output_type": "stream",
          "text": [
            "Epoch [298/5000]: Train loss: 1.5419, Valid loss: 1.0508\n"
          ]
        },
        {
          "metadata": {
            "tags": null
          },
          "name": "stderr",
          "output_type": "stream",
          "text": [
            "Epoch [299/5000]: 100%|██████████| 10/10 [00:00<00:00, 60.70it/s, loss=1.52]\n"
          ]
        },
        {
          "metadata": {
            "tags": null
          },
          "name": "stdout",
          "output_type": "stream",
          "text": [
            "Epoch [299/5000]: Train loss: 1.5104, Valid loss: 1.0315\n"
          ]
        },
        {
          "metadata": {
            "tags": null
          },
          "name": "stderr",
          "output_type": "stream",
          "text": [
            "Epoch [300/5000]: 100%|██████████| 10/10 [00:00<00:00, 60.42it/s, loss=1.59]\n"
          ]
        },
        {
          "metadata": {
            "tags": null
          },
          "name": "stdout",
          "output_type": "stream",
          "text": [
            "Epoch [300/5000]: Train loss: 1.5121, Valid loss: 1.0462\n"
          ]
        },
        {
          "metadata": {
            "tags": null
          },
          "name": "stderr",
          "output_type": "stream",
          "text": [
            "Epoch [301/5000]: 100%|██████████| 10/10 [00:00<00:00, 62.56it/s, loss=1.49]\n"
          ]
        },
        {
          "metadata": {
            "tags": null
          },
          "name": "stdout",
          "output_type": "stream",
          "text": [
            "Epoch [301/5000]: Train loss: 1.4868, Valid loss: 1.0852\n"
          ]
        },
        {
          "metadata": {
            "tags": null
          },
          "name": "stderr",
          "output_type": "stream",
          "text": [
            "Epoch [302/5000]: 100%|██████████| 10/10 [00:00<00:00, 66.16it/s, loss=1.36]\n"
          ]
        },
        {
          "metadata": {
            "tags": null
          },
          "name": "stdout",
          "output_type": "stream",
          "text": [
            "Epoch [302/5000]: Train loss: 1.5426, Valid loss: 1.1331\n"
          ]
        },
        {
          "metadata": {
            "tags": null
          },
          "name": "stderr",
          "output_type": "stream",
          "text": [
            "Epoch [303/5000]: 100%|██████████| 10/10 [00:00<00:00, 64.11it/s, loss=1.39]\n"
          ]
        },
        {
          "metadata": {
            "tags": null
          },
          "name": "stdout",
          "output_type": "stream",
          "text": [
            "Epoch [303/5000]: Train loss: 1.5356, Valid loss: 1.1163\n"
          ]
        },
        {
          "metadata": {
            "tags": null
          },
          "name": "stderr",
          "output_type": "stream",
          "text": [
            "Epoch [304/5000]: 100%|██████████| 10/10 [00:00<00:00, 62.17it/s, loss=1.37]\n"
          ]
        },
        {
          "metadata": {
            "tags": null
          },
          "name": "stdout",
          "output_type": "stream",
          "text": [
            "Epoch [304/5000]: Train loss: 1.5019, Valid loss: 1.0733\n"
          ]
        },
        {
          "metadata": {
            "tags": null
          },
          "name": "stderr",
          "output_type": "stream",
          "text": [
            "Epoch [305/5000]: 100%|██████████| 10/10 [00:00<00:00, 63.87it/s, loss=1.56]\n"
          ]
        },
        {
          "metadata": {
            "tags": null
          },
          "name": "stdout",
          "output_type": "stream",
          "text": [
            "Epoch [305/5000]: Train loss: 1.5129, Valid loss: 1.0622\n"
          ]
        },
        {
          "metadata": {
            "tags": null
          },
          "name": "stderr",
          "output_type": "stream",
          "text": [
            "Epoch [306/5000]: 100%|██████████| 10/10 [00:00<00:00, 26.92it/s, loss=1.61]\n"
          ]
        },
        {
          "metadata": {
            "tags": null
          },
          "name": "stdout",
          "output_type": "stream",
          "text": [
            "Epoch [306/5000]: Train loss: 1.5231, Valid loss: 1.0682\n"
          ]
        },
        {
          "metadata": {
            "tags": null
          },
          "name": "stderr",
          "output_type": "stream",
          "text": [
            "Epoch [307/5000]: 100%|██████████| 10/10 [00:00<00:00, 66.56it/s, loss=1.41]\n"
          ]
        },
        {
          "metadata": {
            "tags": null
          },
          "name": "stdout",
          "output_type": "stream",
          "text": [
            "Epoch [307/5000]: Train loss: 1.4827, Valid loss: 1.1071\n"
          ]
        },
        {
          "metadata": {
            "tags": null
          },
          "name": "stderr",
          "output_type": "stream",
          "text": [
            "Epoch [308/5000]: 100%|██████████| 10/10 [00:00<00:00, 60.87it/s, loss=1.53]\n"
          ]
        },
        {
          "metadata": {
            "tags": null
          },
          "name": "stdout",
          "output_type": "stream",
          "text": [
            "Epoch [308/5000]: Train loss: 1.5107, Valid loss: 1.0297\n"
          ]
        },
        {
          "metadata": {
            "tags": null
          },
          "name": "stderr",
          "output_type": "stream",
          "text": [
            "Epoch [309/5000]: 100%|██████████| 10/10 [00:00<00:00, 57.33it/s, loss=1.37]\n"
          ]
        },
        {
          "metadata": {
            "tags": null
          },
          "name": "stdout",
          "output_type": "stream",
          "text": [
            "Epoch [309/5000]: Train loss: 1.5130, Valid loss: 1.1752\n"
          ]
        },
        {
          "metadata": {
            "tags": null
          },
          "name": "stderr",
          "output_type": "stream",
          "text": [
            "Epoch [310/5000]: 100%|██████████| 10/10 [00:00<00:00, 60.06it/s, loss=1.47]\n"
          ]
        },
        {
          "metadata": {
            "tags": null
          },
          "name": "stdout",
          "output_type": "stream",
          "text": [
            "Epoch [310/5000]: Train loss: 1.5084, Valid loss: 1.1326\n"
          ]
        },
        {
          "metadata": {
            "tags": null
          },
          "name": "stderr",
          "output_type": "stream",
          "text": [
            "Epoch [311/5000]: 100%|██████████| 10/10 [00:00<00:00, 61.27it/s, loss=1.49]\n"
          ]
        },
        {
          "metadata": {
            "tags": null
          },
          "name": "stdout",
          "output_type": "stream",
          "text": [
            "Epoch [311/5000]: Train loss: 1.5281, Valid loss: 0.9809\n"
          ]
        },
        {
          "metadata": {
            "tags": null
          },
          "name": "stderr",
          "output_type": "stream",
          "text": [
            "Epoch [312/5000]: 100%|██████████| 10/10 [00:00<00:00, 65.36it/s, loss=1.64]\n"
          ]
        },
        {
          "metadata": {
            "tags": null
          },
          "name": "stdout",
          "output_type": "stream",
          "text": [
            "Epoch [312/5000]: Train loss: 1.4864, Valid loss: 1.0388\n"
          ]
        },
        {
          "metadata": {
            "tags": null
          },
          "name": "stderr",
          "output_type": "stream",
          "text": [
            "Epoch [313/5000]: 100%|██████████| 10/10 [00:00<00:00, 57.96it/s, loss=1.42]\n"
          ]
        },
        {
          "metadata": {
            "tags": null
          },
          "name": "stdout",
          "output_type": "stream",
          "text": [
            "Epoch [313/5000]: Train loss: 1.5126, Valid loss: 1.0213\n"
          ]
        },
        {
          "metadata": {
            "tags": null
          },
          "name": "stderr",
          "output_type": "stream",
          "text": [
            "Epoch [314/5000]: 100%|██████████| 10/10 [00:00<00:00, 59.24it/s, loss=1.66]\n"
          ]
        },
        {
          "metadata": {
            "tags": null
          },
          "name": "stdout",
          "output_type": "stream",
          "text": [
            "Epoch [314/5000]: Train loss: 1.5044, Valid loss: 1.0392\n"
          ]
        },
        {
          "metadata": {
            "tags": null
          },
          "name": "stderr",
          "output_type": "stream",
          "text": [
            "Epoch [315/5000]: 100%|██████████| 10/10 [00:00<00:00, 58.54it/s, loss=1.5]\n"
          ]
        },
        {
          "metadata": {
            "tags": null
          },
          "name": "stdout",
          "output_type": "stream",
          "text": [
            "Epoch [315/5000]: Train loss: 1.5180, Valid loss: 1.0419\n"
          ]
        },
        {
          "metadata": {
            "tags": null
          },
          "name": "stderr",
          "output_type": "stream",
          "text": [
            "Epoch [316/5000]: 100%|██████████| 10/10 [00:00<00:00, 64.03it/s, loss=1.65]\n"
          ]
        },
        {
          "metadata": {
            "tags": null
          },
          "name": "stdout",
          "output_type": "stream",
          "text": [
            "Epoch [316/5000]: Train loss: 1.5086, Valid loss: 1.0205\n"
          ]
        },
        {
          "metadata": {
            "tags": null
          },
          "name": "stderr",
          "output_type": "stream",
          "text": [
            "Epoch [317/5000]: 100%|██████████| 10/10 [00:00<00:00, 61.73it/s, loss=1.52]\n"
          ]
        },
        {
          "metadata": {
            "tags": null
          },
          "name": "stdout",
          "output_type": "stream",
          "text": [
            "Epoch [317/5000]: Train loss: 1.4677, Valid loss: 1.0678\n"
          ]
        },
        {
          "metadata": {
            "tags": null
          },
          "name": "stderr",
          "output_type": "stream",
          "text": [
            "Epoch [318/5000]: 100%|██████████| 10/10 [00:00<00:00, 53.67it/s, loss=1.37]\n"
          ]
        },
        {
          "metadata": {
            "tags": null
          },
          "name": "stdout",
          "output_type": "stream",
          "text": [
            "Epoch [318/5000]: Train loss: 1.4529, Valid loss: 1.0168\n"
          ]
        },
        {
          "metadata": {
            "tags": null
          },
          "name": "stderr",
          "output_type": "stream",
          "text": [
            "Epoch [319/5000]: 100%|██████████| 10/10 [00:00<00:00, 61.17it/s, loss=1.61]\n"
          ]
        },
        {
          "metadata": {
            "tags": null
          },
          "name": "stdout",
          "output_type": "stream",
          "text": [
            "Epoch [319/5000]: Train loss: 1.4846, Valid loss: 1.1474\n"
          ]
        },
        {
          "metadata": {
            "tags": null
          },
          "name": "stderr",
          "output_type": "stream",
          "text": [
            "Epoch [320/5000]: 100%|██████████| 10/10 [00:00<00:00, 61.82it/s, loss=1.47]\n"
          ]
        },
        {
          "metadata": {
            "tags": null
          },
          "name": "stdout",
          "output_type": "stream",
          "text": [
            "Epoch [320/5000]: Train loss: 1.4802, Valid loss: 1.0727\n"
          ]
        },
        {
          "metadata": {
            "tags": null
          },
          "name": "stderr",
          "output_type": "stream",
          "text": [
            "Epoch [321/5000]: 100%|██████████| 10/10 [00:00<00:00, 54.18it/s, loss=1.49]\n"
          ]
        },
        {
          "metadata": {
            "tags": null
          },
          "name": "stdout",
          "output_type": "stream",
          "text": [
            "Epoch [321/5000]: Train loss: 1.5247, Valid loss: 1.0508\n"
          ]
        },
        {
          "metadata": {
            "tags": null
          },
          "name": "stderr",
          "output_type": "stream",
          "text": [
            "Epoch [322/5000]: 100%|██████████| 10/10 [00:00<00:00, 51.49it/s, loss=1.54]\n"
          ]
        },
        {
          "metadata": {
            "tags": null
          },
          "name": "stdout",
          "output_type": "stream",
          "text": [
            "Epoch [322/5000]: Train loss: 1.5012, Valid loss: 1.1321\n"
          ]
        },
        {
          "metadata": {
            "tags": null
          },
          "name": "stderr",
          "output_type": "stream",
          "text": [
            "Epoch [323/5000]: 100%|██████████| 10/10 [00:00<00:00, 66.26it/s, loss=1.43]\n"
          ]
        },
        {
          "metadata": {
            "tags": null
          },
          "name": "stdout",
          "output_type": "stream",
          "text": [
            "Epoch [323/5000]: Train loss: 1.4911, Valid loss: 1.0521\n"
          ]
        },
        {
          "metadata": {
            "tags": null
          },
          "name": "stderr",
          "output_type": "stream",
          "text": [
            "Epoch [324/5000]: 100%|██████████| 10/10 [00:00<00:00, 62.46it/s, loss=1.61]\n"
          ]
        },
        {
          "metadata": {
            "tags": null
          },
          "name": "stdout",
          "output_type": "stream",
          "text": [
            "Epoch [324/5000]: Train loss: 1.5265, Valid loss: 1.1139\n"
          ]
        },
        {
          "metadata": {
            "tags": null
          },
          "name": "stderr",
          "output_type": "stream",
          "text": [
            "Epoch [325/5000]: 100%|██████████| 10/10 [00:00<00:00, 64.23it/s, loss=1.25]\n"
          ]
        },
        {
          "metadata": {
            "tags": null
          },
          "name": "stdout",
          "output_type": "stream",
          "text": [
            "Epoch [325/5000]: Train loss: 1.4762, Valid loss: 1.0157\n"
          ]
        },
        {
          "metadata": {
            "tags": null
          },
          "name": "stderr",
          "output_type": "stream",
          "text": [
            "Epoch [326/5000]: 100%|██████████| 10/10 [00:00<00:00, 59.10it/s, loss=1.62]\n"
          ]
        },
        {
          "metadata": {
            "tags": null
          },
          "name": "stdout",
          "output_type": "stream",
          "text": [
            "Epoch [326/5000]: Train loss: 1.5226, Valid loss: 1.0639\n"
          ]
        },
        {
          "metadata": {
            "tags": null
          },
          "name": "stderr",
          "output_type": "stream",
          "text": [
            "Epoch [327/5000]: 100%|██████████| 10/10 [00:00<00:00, 66.94it/s, loss=1.44]\n"
          ]
        },
        {
          "metadata": {
            "tags": null
          },
          "name": "stdout",
          "output_type": "stream",
          "text": [
            "Epoch [327/5000]: Train loss: 1.5325, Valid loss: 1.0596\n"
          ]
        },
        {
          "metadata": {
            "tags": null
          },
          "name": "stderr",
          "output_type": "stream",
          "text": [
            "Epoch [328/5000]: 100%|██████████| 10/10 [00:00<00:00, 67.37it/s, loss=1.47]\n"
          ]
        },
        {
          "metadata": {
            "tags": null
          },
          "name": "stdout",
          "output_type": "stream",
          "text": [
            "Epoch [328/5000]: Train loss: 1.4986, Valid loss: 1.1634\n"
          ]
        },
        {
          "metadata": {
            "tags": null
          },
          "name": "stderr",
          "output_type": "stream",
          "text": [
            "Epoch [329/5000]: 100%|██████████| 10/10 [00:00<00:00, 66.99it/s, loss=1.55]\n"
          ]
        },
        {
          "metadata": {
            "tags": null
          },
          "name": "stdout",
          "output_type": "stream",
          "text": [
            "Epoch [329/5000]: Train loss: 1.4963, Valid loss: 1.0433\n"
          ]
        },
        {
          "metadata": {
            "tags": null
          },
          "name": "stderr",
          "output_type": "stream",
          "text": [
            "Epoch [330/5000]: 100%|██████████| 10/10 [00:00<00:00, 64.86it/s, loss=1.39]\n"
          ]
        },
        {
          "metadata": {
            "tags": null
          },
          "name": "stdout",
          "output_type": "stream",
          "text": [
            "Epoch [330/5000]: Train loss: 1.5005, Valid loss: 1.0468\n"
          ]
        },
        {
          "metadata": {
            "tags": null
          },
          "name": "stderr",
          "output_type": "stream",
          "text": [
            "Epoch [331/5000]: 100%|██████████| 10/10 [00:00<00:00, 21.99it/s, loss=1.64]\n"
          ]
        },
        {
          "metadata": {
            "tags": null
          },
          "name": "stdout",
          "output_type": "stream",
          "text": [
            "Epoch [331/5000]: Train loss: 1.4953, Valid loss: 1.1132\n"
          ]
        },
        {
          "metadata": {
            "tags": null
          },
          "name": "stderr",
          "output_type": "stream",
          "text": [
            "Epoch [332/5000]: 100%|██████████| 10/10 [00:00<00:00, 66.16it/s, loss=1.36]\n"
          ]
        },
        {
          "metadata": {
            "tags": null
          },
          "name": "stdout",
          "output_type": "stream",
          "text": [
            "Epoch [332/5000]: Train loss: 1.4804, Valid loss: 1.0390\n"
          ]
        },
        {
          "metadata": {
            "tags": null
          },
          "name": "stderr",
          "output_type": "stream",
          "text": [
            "Epoch [333/5000]: 100%|██████████| 10/10 [00:00<00:00, 59.37it/s, loss=1.47]\n"
          ]
        },
        {
          "metadata": {
            "tags": null
          },
          "name": "stdout",
          "output_type": "stream",
          "text": [
            "Epoch [333/5000]: Train loss: 1.4771, Valid loss: 1.0976\n"
          ]
        },
        {
          "metadata": {
            "tags": null
          },
          "name": "stderr",
          "output_type": "stream",
          "text": [
            "Epoch [334/5000]: 100%|██████████| 10/10 [00:00<00:00, 65.47it/s, loss=1.56]\n"
          ]
        },
        {
          "metadata": {
            "tags": null
          },
          "name": "stdout",
          "output_type": "stream",
          "text": [
            "Epoch [334/5000]: Train loss: 1.4862, Valid loss: 1.0708\n"
          ]
        },
        {
          "metadata": {
            "tags": null
          },
          "name": "stderr",
          "output_type": "stream",
          "text": [
            "Epoch [335/5000]: 100%|██████████| 10/10 [00:00<00:00, 67.57it/s, loss=1.49]\n"
          ]
        },
        {
          "metadata": {
            "tags": null
          },
          "name": "stdout",
          "output_type": "stream",
          "text": [
            "Epoch [335/5000]: Train loss: 1.5113, Valid loss: 1.0469\n"
          ]
        },
        {
          "metadata": {
            "tags": null
          },
          "name": "stderr",
          "output_type": "stream",
          "text": [
            "Epoch [336/5000]: 100%|██████████| 10/10 [00:00<00:00, 68.16it/s, loss=1.41]\n"
          ]
        },
        {
          "metadata": {
            "tags": null
          },
          "name": "stdout",
          "output_type": "stream",
          "text": [
            "Epoch [336/5000]: Train loss: 1.4662, Valid loss: 1.0209\n"
          ]
        },
        {
          "metadata": {
            "tags": null
          },
          "name": "stderr",
          "output_type": "stream",
          "text": [
            "Epoch [337/5000]: 100%|██████████| 10/10 [00:00<00:00, 64.90it/s, loss=1.5]\n"
          ]
        },
        {
          "metadata": {
            "tags": null
          },
          "name": "stdout",
          "output_type": "stream",
          "text": [
            "Epoch [337/5000]: Train loss: 1.4915, Valid loss: 1.0256\n"
          ]
        },
        {
          "metadata": {
            "tags": null
          },
          "name": "stderr",
          "output_type": "stream",
          "text": [
            "Epoch [338/5000]: 100%|██████████| 10/10 [00:00<00:00, 58.60it/s, loss=1.38]\n"
          ]
        },
        {
          "metadata": {
            "tags": null
          },
          "name": "stdout",
          "output_type": "stream",
          "text": [
            "Epoch [338/5000]: Train loss: 1.5020, Valid loss: 1.0512\n"
          ]
        },
        {
          "metadata": {
            "tags": null
          },
          "name": "stderr",
          "output_type": "stream",
          "text": [
            "Epoch [339/5000]: 100%|██████████| 10/10 [00:00<00:00, 57.59it/s, loss=1.42]\n"
          ]
        },
        {
          "metadata": {
            "tags": null
          },
          "name": "stdout",
          "output_type": "stream",
          "text": [
            "Epoch [339/5000]: Train loss: 1.4859, Valid loss: 1.0424\n"
          ]
        },
        {
          "metadata": {
            "tags": null
          },
          "name": "stderr",
          "output_type": "stream",
          "text": [
            "Epoch [340/5000]: 100%|██████████| 10/10 [00:00<00:00, 62.99it/s, loss=1.58]\n"
          ]
        },
        {
          "metadata": {
            "tags": null
          },
          "name": "stdout",
          "output_type": "stream",
          "text": [
            "Epoch [340/5000]: Train loss: 1.4800, Valid loss: 1.1379\n"
          ]
        },
        {
          "metadata": {
            "tags": null
          },
          "name": "stderr",
          "output_type": "stream",
          "text": [
            "Epoch [341/5000]: 100%|██████████| 10/10 [00:00<00:00, 62.09it/s, loss=1.58]\n"
          ]
        },
        {
          "metadata": {
            "tags": null
          },
          "name": "stdout",
          "output_type": "stream",
          "text": [
            "Epoch [341/5000]: Train loss: 1.5001, Valid loss: 1.1036\n"
          ]
        },
        {
          "metadata": {
            "tags": null
          },
          "name": "stderr",
          "output_type": "stream",
          "text": [
            "Epoch [342/5000]: 100%|██████████| 10/10 [00:00<00:00, 60.82it/s, loss=1.46]\n"
          ]
        },
        {
          "metadata": {
            "tags": null
          },
          "name": "stdout",
          "output_type": "stream",
          "text": [
            "Epoch [342/5000]: Train loss: 1.5047, Valid loss: 1.0296\n"
          ]
        },
        {
          "metadata": {
            "tags": null
          },
          "name": "stderr",
          "output_type": "stream",
          "text": [
            "Epoch [343/5000]: 100%|██████████| 10/10 [00:00<00:00, 63.65it/s, loss=1.4]\n"
          ]
        },
        {
          "metadata": {
            "tags": null
          },
          "name": "stdout",
          "output_type": "stream",
          "text": [
            "Epoch [343/5000]: Train loss: 1.4992, Valid loss: 1.0076\n"
          ]
        },
        {
          "metadata": {
            "tags": null
          },
          "name": "stderr",
          "output_type": "stream",
          "text": [
            "Epoch [344/5000]: 100%|██████████| 10/10 [00:00<00:00, 60.28it/s, loss=1.59]\n"
          ]
        },
        {
          "metadata": {
            "tags": null
          },
          "name": "stdout",
          "output_type": "stream",
          "text": [
            "Epoch [344/5000]: Train loss: 1.5383, Valid loss: 1.0493\n"
          ]
        },
        {
          "metadata": {
            "tags": null
          },
          "name": "stderr",
          "output_type": "stream",
          "text": [
            "Epoch [345/5000]: 100%|██████████| 10/10 [00:00<00:00, 64.79it/s, loss=1.35]\n"
          ]
        },
        {
          "metadata": {
            "tags": null
          },
          "name": "stdout",
          "output_type": "stream",
          "text": [
            "Epoch [345/5000]: Train loss: 1.4970, Valid loss: 1.0642\n"
          ]
        },
        {
          "metadata": {
            "tags": null
          },
          "name": "stderr",
          "output_type": "stream",
          "text": [
            "Epoch [346/5000]: 100%|██████████| 10/10 [00:00<00:00, 61.83it/s, loss=1.41]\n"
          ]
        },
        {
          "metadata": {
            "tags": null
          },
          "name": "stdout",
          "output_type": "stream",
          "text": [
            "Epoch [346/5000]: Train loss: 1.4762, Valid loss: 1.0243\n"
          ]
        },
        {
          "metadata": {
            "tags": null
          },
          "name": "stderr",
          "output_type": "stream",
          "text": [
            "Epoch [347/5000]: 100%|██████████| 10/10 [00:00<00:00, 59.85it/s, loss=1.52]\n"
          ]
        },
        {
          "metadata": {
            "tags": null
          },
          "name": "stdout",
          "output_type": "stream",
          "text": [
            "Epoch [347/5000]: Train loss: 1.5260, Valid loss: 1.0295\n"
          ]
        },
        {
          "metadata": {
            "tags": null
          },
          "name": "stderr",
          "output_type": "stream",
          "text": [
            "Epoch [348/5000]: 100%|██████████| 10/10 [00:00<00:00, 63.08it/s, loss=1.61]\n"
          ]
        },
        {
          "metadata": {
            "tags": null
          },
          "name": "stdout",
          "output_type": "stream",
          "text": [
            "Epoch [348/5000]: Train loss: 1.4971, Valid loss: 1.0136\n"
          ]
        },
        {
          "metadata": {
            "tags": null
          },
          "name": "stderr",
          "output_type": "stream",
          "text": [
            "Epoch [349/5000]: 100%|██████████| 10/10 [00:00<00:00, 57.29it/s, loss=1.62]\n"
          ]
        },
        {
          "metadata": {
            "tags": null
          },
          "name": "stdout",
          "output_type": "stream",
          "text": [
            "Epoch [349/5000]: Train loss: 1.5123, Valid loss: 1.1018\n"
          ]
        },
        {
          "metadata": {
            "tags": null
          },
          "name": "stderr",
          "output_type": "stream",
          "text": [
            "Epoch [350/5000]: 100%|██████████| 10/10 [00:00<00:00, 59.41it/s, loss=1.66]\n"
          ]
        },
        {
          "metadata": {
            "tags": null
          },
          "name": "stdout",
          "output_type": "stream",
          "text": [
            "Epoch [350/5000]: Train loss: 1.5056, Valid loss: 1.0906\n"
          ]
        },
        {
          "metadata": {
            "tags": null
          },
          "name": "stderr",
          "output_type": "stream",
          "text": [
            "Epoch [351/5000]: 100%|██████████| 10/10 [00:00<00:00, 62.11it/s, loss=1.36]\n"
          ]
        },
        {
          "metadata": {
            "tags": null
          },
          "name": "stdout",
          "output_type": "stream",
          "text": [
            "Epoch [351/5000]: Train loss: 1.4545, Valid loss: 1.0973\n"
          ]
        },
        {
          "metadata": {
            "tags": null
          },
          "name": "stderr",
          "output_type": "stream",
          "text": [
            "Epoch [352/5000]: 100%|██████████| 10/10 [00:00<00:00, 50.29it/s, loss=1.55]\n"
          ]
        },
        {
          "metadata": {
            "tags": null
          },
          "name": "stdout",
          "output_type": "stream",
          "text": [
            "Epoch [352/5000]: Train loss: 1.5030, Valid loss: 1.0206\n"
          ]
        },
        {
          "metadata": {
            "tags": null
          },
          "name": "stderr",
          "output_type": "stream",
          "text": [
            "Epoch [353/5000]: 100%|██████████| 10/10 [00:00<00:00, 55.35it/s, loss=1.5]\n"
          ]
        },
        {
          "metadata": {
            "tags": null
          },
          "name": "stdout",
          "output_type": "stream",
          "text": [
            "Epoch [353/5000]: Train loss: 1.4808, Valid loss: 1.0486\n"
          ]
        },
        {
          "metadata": {
            "tags": null
          },
          "name": "stderr",
          "output_type": "stream",
          "text": [
            "Epoch [354/5000]: 100%|██████████| 10/10 [00:00<00:00, 23.99it/s, loss=1.59]\n"
          ]
        },
        {
          "metadata": {
            "tags": null
          },
          "name": "stdout",
          "output_type": "stream",
          "text": [
            "Epoch [354/5000]: Train loss: 1.4777, Valid loss: 1.0361\n"
          ]
        },
        {
          "metadata": {
            "tags": null
          },
          "name": "stderr",
          "output_type": "stream",
          "text": [
            "Epoch [355/5000]: 100%|██████████| 10/10 [00:00<00:00, 60.01it/s, loss=1.51]\n"
          ]
        },
        {
          "metadata": {
            "tags": null
          },
          "name": "stdout",
          "output_type": "stream",
          "text": [
            "Epoch [355/5000]: Train loss: 1.4617, Valid loss: 1.2090\n"
          ]
        },
        {
          "metadata": {
            "tags": null
          },
          "name": "stderr",
          "output_type": "stream",
          "text": [
            "Epoch [356/5000]: 100%|██████████| 10/10 [00:00<00:00, 53.86it/s, loss=1.31]\n"
          ]
        },
        {
          "metadata": {
            "tags": null
          },
          "name": "stdout",
          "output_type": "stream",
          "text": [
            "Epoch [356/5000]: Train loss: 1.4688, Valid loss: 0.9978\n"
          ]
        },
        {
          "metadata": {
            "tags": null
          },
          "name": "stderr",
          "output_type": "stream",
          "text": [
            "Epoch [357/5000]: 100%|██████████| 10/10 [00:00<00:00, 57.34it/s, loss=1.48]\n"
          ]
        },
        {
          "metadata": {
            "tags": null
          },
          "name": "stdout",
          "output_type": "stream",
          "text": [
            "Epoch [357/5000]: Train loss: 1.5090, Valid loss: 1.2308\n"
          ]
        },
        {
          "metadata": {
            "tags": null
          },
          "name": "stderr",
          "output_type": "stream",
          "text": [
            "Epoch [358/5000]: 100%|██████████| 10/10 [00:00<00:00, 65.98it/s, loss=1.91]\n"
          ]
        },
        {
          "metadata": {
            "tags": null
          },
          "name": "stdout",
          "output_type": "stream",
          "text": [
            "Epoch [358/5000]: Train loss: 1.4946, Valid loss: 1.1294\n"
          ]
        },
        {
          "metadata": {
            "tags": null
          },
          "name": "stderr",
          "output_type": "stream",
          "text": [
            "Epoch [359/5000]: 100%|██████████| 10/10 [00:00<00:00, 67.87it/s, loss=1.59]\n"
          ]
        },
        {
          "metadata": {
            "tags": null
          },
          "name": "stdout",
          "output_type": "stream",
          "text": [
            "Epoch [359/5000]: Train loss: 1.5059, Valid loss: 1.1439\n"
          ]
        },
        {
          "metadata": {
            "tags": null
          },
          "name": "stderr",
          "output_type": "stream",
          "text": [
            "Epoch [360/5000]: 100%|██████████| 10/10 [00:00<00:00, 61.88it/s, loss=1.41]\n"
          ]
        },
        {
          "metadata": {
            "tags": null
          },
          "name": "stdout",
          "output_type": "stream",
          "text": [
            "Epoch [360/5000]: Train loss: 1.5057, Valid loss: 1.0849\n"
          ]
        },
        {
          "metadata": {
            "tags": null
          },
          "name": "stderr",
          "output_type": "stream",
          "text": [
            "Epoch [361/5000]: 100%|██████████| 10/10 [00:00<00:00, 65.68it/s, loss=1.54]\n"
          ]
        },
        {
          "metadata": {
            "tags": null
          },
          "name": "stdout",
          "output_type": "stream",
          "text": [
            "Epoch [361/5000]: Train loss: 1.4740, Valid loss: 1.0908\n"
          ]
        },
        {
          "metadata": {
            "tags": null
          },
          "name": "stderr",
          "output_type": "stream",
          "text": [
            "Epoch [362/5000]: 100%|██████████| 10/10 [00:00<00:00, 53.62it/s, loss=1.43]\n"
          ]
        },
        {
          "metadata": {
            "tags": null
          },
          "name": "stdout",
          "output_type": "stream",
          "text": [
            "Epoch [362/5000]: Train loss: 1.4926, Valid loss: 1.0568\n"
          ]
        },
        {
          "metadata": {
            "tags": null
          },
          "name": "stderr",
          "output_type": "stream",
          "text": [
            "Epoch [363/5000]: 100%|██████████| 10/10 [00:00<00:00, 64.29it/s, loss=1.45]\n"
          ]
        },
        {
          "metadata": {
            "tags": null
          },
          "name": "stdout",
          "output_type": "stream",
          "text": [
            "Epoch [363/5000]: Train loss: 1.4914, Valid loss: 1.0917\n"
          ]
        },
        {
          "metadata": {
            "tags": null
          },
          "name": "stderr",
          "output_type": "stream",
          "text": [
            "Epoch [364/5000]: 100%|██████████| 10/10 [00:00<00:00, 61.26it/s, loss=1.55]\n"
          ]
        },
        {
          "metadata": {
            "tags": null
          },
          "name": "stdout",
          "output_type": "stream",
          "text": [
            "Epoch [364/5000]: Train loss: 1.4906, Valid loss: 1.0190\n"
          ]
        },
        {
          "metadata": {
            "tags": null
          },
          "name": "stderr",
          "output_type": "stream",
          "text": [
            "Epoch [365/5000]: 100%|██████████| 10/10 [00:00<00:00, 62.46it/s, loss=1.34]\n"
          ]
        },
        {
          "metadata": {
            "tags": null
          },
          "name": "stdout",
          "output_type": "stream",
          "text": [
            "Epoch [365/5000]: Train loss: 1.4693, Valid loss: 1.0423\n"
          ]
        },
        {
          "metadata": {
            "tags": null
          },
          "name": "stderr",
          "output_type": "stream",
          "text": [
            "Epoch [366/5000]: 100%|██████████| 10/10 [00:00<00:00, 66.91it/s, loss=1.49]\n"
          ]
        },
        {
          "metadata": {
            "tags": null
          },
          "name": "stdout",
          "output_type": "stream",
          "text": [
            "Epoch [366/5000]: Train loss: 1.4823, Valid loss: 1.0548\n"
          ]
        },
        {
          "metadata": {
            "tags": null
          },
          "name": "stderr",
          "output_type": "stream",
          "text": [
            "Epoch [367/5000]: 100%|██████████| 10/10 [00:00<00:00, 24.75it/s, loss=1.56]\n"
          ]
        },
        {
          "metadata": {
            "tags": null
          },
          "name": "stdout",
          "output_type": "stream",
          "text": [
            "Epoch [367/5000]: Train loss: 1.5282, Valid loss: 1.0366\n"
          ]
        },
        {
          "metadata": {
            "tags": null
          },
          "name": "stderr",
          "output_type": "stream",
          "text": [
            "Epoch [368/5000]: 100%|██████████| 10/10 [00:00<00:00, 61.91it/s, loss=1.84]\n"
          ]
        },
        {
          "metadata": {
            "tags": null
          },
          "name": "stdout",
          "output_type": "stream",
          "text": [
            "Epoch [368/5000]: Train loss: 1.5250, Valid loss: 1.0803\n"
          ]
        },
        {
          "metadata": {
            "tags": null
          },
          "name": "stderr",
          "output_type": "stream",
          "text": [
            "Epoch [369/5000]: 100%|██████████| 10/10 [00:00<00:00, 61.49it/s, loss=1.6]\n"
          ]
        },
        {
          "metadata": {
            "tags": null
          },
          "name": "stdout",
          "output_type": "stream",
          "text": [
            "Epoch [369/5000]: Train loss: 1.4773, Valid loss: 1.0928\n"
          ]
        },
        {
          "metadata": {
            "tags": null
          },
          "name": "stderr",
          "output_type": "stream",
          "text": [
            "Epoch [370/5000]: 100%|██████████| 10/10 [00:00<00:00, 67.74it/s, loss=1.48]"
          ]
        },
        {
          "metadata": {
            "tags": null
          },
          "name": "stdout",
          "output_type": "stream",
          "text": [
            "Epoch [370/5000]: Train loss: 1.4635, Valid loss: 1.0504"
          ]
        },
        {
          "metadata": {
            "tags": null
          },
          "name": "stderr",
          "output_type": "stream",
          "text": [
            "\n"
          ]
        },
        {
          "metadata": {
            "tags": null
          },
          "name": "stdout",
          "output_type": "stream",
          "text": [
            "\n"
          ]
        },
        {
          "metadata": {
            "tags": null
          },
          "name": "stderr",
          "output_type": "stream",
          "text": [
            "Epoch [371/5000]: 100%|██████████| 10/10 [00:00<00:00, 64.09it/s, loss=1.43]\n"
          ]
        },
        {
          "metadata": {
            "tags": null
          },
          "name": "stdout",
          "output_type": "stream",
          "text": [
            "Epoch [371/5000]: Train loss: 1.4597, Valid loss: 1.1213\n"
          ]
        },
        {
          "metadata": {
            "tags": null
          },
          "name": "stderr",
          "output_type": "stream",
          "text": [
            "Epoch [372/5000]: 100%|██████████| 10/10 [00:00<00:00, 60.24it/s, loss=1.43]\n"
          ]
        },
        {
          "metadata": {
            "tags": null
          },
          "name": "stdout",
          "output_type": "stream",
          "text": [
            "Epoch [372/5000]: Train loss: 1.4934, Valid loss: 1.1580\n"
          ]
        },
        {
          "metadata": {
            "tags": null
          },
          "name": "stderr",
          "output_type": "stream",
          "text": [
            "Epoch [373/5000]: 100%|██████████| 10/10 [00:00<00:00, 58.38it/s, loss=1.49]\n"
          ]
        },
        {
          "metadata": {
            "tags": null
          },
          "name": "stdout",
          "output_type": "stream",
          "text": [
            "Epoch [373/5000]: Train loss: 1.5027, Valid loss: 1.1013\n"
          ]
        },
        {
          "metadata": {
            "tags": null
          },
          "name": "stderr",
          "output_type": "stream",
          "text": [
            "Epoch [374/5000]: 100%|██████████| 10/10 [00:00<00:00, 66.84it/s, loss=1.37]"
          ]
        },
        {
          "metadata": {
            "tags": null
          },
          "name": "stdout",
          "output_type": "stream",
          "text": [
            "Epoch [374/5000]: Train loss: 1.4693, Valid loss: 1.1993"
          ]
        },
        {
          "metadata": {
            "tags": null
          },
          "name": "stderr",
          "output_type": "stream",
          "text": [
            "\n"
          ]
        },
        {
          "metadata": {
            "tags": null
          },
          "name": "stdout",
          "output_type": "stream",
          "text": [
            "\n"
          ]
        },
        {
          "metadata": {
            "tags": null
          },
          "name": "stderr",
          "output_type": "stream",
          "text": [
            "Epoch [375/5000]: 100%|██████████| 10/10 [00:00<00:00, 65.56it/s, loss=1.35]\n"
          ]
        },
        {
          "metadata": {
            "tags": null
          },
          "name": "stdout",
          "output_type": "stream",
          "text": [
            "Epoch [375/5000]: Train loss: 1.4762, Valid loss: 1.0224\n"
          ]
        },
        {
          "metadata": {
            "tags": null
          },
          "name": "stderr",
          "output_type": "stream",
          "text": [
            "Epoch [376/5000]: 100%|██████████| 10/10 [00:00<00:00, 58.86it/s, loss=1.57]\n"
          ]
        },
        {
          "metadata": {
            "tags": null
          },
          "name": "stdout",
          "output_type": "stream",
          "text": [
            "Epoch [376/5000]: Train loss: 1.4899, Valid loss: 1.1522\n"
          ]
        },
        {
          "metadata": {
            "tags": null
          },
          "name": "stderr",
          "output_type": "stream",
          "text": [
            "Epoch [377/5000]: 100%|██████████| 10/10 [00:00<00:00, 22.95it/s, loss=1.49]\n"
          ]
        },
        {
          "metadata": {
            "tags": null
          },
          "name": "stdout",
          "output_type": "stream",
          "text": [
            "Epoch [377/5000]: Train loss: 1.4585, Valid loss: 1.0287\n"
          ]
        },
        {
          "metadata": {
            "tags": null
          },
          "name": "stderr",
          "output_type": "stream",
          "text": [
            "Epoch [378/5000]: 100%|██████████| 10/10 [00:00<00:00, 62.89it/s, loss=1.46]\n"
          ]
        },
        {
          "metadata": {
            "tags": null
          },
          "name": "stdout",
          "output_type": "stream",
          "text": [
            "Epoch [378/5000]: Train loss: 1.4978, Valid loss: 1.0922\n"
          ]
        },
        {
          "metadata": {
            "tags": null
          },
          "name": "stderr",
          "output_type": "stream",
          "text": [
            "Epoch [379/5000]: 100%|██████████| 10/10 [00:00<00:00, 67.32it/s, loss=1.37]\n"
          ]
        },
        {
          "metadata": {
            "tags": null
          },
          "name": "stdout",
          "output_type": "stream",
          "text": [
            "Epoch [379/5000]: Train loss: 1.4958, Valid loss: 1.1059\n"
          ]
        },
        {
          "metadata": {
            "tags": null
          },
          "name": "stderr",
          "output_type": "stream",
          "text": [
            "Epoch [380/5000]: 100%|██████████| 10/10 [00:00<00:00, 64.08it/s, loss=1.53]\n"
          ]
        },
        {
          "metadata": {
            "tags": null
          },
          "name": "stdout",
          "output_type": "stream",
          "text": [
            "Epoch [380/5000]: Train loss: 1.4883, Valid loss: 1.0438\n"
          ]
        },
        {
          "metadata": {
            "tags": null
          },
          "name": "stderr",
          "output_type": "stream",
          "text": [
            "Epoch [381/5000]: 100%|██████████| 10/10 [00:00<00:00, 65.24it/s, loss=1.48]\n"
          ]
        },
        {
          "metadata": {
            "tags": null
          },
          "name": "stdout",
          "output_type": "stream",
          "text": [
            "Epoch [381/5000]: Train loss: 1.4900, Valid loss: 1.0474\n"
          ]
        },
        {
          "metadata": {
            "tags": null
          },
          "name": "stderr",
          "output_type": "stream",
          "text": [
            "Epoch [382/5000]: 100%|██████████| 10/10 [00:00<00:00, 61.21it/s, loss=1.32]\n"
          ]
        },
        {
          "metadata": {
            "tags": null
          },
          "name": "stdout",
          "output_type": "stream",
          "text": [
            "Epoch [382/5000]: Train loss: 1.4492, Valid loss: 1.1256\n"
          ]
        },
        {
          "metadata": {
            "tags": null
          },
          "name": "stderr",
          "output_type": "stream",
          "text": [
            "Epoch [383/5000]: 100%|██████████| 10/10 [00:00<00:00, 64.85it/s, loss=1.47]\n"
          ]
        },
        {
          "metadata": {
            "tags": null
          },
          "name": "stdout",
          "output_type": "stream",
          "text": [
            "Epoch [383/5000]: Train loss: 1.4829, Valid loss: 1.1530\n"
          ]
        },
        {
          "metadata": {
            "tags": null
          },
          "name": "stderr",
          "output_type": "stream",
          "text": [
            "Epoch [384/5000]: 100%|██████████| 10/10 [00:00<00:00, 63.38it/s, loss=1.54]\n"
          ]
        },
        {
          "metadata": {
            "tags": null
          },
          "name": "stdout",
          "output_type": "stream",
          "text": [
            "Epoch [384/5000]: Train loss: 1.5003, Valid loss: 1.0698\n"
          ]
        },
        {
          "metadata": {
            "tags": null
          },
          "name": "stderr",
          "output_type": "stream",
          "text": [
            "Epoch [385/5000]: 100%|██████████| 10/10 [00:00<00:00, 62.61it/s, loss=1.53]\n"
          ]
        },
        {
          "metadata": {
            "tags": null
          },
          "name": "stdout",
          "output_type": "stream",
          "text": [
            "Epoch [385/5000]: Train loss: 1.4652, Valid loss: 1.0377\n"
          ]
        },
        {
          "metadata": {
            "tags": null
          },
          "name": "stderr",
          "output_type": "stream",
          "text": [
            "Epoch [386/5000]: 100%|██████████| 10/10 [00:00<00:00, 65.54it/s, loss=1.52]\n"
          ]
        },
        {
          "metadata": {
            "tags": null
          },
          "name": "stdout",
          "output_type": "stream",
          "text": [
            "Epoch [386/5000]: Train loss: 1.4610, Valid loss: 1.0583\n"
          ]
        },
        {
          "metadata": {
            "tags": null
          },
          "name": "stderr",
          "output_type": "stream",
          "text": [
            "Epoch [387/5000]: 100%|██████████| 10/10 [00:00<00:00, 65.22it/s, loss=1.51]\n"
          ]
        },
        {
          "metadata": {
            "tags": null
          },
          "name": "stdout",
          "output_type": "stream",
          "text": [
            "Epoch [387/5000]: Train loss: 1.4683, Valid loss: 1.0427\n"
          ]
        },
        {
          "metadata": {
            "tags": null
          },
          "name": "stderr",
          "output_type": "stream",
          "text": [
            "Epoch [388/5000]: 100%|██████████| 10/10 [00:00<00:00, 66.74it/s, loss=1.39]"
          ]
        },
        {
          "metadata": {
            "tags": null
          },
          "name": "stdout",
          "output_type": "stream",
          "text": [
            "Epoch [388/5000]: Train loss: 1.4789, Valid loss: 1.1161"
          ]
        },
        {
          "metadata": {
            "tags": null
          },
          "name": "stderr",
          "output_type": "stream",
          "text": [
            "\n"
          ]
        },
        {
          "metadata": {
            "tags": null
          },
          "name": "stdout",
          "output_type": "stream",
          "text": [
            "\n"
          ]
        },
        {
          "metadata": {
            "tags": null
          },
          "name": "stderr",
          "output_type": "stream",
          "text": [
            "Epoch [389/5000]: 100%|██████████| 10/10 [00:00<00:00, 67.11it/s, loss=1.37]\n"
          ]
        },
        {
          "metadata": {
            "tags": null
          },
          "name": "stdout",
          "output_type": "stream",
          "text": [
            "Epoch [389/5000]: Train loss: 1.4855, Valid loss: 1.0630\n"
          ]
        },
        {
          "metadata": {
            "tags": null
          },
          "name": "stderr",
          "output_type": "stream",
          "text": [
            "Epoch [390/5000]: 100%|██████████| 10/10 [00:00<00:00, 68.32it/s, loss=1.65]\n"
          ]
        },
        {
          "metadata": {
            "tags": null
          },
          "name": "stdout",
          "output_type": "stream",
          "text": [
            "Epoch [390/5000]: Train loss: 1.4903, Valid loss: 1.0435\n"
          ]
        },
        {
          "metadata": {
            "tags": null
          },
          "name": "stderr",
          "output_type": "stream",
          "text": [
            "Epoch [391/5000]: 100%|██████████| 10/10 [00:00<00:00, 54.32it/s, loss=1.48]\n"
          ]
        },
        {
          "metadata": {
            "tags": null
          },
          "name": "stdout",
          "output_type": "stream",
          "text": [
            "Epoch [391/5000]: Train loss: 1.4790, Valid loss: 1.1616\n"
          ]
        },
        {
          "metadata": {
            "tags": null
          },
          "name": "stderr",
          "output_type": "stream",
          "text": [
            "Epoch [392/5000]: 100%|██████████| 10/10 [00:00<00:00, 67.44it/s, loss=1.44]\n"
          ]
        },
        {
          "metadata": {
            "tags": null
          },
          "name": "stdout",
          "output_type": "stream",
          "text": [
            "Epoch [392/5000]: Train loss: 1.5175, Valid loss: 1.0393\n"
          ]
        },
        {
          "metadata": {
            "tags": null
          },
          "name": "stderr",
          "output_type": "stream",
          "text": [
            "Epoch [393/5000]: 100%|██████████| 10/10 [00:00<00:00, 60.90it/s, loss=1.42]\n"
          ]
        },
        {
          "metadata": {
            "tags": null
          },
          "name": "stdout",
          "output_type": "stream",
          "text": [
            "Epoch [393/5000]: Train loss: 1.4463, Valid loss: 1.0269\n"
          ]
        },
        {
          "metadata": {
            "tags": null
          },
          "name": "stderr",
          "output_type": "stream",
          "text": [
            "Epoch [394/5000]: 100%|██████████| 10/10 [00:00<00:00, 65.72it/s, loss=1.52]\n"
          ]
        },
        {
          "metadata": {
            "tags": null
          },
          "name": "stdout",
          "output_type": "stream",
          "text": [
            "Epoch [394/5000]: Train loss: 1.5256, Valid loss: 0.9991\n"
          ]
        },
        {
          "metadata": {
            "tags": null
          },
          "name": "stderr",
          "output_type": "stream",
          "text": [
            "Epoch [395/5000]: 100%|██████████| 10/10 [00:00<00:00, 51.54it/s, loss=1.76]\n"
          ]
        },
        {
          "metadata": {
            "tags": null
          },
          "name": "stdout",
          "output_type": "stream",
          "text": [
            "Epoch [395/5000]: Train loss: 1.4835, Valid loss: 1.0821\n"
          ]
        },
        {
          "metadata": {
            "tags": null
          },
          "name": "stderr",
          "output_type": "stream",
          "text": [
            "Epoch [396/5000]: 100%|██████████| 10/10 [00:00<00:00, 23.93it/s, loss=1.5]\n"
          ]
        },
        {
          "metadata": {
            "tags": null
          },
          "name": "stdout",
          "output_type": "stream",
          "text": [
            "Epoch [396/5000]: Train loss: 1.4986, Valid loss: 1.0306\n"
          ]
        },
        {
          "metadata": {
            "tags": null
          },
          "name": "stderr",
          "output_type": "stream",
          "text": [
            "Epoch [397/5000]: 100%|██████████| 10/10 [00:00<00:00, 67.15it/s, loss=1.42]"
          ]
        },
        {
          "metadata": {
            "tags": null
          },
          "name": "stdout",
          "output_type": "stream",
          "text": [
            "Epoch [397/5000]: Train loss: 1.4396, Valid loss: 1.1315\n"
          ]
        },
        {
          "metadata": {
            "tags": null
          },
          "name": "stderr",
          "output_type": "stream",
          "text": [
            "\n",
            "Epoch [398/5000]: 100%|██████████| 10/10 [00:00<00:00, 65.03it/s, loss=1.46]\n"
          ]
        },
        {
          "metadata": {
            "tags": null
          },
          "name": "stdout",
          "output_type": "stream",
          "text": [
            "Epoch [398/5000]: Train loss: 1.4812, Valid loss: 1.0006\n"
          ]
        },
        {
          "metadata": {
            "tags": null
          },
          "name": "stderr",
          "output_type": "stream",
          "text": [
            "Epoch [399/5000]: 100%|██████████| 10/10 [00:00<00:00, 62.75it/s, loss=1.52]\n"
          ]
        },
        {
          "metadata": {
            "tags": null
          },
          "name": "stdout",
          "output_type": "stream",
          "text": [
            "Epoch [399/5000]: Train loss: 1.4923, Valid loss: 1.1822\n"
          ]
        },
        {
          "metadata": {
            "tags": null
          },
          "name": "stderr",
          "output_type": "stream",
          "text": [
            "Epoch [400/5000]: 100%|██████████| 10/10 [00:00<00:00, 64.17it/s, loss=1.44]\n"
          ]
        },
        {
          "metadata": {
            "tags": null
          },
          "name": "stdout",
          "output_type": "stream",
          "text": [
            "Epoch [400/5000]: Train loss: 1.4960, Valid loss: 1.1896\n"
          ]
        },
        {
          "metadata": {
            "tags": null
          },
          "name": "stderr",
          "output_type": "stream",
          "text": [
            "Epoch [401/5000]: 100%|██████████| 10/10 [00:00<00:00, 67.78it/s, loss=1.55]\n"
          ]
        },
        {
          "metadata": {
            "tags": null
          },
          "name": "stdout",
          "output_type": "stream",
          "text": [
            "Epoch [401/5000]: Train loss: 1.4965, Valid loss: 1.0321\n"
          ]
        },
        {
          "metadata": {
            "tags": null
          },
          "name": "stderr",
          "output_type": "stream",
          "text": [
            "Epoch [402/5000]: 100%|██████████| 10/10 [00:00<00:00, 66.25it/s, loss=1.44]\n"
          ]
        },
        {
          "metadata": {
            "tags": null
          },
          "name": "stdout",
          "output_type": "stream",
          "text": [
            "Epoch [402/5000]: Train loss: 1.4817, Valid loss: 1.0833\n"
          ]
        },
        {
          "metadata": {
            "tags": null
          },
          "name": "stderr",
          "output_type": "stream",
          "text": [
            "Epoch [403/5000]: 100%|██████████| 10/10 [00:00<00:00, 68.02it/s, loss=1.46]\n"
          ]
        },
        {
          "metadata": {
            "tags": null
          },
          "name": "stdout",
          "output_type": "stream",
          "text": [
            "Epoch [403/5000]: Train loss: 1.4502, Valid loss: 0.9902\n"
          ]
        },
        {
          "metadata": {
            "tags": null
          },
          "name": "stderr",
          "output_type": "stream",
          "text": [
            "Epoch [404/5000]: 100%|██████████| 10/10 [00:00<00:00, 62.61it/s, loss=1.52]\n"
          ]
        },
        {
          "metadata": {
            "tags": null
          },
          "name": "stdout",
          "output_type": "stream",
          "text": [
            "Epoch [404/5000]: Train loss: 1.4740, Valid loss: 1.0333\n"
          ]
        },
        {
          "metadata": {
            "tags": null
          },
          "name": "stderr",
          "output_type": "stream",
          "text": [
            "Epoch [405/5000]: 100%|██████████| 10/10 [00:00<00:00, 53.90it/s, loss=1.44]\n"
          ]
        },
        {
          "metadata": {
            "tags": null
          },
          "name": "stdout",
          "output_type": "stream",
          "text": [
            "Epoch [405/5000]: Train loss: 1.5013, Valid loss: 1.0578\n"
          ]
        },
        {
          "metadata": {
            "tags": null
          },
          "name": "stderr",
          "output_type": "stream",
          "text": [
            "Epoch [406/5000]: 100%|██████████| 10/10 [00:00<00:00, 63.19it/s, loss=1.5]\n"
          ]
        },
        {
          "metadata": {
            "tags": null
          },
          "name": "stdout",
          "output_type": "stream",
          "text": [
            "Epoch [406/5000]: Train loss: 1.4628, Valid loss: 1.0415\n"
          ]
        },
        {
          "metadata": {
            "tags": null
          },
          "name": "stderr",
          "output_type": "stream",
          "text": [
            "Epoch [407/5000]: 100%|██████████| 10/10 [00:00<00:00, 63.53it/s, loss=1.34]\n"
          ]
        },
        {
          "metadata": {
            "tags": null
          },
          "name": "stdout",
          "output_type": "stream",
          "text": [
            "Epoch [407/5000]: Train loss: 1.4727, Valid loss: 1.0655\n"
          ]
        },
        {
          "metadata": {
            "tags": null
          },
          "name": "stderr",
          "output_type": "stream",
          "text": [
            "Epoch [408/5000]: 100%|██████████| 10/10 [00:00<00:00, 64.24it/s, loss=1.53]\n"
          ]
        },
        {
          "metadata": {
            "tags": null
          },
          "name": "stdout",
          "output_type": "stream",
          "text": [
            "Epoch [408/5000]: Train loss: 1.4880, Valid loss: 1.0566\n"
          ]
        },
        {
          "metadata": {
            "tags": null
          },
          "name": "stderr",
          "output_type": "stream",
          "text": [
            "Epoch [409/5000]: 100%|██████████| 10/10 [00:00<00:00, 58.30it/s, loss=1.44]\n"
          ]
        },
        {
          "metadata": {
            "tags": null
          },
          "name": "stdout",
          "output_type": "stream",
          "text": [
            "Epoch [409/5000]: Train loss: 1.5227, Valid loss: 1.1387\n"
          ]
        },
        {
          "metadata": {
            "tags": null
          },
          "name": "stderr",
          "output_type": "stream",
          "text": [
            "Epoch [410/5000]: 100%|██████████| 10/10 [00:00<00:00, 63.19it/s, loss=1.25]\n"
          ]
        },
        {
          "metadata": {
            "tags": null
          },
          "name": "stdout",
          "output_type": "stream",
          "text": [
            "Epoch [410/5000]: Train loss: 1.4846, Valid loss: 1.0834\n"
          ]
        },
        {
          "metadata": {
            "tags": null
          },
          "name": "stderr",
          "output_type": "stream",
          "text": [
            "Epoch [411/5000]: 100%|██████████| 10/10 [00:00<00:00, 23.24it/s, loss=1.45]\n"
          ]
        },
        {
          "metadata": {
            "tags": null
          },
          "name": "stdout",
          "output_type": "stream",
          "text": [
            "Epoch [411/5000]: Train loss: 1.4720, Valid loss: 1.0462\n"
          ]
        },
        {
          "metadata": {
            "tags": null
          },
          "name": "stderr",
          "output_type": "stream",
          "text": [
            "Epoch [412/5000]: 100%|██████████| 10/10 [00:00<00:00, 62.57it/s, loss=1.58]\n"
          ]
        },
        {
          "metadata": {
            "tags": null
          },
          "name": "stdout",
          "output_type": "stream",
          "text": [
            "Epoch [412/5000]: Train loss: 1.5029, Valid loss: 1.0069\n"
          ]
        },
        {
          "metadata": {
            "tags": null
          },
          "name": "stderr",
          "output_type": "stream",
          "text": [
            "Epoch [413/5000]: 100%|██████████| 10/10 [00:00<00:00, 54.06it/s, loss=1.38]\n"
          ]
        },
        {
          "metadata": {
            "tags": null
          },
          "name": "stdout",
          "output_type": "stream",
          "text": [
            "Epoch [413/5000]: Train loss: 1.4741, Valid loss: 1.0180\n"
          ]
        },
        {
          "metadata": {
            "tags": null
          },
          "name": "stderr",
          "output_type": "stream",
          "text": [
            "Epoch [414/5000]: 100%|██████████| 10/10 [00:00<00:00, 60.75it/s, loss=1.57]\n"
          ]
        },
        {
          "metadata": {
            "tags": null
          },
          "name": "stdout",
          "output_type": "stream",
          "text": [
            "Epoch [414/5000]: Train loss: 1.4838, Valid loss: 1.1131\n"
          ]
        },
        {
          "metadata": {
            "tags": null
          },
          "name": "stderr",
          "output_type": "stream",
          "text": [
            "Epoch [415/5000]: 100%|██████████| 10/10 [00:00<00:00, 63.39it/s, loss=1.55]\n"
          ]
        },
        {
          "metadata": {
            "tags": null
          },
          "name": "stdout",
          "output_type": "stream",
          "text": [
            "Epoch [415/5000]: Train loss: 1.4815, Valid loss: 1.0439\n"
          ]
        },
        {
          "metadata": {
            "tags": null
          },
          "name": "stderr",
          "output_type": "stream",
          "text": [
            "Epoch [416/5000]: 100%|██████████| 10/10 [00:00<00:00, 63.47it/s, loss=1.4]\n"
          ]
        },
        {
          "metadata": {
            "tags": null
          },
          "name": "stdout",
          "output_type": "stream",
          "text": [
            "Epoch [416/5000]: Train loss: 1.4607, Valid loss: 1.0113\n"
          ]
        },
        {
          "metadata": {
            "tags": null
          },
          "name": "stderr",
          "output_type": "stream",
          "text": [
            "Epoch [417/5000]: 100%|██████████| 10/10 [00:00<00:00, 60.94it/s, loss=1.48]\n"
          ]
        },
        {
          "metadata": {
            "tags": null
          },
          "name": "stdout",
          "output_type": "stream",
          "text": [
            "Epoch [417/5000]: Train loss: 1.4295, Valid loss: 1.0570\n"
          ]
        },
        {
          "metadata": {
            "tags": null
          },
          "name": "stderr",
          "output_type": "stream",
          "text": [
            "Epoch [418/5000]: 100%|██████████| 10/10 [00:00<00:00, 55.34it/s, loss=1.5]\n"
          ]
        },
        {
          "metadata": {
            "tags": null
          },
          "name": "stdout",
          "output_type": "stream",
          "text": [
            "Epoch [418/5000]: Train loss: 1.4541, Valid loss: 0.9873\n"
          ]
        },
        {
          "metadata": {
            "tags": null
          },
          "name": "stderr",
          "output_type": "stream",
          "text": [
            "Epoch [419/5000]: 100%|██████████| 10/10 [00:00<00:00, 48.62it/s, loss=1.66]\n"
          ]
        },
        {
          "metadata": {
            "tags": null
          },
          "name": "stdout",
          "output_type": "stream",
          "text": [
            "Epoch [419/5000]: Train loss: 1.5012, Valid loss: 1.0586\n"
          ]
        },
        {
          "metadata": {
            "tags": null
          },
          "name": "stderr",
          "output_type": "stream",
          "text": [
            "Epoch [420/5000]: 100%|██████████| 10/10 [00:00<00:00, 33.90it/s, loss=1.3]\n"
          ]
        },
        {
          "metadata": {
            "tags": null
          },
          "name": "stdout",
          "output_type": "stream",
          "text": [
            "Epoch [420/5000]: Train loss: 1.4306, Valid loss: 1.0459\n"
          ]
        },
        {
          "metadata": {
            "tags": null
          },
          "name": "stderr",
          "output_type": "stream",
          "text": [
            "Epoch [421/5000]: 100%|██████████| 10/10 [00:00<00:00, 60.95it/s, loss=1.41]\n"
          ]
        },
        {
          "metadata": {
            "tags": null
          },
          "name": "stdout",
          "output_type": "stream",
          "text": [
            "Epoch [421/5000]: Train loss: 1.4706, Valid loss: 1.0744\n"
          ]
        },
        {
          "metadata": {
            "tags": null
          },
          "name": "stderr",
          "output_type": "stream",
          "text": [
            "Epoch [422/5000]: 100%|██████████| 10/10 [00:00<00:00, 62.39it/s, loss=1.32]\n"
          ]
        },
        {
          "metadata": {
            "tags": null
          },
          "name": "stdout",
          "output_type": "stream",
          "text": [
            "Epoch [422/5000]: Train loss: 1.4982, Valid loss: 1.0618\n"
          ]
        },
        {
          "metadata": {
            "tags": null
          },
          "name": "stderr",
          "output_type": "stream",
          "text": [
            "Epoch [423/5000]: 100%|██████████| 10/10 [00:00<00:00, 64.89it/s, loss=1.45]\n"
          ]
        },
        {
          "metadata": {
            "tags": null
          },
          "name": "stdout",
          "output_type": "stream",
          "text": [
            "Epoch [423/5000]: Train loss: 1.5085, Valid loss: 1.0872\n"
          ]
        },
        {
          "metadata": {
            "tags": null
          },
          "name": "stderr",
          "output_type": "stream",
          "text": [
            "Epoch [424/5000]: 100%|██████████| 10/10 [00:00<00:00, 62.84it/s, loss=1.69]\n"
          ]
        },
        {
          "metadata": {
            "tags": null
          },
          "name": "stdout",
          "output_type": "stream",
          "text": [
            "Epoch [424/5000]: Train loss: 1.4824, Valid loss: 1.1921\n"
          ]
        },
        {
          "metadata": {
            "tags": null
          },
          "name": "stderr",
          "output_type": "stream",
          "text": [
            "Epoch [425/5000]: 100%|██████████| 10/10 [00:00<00:00, 67.01it/s, loss=1.6]"
          ]
        },
        {
          "metadata": {
            "tags": null
          },
          "name": "stdout",
          "output_type": "stream",
          "text": [
            "Epoch [425/5000]: Train loss: 1.4785, Valid loss: 1.0451\n"
          ]
        },
        {
          "metadata": {
            "tags": null
          },
          "name": "stderr",
          "output_type": "stream",
          "text": [
            "\n",
            "Epoch [426/5000]: 100%|██████████| 10/10 [00:00<00:00, 65.96it/s, loss=1.41]\n"
          ]
        },
        {
          "metadata": {
            "tags": null
          },
          "name": "stdout",
          "output_type": "stream",
          "text": [
            "Epoch [426/5000]: Train loss: 1.4611, Valid loss: 1.1405\n"
          ]
        },
        {
          "metadata": {
            "tags": null
          },
          "name": "stderr",
          "output_type": "stream",
          "text": [
            "Epoch [427/5000]: 100%|██████████| 10/10 [00:00<00:00, 67.09it/s, loss=1.43]\n"
          ]
        },
        {
          "metadata": {
            "tags": null
          },
          "name": "stdout",
          "output_type": "stream",
          "text": [
            "Epoch [427/5000]: Train loss: 1.4905, Valid loss: 1.0509\n"
          ]
        },
        {
          "metadata": {
            "tags": null
          },
          "name": "stderr",
          "output_type": "stream",
          "text": [
            "Epoch [428/5000]: 100%|██████████| 10/10 [00:00<00:00, 65.51it/s, loss=1.23]\n"
          ]
        },
        {
          "metadata": {
            "tags": null
          },
          "name": "stdout",
          "output_type": "stream",
          "text": [
            "Epoch [428/5000]: Train loss: 1.4843, Valid loss: 1.0216\n"
          ]
        },
        {
          "metadata": {
            "tags": null
          },
          "name": "stderr",
          "output_type": "stream",
          "text": [
            "Epoch [429/5000]: 100%|██████████| 10/10 [00:00<00:00, 62.36it/s, loss=1.54]\n"
          ]
        },
        {
          "metadata": {
            "tags": null
          },
          "name": "stdout",
          "output_type": "stream",
          "text": [
            "Epoch [429/5000]: Train loss: 1.5192, Valid loss: 1.0950\n"
          ]
        },
        {
          "metadata": {
            "tags": null
          },
          "name": "stderr",
          "output_type": "stream",
          "text": [
            "Epoch [430/5000]: 100%|██████████| 10/10 [00:00<00:00, 67.28it/s, loss=1.3]\n"
          ]
        },
        {
          "metadata": {
            "tags": null
          },
          "name": "stdout",
          "output_type": "stream",
          "text": [
            "Epoch [430/5000]: Train loss: 1.4997, Valid loss: 1.1072\n"
          ]
        },
        {
          "metadata": {
            "tags": null
          },
          "name": "stderr",
          "output_type": "stream",
          "text": [
            "Epoch [431/5000]: 100%|██████████| 10/10 [00:00<00:00, 66.67it/s, loss=1.4]\n"
          ]
        },
        {
          "metadata": {
            "tags": null
          },
          "name": "stdout",
          "output_type": "stream",
          "text": [
            "Epoch [431/5000]: Train loss: 1.4823, Valid loss: 1.1099\n"
          ]
        },
        {
          "metadata": {
            "tags": null
          },
          "name": "stderr",
          "output_type": "stream",
          "text": [
            "Epoch [432/5000]: 100%|██████████| 10/10 [00:00<00:00, 23.66it/s, loss=1.37]\n"
          ]
        },
        {
          "metadata": {
            "tags": null
          },
          "name": "stdout",
          "output_type": "stream",
          "text": [
            "Epoch [432/5000]: Train loss: 1.4855, Valid loss: 1.1787\n"
          ]
        },
        {
          "metadata": {
            "tags": null
          },
          "name": "stderr",
          "output_type": "stream",
          "text": [
            "Epoch [433/5000]: 100%|██████████| 10/10 [00:00<00:00, 60.80it/s, loss=1.31]\n"
          ]
        },
        {
          "metadata": {
            "tags": null
          },
          "name": "stdout",
          "output_type": "stream",
          "text": [
            "Epoch [433/5000]: Train loss: 1.4541, Valid loss: 1.2165\n"
          ]
        },
        {
          "metadata": {
            "tags": null
          },
          "name": "stderr",
          "output_type": "stream",
          "text": [
            "Epoch [434/5000]: 100%|██████████| 10/10 [00:00<00:00, 66.00it/s, loss=1.61]"
          ]
        },
        {
          "metadata": {
            "tags": null
          },
          "name": "stdout",
          "output_type": "stream",
          "text": [
            "Epoch [434/5000]: Train loss: 1.5528, Valid loss: 1.0899"
          ]
        },
        {
          "metadata": {
            "tags": null
          },
          "name": "stderr",
          "output_type": "stream",
          "text": [
            "\n"
          ]
        },
        {
          "metadata": {
            "tags": null
          },
          "name": "stdout",
          "output_type": "stream",
          "text": [
            "\n"
          ]
        },
        {
          "metadata": {
            "tags": null
          },
          "name": "stderr",
          "output_type": "stream",
          "text": [
            "Epoch [435/5000]: 100%|██████████| 10/10 [00:00<00:00, 65.79it/s, loss=1.37]\n"
          ]
        },
        {
          "metadata": {
            "tags": null
          },
          "name": "stdout",
          "output_type": "stream",
          "text": [
            "Epoch [435/5000]: Train loss: 1.4612, Valid loss: 1.1935\n"
          ]
        },
        {
          "metadata": {
            "tags": null
          },
          "name": "stderr",
          "output_type": "stream",
          "text": [
            "Epoch [436/5000]: 100%|██████████| 10/10 [00:00<00:00, 60.03it/s, loss=1.34]\n"
          ]
        },
        {
          "metadata": {
            "tags": null
          },
          "name": "stdout",
          "output_type": "stream",
          "text": [
            "Epoch [436/5000]: Train loss: 1.4764, Valid loss: 1.0671\n"
          ]
        },
        {
          "metadata": {
            "tags": null
          },
          "name": "stderr",
          "output_type": "stream",
          "text": [
            "Epoch [437/5000]: 100%|██████████| 10/10 [00:00<00:00, 55.96it/s, loss=1.3]\n"
          ]
        },
        {
          "metadata": {
            "tags": null
          },
          "name": "stdout",
          "output_type": "stream",
          "text": [
            "Epoch [437/5000]: Train loss: 1.4585, Valid loss: 1.0377\n"
          ]
        },
        {
          "metadata": {
            "tags": null
          },
          "name": "stderr",
          "output_type": "stream",
          "text": [
            "Epoch [438/5000]: 100%|██████████| 10/10 [00:00<00:00, 55.32it/s, loss=1.24]\n"
          ]
        },
        {
          "metadata": {
            "tags": null
          },
          "name": "stdout",
          "output_type": "stream",
          "text": [
            "Epoch [438/5000]: Train loss: 1.4551, Valid loss: 1.1352\n"
          ]
        },
        {
          "metadata": {
            "tags": null
          },
          "name": "stderr",
          "output_type": "stream",
          "text": [
            "Epoch [439/5000]: 100%|██████████| 10/10 [00:00<00:00, 55.40it/s, loss=1.37]\n"
          ]
        },
        {
          "metadata": {
            "tags": null
          },
          "name": "stdout",
          "output_type": "stream",
          "text": [
            "Epoch [439/5000]: Train loss: 1.4665, Valid loss: 0.9998\n"
          ]
        },
        {
          "metadata": {
            "tags": null
          },
          "name": "stderr",
          "output_type": "stream",
          "text": [
            "Epoch [440/5000]: 100%|██████████| 10/10 [00:00<00:00, 53.01it/s, loss=1.3]\n"
          ]
        },
        {
          "metadata": {
            "tags": null
          },
          "name": "stdout",
          "output_type": "stream",
          "text": [
            "Epoch [440/5000]: Train loss: 1.4660, Valid loss: 1.0261\n"
          ]
        },
        {
          "metadata": {
            "tags": null
          },
          "name": "stderr",
          "output_type": "stream",
          "text": [
            "Epoch [441/5000]: 100%|██████████| 10/10 [00:00<00:00, 53.24it/s, loss=1.4]\n"
          ]
        },
        {
          "metadata": {
            "tags": null
          },
          "name": "stdout",
          "output_type": "stream",
          "text": [
            "Epoch [441/5000]: Train loss: 1.4737, Valid loss: 1.0194\n"
          ]
        },
        {
          "metadata": {
            "tags": null
          },
          "name": "stderr",
          "output_type": "stream",
          "text": [
            "Epoch [442/5000]: 100%|██████████| 10/10 [00:00<00:00, 19.64it/s, loss=1.51]\n"
          ]
        },
        {
          "metadata": {
            "tags": null
          },
          "name": "stdout",
          "output_type": "stream",
          "text": [
            "Epoch [442/5000]: Train loss: 1.4641, Valid loss: 1.0198\n"
          ]
        },
        {
          "metadata": {
            "tags": null
          },
          "name": "stderr",
          "output_type": "stream",
          "text": [
            "Epoch [443/5000]: 100%|██████████| 10/10 [00:00<00:00, 54.07it/s, loss=1.5]\n"
          ]
        },
        {
          "metadata": {
            "tags": null
          },
          "name": "stdout",
          "output_type": "stream",
          "text": [
            "Epoch [443/5000]: Train loss: 1.4645, Valid loss: 1.0304\n"
          ]
        },
        {
          "metadata": {
            "tags": null
          },
          "name": "stderr",
          "output_type": "stream",
          "text": [
            "Epoch [444/5000]: 100%|██████████| 10/10 [00:00<00:00, 57.05it/s, loss=1.51]\n"
          ]
        },
        {
          "metadata": {
            "tags": null
          },
          "name": "stdout",
          "output_type": "stream",
          "text": [
            "Epoch [444/5000]: Train loss: 1.4269, Valid loss: 1.0505\n"
          ]
        },
        {
          "metadata": {
            "tags": null
          },
          "name": "stderr",
          "output_type": "stream",
          "text": [
            "Epoch [445/5000]: 100%|██████████| 10/10 [00:00<00:00, 53.12it/s, loss=1.55]\n"
          ]
        },
        {
          "metadata": {
            "tags": null
          },
          "name": "stdout",
          "output_type": "stream",
          "text": [
            "Epoch [445/5000]: Train loss: 1.4738, Valid loss: 1.0846\n"
          ]
        },
        {
          "metadata": {
            "tags": null
          },
          "name": "stderr",
          "output_type": "stream",
          "text": [
            "Epoch [446/5000]: 100%|██████████| 10/10 [00:00<00:00, 67.70it/s, loss=1.49]\n"
          ]
        },
        {
          "metadata": {
            "tags": null
          },
          "name": "stdout",
          "output_type": "stream",
          "text": [
            "Epoch [446/5000]: Train loss: 1.4729, Valid loss: 1.1852\n"
          ]
        },
        {
          "metadata": {
            "tags": null
          },
          "name": "stderr",
          "output_type": "stream",
          "text": [
            "Epoch [447/5000]: 100%|██████████| 10/10 [00:00<00:00, 63.54it/s, loss=1.45]\n"
          ]
        },
        {
          "metadata": {
            "tags": null
          },
          "name": "stdout",
          "output_type": "stream",
          "text": [
            "Epoch [447/5000]: Train loss: 1.4663, Valid loss: 1.1016\n"
          ]
        },
        {
          "metadata": {
            "tags": null
          },
          "name": "stderr",
          "output_type": "stream",
          "text": [
            "Epoch [448/5000]: 100%|██████████| 10/10 [00:00<00:00, 59.08it/s, loss=1.43]\n"
          ]
        },
        {
          "metadata": {
            "tags": null
          },
          "name": "stdout",
          "output_type": "stream",
          "text": [
            "Epoch [448/5000]: Train loss: 1.4828, Valid loss: 1.1305\n"
          ]
        },
        {
          "metadata": {
            "tags": null
          },
          "name": "stderr",
          "output_type": "stream",
          "text": [
            "Epoch [449/5000]: 100%|██████████| 10/10 [00:00<00:00, 55.54it/s, loss=1.52]\n"
          ]
        },
        {
          "metadata": {
            "tags": null
          },
          "name": "stdout",
          "output_type": "stream",
          "text": [
            "Epoch [449/5000]: Train loss: 1.4554, Valid loss: 0.9981\n"
          ]
        },
        {
          "metadata": {
            "tags": null
          },
          "name": "stderr",
          "output_type": "stream",
          "text": [
            "Epoch [450/5000]: 100%|██████████| 10/10 [00:00<00:00, 56.98it/s, loss=1.2]\n"
          ]
        },
        {
          "metadata": {
            "tags": null
          },
          "name": "stdout",
          "output_type": "stream",
          "text": [
            "Epoch [450/5000]: Train loss: 1.4584, Valid loss: 1.0416\n"
          ]
        },
        {
          "metadata": {
            "tags": null
          },
          "name": "stderr",
          "output_type": "stream",
          "text": [
            "Epoch [451/5000]: 100%|██████████| 10/10 [00:00<00:00, 59.51it/s, loss=1.4]\n"
          ]
        },
        {
          "metadata": {
            "tags": null
          },
          "name": "stdout",
          "output_type": "stream",
          "text": [
            "Epoch [451/5000]: Train loss: 1.4414, Valid loss: 1.0708\n"
          ]
        },
        {
          "metadata": {
            "tags": null
          },
          "name": "stderr",
          "output_type": "stream",
          "text": [
            "Epoch [452/5000]: 100%|██████████| 10/10 [00:00<00:00, 22.32it/s, loss=1.33]\n"
          ]
        },
        {
          "metadata": {
            "tags": null
          },
          "name": "stdout",
          "output_type": "stream",
          "text": [
            "Epoch [452/5000]: Train loss: 1.4377, Valid loss: 1.0553\n"
          ]
        },
        {
          "metadata": {
            "tags": null
          },
          "name": "stderr",
          "output_type": "stream",
          "text": [
            "Epoch [453/5000]: 100%|██████████| 10/10 [00:00<00:00, 65.36it/s, loss=1.39]\n"
          ]
        },
        {
          "metadata": {
            "tags": null
          },
          "name": "stdout",
          "output_type": "stream",
          "text": [
            "Epoch [453/5000]: Train loss: 1.4829, Valid loss: 1.0918\n"
          ]
        },
        {
          "metadata": {
            "tags": null
          },
          "name": "stderr",
          "output_type": "stream",
          "text": [
            "Epoch [454/5000]: 100%|██████████| 10/10 [00:00<00:00, 66.32it/s, loss=1.56]\n"
          ]
        },
        {
          "metadata": {
            "tags": null
          },
          "name": "stdout",
          "output_type": "stream",
          "text": [
            "Epoch [454/5000]: Train loss: 1.4790, Valid loss: 1.0292\n"
          ]
        },
        {
          "metadata": {
            "tags": null
          },
          "name": "stderr",
          "output_type": "stream",
          "text": [
            "Epoch [455/5000]: 100%|██████████| 10/10 [00:00<00:00, 64.33it/s, loss=1.55]\n"
          ]
        },
        {
          "metadata": {
            "tags": null
          },
          "name": "stdout",
          "output_type": "stream",
          "text": [
            "Epoch [455/5000]: Train loss: 1.4853, Valid loss: 1.1425\n"
          ]
        },
        {
          "metadata": {
            "tags": null
          },
          "name": "stderr",
          "output_type": "stream",
          "text": [
            "Epoch [456/5000]: 100%|██████████| 10/10 [00:00<00:00, 64.84it/s, loss=1.5]\n"
          ]
        },
        {
          "metadata": {
            "tags": null
          },
          "name": "stdout",
          "output_type": "stream",
          "text": [
            "Epoch [456/5000]: Train loss: 1.4616, Valid loss: 1.1973\n"
          ]
        },
        {
          "metadata": {
            "tags": null
          },
          "name": "stderr",
          "output_type": "stream",
          "text": [
            "Epoch [457/5000]: 100%|██████████| 10/10 [00:00<00:00, 63.39it/s, loss=1.48]\n"
          ]
        },
        {
          "metadata": {
            "tags": null
          },
          "name": "stdout",
          "output_type": "stream",
          "text": [
            "Epoch [457/5000]: Train loss: 1.4744, Valid loss: 1.0177\n"
          ]
        },
        {
          "metadata": {
            "tags": null
          },
          "name": "stderr",
          "output_type": "stream",
          "text": [
            "Epoch [458/5000]: 100%|██████████| 10/10 [00:00<00:00, 59.35it/s, loss=1.36]\n"
          ]
        },
        {
          "metadata": {
            "tags": null
          },
          "name": "stdout",
          "output_type": "stream",
          "text": [
            "Epoch [458/5000]: Train loss: 1.4595, Valid loss: 1.0791\n"
          ]
        },
        {
          "metadata": {
            "tags": null
          },
          "name": "stderr",
          "output_type": "stream",
          "text": [
            "Epoch [459/5000]: 100%|██████████| 10/10 [00:00<00:00, 66.17it/s, loss=1.42]\n"
          ]
        },
        {
          "metadata": {
            "tags": null
          },
          "name": "stdout",
          "output_type": "stream",
          "text": [
            "Epoch [459/5000]: Train loss: 1.4668, Valid loss: 1.2262\n"
          ]
        },
        {
          "metadata": {
            "tags": null
          },
          "name": "stderr",
          "output_type": "stream",
          "text": [
            "Epoch [460/5000]: 100%|██████████| 10/10 [00:00<00:00, 65.61it/s, loss=1.35]\n"
          ]
        },
        {
          "metadata": {
            "tags": null
          },
          "name": "stdout",
          "output_type": "stream",
          "text": [
            "Epoch [460/5000]: Train loss: 1.4911, Valid loss: 1.1171\n"
          ]
        },
        {
          "metadata": {
            "tags": null
          },
          "name": "stderr",
          "output_type": "stream",
          "text": [
            "Epoch [461/5000]: 100%|██████████| 10/10 [00:00<00:00, 66.04it/s, loss=1.6]\n"
          ]
        },
        {
          "metadata": {
            "tags": null
          },
          "name": "stdout",
          "output_type": "stream",
          "text": [
            "Epoch [461/5000]: Train loss: 1.4966, Valid loss: 1.0560\n"
          ]
        },
        {
          "metadata": {
            "tags": null
          },
          "name": "stderr",
          "output_type": "stream",
          "text": [
            "Epoch [462/5000]: 100%|██████████| 10/10 [00:00<00:00, 65.08it/s, loss=1.27]\n"
          ]
        },
        {
          "metadata": {
            "tags": null
          },
          "name": "stdout",
          "output_type": "stream",
          "text": [
            "Epoch [462/5000]: Train loss: 1.4705, Valid loss: 1.1237\n"
          ]
        },
        {
          "metadata": {
            "tags": null
          },
          "name": "stderr",
          "output_type": "stream",
          "text": [
            "Epoch [463/5000]: 100%|██████████| 10/10 [00:00<00:00, 23.29it/s, loss=1.37]\n"
          ]
        },
        {
          "metadata": {
            "tags": null
          },
          "name": "stdout",
          "output_type": "stream",
          "text": [
            "Epoch [463/5000]: Train loss: 1.4489, Valid loss: 1.1288\n"
          ]
        },
        {
          "metadata": {
            "tags": null
          },
          "name": "stderr",
          "output_type": "stream",
          "text": [
            "Epoch [464/5000]: 100%|██████████| 10/10 [00:00<00:00, 64.36it/s, loss=1.37]\n"
          ]
        },
        {
          "metadata": {
            "tags": null
          },
          "name": "stdout",
          "output_type": "stream",
          "text": [
            "Epoch [464/5000]: Train loss: 1.4865, Valid loss: 1.0403\n"
          ]
        },
        {
          "metadata": {
            "tags": null
          },
          "name": "stderr",
          "output_type": "stream",
          "text": [
            "Epoch [465/5000]: 100%|██████████| 10/10 [00:00<00:00, 60.48it/s, loss=1.31]\n"
          ]
        },
        {
          "metadata": {
            "tags": null
          },
          "name": "stdout",
          "output_type": "stream",
          "text": [
            "Epoch [465/5000]: Train loss: 1.4452, Valid loss: 1.0332\n"
          ]
        },
        {
          "metadata": {
            "tags": null
          },
          "name": "stderr",
          "output_type": "stream",
          "text": [
            "Epoch [466/5000]: 100%|██████████| 10/10 [00:00<00:00, 64.90it/s, loss=1.65]\n"
          ]
        },
        {
          "metadata": {
            "tags": null
          },
          "name": "stdout",
          "output_type": "stream",
          "text": [
            "Epoch [466/5000]: Train loss: 1.4840, Valid loss: 1.0582\n"
          ]
        },
        {
          "metadata": {
            "tags": null
          },
          "name": "stderr",
          "output_type": "stream",
          "text": [
            "Epoch [467/5000]: 100%|██████████| 10/10 [00:00<00:00, 66.70it/s, loss=1.31]"
          ]
        },
        {
          "metadata": {
            "tags": null
          },
          "name": "stdout",
          "output_type": "stream",
          "text": [
            "Epoch [467/5000]: Train loss: 1.4573, Valid loss: 1.0514"
          ]
        },
        {
          "metadata": {
            "tags": null
          },
          "name": "stderr",
          "output_type": "stream",
          "text": [
            "\n"
          ]
        },
        {
          "metadata": {
            "tags": null
          },
          "name": "stdout",
          "output_type": "stream",
          "text": [
            "\n"
          ]
        },
        {
          "metadata": {
            "tags": null
          },
          "name": "stderr",
          "output_type": "stream",
          "text": [
            "Epoch [468/5000]: 100%|██████████| 10/10 [00:00<00:00, 66.16it/s, loss=1.31]\n"
          ]
        },
        {
          "metadata": {
            "tags": null
          },
          "name": "stdout",
          "output_type": "stream",
          "text": [
            "Epoch [468/5000]: Train loss: 1.4395, Valid loss: 1.0058\n"
          ]
        },
        {
          "metadata": {
            "tags": null
          },
          "name": "stderr",
          "output_type": "stream",
          "text": [
            "Epoch [469/5000]: 100%|██████████| 10/10 [00:00<00:00, 52.27it/s, loss=1.52]\n"
          ]
        },
        {
          "metadata": {
            "tags": null
          },
          "name": "stdout",
          "output_type": "stream",
          "text": [
            "Epoch [469/5000]: Train loss: 1.4708, Valid loss: 1.0609\n"
          ]
        },
        {
          "metadata": {
            "tags": null
          },
          "name": "stderr",
          "output_type": "stream",
          "text": [
            "Epoch [470/5000]: 100%|██████████| 10/10 [00:00<00:00, 61.81it/s, loss=1.57]\n"
          ]
        },
        {
          "metadata": {
            "tags": null
          },
          "name": "stdout",
          "output_type": "stream",
          "text": [
            "Epoch [470/5000]: Train loss: 1.5090, Valid loss: 1.0104\n"
          ]
        },
        {
          "metadata": {
            "tags": null
          },
          "name": "stderr",
          "output_type": "stream",
          "text": [
            "Epoch [471/5000]: 100%|██████████| 10/10 [00:00<00:00, 60.27it/s, loss=1.4]\n"
          ]
        },
        {
          "metadata": {
            "tags": null
          },
          "name": "stdout",
          "output_type": "stream",
          "text": [
            "Epoch [471/5000]: Train loss: 1.4791, Valid loss: 1.0698\n"
          ]
        },
        {
          "metadata": {
            "tags": null
          },
          "name": "stderr",
          "output_type": "stream",
          "text": [
            "Epoch [472/5000]: 100%|██████████| 10/10 [00:00<00:00, 63.04it/s, loss=1.38]\n"
          ]
        },
        {
          "metadata": {
            "tags": null
          },
          "name": "stdout",
          "output_type": "stream",
          "text": [
            "Epoch [472/5000]: Train loss: 1.4943, Valid loss: 1.0978\n"
          ]
        },
        {
          "metadata": {
            "tags": null
          },
          "name": "stderr",
          "output_type": "stream",
          "text": [
            "Epoch [473/5000]: 100%|██████████| 10/10 [00:00<00:00, 60.76it/s, loss=1.62]\n"
          ]
        },
        {
          "metadata": {
            "tags": null
          },
          "name": "stdout",
          "output_type": "stream",
          "text": [
            "Epoch [473/5000]: Train loss: 1.4622, Valid loss: 1.0539\n"
          ]
        },
        {
          "metadata": {
            "tags": null
          },
          "name": "stderr",
          "output_type": "stream",
          "text": [
            "Epoch [474/5000]: 100%|██████████| 10/10 [00:00<00:00, 63.41it/s, loss=1.55]\n"
          ]
        },
        {
          "metadata": {
            "tags": null
          },
          "name": "stdout",
          "output_type": "stream",
          "text": [
            "Epoch [474/5000]: Train loss: 1.4989, Valid loss: 1.0898\n"
          ]
        },
        {
          "metadata": {
            "tags": null
          },
          "name": "stderr",
          "output_type": "stream",
          "text": [
            "Epoch [475/5000]: 100%|██████████| 10/10 [00:00<00:00, 55.34it/s, loss=1.65]\n"
          ]
        },
        {
          "metadata": {
            "tags": null
          },
          "name": "stdout",
          "output_type": "stream",
          "text": [
            "Epoch [475/5000]: Train loss: 1.4921, Valid loss: 1.0206\n"
          ]
        },
        {
          "metadata": {
            "tags": null
          },
          "name": "stderr",
          "output_type": "stream",
          "text": [
            "Epoch [476/5000]: 100%|██████████| 10/10 [00:00<00:00, 55.98it/s, loss=1.42]\n"
          ]
        },
        {
          "metadata": {
            "tags": null
          },
          "name": "stdout",
          "output_type": "stream",
          "text": [
            "Epoch [476/5000]: Train loss: 1.5024, Valid loss: 1.0318\n"
          ]
        },
        {
          "metadata": {
            "tags": null
          },
          "name": "stderr",
          "output_type": "stream",
          "text": [
            "Epoch [477/5000]: 100%|██████████| 10/10 [00:00<00:00, 60.76it/s, loss=1.54]\n"
          ]
        },
        {
          "metadata": {
            "tags": null
          },
          "name": "stdout",
          "output_type": "stream",
          "text": [
            "Epoch [477/5000]: Train loss: 1.4737, Valid loss: 1.1611\n"
          ]
        },
        {
          "metadata": {
            "tags": null
          },
          "name": "stderr",
          "output_type": "stream",
          "text": [
            "Epoch [478/5000]: 100%|██████████| 10/10 [00:00<00:00, 52.32it/s, loss=1.3]\n"
          ]
        },
        {
          "metadata": {
            "tags": null
          },
          "name": "stdout",
          "output_type": "stream",
          "text": [
            "Epoch [478/5000]: Train loss: 1.4605, Valid loss: 1.1382\n"
          ]
        },
        {
          "metadata": {
            "tags": null
          },
          "name": "stderr",
          "output_type": "stream",
          "text": [
            "Epoch [479/5000]: 100%|██████████| 10/10 [00:00<00:00, 55.30it/s, loss=1.73]\n"
          ]
        },
        {
          "metadata": {
            "tags": null
          },
          "name": "stdout",
          "output_type": "stream",
          "text": [
            "Epoch [479/5000]: Train loss: 1.4821, Valid loss: 1.0897\n"
          ]
        },
        {
          "metadata": {
            "tags": null
          },
          "name": "stderr",
          "output_type": "stream",
          "text": [
            "Epoch [480/5000]: 100%|██████████| 10/10 [00:00<00:00, 51.19it/s, loss=1.48]\n"
          ]
        },
        {
          "metadata": {
            "tags": null
          },
          "name": "stdout",
          "output_type": "stream",
          "text": [
            "Epoch [480/5000]: Train loss: 1.4599, Valid loss: 1.0304\n"
          ]
        },
        {
          "metadata": {
            "tags": null
          },
          "name": "stderr",
          "output_type": "stream",
          "text": [
            "Epoch [481/5000]: 100%|██████████| 10/10 [00:00<00:00, 58.95it/s, loss=1.55]\n"
          ]
        },
        {
          "metadata": {
            "tags": null
          },
          "name": "stdout",
          "output_type": "stream",
          "text": [
            "Epoch [481/5000]: Train loss: 1.4528, Valid loss: 1.0655\n"
          ]
        },
        {
          "metadata": {
            "tags": null
          },
          "name": "stderr",
          "output_type": "stream",
          "text": [
            "Epoch [482/5000]: 100%|██████████| 10/10 [00:00<00:00, 53.14it/s, loss=1.46]\n"
          ]
        },
        {
          "metadata": {
            "tags": null
          },
          "name": "stdout",
          "output_type": "stream",
          "text": [
            "Epoch [482/5000]: Train loss: 1.4551, Valid loss: 1.0408\n"
          ]
        },
        {
          "metadata": {
            "tags": null
          },
          "name": "stderr",
          "output_type": "stream",
          "text": [
            "Epoch [483/5000]: 100%|██████████| 10/10 [00:00<00:00, 57.05it/s, loss=1.52]\n"
          ]
        },
        {
          "metadata": {
            "tags": null
          },
          "name": "stdout",
          "output_type": "stream",
          "text": [
            "Epoch [483/5000]: Train loss: 1.4772, Valid loss: 1.0550\n"
          ]
        },
        {
          "metadata": {
            "tags": null
          },
          "name": "stderr",
          "output_type": "stream",
          "text": [
            "Epoch [484/5000]: 100%|██████████| 10/10 [00:00<00:00, 54.03it/s, loss=1.52]\n"
          ]
        },
        {
          "metadata": {
            "tags": null
          },
          "name": "stdout",
          "output_type": "stream",
          "text": [
            "Epoch [484/5000]: Train loss: 1.4542, Valid loss: 1.0713\n"
          ]
        },
        {
          "metadata": {
            "tags": null
          },
          "name": "stderr",
          "output_type": "stream",
          "text": [
            "Epoch [485/5000]: 100%|██████████| 10/10 [00:00<00:00, 56.57it/s, loss=1.45]\n"
          ]
        },
        {
          "metadata": {
            "tags": null
          },
          "name": "stdout",
          "output_type": "stream",
          "text": [
            "Epoch [485/5000]: Train loss: 1.4591, Valid loss: 1.0542\n"
          ]
        },
        {
          "metadata": {
            "tags": null
          },
          "name": "stderr",
          "output_type": "stream",
          "text": [
            "Epoch [486/5000]: 100%|██████████| 10/10 [00:00<00:00, 59.82it/s, loss=1.41]\n"
          ]
        },
        {
          "metadata": {
            "tags": null
          },
          "name": "stdout",
          "output_type": "stream",
          "text": [
            "Epoch [486/5000]: Train loss: 1.4483, Valid loss: 1.0284\n"
          ]
        },
        {
          "metadata": {
            "tags": null
          },
          "name": "stderr",
          "output_type": "stream",
          "text": [
            "Epoch [487/5000]: 100%|██████████| 10/10 [00:00<00:00, 63.51it/s, loss=1.38]\n"
          ]
        },
        {
          "metadata": {
            "tags": null
          },
          "name": "stdout",
          "output_type": "stream",
          "text": [
            "Epoch [487/5000]: Train loss: 1.4388, Valid loss: 0.9872\n"
          ]
        },
        {
          "metadata": {
            "tags": null
          },
          "name": "stderr",
          "output_type": "stream",
          "text": [
            "Epoch [488/5000]: 100%|██████████| 10/10 [00:00<00:00, 22.11it/s, loss=1.56]\n"
          ]
        },
        {
          "metadata": {
            "tags": null
          },
          "name": "stdout",
          "output_type": "stream",
          "text": [
            "Epoch [488/5000]: Train loss: 1.4663, Valid loss: 1.0569\n"
          ]
        },
        {
          "metadata": {
            "tags": null
          },
          "name": "stderr",
          "output_type": "stream",
          "text": [
            "Epoch [489/5000]: 100%|██████████| 10/10 [00:00<00:00, 55.06it/s, loss=1.34]\n"
          ]
        },
        {
          "metadata": {
            "tags": null
          },
          "name": "stdout",
          "output_type": "stream",
          "text": [
            "Epoch [489/5000]: Train loss: 1.4935, Valid loss: 1.0310\n"
          ]
        },
        {
          "metadata": {
            "tags": null
          },
          "name": "stderr",
          "output_type": "stream",
          "text": [
            "Epoch [490/5000]: 100%|██████████| 10/10 [00:00<00:00, 62.69it/s, loss=1.49]\n"
          ]
        },
        {
          "metadata": {
            "tags": null
          },
          "name": "stdout",
          "output_type": "stream",
          "text": [
            "Epoch [490/5000]: Train loss: 1.4938, Valid loss: 1.0312\n"
          ]
        },
        {
          "metadata": {
            "tags": null
          },
          "name": "stderr",
          "output_type": "stream",
          "text": [
            "Epoch [491/5000]: 100%|██████████| 10/10 [00:00<00:00, 59.90it/s, loss=1.32]\n"
          ]
        },
        {
          "metadata": {
            "tags": null
          },
          "name": "stdout",
          "output_type": "stream",
          "text": [
            "Epoch [491/5000]: Train loss: 1.4701, Valid loss: 1.0376\n"
          ]
        },
        {
          "metadata": {
            "tags": null
          },
          "name": "stderr",
          "output_type": "stream",
          "text": [
            "Epoch [492/5000]: 100%|██████████| 10/10 [00:00<00:00, 52.99it/s, loss=1.37]\n"
          ]
        },
        {
          "metadata": {
            "tags": null
          },
          "name": "stdout",
          "output_type": "stream",
          "text": [
            "Epoch [492/5000]: Train loss: 1.4686, Valid loss: 1.0524\n"
          ]
        },
        {
          "metadata": {
            "tags": null
          },
          "name": "stderr",
          "output_type": "stream",
          "text": [
            "Epoch [493/5000]: 100%|██████████| 10/10 [00:00<00:00, 48.83it/s, loss=1.34]\n"
          ]
        },
        {
          "metadata": {
            "tags": null
          },
          "name": "stdout",
          "output_type": "stream",
          "text": [
            "Epoch [493/5000]: Train loss: 1.4190, Valid loss: 1.0637\n"
          ]
        },
        {
          "metadata": {
            "tags": null
          },
          "name": "stderr",
          "output_type": "stream",
          "text": [
            "Epoch [494/5000]: 100%|██████████| 10/10 [00:00<00:00, 53.91it/s, loss=1.29]\n"
          ]
        },
        {
          "metadata": {
            "tags": null
          },
          "name": "stdout",
          "output_type": "stream",
          "text": [
            "Epoch [494/5000]: Train loss: 1.4260, Valid loss: 1.1632\n"
          ]
        },
        {
          "metadata": {
            "tags": null
          },
          "name": "stderr",
          "output_type": "stream",
          "text": [
            "Epoch [495/5000]: 100%|██████████| 10/10 [00:00<00:00, 59.43it/s, loss=1.53]\n"
          ]
        },
        {
          "metadata": {
            "tags": null
          },
          "name": "stdout",
          "output_type": "stream",
          "text": [
            "Epoch [495/5000]: Train loss: 1.4653, Valid loss: 1.1036\n"
          ]
        },
        {
          "metadata": {
            "tags": null
          },
          "name": "stderr",
          "output_type": "stream",
          "text": [
            "Epoch [496/5000]: 100%|██████████| 10/10 [00:00<00:00, 58.50it/s, loss=1.65]\n"
          ]
        },
        {
          "metadata": {
            "tags": null
          },
          "name": "stdout",
          "output_type": "stream",
          "text": [
            "Epoch [496/5000]: Train loss: 1.4801, Valid loss: 1.0977\n"
          ]
        },
        {
          "metadata": {
            "tags": null
          },
          "name": "stderr",
          "output_type": "stream",
          "text": [
            "Epoch [497/5000]: 100%|██████████| 10/10 [00:00<00:00, 65.39it/s, loss=1.44]\n"
          ]
        },
        {
          "metadata": {
            "tags": null
          },
          "name": "stdout",
          "output_type": "stream",
          "text": [
            "Epoch [497/5000]: Train loss: 1.4802, Valid loss: 1.0367\n"
          ]
        },
        {
          "metadata": {
            "tags": null
          },
          "name": "stderr",
          "output_type": "stream",
          "text": [
            "Epoch [498/5000]: 100%|██████████| 10/10 [00:00<00:00, 63.37it/s, loss=1.55]\n"
          ]
        },
        {
          "metadata": {
            "tags": null
          },
          "name": "stdout",
          "output_type": "stream",
          "text": [
            "Epoch [498/5000]: Train loss: 1.4266, Valid loss: 1.0675\n"
          ]
        },
        {
          "metadata": {
            "tags": null
          },
          "name": "stderr",
          "output_type": "stream",
          "text": [
            "Epoch [499/5000]: 100%|██████████| 10/10 [00:00<00:00, 64.10it/s, loss=1.53]\n"
          ]
        },
        {
          "metadata": {
            "tags": null
          },
          "name": "stdout",
          "output_type": "stream",
          "text": [
            "Epoch [499/5000]: Train loss: 1.4524, Valid loss: 0.9753\n"
          ]
        },
        {
          "metadata": {
            "tags": null
          },
          "name": "stderr",
          "output_type": "stream",
          "text": [
            "Epoch [500/5000]: 100%|██████████| 10/10 [00:00<00:00, 58.19it/s, loss=1.56]\n"
          ]
        },
        {
          "metadata": {
            "tags": null
          },
          "name": "stdout",
          "output_type": "stream",
          "text": [
            "Epoch [500/5000]: Train loss: 1.4758, Valid loss: 1.0488\n"
          ]
        },
        {
          "metadata": {
            "tags": null
          },
          "name": "stderr",
          "output_type": "stream",
          "text": [
            "Epoch [501/5000]: 100%|██████████| 10/10 [00:00<00:00, 64.81it/s, loss=1.58]\n"
          ]
        },
        {
          "metadata": {
            "tags": null
          },
          "name": "stdout",
          "output_type": "stream",
          "text": [
            "Epoch [501/5000]: Train loss: 1.4674, Valid loss: 1.0257\n"
          ]
        },
        {
          "metadata": {
            "tags": null
          },
          "name": "stderr",
          "output_type": "stream",
          "text": [
            "Epoch [502/5000]: 100%|██████████| 10/10 [00:00<00:00, 43.66it/s, loss=1.6]\n"
          ]
        },
        {
          "metadata": {
            "tags": null
          },
          "name": "stdout",
          "output_type": "stream",
          "text": [
            "Epoch [502/5000]: Train loss: 1.4589, Valid loss: 1.0509\n"
          ]
        },
        {
          "metadata": {
            "tags": null
          },
          "name": "stderr",
          "output_type": "stream",
          "text": [
            "Epoch [503/5000]: 100%|██████████| 10/10 [00:00<00:00, 48.31it/s, loss=1.54]\n"
          ]
        },
        {
          "metadata": {
            "tags": null
          },
          "name": "stdout",
          "output_type": "stream",
          "text": [
            "Epoch [503/5000]: Train loss: 1.4798, Valid loss: 1.2526\n"
          ]
        },
        {
          "metadata": {
            "tags": null
          },
          "name": "stderr",
          "output_type": "stream",
          "text": [
            "Epoch [504/5000]: 100%|██████████| 10/10 [00:00<00:00, 54.25it/s, loss=1.49]\n"
          ]
        },
        {
          "metadata": {
            "tags": null
          },
          "name": "stdout",
          "output_type": "stream",
          "text": [
            "Epoch [504/5000]: Train loss: 1.4836, Valid loss: 1.1209\n"
          ]
        },
        {
          "metadata": {
            "tags": null
          },
          "name": "stderr",
          "output_type": "stream",
          "text": [
            "Epoch [505/5000]: 100%|██████████| 10/10 [00:00<00:00, 53.07it/s, loss=1.41]\n"
          ]
        },
        {
          "metadata": {
            "tags": null
          },
          "name": "stdout",
          "output_type": "stream",
          "text": [
            "Epoch [505/5000]: Train loss: 1.4212, Valid loss: 1.0521\n"
          ]
        },
        {
          "metadata": {
            "tags": null
          },
          "name": "stderr",
          "output_type": "stream",
          "text": [
            "Epoch [506/5000]: 100%|██████████| 10/10 [00:00<00:00, 52.80it/s, loss=1.55]\n"
          ]
        },
        {
          "metadata": {
            "tags": null
          },
          "name": "stdout",
          "output_type": "stream",
          "text": [
            "Epoch [506/5000]: Train loss: 1.4427, Valid loss: 1.1537\n"
          ]
        },
        {
          "metadata": {
            "tags": null
          },
          "name": "stderr",
          "output_type": "stream",
          "text": [
            "Epoch [507/5000]: 100%|██████████| 10/10 [00:00<00:00, 55.31it/s, loss=1.4]\n"
          ]
        },
        {
          "metadata": {
            "tags": null
          },
          "name": "stdout",
          "output_type": "stream",
          "text": [
            "Epoch [507/5000]: Train loss: 1.4636, Valid loss: 1.0262\n"
          ]
        },
        {
          "metadata": {
            "tags": null
          },
          "name": "stderr",
          "output_type": "stream",
          "text": [
            "Epoch [508/5000]: 100%|██████████| 10/10 [00:00<00:00, 50.90it/s, loss=1.53]\n"
          ]
        },
        {
          "metadata": {
            "tags": null
          },
          "name": "stdout",
          "output_type": "stream",
          "text": [
            "Epoch [508/5000]: Train loss: 1.4760, Valid loss: 1.0010\n"
          ]
        },
        {
          "metadata": {
            "tags": null
          },
          "name": "stderr",
          "output_type": "stream",
          "text": [
            "Epoch [509/5000]: 100%|██████████| 10/10 [00:00<00:00, 55.91it/s, loss=1.52]\n"
          ]
        },
        {
          "metadata": {
            "tags": null
          },
          "name": "stdout",
          "output_type": "stream",
          "text": [
            "Epoch [509/5000]: Train loss: 1.4846, Valid loss: 1.0283\n"
          ]
        },
        {
          "metadata": {
            "tags": null
          },
          "name": "stderr",
          "output_type": "stream",
          "text": [
            "Epoch [510/5000]: 100%|██████████| 10/10 [00:00<00:00, 52.27it/s, loss=1.55]\n"
          ]
        },
        {
          "metadata": {
            "tags": null
          },
          "name": "stdout",
          "output_type": "stream",
          "text": [
            "Epoch [510/5000]: Train loss: 1.4682, Valid loss: 0.9899\n"
          ]
        },
        {
          "metadata": {
            "tags": null
          },
          "name": "stderr",
          "output_type": "stream",
          "text": [
            "Epoch [511/5000]: 100%|██████████| 10/10 [00:00<00:00, 22.16it/s, loss=1.46]\n"
          ]
        },
        {
          "metadata": {
            "tags": null
          },
          "name": "stdout",
          "output_type": "stream",
          "text": [
            "Epoch [511/5000]: Train loss: 1.4764, Valid loss: 1.0238\n"
          ]
        },
        {
          "metadata": {
            "tags": null
          },
          "name": "stderr",
          "output_type": "stream",
          "text": [
            "Epoch [512/5000]: 100%|██████████| 10/10 [00:00<00:00, 59.17it/s, loss=1.58]\n"
          ]
        },
        {
          "metadata": {
            "tags": null
          },
          "name": "stdout",
          "output_type": "stream",
          "text": [
            "Epoch [512/5000]: Train loss: 1.4781, Valid loss: 1.0349\n"
          ]
        },
        {
          "metadata": {
            "tags": null
          },
          "name": "stderr",
          "output_type": "stream",
          "text": [
            "Epoch [513/5000]: 100%|██████████| 10/10 [00:00<00:00, 64.12it/s, loss=1.36]\n"
          ]
        },
        {
          "metadata": {
            "tags": null
          },
          "name": "stdout",
          "output_type": "stream",
          "text": [
            "Epoch [513/5000]: Train loss: 1.4382, Valid loss: 1.0740\n"
          ]
        },
        {
          "metadata": {
            "tags": null
          },
          "name": "stderr",
          "output_type": "stream",
          "text": [
            "Epoch [514/5000]: 100%|██████████| 10/10 [00:00<00:00, 59.77it/s, loss=1.36]\n"
          ]
        },
        {
          "metadata": {
            "tags": null
          },
          "name": "stdout",
          "output_type": "stream",
          "text": [
            "Epoch [514/5000]: Train loss: 1.4582, Valid loss: 1.1447\n"
          ]
        },
        {
          "metadata": {
            "tags": null
          },
          "name": "stderr",
          "output_type": "stream",
          "text": [
            "Epoch [515/5000]: 100%|██████████| 10/10 [00:00<00:00, 61.59it/s, loss=1.49]\n"
          ]
        },
        {
          "metadata": {
            "tags": null
          },
          "name": "stdout",
          "output_type": "stream",
          "text": [
            "Epoch [515/5000]: Train loss: 1.4756, Valid loss: 1.0377\n"
          ]
        },
        {
          "metadata": {
            "tags": null
          },
          "name": "stderr",
          "output_type": "stream",
          "text": [
            "Epoch [516/5000]: 100%|██████████| 10/10 [00:00<00:00, 60.79it/s, loss=1.31]\n"
          ]
        },
        {
          "metadata": {
            "tags": null
          },
          "name": "stdout",
          "output_type": "stream",
          "text": [
            "Epoch [516/5000]: Train loss: 1.4621, Valid loss: 0.9960\n"
          ]
        },
        {
          "metadata": {
            "tags": null
          },
          "name": "stderr",
          "output_type": "stream",
          "text": [
            "Epoch [517/5000]: 100%|██████████| 10/10 [00:00<00:00, 56.83it/s, loss=1.32]\n"
          ]
        },
        {
          "metadata": {
            "tags": null
          },
          "name": "stdout",
          "output_type": "stream",
          "text": [
            "Epoch [517/5000]: Train loss: 1.4381, Valid loss: 1.0751\n"
          ]
        },
        {
          "metadata": {
            "tags": null
          },
          "name": "stderr",
          "output_type": "stream",
          "text": [
            "Epoch [518/5000]: 100%|██████████| 10/10 [00:00<00:00, 64.46it/s, loss=1.38]\n"
          ]
        },
        {
          "metadata": {
            "tags": null
          },
          "name": "stdout",
          "output_type": "stream",
          "text": [
            "Epoch [518/5000]: Train loss: 1.4433, Valid loss: 1.0570\n"
          ]
        },
        {
          "metadata": {
            "tags": null
          },
          "name": "stderr",
          "output_type": "stream",
          "text": [
            "Epoch [519/5000]: 100%|██████████| 10/10 [00:00<00:00, 61.11it/s, loss=1.56]\n"
          ]
        },
        {
          "metadata": {
            "tags": null
          },
          "name": "stdout",
          "output_type": "stream",
          "text": [
            "Epoch [519/5000]: Train loss: 1.4597, Valid loss: 0.9733\n",
            "Saving model with loss 0.973...\n"
          ]
        },
        {
          "metadata": {
            "tags": null
          },
          "name": "stderr",
          "output_type": "stream",
          "text": [
            "Epoch [520/5000]: 100%|██████████| 10/10 [00:00<00:00, 61.49it/s, loss=1.28]\n"
          ]
        },
        {
          "metadata": {
            "tags": null
          },
          "name": "stdout",
          "output_type": "stream",
          "text": [
            "Epoch [520/5000]: Train loss: 1.4207, Valid loss: 1.0249\n"
          ]
        },
        {
          "metadata": {
            "tags": null
          },
          "name": "stderr",
          "output_type": "stream",
          "text": [
            "Epoch [521/5000]: 100%|██████████| 10/10 [00:00<00:00, 51.72it/s, loss=1.5]\n"
          ]
        },
        {
          "metadata": {
            "tags": null
          },
          "name": "stdout",
          "output_type": "stream",
          "text": [
            "Epoch [521/5000]: Train loss: 1.4560, Valid loss: 1.0917\n"
          ]
        },
        {
          "metadata": {
            "tags": null
          },
          "name": "stderr",
          "output_type": "stream",
          "text": [
            "Epoch [522/5000]: 100%|██████████| 10/10 [00:00<00:00, 59.70it/s, loss=1.27]\n"
          ]
        },
        {
          "metadata": {
            "tags": null
          },
          "name": "stdout",
          "output_type": "stream",
          "text": [
            "Epoch [522/5000]: Train loss: 1.4678, Valid loss: 1.0146\n"
          ]
        },
        {
          "metadata": {
            "tags": null
          },
          "name": "stderr",
          "output_type": "stream",
          "text": [
            "Epoch [523/5000]: 100%|██████████| 10/10 [00:00<00:00, 64.87it/s, loss=1.41]\n"
          ]
        },
        {
          "metadata": {
            "tags": null
          },
          "name": "stdout",
          "output_type": "stream",
          "text": [
            "Epoch [523/5000]: Train loss: 1.4667, Valid loss: 1.0999\n"
          ]
        },
        {
          "metadata": {
            "tags": null
          },
          "name": "stderr",
          "output_type": "stream",
          "text": [
            "Epoch [524/5000]: 100%|██████████| 10/10 [00:00<00:00, 59.88it/s, loss=1.52]\n"
          ]
        },
        {
          "metadata": {
            "tags": null
          },
          "name": "stdout",
          "output_type": "stream",
          "text": [
            "Epoch [524/5000]: Train loss: 1.4899, Valid loss: 1.2175\n"
          ]
        },
        {
          "metadata": {
            "tags": null
          },
          "name": "stderr",
          "output_type": "stream",
          "text": [
            "Epoch [525/5000]: 100%|██████████| 10/10 [00:00<00:00, 56.12it/s, loss=1.32]\n"
          ]
        },
        {
          "metadata": {
            "tags": null
          },
          "name": "stdout",
          "output_type": "stream",
          "text": [
            "Epoch [525/5000]: Train loss: 1.5225, Valid loss: 1.1351\n"
          ]
        },
        {
          "metadata": {
            "tags": null
          },
          "name": "stderr",
          "output_type": "stream",
          "text": [
            "Epoch [526/5000]: 100%|██████████| 10/10 [00:00<00:00, 58.40it/s, loss=1.47]\n"
          ]
        },
        {
          "metadata": {
            "tags": null
          },
          "name": "stdout",
          "output_type": "stream",
          "text": [
            "Epoch [526/5000]: Train loss: 1.4899, Valid loss: 1.1121\n"
          ]
        },
        {
          "metadata": {
            "tags": null
          },
          "name": "stderr",
          "output_type": "stream",
          "text": [
            "Epoch [527/5000]: 100%|██████████| 10/10 [00:00<00:00, 56.14it/s, loss=1.26]\n"
          ]
        },
        {
          "metadata": {
            "tags": null
          },
          "name": "stdout",
          "output_type": "stream",
          "text": [
            "Epoch [527/5000]: Train loss: 1.4441, Valid loss: 1.0324\n"
          ]
        },
        {
          "metadata": {
            "tags": null
          },
          "name": "stderr",
          "output_type": "stream",
          "text": [
            "Epoch [528/5000]: 100%|██████████| 10/10 [00:00<00:00, 61.52it/s, loss=1.33]\n"
          ]
        },
        {
          "metadata": {
            "tags": null
          },
          "name": "stdout",
          "output_type": "stream",
          "text": [
            "Epoch [528/5000]: Train loss: 1.4304, Valid loss: 1.1070\n"
          ]
        },
        {
          "metadata": {
            "tags": null
          },
          "name": "stderr",
          "output_type": "stream",
          "text": [
            "Epoch [529/5000]: 100%|██████████| 10/10 [00:00<00:00, 62.33it/s, loss=1.54]\n"
          ]
        },
        {
          "metadata": {
            "tags": null
          },
          "name": "stdout",
          "output_type": "stream",
          "text": [
            "Epoch [529/5000]: Train loss: 1.4775, Valid loss: 1.0296\n"
          ]
        },
        {
          "metadata": {
            "tags": null
          },
          "name": "stderr",
          "output_type": "stream",
          "text": [
            "Epoch [530/5000]: 100%|██████████| 10/10 [00:00<00:00, 64.41it/s, loss=1.58]\n"
          ]
        },
        {
          "metadata": {
            "tags": null
          },
          "name": "stdout",
          "output_type": "stream",
          "text": [
            "Epoch [530/5000]: Train loss: 1.4881, Valid loss: 1.1041\n"
          ]
        },
        {
          "metadata": {
            "tags": null
          },
          "name": "stderr",
          "output_type": "stream",
          "text": [
            "Epoch [531/5000]: 100%|██████████| 10/10 [00:00<00:00, 52.25it/s, loss=1.4]\n"
          ]
        },
        {
          "metadata": {
            "tags": null
          },
          "name": "stdout",
          "output_type": "stream",
          "text": [
            "Epoch [531/5000]: Train loss: 1.4802, Valid loss: 1.0999\n"
          ]
        },
        {
          "metadata": {
            "tags": null
          },
          "name": "stderr",
          "output_type": "stream",
          "text": [
            "Epoch [532/5000]: 100%|██████████| 10/10 [00:00<00:00, 49.20it/s, loss=1.53]\n"
          ]
        },
        {
          "metadata": {
            "tags": null
          },
          "name": "stdout",
          "output_type": "stream",
          "text": [
            "Epoch [532/5000]: Train loss: 1.4608, Valid loss: 1.0112\n"
          ]
        },
        {
          "metadata": {
            "tags": null
          },
          "name": "stderr",
          "output_type": "stream",
          "text": [
            "Epoch [533/5000]: 100%|██████████| 10/10 [00:00<00:00, 61.59it/s, loss=1.4]\n"
          ]
        },
        {
          "metadata": {
            "tags": null
          },
          "name": "stdout",
          "output_type": "stream",
          "text": [
            "Epoch [533/5000]: Train loss: 1.4637, Valid loss: 1.0414\n"
          ]
        },
        {
          "metadata": {
            "tags": null
          },
          "name": "stderr",
          "output_type": "stream",
          "text": [
            "Epoch [534/5000]: 100%|██████████| 10/10 [00:00<00:00, 64.98it/s, loss=1.61]\n"
          ]
        },
        {
          "metadata": {
            "tags": null
          },
          "name": "stdout",
          "output_type": "stream",
          "text": [
            "Epoch [534/5000]: Train loss: 1.4671, Valid loss: 1.0807\n"
          ]
        },
        {
          "metadata": {
            "tags": null
          },
          "name": "stderr",
          "output_type": "stream",
          "text": [
            "Epoch [535/5000]: 100%|██████████| 10/10 [00:00<00:00, 58.79it/s, loss=1.57]\n"
          ]
        },
        {
          "metadata": {
            "tags": null
          },
          "name": "stdout",
          "output_type": "stream",
          "text": [
            "Epoch [535/5000]: Train loss: 1.4955, Valid loss: 1.0284\n"
          ]
        },
        {
          "metadata": {
            "tags": null
          },
          "name": "stderr",
          "output_type": "stream",
          "text": [
            "Epoch [536/5000]: 100%|██████████| 10/10 [00:00<00:00, 64.05it/s, loss=1.25]\n"
          ]
        },
        {
          "metadata": {
            "tags": null
          },
          "name": "stdout",
          "output_type": "stream",
          "text": [
            "Epoch [536/5000]: Train loss: 1.4485, Valid loss: 1.0278\n"
          ]
        },
        {
          "metadata": {
            "tags": null
          },
          "name": "stderr",
          "output_type": "stream",
          "text": [
            "Epoch [537/5000]: 100%|██████████| 10/10 [00:00<00:00, 21.84it/s, loss=1.44]\n"
          ]
        },
        {
          "metadata": {
            "tags": null
          },
          "name": "stdout",
          "output_type": "stream",
          "text": [
            "Epoch [537/5000]: Train loss: 1.4660, Valid loss: 1.0631\n"
          ]
        },
        {
          "metadata": {
            "tags": null
          },
          "name": "stderr",
          "output_type": "stream",
          "text": [
            "Epoch [538/5000]: 100%|██████████| 10/10 [00:00<00:00, 59.47it/s, loss=1.57]\n"
          ]
        },
        {
          "metadata": {
            "tags": null
          },
          "name": "stdout",
          "output_type": "stream",
          "text": [
            "Epoch [538/5000]: Train loss: 1.4627, Valid loss: 1.0374\n"
          ]
        },
        {
          "metadata": {
            "tags": null
          },
          "name": "stderr",
          "output_type": "stream",
          "text": [
            "Epoch [539/5000]: 100%|██████████| 10/10 [00:00<00:00, 62.32it/s, loss=1.66]\n"
          ]
        },
        {
          "metadata": {
            "tags": null
          },
          "name": "stdout",
          "output_type": "stream",
          "text": [
            "Epoch [539/5000]: Train loss: 1.4471, Valid loss: 1.0152\n"
          ]
        },
        {
          "metadata": {
            "tags": null
          },
          "name": "stderr",
          "output_type": "stream",
          "text": [
            "Epoch [540/5000]: 100%|██████████| 10/10 [00:00<00:00, 60.94it/s, loss=1.42]\n"
          ]
        },
        {
          "metadata": {
            "tags": null
          },
          "name": "stdout",
          "output_type": "stream",
          "text": [
            "Epoch [540/5000]: Train loss: 1.4831, Valid loss: 1.1407\n"
          ]
        },
        {
          "metadata": {
            "tags": null
          },
          "name": "stderr",
          "output_type": "stream",
          "text": [
            "Epoch [541/5000]: 100%|██████████| 10/10 [00:00<00:00, 60.69it/s, loss=1.54]\n"
          ]
        },
        {
          "metadata": {
            "tags": null
          },
          "name": "stdout",
          "output_type": "stream",
          "text": [
            "Epoch [541/5000]: Train loss: 1.4712, Valid loss: 1.1706\n"
          ]
        },
        {
          "metadata": {
            "tags": null
          },
          "name": "stderr",
          "output_type": "stream",
          "text": [
            "Epoch [542/5000]: 100%|██████████| 10/10 [00:00<00:00, 64.47it/s, loss=1.53]\n"
          ]
        },
        {
          "metadata": {
            "tags": null
          },
          "name": "stdout",
          "output_type": "stream",
          "text": [
            "Epoch [542/5000]: Train loss: 1.4530, Valid loss: 1.0092\n"
          ]
        },
        {
          "metadata": {
            "tags": null
          },
          "name": "stderr",
          "output_type": "stream",
          "text": [
            "Epoch [543/5000]: 100%|██████████| 10/10 [00:00<00:00, 61.15it/s, loss=1.5]\n"
          ]
        },
        {
          "metadata": {
            "tags": null
          },
          "name": "stdout",
          "output_type": "stream",
          "text": [
            "Epoch [543/5000]: Train loss: 1.4552, Valid loss: 1.0446\n"
          ]
        },
        {
          "metadata": {
            "tags": null
          },
          "name": "stderr",
          "output_type": "stream",
          "text": [
            "Epoch [544/5000]: 100%|██████████| 10/10 [00:00<00:00, 62.15it/s, loss=1.23]\n"
          ]
        },
        {
          "metadata": {
            "tags": null
          },
          "name": "stdout",
          "output_type": "stream",
          "text": [
            "Epoch [544/5000]: Train loss: 1.4524, Valid loss: 1.0135\n"
          ]
        },
        {
          "metadata": {
            "tags": null
          },
          "name": "stderr",
          "output_type": "stream",
          "text": [
            "Epoch [545/5000]: 100%|██████████| 10/10 [00:00<00:00, 52.39it/s, loss=1.33]\n"
          ]
        },
        {
          "metadata": {
            "tags": null
          },
          "name": "stdout",
          "output_type": "stream",
          "text": [
            "Epoch [545/5000]: Train loss: 1.4392, Valid loss: 1.0172\n"
          ]
        },
        {
          "metadata": {
            "tags": null
          },
          "name": "stderr",
          "output_type": "stream",
          "text": [
            "Epoch [546/5000]: 100%|██████████| 10/10 [00:00<00:00, 65.06it/s, loss=1.39]\n"
          ]
        },
        {
          "metadata": {
            "tags": null
          },
          "name": "stdout",
          "output_type": "stream",
          "text": [
            "Epoch [546/5000]: Train loss: 1.4473, Valid loss: 1.1078\n"
          ]
        },
        {
          "metadata": {
            "tags": null
          },
          "name": "stderr",
          "output_type": "stream",
          "text": [
            "Epoch [547/5000]: 100%|██████████| 10/10 [00:00<00:00, 22.99it/s, loss=1.45]\n"
          ]
        },
        {
          "metadata": {
            "tags": null
          },
          "name": "stdout",
          "output_type": "stream",
          "text": [
            "Epoch [547/5000]: Train loss: 1.4652, Valid loss: 1.0160\n"
          ]
        },
        {
          "metadata": {
            "tags": null
          },
          "name": "stderr",
          "output_type": "stream",
          "text": [
            "Epoch [548/5000]: 100%|██████████| 10/10 [00:00<00:00, 64.37it/s, loss=1.44]\n"
          ]
        },
        {
          "metadata": {
            "tags": null
          },
          "name": "stdout",
          "output_type": "stream",
          "text": [
            "Epoch [548/5000]: Train loss: 1.4534, Valid loss: 0.9740\n"
          ]
        },
        {
          "metadata": {
            "tags": null
          },
          "name": "stderr",
          "output_type": "stream",
          "text": [
            "Epoch [549/5000]: 100%|██████████| 10/10 [00:00<00:00, 57.54it/s, loss=1.53]\n"
          ]
        },
        {
          "metadata": {
            "tags": null
          },
          "name": "stdout",
          "output_type": "stream",
          "text": [
            "Epoch [549/5000]: Train loss: 1.4747, Valid loss: 1.0466\n"
          ]
        },
        {
          "metadata": {
            "tags": null
          },
          "name": "stderr",
          "output_type": "stream",
          "text": [
            "Epoch [550/5000]: 100%|██████████| 10/10 [00:00<00:00, 61.76it/s, loss=1.56]\n"
          ]
        },
        {
          "metadata": {
            "tags": null
          },
          "name": "stdout",
          "output_type": "stream",
          "text": [
            "Epoch [550/5000]: Train loss: 1.4714, Valid loss: 1.0692\n"
          ]
        },
        {
          "metadata": {
            "tags": null
          },
          "name": "stderr",
          "output_type": "stream",
          "text": [
            "Epoch [551/5000]: 100%|██████████| 10/10 [00:00<00:00, 54.38it/s, loss=1.47]\n"
          ]
        },
        {
          "metadata": {
            "tags": null
          },
          "name": "stdout",
          "output_type": "stream",
          "text": [
            "Epoch [551/5000]: Train loss: 1.4563, Valid loss: 0.9955\n"
          ]
        },
        {
          "metadata": {
            "tags": null
          },
          "name": "stderr",
          "output_type": "stream",
          "text": [
            "Epoch [552/5000]: 100%|██████████| 10/10 [00:00<00:00, 59.78it/s, loss=1.36]\n"
          ]
        },
        {
          "metadata": {
            "tags": null
          },
          "name": "stdout",
          "output_type": "stream",
          "text": [
            "Epoch [552/5000]: Train loss: 1.4570, Valid loss: 1.0142\n"
          ]
        },
        {
          "metadata": {
            "tags": null
          },
          "name": "stderr",
          "output_type": "stream",
          "text": [
            "Epoch [553/5000]: 100%|██████████| 10/10 [00:00<00:00, 48.86it/s, loss=1.53]\n"
          ]
        },
        {
          "metadata": {
            "tags": null
          },
          "name": "stdout",
          "output_type": "stream",
          "text": [
            "Epoch [553/5000]: Train loss: 1.4564, Valid loss: 1.0172\n"
          ]
        },
        {
          "metadata": {
            "tags": null
          },
          "name": "stderr",
          "output_type": "stream",
          "text": [
            "Epoch [554/5000]: 100%|██████████| 10/10 [00:00<00:00, 49.83it/s, loss=1.64]\n"
          ]
        },
        {
          "metadata": {
            "tags": null
          },
          "name": "stdout",
          "output_type": "stream",
          "text": [
            "Epoch [554/5000]: Train loss: 1.4967, Valid loss: 1.0193\n"
          ]
        },
        {
          "metadata": {
            "tags": null
          },
          "name": "stderr",
          "output_type": "stream",
          "text": [
            "Epoch [555/5000]: 100%|██████████| 10/10 [00:00<00:00, 56.81it/s, loss=1.43]\n"
          ]
        },
        {
          "metadata": {
            "tags": null
          },
          "name": "stdout",
          "output_type": "stream",
          "text": [
            "Epoch [555/5000]: Train loss: 1.4497, Valid loss: 1.0142\n"
          ]
        },
        {
          "metadata": {
            "tags": null
          },
          "name": "stderr",
          "output_type": "stream",
          "text": [
            "Epoch [556/5000]: 100%|██████████| 10/10 [00:00<00:00, 64.52it/s, loss=1.58]\n"
          ]
        },
        {
          "metadata": {
            "tags": null
          },
          "name": "stdout",
          "output_type": "stream",
          "text": [
            "Epoch [556/5000]: Train loss: 1.4706, Valid loss: 1.0328\n"
          ]
        },
        {
          "metadata": {
            "tags": null
          },
          "name": "stderr",
          "output_type": "stream",
          "text": [
            "Epoch [557/5000]: 100%|██████████| 10/10 [00:00<00:00, 23.10it/s, loss=1.42]\n"
          ]
        },
        {
          "metadata": {
            "tags": null
          },
          "name": "stdout",
          "output_type": "stream",
          "text": [
            "Epoch [557/5000]: Train loss: 1.4491, Valid loss: 1.0710\n"
          ]
        },
        {
          "metadata": {
            "tags": null
          },
          "name": "stderr",
          "output_type": "stream",
          "text": [
            "Epoch [558/5000]: 100%|██████████| 10/10 [00:00<00:00, 64.01it/s, loss=1.37]\n"
          ]
        },
        {
          "metadata": {
            "tags": null
          },
          "name": "stdout",
          "output_type": "stream",
          "text": [
            "Epoch [558/5000]: Train loss: 1.4570, Valid loss: 1.0385\n"
          ]
        },
        {
          "metadata": {
            "tags": null
          },
          "name": "stderr",
          "output_type": "stream",
          "text": [
            "Epoch [559/5000]: 100%|██████████| 10/10 [00:00<00:00, 55.92it/s, loss=1.39]\n"
          ]
        },
        {
          "metadata": {
            "tags": null
          },
          "name": "stdout",
          "output_type": "stream",
          "text": [
            "Epoch [559/5000]: Train loss: 1.4603, Valid loss: 0.9955\n"
          ]
        },
        {
          "metadata": {
            "tags": null
          },
          "name": "stderr",
          "output_type": "stream",
          "text": [
            "Epoch [560/5000]: 100%|██████████| 10/10 [00:00<00:00, 62.78it/s, loss=1.67]\n"
          ]
        },
        {
          "metadata": {
            "tags": null
          },
          "name": "stdout",
          "output_type": "stream",
          "text": [
            "Epoch [560/5000]: Train loss: 1.4803, Valid loss: 1.0274\n"
          ]
        },
        {
          "metadata": {
            "tags": null
          },
          "name": "stderr",
          "output_type": "stream",
          "text": [
            "Epoch [561/5000]: 100%|██████████| 10/10 [00:00<00:00, 61.24it/s, loss=1.6]\n"
          ]
        },
        {
          "metadata": {
            "tags": null
          },
          "name": "stdout",
          "output_type": "stream",
          "text": [
            "Epoch [561/5000]: Train loss: 1.4432, Valid loss: 1.0275\n"
          ]
        },
        {
          "metadata": {
            "tags": null
          },
          "name": "stderr",
          "output_type": "stream",
          "text": [
            "Epoch [562/5000]: 100%|██████████| 10/10 [00:00<00:00, 47.80it/s, loss=1.42]\n"
          ]
        },
        {
          "metadata": {
            "tags": null
          },
          "name": "stdout",
          "output_type": "stream",
          "text": [
            "Epoch [562/5000]: Train loss: 1.4211, Valid loss: 1.0235\n"
          ]
        },
        {
          "metadata": {
            "tags": null
          },
          "name": "stderr",
          "output_type": "stream",
          "text": [
            "Epoch [563/5000]: 100%|██████████| 10/10 [00:00<00:00, 53.79it/s, loss=1.33]\n"
          ]
        },
        {
          "metadata": {
            "tags": null
          },
          "name": "stdout",
          "output_type": "stream",
          "text": [
            "Epoch [563/5000]: Train loss: 1.4356, Valid loss: 1.0576\n"
          ]
        },
        {
          "metadata": {
            "tags": null
          },
          "name": "stderr",
          "output_type": "stream",
          "text": [
            "Epoch [564/5000]: 100%|██████████| 10/10 [00:00<00:00, 58.76it/s, loss=1.47]\n"
          ]
        },
        {
          "metadata": {
            "tags": null
          },
          "name": "stdout",
          "output_type": "stream",
          "text": [
            "Epoch [564/5000]: Train loss: 1.4395, Valid loss: 1.0542\n"
          ]
        },
        {
          "metadata": {
            "tags": null
          },
          "name": "stderr",
          "output_type": "stream",
          "text": [
            "Epoch [565/5000]: 100%|██████████| 10/10 [00:00<00:00, 64.61it/s, loss=1.48]\n"
          ]
        },
        {
          "metadata": {
            "tags": null
          },
          "name": "stdout",
          "output_type": "stream",
          "text": [
            "Epoch [565/5000]: Train loss: 1.4397, Valid loss: 1.0328\n"
          ]
        },
        {
          "metadata": {
            "tags": null
          },
          "name": "stderr",
          "output_type": "stream",
          "text": [
            "Epoch [566/5000]: 100%|██████████| 10/10 [00:00<00:00, 49.80it/s, loss=1.45]\n"
          ]
        },
        {
          "metadata": {
            "tags": null
          },
          "name": "stdout",
          "output_type": "stream",
          "text": [
            "Epoch [566/5000]: Train loss: 1.4444, Valid loss: 1.0397\n"
          ]
        },
        {
          "metadata": {
            "tags": null
          },
          "name": "stderr",
          "output_type": "stream",
          "text": [
            "Epoch [567/5000]: 100%|██████████| 10/10 [00:00<00:00, 60.38it/s, loss=1.48]\n"
          ]
        },
        {
          "metadata": {
            "tags": null
          },
          "name": "stdout",
          "output_type": "stream",
          "text": [
            "Epoch [567/5000]: Train loss: 1.4623, Valid loss: 1.0558\n"
          ]
        },
        {
          "metadata": {
            "tags": null
          },
          "name": "stderr",
          "output_type": "stream",
          "text": [
            "Epoch [568/5000]: 100%|██████████| 10/10 [00:00<00:00, 20.66it/s, loss=1.43]\n"
          ]
        },
        {
          "metadata": {
            "tags": null
          },
          "name": "stdout",
          "output_type": "stream",
          "text": [
            "Epoch [568/5000]: Train loss: 1.4994, Valid loss: 1.0647\n"
          ]
        },
        {
          "metadata": {
            "tags": null
          },
          "name": "stderr",
          "output_type": "stream",
          "text": [
            "Epoch [569/5000]: 100%|██████████| 10/10 [00:00<00:00, 64.95it/s, loss=1.38]\n"
          ]
        },
        {
          "metadata": {
            "tags": null
          },
          "name": "stdout",
          "output_type": "stream",
          "text": [
            "Epoch [569/5000]: Train loss: 1.4559, Valid loss: 1.0713\n"
          ]
        },
        {
          "metadata": {
            "tags": null
          },
          "name": "stderr",
          "output_type": "stream",
          "text": [
            "Epoch [570/5000]: 100%|██████████| 10/10 [00:00<00:00, 53.32it/s, loss=1.46]\n"
          ]
        },
        {
          "metadata": {
            "tags": null
          },
          "name": "stdout",
          "output_type": "stream",
          "text": [
            "Epoch [570/5000]: Train loss: 1.4489, Valid loss: 1.0318\n"
          ]
        },
        {
          "metadata": {
            "tags": null
          },
          "name": "stderr",
          "output_type": "stream",
          "text": [
            "Epoch [571/5000]: 100%|██████████| 10/10 [00:00<00:00, 53.54it/s, loss=1.41]\n"
          ]
        },
        {
          "metadata": {
            "tags": null
          },
          "name": "stdout",
          "output_type": "stream",
          "text": [
            "Epoch [571/5000]: Train loss: 1.4647, Valid loss: 1.1029\n"
          ]
        },
        {
          "metadata": {
            "tags": null
          },
          "name": "stderr",
          "output_type": "stream",
          "text": [
            "Epoch [572/5000]: 100%|██████████| 10/10 [00:00<00:00, 61.58it/s, loss=1.37]\n"
          ]
        },
        {
          "metadata": {
            "tags": null
          },
          "name": "stdout",
          "output_type": "stream",
          "text": [
            "Epoch [572/5000]: Train loss: 1.4495, Valid loss: 1.0266\n"
          ]
        },
        {
          "metadata": {
            "tags": null
          },
          "name": "stderr",
          "output_type": "stream",
          "text": [
            "Epoch [573/5000]: 100%|██████████| 10/10 [00:00<00:00, 56.49it/s, loss=1.88]\n"
          ]
        },
        {
          "metadata": {
            "tags": null
          },
          "name": "stdout",
          "output_type": "stream",
          "text": [
            "Epoch [573/5000]: Train loss: 1.4890, Valid loss: 1.0829\n"
          ]
        },
        {
          "metadata": {
            "tags": null
          },
          "name": "stderr",
          "output_type": "stream",
          "text": [
            "Epoch [574/5000]: 100%|██████████| 10/10 [00:00<00:00, 60.69it/s, loss=1.5]\n"
          ]
        },
        {
          "metadata": {
            "tags": null
          },
          "name": "stdout",
          "output_type": "stream",
          "text": [
            "Epoch [574/5000]: Train loss: 1.4356, Valid loss: 1.0703\n"
          ]
        },
        {
          "metadata": {
            "tags": null
          },
          "name": "stderr",
          "output_type": "stream",
          "text": [
            "Epoch [575/5000]: 100%|██████████| 10/10 [00:00<00:00, 62.89it/s, loss=1.43]\n"
          ]
        },
        {
          "metadata": {
            "tags": null
          },
          "name": "stdout",
          "output_type": "stream",
          "text": [
            "Epoch [575/5000]: Train loss: 1.4108, Valid loss: 1.0116\n"
          ]
        },
        {
          "metadata": {
            "tags": null
          },
          "name": "stderr",
          "output_type": "stream",
          "text": [
            "Epoch [576/5000]: 100%|██████████| 10/10 [00:00<00:00, 61.33it/s, loss=1.38]\n"
          ]
        },
        {
          "metadata": {
            "tags": null
          },
          "name": "stdout",
          "output_type": "stream",
          "text": [
            "Epoch [576/5000]: Train loss: 1.4344, Valid loss: 1.0018\n"
          ]
        },
        {
          "metadata": {
            "tags": null
          },
          "name": "stderr",
          "output_type": "stream",
          "text": [
            "Epoch [577/5000]: 100%|██████████| 10/10 [00:00<00:00, 61.51it/s, loss=1.49]\n"
          ]
        },
        {
          "metadata": {
            "tags": null
          },
          "name": "stdout",
          "output_type": "stream",
          "text": [
            "Epoch [577/5000]: Train loss: 1.4629, Valid loss: 1.0958\n"
          ]
        },
        {
          "metadata": {
            "tags": null
          },
          "name": "stderr",
          "output_type": "stream",
          "text": [
            "Epoch [578/5000]: 100%|██████████| 10/10 [00:00<00:00, 57.10it/s, loss=1.33]\n"
          ]
        },
        {
          "metadata": {
            "tags": null
          },
          "name": "stdout",
          "output_type": "stream",
          "text": [
            "Epoch [578/5000]: Train loss: 1.4406, Valid loss: 1.0408\n"
          ]
        },
        {
          "metadata": {
            "tags": null
          },
          "name": "stderr",
          "output_type": "stream",
          "text": [
            "Epoch [579/5000]: 100%|██████████| 10/10 [00:00<00:00, 60.60it/s, loss=1.46]\n"
          ]
        },
        {
          "metadata": {
            "tags": null
          },
          "name": "stdout",
          "output_type": "stream",
          "text": [
            "Epoch [579/5000]: Train loss: 1.4463, Valid loss: 1.0357\n"
          ]
        },
        {
          "metadata": {
            "tags": null
          },
          "name": "stderr",
          "output_type": "stream",
          "text": [
            "Epoch [580/5000]: 100%|██████████| 10/10 [00:00<00:00, 63.75it/s, loss=1.32]\n"
          ]
        },
        {
          "metadata": {
            "tags": null
          },
          "name": "stdout",
          "output_type": "stream",
          "text": [
            "Epoch [580/5000]: Train loss: 1.4216, Valid loss: 1.0091\n"
          ]
        },
        {
          "metadata": {
            "tags": null
          },
          "name": "stderr",
          "output_type": "stream",
          "text": [
            "Epoch [581/5000]: 100%|██████████| 10/10 [00:00<00:00, 63.56it/s, loss=1.5]\n"
          ]
        },
        {
          "metadata": {
            "tags": null
          },
          "name": "stdout",
          "output_type": "stream",
          "text": [
            "Epoch [581/5000]: Train loss: 1.4377, Valid loss: 0.9853\n"
          ]
        },
        {
          "metadata": {
            "tags": null
          },
          "name": "stderr",
          "output_type": "stream",
          "text": [
            "Epoch [582/5000]: 100%|██████████| 10/10 [00:00<00:00, 63.24it/s, loss=1.45]\n"
          ]
        },
        {
          "metadata": {
            "tags": null
          },
          "name": "stdout",
          "output_type": "stream",
          "text": [
            "Epoch [582/5000]: Train loss: 1.4592, Valid loss: 0.9756\n"
          ]
        },
        {
          "metadata": {
            "tags": null
          },
          "name": "stderr",
          "output_type": "stream",
          "text": [
            "Epoch [583/5000]: 100%|██████████| 10/10 [00:00<00:00, 66.18it/s, loss=1.37]\n"
          ]
        },
        {
          "metadata": {
            "tags": null
          },
          "name": "stdout",
          "output_type": "stream",
          "text": [
            "Epoch [583/5000]: Train loss: 1.4380, Valid loss: 1.1473\n"
          ]
        },
        {
          "metadata": {
            "tags": null
          },
          "name": "stderr",
          "output_type": "stream",
          "text": [
            "Epoch [584/5000]: 100%|██████████| 10/10 [00:00<00:00, 63.45it/s, loss=1.28]\n"
          ]
        },
        {
          "metadata": {
            "tags": null
          },
          "name": "stdout",
          "output_type": "stream",
          "text": [
            "Epoch [584/5000]: Train loss: 1.4619, Valid loss: 1.0088\n"
          ]
        },
        {
          "metadata": {
            "tags": null
          },
          "name": "stderr",
          "output_type": "stream",
          "text": [
            "Epoch [585/5000]: 100%|██████████| 10/10 [00:00<00:00, 66.05it/s, loss=1.61]\n"
          ]
        },
        {
          "metadata": {
            "tags": null
          },
          "name": "stdout",
          "output_type": "stream",
          "text": [
            "Epoch [585/5000]: Train loss: 1.4839, Valid loss: 1.0403\n"
          ]
        },
        {
          "metadata": {
            "tags": null
          },
          "name": "stderr",
          "output_type": "stream",
          "text": [
            "Epoch [586/5000]: 100%|██████████| 10/10 [00:00<00:00, 62.88it/s, loss=1.39]\n"
          ]
        },
        {
          "metadata": {
            "tags": null
          },
          "name": "stdout",
          "output_type": "stream",
          "text": [
            "Epoch [586/5000]: Train loss: 1.4237, Valid loss: 1.0613\n"
          ]
        },
        {
          "metadata": {
            "tags": null
          },
          "name": "stderr",
          "output_type": "stream",
          "text": [
            "Epoch [587/5000]: 100%|██████████| 10/10 [00:00<00:00, 64.33it/s, loss=1.4]\n"
          ]
        },
        {
          "metadata": {
            "tags": null
          },
          "name": "stdout",
          "output_type": "stream",
          "text": [
            "Epoch [587/5000]: Train loss: 1.4485, Valid loss: 1.0670\n"
          ]
        },
        {
          "metadata": {
            "tags": null
          },
          "name": "stderr",
          "output_type": "stream",
          "text": [
            "Epoch [588/5000]: 100%|██████████| 10/10 [00:00<00:00, 66.61it/s, loss=1.42]\n"
          ]
        },
        {
          "metadata": {
            "tags": null
          },
          "name": "stdout",
          "output_type": "stream",
          "text": [
            "Epoch [588/5000]: Train loss: 1.4504, Valid loss: 1.1125\n"
          ]
        },
        {
          "metadata": {
            "tags": null
          },
          "name": "stderr",
          "output_type": "stream",
          "text": [
            "Epoch [589/5000]: 100%|██████████| 10/10 [00:00<00:00, 64.58it/s, loss=1.54]\n"
          ]
        },
        {
          "metadata": {
            "tags": null
          },
          "name": "stdout",
          "output_type": "stream",
          "text": [
            "Epoch [589/5000]: Train loss: 1.4402, Valid loss: 1.0807\n"
          ]
        },
        {
          "metadata": {
            "tags": null
          },
          "name": "stderr",
          "output_type": "stream",
          "text": [
            "Epoch [590/5000]: 100%|██████████| 10/10 [00:00<00:00, 64.03it/s, loss=1.41]\n"
          ]
        },
        {
          "metadata": {
            "tags": null
          },
          "name": "stdout",
          "output_type": "stream",
          "text": [
            "Epoch [590/5000]: Train loss: 1.4672, Valid loss: 1.0452\n"
          ]
        },
        {
          "metadata": {
            "tags": null
          },
          "name": "stderr",
          "output_type": "stream",
          "text": [
            "Epoch [591/5000]: 100%|██████████| 10/10 [00:00<00:00, 61.48it/s, loss=1.6]\n"
          ]
        },
        {
          "metadata": {
            "tags": null
          },
          "name": "stdout",
          "output_type": "stream",
          "text": [
            "Epoch [591/5000]: Train loss: 1.4830, Valid loss: 1.0952\n"
          ]
        },
        {
          "metadata": {
            "tags": null
          },
          "name": "stderr",
          "output_type": "stream",
          "text": [
            "Epoch [592/5000]: 100%|██████████| 10/10 [00:00<00:00, 61.58it/s, loss=1.5]\n"
          ]
        },
        {
          "metadata": {
            "tags": null
          },
          "name": "stdout",
          "output_type": "stream",
          "text": [
            "Epoch [592/5000]: Train loss: 1.4653, Valid loss: 1.0292\n"
          ]
        },
        {
          "metadata": {
            "tags": null
          },
          "name": "stderr",
          "output_type": "stream",
          "text": [
            "Epoch [593/5000]: 100%|██████████| 10/10 [00:00<00:00, 23.05it/s, loss=1.3]\n"
          ]
        },
        {
          "metadata": {
            "tags": null
          },
          "name": "stdout",
          "output_type": "stream",
          "text": [
            "Epoch [593/5000]: Train loss: 1.4825, Valid loss: 1.0619\n"
          ]
        },
        {
          "metadata": {
            "tags": null
          },
          "name": "stderr",
          "output_type": "stream",
          "text": [
            "Epoch [594/5000]: 100%|██████████| 10/10 [00:00<00:00, 61.72it/s, loss=1.48]\n"
          ]
        },
        {
          "metadata": {
            "tags": null
          },
          "name": "stdout",
          "output_type": "stream",
          "text": [
            "Epoch [594/5000]: Train loss: 1.4328, Valid loss: 0.9853\n"
          ]
        },
        {
          "metadata": {
            "tags": null
          },
          "name": "stderr",
          "output_type": "stream",
          "text": [
            "Epoch [595/5000]: 100%|██████████| 10/10 [00:00<00:00, 60.10it/s, loss=1.43]\n"
          ]
        },
        {
          "metadata": {
            "tags": null
          },
          "name": "stdout",
          "output_type": "stream",
          "text": [
            "Epoch [595/5000]: Train loss: 1.4282, Valid loss: 0.9909\n"
          ]
        },
        {
          "metadata": {
            "tags": null
          },
          "name": "stderr",
          "output_type": "stream",
          "text": [
            "Epoch [596/5000]: 100%|██████████| 10/10 [00:00<00:00, 67.73it/s, loss=1.57]\n"
          ]
        },
        {
          "metadata": {
            "tags": null
          },
          "name": "stdout",
          "output_type": "stream",
          "text": [
            "Epoch [596/5000]: Train loss: 1.4400, Valid loss: 1.0159\n"
          ]
        },
        {
          "metadata": {
            "tags": null
          },
          "name": "stderr",
          "output_type": "stream",
          "text": [
            "Epoch [597/5000]: 100%|██████████| 10/10 [00:00<00:00, 65.86it/s, loss=1.38]\n"
          ]
        },
        {
          "metadata": {
            "tags": null
          },
          "name": "stdout",
          "output_type": "stream",
          "text": [
            "Epoch [597/5000]: Train loss: 1.4456, Valid loss: 1.0713\n"
          ]
        },
        {
          "metadata": {
            "tags": null
          },
          "name": "stderr",
          "output_type": "stream",
          "text": [
            "Epoch [598/5000]: 100%|██████████| 10/10 [00:00<00:00, 67.46it/s, loss=1.35]\n"
          ]
        },
        {
          "metadata": {
            "tags": null
          },
          "name": "stdout",
          "output_type": "stream",
          "text": [
            "Epoch [598/5000]: Train loss: 1.4657, Valid loss: 1.0061\n"
          ]
        },
        {
          "metadata": {
            "tags": null
          },
          "name": "stderr",
          "output_type": "stream",
          "text": [
            "Epoch [599/5000]: 100%|██████████| 10/10 [00:00<00:00, 63.71it/s, loss=1.37]\n"
          ]
        },
        {
          "metadata": {
            "tags": null
          },
          "name": "stdout",
          "output_type": "stream",
          "text": [
            "Epoch [599/5000]: Train loss: 1.4385, Valid loss: 1.0491\n"
          ]
        },
        {
          "metadata": {
            "tags": null
          },
          "name": "stderr",
          "output_type": "stream",
          "text": [
            "Epoch [600/5000]: 100%|██████████| 10/10 [00:00<00:00, 57.80it/s, loss=1.46]\n"
          ]
        },
        {
          "metadata": {
            "tags": null
          },
          "name": "stdout",
          "output_type": "stream",
          "text": [
            "Epoch [600/5000]: Train loss: 1.4266, Valid loss: 1.0294\n"
          ]
        },
        {
          "metadata": {
            "tags": null
          },
          "name": "stderr",
          "output_type": "stream",
          "text": [
            "Epoch [601/5000]: 100%|██████████| 10/10 [00:00<00:00, 55.31it/s, loss=1.56]\n"
          ]
        },
        {
          "metadata": {
            "tags": null
          },
          "name": "stdout",
          "output_type": "stream",
          "text": [
            "Epoch [601/5000]: Train loss: 1.4531, Valid loss: 1.0315\n"
          ]
        },
        {
          "metadata": {
            "tags": null
          },
          "name": "stderr",
          "output_type": "stream",
          "text": [
            "Epoch [602/5000]: 100%|██████████| 10/10 [00:00<00:00, 55.21it/s, loss=1.59]\n"
          ]
        },
        {
          "metadata": {
            "tags": null
          },
          "name": "stdout",
          "output_type": "stream",
          "text": [
            "Epoch [602/5000]: Train loss: 1.4435, Valid loss: 1.0353\n"
          ]
        },
        {
          "metadata": {
            "tags": null
          },
          "name": "stderr",
          "output_type": "stream",
          "text": [
            "Epoch [603/5000]: 100%|██████████| 10/10 [00:00<00:00, 61.26it/s, loss=1.73]\n"
          ]
        },
        {
          "metadata": {
            "tags": null
          },
          "name": "stdout",
          "output_type": "stream",
          "text": [
            "Epoch [603/5000]: Train loss: 1.4563, Valid loss: 1.0714\n"
          ]
        },
        {
          "metadata": {
            "tags": null
          },
          "name": "stderr",
          "output_type": "stream",
          "text": [
            "Epoch [604/5000]: 100%|██████████| 10/10 [00:00<00:00, 65.23it/s, loss=1.52]\n"
          ]
        },
        {
          "metadata": {
            "tags": null
          },
          "name": "stdout",
          "output_type": "stream",
          "text": [
            "Epoch [604/5000]: Train loss: 1.4777, Valid loss: 1.0297\n"
          ]
        },
        {
          "metadata": {
            "tags": null
          },
          "name": "stderr",
          "output_type": "stream",
          "text": [
            "Epoch [605/5000]: 100%|██████████| 10/10 [00:00<00:00, 66.72it/s, loss=1.44]"
          ]
        },
        {
          "metadata": {
            "tags": null
          },
          "name": "stdout",
          "output_type": "stream",
          "text": [
            "Epoch [605/5000]: Train loss: 1.4571, Valid loss: 1.0071"
          ]
        },
        {
          "metadata": {
            "tags": null
          },
          "name": "stderr",
          "output_type": "stream",
          "text": [
            "\n"
          ]
        },
        {
          "metadata": {
            "tags": null
          },
          "name": "stdout",
          "output_type": "stream",
          "text": [
            "\n"
          ]
        },
        {
          "metadata": {
            "tags": null
          },
          "name": "stderr",
          "output_type": "stream",
          "text": [
            "Epoch [606/5000]: 100%|██████████| 10/10 [00:00<00:00, 65.69it/s, loss=1.4]\n"
          ]
        },
        {
          "metadata": {
            "tags": null
          },
          "name": "stdout",
          "output_type": "stream",
          "text": [
            "Epoch [606/5000]: Train loss: 1.4364, Valid loss: 1.0792\n"
          ]
        },
        {
          "metadata": {
            "tags": null
          },
          "name": "stderr",
          "output_type": "stream",
          "text": [
            "Epoch [607/5000]: 100%|██████████| 10/10 [00:00<00:00, 67.32it/s, loss=1.55]\n"
          ]
        },
        {
          "metadata": {
            "tags": null
          },
          "name": "stdout",
          "output_type": "stream",
          "text": [
            "Epoch [607/5000]: Train loss: 1.4710, Valid loss: 1.0115\n"
          ]
        },
        {
          "metadata": {
            "tags": null
          },
          "name": "stderr",
          "output_type": "stream",
          "text": [
            "Epoch [608/5000]: 100%|██████████| 10/10 [00:00<00:00, 64.95it/s, loss=1.54]\n"
          ]
        },
        {
          "metadata": {
            "tags": null
          },
          "name": "stdout",
          "output_type": "stream",
          "text": [
            "Epoch [608/5000]: Train loss: 1.4471, Valid loss: 1.0837\n"
          ]
        },
        {
          "metadata": {
            "tags": null
          },
          "name": "stderr",
          "output_type": "stream",
          "text": [
            "Epoch [609/5000]: 100%|██████████| 10/10 [00:00<00:00, 67.06it/s, loss=1.5]"
          ]
        },
        {
          "metadata": {
            "tags": null
          },
          "name": "stdout",
          "output_type": "stream",
          "text": [
            "Epoch [609/5000]: Train loss: 1.4409, Valid loss: 1.0729\n"
          ]
        },
        {
          "metadata": {
            "tags": null
          },
          "name": "stderr",
          "output_type": "stream",
          "text": [
            "\n",
            "Epoch [610/5000]: 100%|██████████| 10/10 [00:00<00:00, 65.35it/s, loss=1.53]\n"
          ]
        },
        {
          "metadata": {
            "tags": null
          },
          "name": "stdout",
          "output_type": "stream",
          "text": [
            "Epoch [610/5000]: Train loss: 1.4267, Valid loss: 1.0988\n"
          ]
        },
        {
          "metadata": {
            "tags": null
          },
          "name": "stderr",
          "output_type": "stream",
          "text": [
            "Epoch [611/5000]: 100%|██████████| 10/10 [00:00<00:00, 61.95it/s, loss=1.74]\n"
          ]
        },
        {
          "metadata": {
            "tags": null
          },
          "name": "stdout",
          "output_type": "stream",
          "text": [
            "Epoch [611/5000]: Train loss: 1.4866, Valid loss: 0.9998\n"
          ]
        },
        {
          "metadata": {
            "tags": null
          },
          "name": "stderr",
          "output_type": "stream",
          "text": [
            "Epoch [612/5000]: 100%|██████████| 10/10 [00:00<00:00, 56.77it/s, loss=1.42]\n"
          ]
        },
        {
          "metadata": {
            "tags": null
          },
          "name": "stdout",
          "output_type": "stream",
          "text": [
            "Epoch [612/5000]: Train loss: 1.4163, Valid loss: 1.0774\n"
          ]
        },
        {
          "metadata": {
            "tags": null
          },
          "name": "stderr",
          "output_type": "stream",
          "text": [
            "Epoch [613/5000]: 100%|██████████| 10/10 [00:00<00:00, 58.42it/s, loss=1.38]\n"
          ]
        },
        {
          "metadata": {
            "tags": null
          },
          "name": "stdout",
          "output_type": "stream",
          "text": [
            "Epoch [613/5000]: Train loss: 1.4373, Valid loss: 1.0780\n"
          ]
        },
        {
          "metadata": {
            "tags": null
          },
          "name": "stderr",
          "output_type": "stream",
          "text": [
            "Epoch [614/5000]: 100%|██████████| 10/10 [00:00<00:00, 63.14it/s, loss=1.35]\n"
          ]
        },
        {
          "metadata": {
            "tags": null
          },
          "name": "stdout",
          "output_type": "stream",
          "text": [
            "Epoch [614/5000]: Train loss: 1.4507, Valid loss: 1.0175\n"
          ]
        },
        {
          "metadata": {
            "tags": null
          },
          "name": "stderr",
          "output_type": "stream",
          "text": [
            "Epoch [615/5000]: 100%|██████████| 10/10 [00:00<00:00, 65.60it/s, loss=1.37]\n"
          ]
        },
        {
          "metadata": {
            "tags": null
          },
          "name": "stdout",
          "output_type": "stream",
          "text": [
            "Epoch [615/5000]: Train loss: 1.4035, Valid loss: 1.0675\n"
          ]
        },
        {
          "metadata": {
            "tags": null
          },
          "name": "stderr",
          "output_type": "stream",
          "text": [
            "Epoch [616/5000]: 100%|██████████| 10/10 [00:00<00:00, 20.27it/s, loss=1.45]\n"
          ]
        },
        {
          "metadata": {
            "tags": null
          },
          "name": "stdout",
          "output_type": "stream",
          "text": [
            "Epoch [616/5000]: Train loss: 1.4481, Valid loss: 1.0433\n"
          ]
        },
        {
          "metadata": {
            "tags": null
          },
          "name": "stderr",
          "output_type": "stream",
          "text": [
            "Epoch [617/5000]: 100%|██████████| 10/10 [00:00<00:00, 55.72it/s, loss=1.47]\n"
          ]
        },
        {
          "metadata": {
            "tags": null
          },
          "name": "stdout",
          "output_type": "stream",
          "text": [
            "Epoch [617/5000]: Train loss: 1.4627, Valid loss: 1.1240\n"
          ]
        },
        {
          "metadata": {
            "tags": null
          },
          "name": "stderr",
          "output_type": "stream",
          "text": [
            "Epoch [618/5000]: 100%|██████████| 10/10 [00:00<00:00, 52.42it/s, loss=1.64]\n"
          ]
        },
        {
          "metadata": {
            "tags": null
          },
          "name": "stdout",
          "output_type": "stream",
          "text": [
            "Epoch [618/5000]: Train loss: 1.4397, Valid loss: 1.0925\n"
          ]
        },
        {
          "metadata": {
            "tags": null
          },
          "name": "stderr",
          "output_type": "stream",
          "text": [
            "Epoch [619/5000]: 100%|██████████| 10/10 [00:00<00:00, 60.19it/s, loss=1.22]\n"
          ]
        },
        {
          "metadata": {
            "tags": null
          },
          "name": "stdout",
          "output_type": "stream",
          "text": [
            "Epoch [619/5000]: Train loss: 1.4135, Valid loss: 1.1343\n"
          ]
        },
        {
          "metadata": {
            "tags": null
          },
          "name": "stderr",
          "output_type": "stream",
          "text": [
            "Epoch [620/5000]: 100%|██████████| 10/10 [00:00<00:00, 56.38it/s, loss=1.53]\n"
          ]
        },
        {
          "metadata": {
            "tags": null
          },
          "name": "stdout",
          "output_type": "stream",
          "text": [
            "Epoch [620/5000]: Train loss: 1.4477, Valid loss: 1.0889\n"
          ]
        },
        {
          "metadata": {
            "tags": null
          },
          "name": "stderr",
          "output_type": "stream",
          "text": [
            "Epoch [621/5000]: 100%|██████████| 10/10 [00:00<00:00, 63.30it/s, loss=1.57]\n"
          ]
        },
        {
          "metadata": {
            "tags": null
          },
          "name": "stdout",
          "output_type": "stream",
          "text": [
            "Epoch [621/5000]: Train loss: 1.4281, Valid loss: 1.0444\n"
          ]
        },
        {
          "metadata": {
            "tags": null
          },
          "name": "stderr",
          "output_type": "stream",
          "text": [
            "Epoch [622/5000]: 100%|██████████| 10/10 [00:00<00:00, 54.64it/s, loss=1.56]\n"
          ]
        },
        {
          "metadata": {
            "tags": null
          },
          "name": "stdout",
          "output_type": "stream",
          "text": [
            "Epoch [622/5000]: Train loss: 1.4669, Valid loss: 1.1033\n"
          ]
        },
        {
          "metadata": {
            "tags": null
          },
          "name": "stderr",
          "output_type": "stream",
          "text": [
            "Epoch [623/5000]: 100%|██████████| 10/10 [00:00<00:00, 54.99it/s, loss=1.43]\n"
          ]
        },
        {
          "metadata": {
            "tags": null
          },
          "name": "stdout",
          "output_type": "stream",
          "text": [
            "Epoch [623/5000]: Train loss: 1.4150, Valid loss: 1.0071\n"
          ]
        },
        {
          "metadata": {
            "tags": null
          },
          "name": "stderr",
          "output_type": "stream",
          "text": [
            "Epoch [624/5000]: 100%|██████████| 10/10 [00:00<00:00, 57.65it/s, loss=1.21]\n"
          ]
        },
        {
          "metadata": {
            "tags": null
          },
          "name": "stdout",
          "output_type": "stream",
          "text": [
            "Epoch [624/5000]: Train loss: 1.4114, Valid loss: 1.0289\n"
          ]
        },
        {
          "metadata": {
            "tags": null
          },
          "name": "stderr",
          "output_type": "stream",
          "text": [
            "Epoch [625/5000]: 100%|██████████| 10/10 [00:00<00:00, 64.35it/s, loss=1.21]\n"
          ]
        },
        {
          "metadata": {
            "tags": null
          },
          "name": "stdout",
          "output_type": "stream",
          "text": [
            "Epoch [625/5000]: Train loss: 1.4420, Valid loss: 1.0277\n"
          ]
        },
        {
          "metadata": {
            "tags": null
          },
          "name": "stderr",
          "output_type": "stream",
          "text": [
            "Epoch [626/5000]: 100%|██████████| 10/10 [00:00<00:00, 56.42it/s, loss=1.48]\n"
          ]
        },
        {
          "metadata": {
            "tags": null
          },
          "name": "stdout",
          "output_type": "stream",
          "text": [
            "Epoch [626/5000]: Train loss: 1.4433, Valid loss: 0.9846\n"
          ]
        },
        {
          "metadata": {
            "tags": null
          },
          "name": "stderr",
          "output_type": "stream",
          "text": [
            "Epoch [627/5000]: 100%|██████████| 10/10 [00:00<00:00, 63.50it/s, loss=1.49]\n"
          ]
        },
        {
          "metadata": {
            "tags": null
          },
          "name": "stdout",
          "output_type": "stream",
          "text": [
            "Epoch [627/5000]: Train loss: 1.4444, Valid loss: 1.0784\n"
          ]
        },
        {
          "metadata": {
            "tags": null
          },
          "name": "stderr",
          "output_type": "stream",
          "text": [
            "Epoch [628/5000]: 100%|██████████| 10/10 [00:00<00:00, 60.14it/s, loss=1.58]\n"
          ]
        },
        {
          "metadata": {
            "tags": null
          },
          "name": "stdout",
          "output_type": "stream",
          "text": [
            "Epoch [628/5000]: Train loss: 1.4232, Valid loss: 1.0375\n"
          ]
        },
        {
          "metadata": {
            "tags": null
          },
          "name": "stderr",
          "output_type": "stream",
          "text": [
            "Epoch [629/5000]: 100%|██████████| 10/10 [00:00<00:00, 60.42it/s, loss=1.61]\n"
          ]
        },
        {
          "metadata": {
            "tags": null
          },
          "name": "stdout",
          "output_type": "stream",
          "text": [
            "Epoch [629/5000]: Train loss: 1.4589, Valid loss: 1.1078\n"
          ]
        },
        {
          "metadata": {
            "tags": null
          },
          "name": "stderr",
          "output_type": "stream",
          "text": [
            "Epoch [630/5000]: 100%|██████████| 10/10 [00:00<00:00, 51.63it/s, loss=1.51]\n"
          ]
        },
        {
          "metadata": {
            "tags": null
          },
          "name": "stdout",
          "output_type": "stream",
          "text": [
            "Epoch [630/5000]: Train loss: 1.4531, Valid loss: 1.1379\n"
          ]
        },
        {
          "metadata": {
            "tags": null
          },
          "name": "stderr",
          "output_type": "stream",
          "text": [
            "Epoch [631/5000]: 100%|██████████| 10/10 [00:00<00:00, 58.65it/s, loss=1.62]\n"
          ]
        },
        {
          "metadata": {
            "tags": null
          },
          "name": "stdout",
          "output_type": "stream",
          "text": [
            "Epoch [631/5000]: Train loss: 1.4671, Valid loss: 1.0423\n"
          ]
        },
        {
          "metadata": {
            "tags": null
          },
          "name": "stderr",
          "output_type": "stream",
          "text": [
            "Epoch [632/5000]: 100%|██████████| 10/10 [00:00<00:00, 52.24it/s, loss=1.36]\n"
          ]
        },
        {
          "metadata": {
            "tags": null
          },
          "name": "stdout",
          "output_type": "stream",
          "text": [
            "Epoch [632/5000]: Train loss: 1.4358, Valid loss: 1.1085\n"
          ]
        },
        {
          "metadata": {
            "tags": null
          },
          "name": "stderr",
          "output_type": "stream",
          "text": [
            "Epoch [633/5000]: 100%|██████████| 10/10 [00:00<00:00, 57.45it/s, loss=1.53]\n"
          ]
        },
        {
          "metadata": {
            "tags": null
          },
          "name": "stdout",
          "output_type": "stream",
          "text": [
            "Epoch [633/5000]: Train loss: 1.4610, Valid loss: 1.1887\n"
          ]
        },
        {
          "metadata": {
            "tags": null
          },
          "name": "stderr",
          "output_type": "stream",
          "text": [
            "Epoch [634/5000]: 100%|██████████| 10/10 [00:00<00:00, 58.12it/s, loss=1.51]\n"
          ]
        },
        {
          "metadata": {
            "tags": null
          },
          "name": "stdout",
          "output_type": "stream",
          "text": [
            "Epoch [634/5000]: Train loss: 1.4463, Valid loss: 1.0568\n"
          ]
        },
        {
          "metadata": {
            "tags": null
          },
          "name": "stderr",
          "output_type": "stream",
          "text": [
            "Epoch [635/5000]: 100%|██████████| 10/10 [00:00<00:00, 58.02it/s, loss=1.6]\n"
          ]
        },
        {
          "metadata": {
            "tags": null
          },
          "name": "stdout",
          "output_type": "stream",
          "text": [
            "Epoch [635/5000]: Train loss: 1.4820, Valid loss: 1.0569\n"
          ]
        },
        {
          "metadata": {
            "tags": null
          },
          "name": "stderr",
          "output_type": "stream",
          "text": [
            "Epoch [636/5000]: 100%|██████████| 10/10 [00:00<00:00, 56.79it/s, loss=1.45]\n"
          ]
        },
        {
          "metadata": {
            "tags": null
          },
          "name": "stdout",
          "output_type": "stream",
          "text": [
            "Epoch [636/5000]: Train loss: 1.4769, Valid loss: 1.0443\n"
          ]
        },
        {
          "metadata": {
            "tags": null
          },
          "name": "stderr",
          "output_type": "stream",
          "text": [
            "Epoch [637/5000]: 100%|██████████| 10/10 [00:00<00:00, 51.49it/s, loss=1.41]\n"
          ]
        },
        {
          "metadata": {
            "tags": null
          },
          "name": "stdout",
          "output_type": "stream",
          "text": [
            "Epoch [637/5000]: Train loss: 1.4527, Valid loss: 0.9763\n"
          ]
        },
        {
          "metadata": {
            "tags": null
          },
          "name": "stderr",
          "output_type": "stream",
          "text": [
            "Epoch [638/5000]: 100%|██████████| 10/10 [00:00<00:00, 57.64it/s, loss=1.34]\n"
          ]
        },
        {
          "metadata": {
            "tags": null
          },
          "name": "stdout",
          "output_type": "stream",
          "text": [
            "Epoch [638/5000]: Train loss: 1.4393, Valid loss: 1.1119\n"
          ]
        },
        {
          "metadata": {
            "tags": null
          },
          "name": "stderr",
          "output_type": "stream",
          "text": [
            "Epoch [639/5000]: 100%|██████████| 10/10 [00:00<00:00, 58.46it/s, loss=1.38]\n"
          ]
        },
        {
          "metadata": {
            "tags": null
          },
          "name": "stdout",
          "output_type": "stream",
          "text": [
            "Epoch [639/5000]: Train loss: 1.4485, Valid loss: 1.0564\n"
          ]
        },
        {
          "metadata": {
            "tags": null
          },
          "name": "stderr",
          "output_type": "stream",
          "text": [
            "Epoch [640/5000]: 100%|██████████| 10/10 [00:00<00:00, 57.09it/s, loss=1.71]\n"
          ]
        },
        {
          "metadata": {
            "tags": null
          },
          "name": "stdout",
          "output_type": "stream",
          "text": [
            "Epoch [640/5000]: Train loss: 1.4667, Valid loss: 1.0726\n"
          ]
        },
        {
          "metadata": {
            "tags": null
          },
          "name": "stderr",
          "output_type": "stream",
          "text": [
            "Epoch [641/5000]: 100%|██████████| 10/10 [00:00<00:00, 60.11it/s, loss=1.53]\n"
          ]
        },
        {
          "metadata": {
            "tags": null
          },
          "name": "stdout",
          "output_type": "stream",
          "text": [
            "Epoch [641/5000]: Train loss: 1.4451, Valid loss: 1.1231\n"
          ]
        },
        {
          "metadata": {
            "tags": null
          },
          "name": "stderr",
          "output_type": "stream",
          "text": [
            "Epoch [642/5000]: 100%|██████████| 10/10 [00:00<00:00, 22.22it/s, loss=1.55]\n"
          ]
        },
        {
          "metadata": {
            "tags": null
          },
          "name": "stdout",
          "output_type": "stream",
          "text": [
            "Epoch [642/5000]: Train loss: 1.4279, Valid loss: 1.0604\n"
          ]
        },
        {
          "metadata": {
            "tags": null
          },
          "name": "stderr",
          "output_type": "stream",
          "text": [
            "Epoch [643/5000]: 100%|██████████| 10/10 [00:00<00:00, 59.94it/s, loss=1.62]\n"
          ]
        },
        {
          "metadata": {
            "tags": null
          },
          "name": "stdout",
          "output_type": "stream",
          "text": [
            "Epoch [643/5000]: Train loss: 1.4473, Valid loss: 1.2424\n"
          ]
        },
        {
          "metadata": {
            "tags": null
          },
          "name": "stderr",
          "output_type": "stream",
          "text": [
            "Epoch [644/5000]: 100%|██████████| 10/10 [00:00<00:00, 60.10it/s, loss=1.22]\n"
          ]
        },
        {
          "metadata": {
            "tags": null
          },
          "name": "stdout",
          "output_type": "stream",
          "text": [
            "Epoch [644/5000]: Train loss: 1.4233, Valid loss: 1.1949\n"
          ]
        },
        {
          "metadata": {
            "tags": null
          },
          "name": "stderr",
          "output_type": "stream",
          "text": [
            "Epoch [645/5000]: 100%|██████████| 10/10 [00:00<00:00, 64.09it/s, loss=1.64]\n"
          ]
        },
        {
          "metadata": {
            "tags": null
          },
          "name": "stdout",
          "output_type": "stream",
          "text": [
            "Epoch [645/5000]: Train loss: 1.4206, Valid loss: 1.0012\n"
          ]
        },
        {
          "metadata": {
            "tags": null
          },
          "name": "stderr",
          "output_type": "stream",
          "text": [
            "Epoch [646/5000]: 100%|██████████| 10/10 [00:00<00:00, 58.07it/s, loss=1.51]\n"
          ]
        },
        {
          "metadata": {
            "tags": null
          },
          "name": "stdout",
          "output_type": "stream",
          "text": [
            "Epoch [646/5000]: Train loss: 1.4526, Valid loss: 1.0517\n"
          ]
        },
        {
          "metadata": {
            "tags": null
          },
          "name": "stderr",
          "output_type": "stream",
          "text": [
            "Epoch [647/5000]: 100%|██████████| 10/10 [00:00<00:00, 58.49it/s, loss=1.33]\n"
          ]
        },
        {
          "metadata": {
            "tags": null
          },
          "name": "stdout",
          "output_type": "stream",
          "text": [
            "Epoch [647/5000]: Train loss: 1.4475, Valid loss: 1.0801\n"
          ]
        },
        {
          "metadata": {
            "tags": null
          },
          "name": "stderr",
          "output_type": "stream",
          "text": [
            "Epoch [648/5000]: 100%|██████████| 10/10 [00:00<00:00, 67.26it/s, loss=1.36]\n"
          ]
        },
        {
          "metadata": {
            "tags": null
          },
          "name": "stdout",
          "output_type": "stream",
          "text": [
            "Epoch [648/5000]: Train loss: 1.4294, Valid loss: 1.0530\n"
          ]
        },
        {
          "metadata": {
            "tags": null
          },
          "name": "stderr",
          "output_type": "stream",
          "text": [
            "Epoch [649/5000]: 100%|██████████| 10/10 [00:00<00:00, 58.61it/s, loss=1.53]\n"
          ]
        },
        {
          "metadata": {
            "tags": null
          },
          "name": "stdout",
          "output_type": "stream",
          "text": [
            "Epoch [649/5000]: Train loss: 1.4274, Valid loss: 1.0480\n"
          ]
        },
        {
          "metadata": {
            "tags": null
          },
          "name": "stderr",
          "output_type": "stream",
          "text": [
            "Epoch [650/5000]: 100%|██████████| 10/10 [00:00<00:00, 57.60it/s, loss=1.36]\n"
          ]
        },
        {
          "metadata": {
            "tags": null
          },
          "name": "stdout",
          "output_type": "stream",
          "text": [
            "Epoch [650/5000]: Train loss: 1.3978, Valid loss: 1.0701\n"
          ]
        },
        {
          "metadata": {
            "tags": null
          },
          "name": "stderr",
          "output_type": "stream",
          "text": [
            "Epoch [651/5000]: 100%|██████████| 10/10 [00:00<00:00, 59.39it/s, loss=1.48]\n"
          ]
        },
        {
          "metadata": {
            "tags": null
          },
          "name": "stdout",
          "output_type": "stream",
          "text": [
            "Epoch [651/5000]: Train loss: 1.4257, Valid loss: 1.0091\n"
          ]
        },
        {
          "metadata": {
            "tags": null
          },
          "name": "stderr",
          "output_type": "stream",
          "text": [
            "Epoch [652/5000]: 100%|██████████| 10/10 [00:00<00:00, 22.50it/s, loss=1.39]\n"
          ]
        },
        {
          "metadata": {
            "tags": null
          },
          "name": "stdout",
          "output_type": "stream",
          "text": [
            "Epoch [652/5000]: Train loss: 1.4455, Valid loss: 1.1045\n"
          ]
        },
        {
          "metadata": {
            "tags": null
          },
          "name": "stderr",
          "output_type": "stream",
          "text": [
            "Epoch [653/5000]: 100%|██████████| 10/10 [00:00<00:00, 60.39it/s, loss=1.27]\n"
          ]
        },
        {
          "metadata": {
            "tags": null
          },
          "name": "stdout",
          "output_type": "stream",
          "text": [
            "Epoch [653/5000]: Train loss: 1.4177, Valid loss: 1.1636\n"
          ]
        },
        {
          "metadata": {
            "tags": null
          },
          "name": "stderr",
          "output_type": "stream",
          "text": [
            "Epoch [654/5000]: 100%|██████████| 10/10 [00:00<00:00, 58.25it/s, loss=1.34]\n"
          ]
        },
        {
          "metadata": {
            "tags": null
          },
          "name": "stdout",
          "output_type": "stream",
          "text": [
            "Epoch [654/5000]: Train loss: 1.4193, Valid loss: 1.1421\n"
          ]
        },
        {
          "metadata": {
            "tags": null
          },
          "name": "stderr",
          "output_type": "stream",
          "text": [
            "Epoch [655/5000]: 100%|██████████| 10/10 [00:00<00:00, 60.91it/s, loss=1.53]\n"
          ]
        },
        {
          "metadata": {
            "tags": null
          },
          "name": "stdout",
          "output_type": "stream",
          "text": [
            "Epoch [655/5000]: Train loss: 1.4615, Valid loss: 0.9988\n"
          ]
        },
        {
          "metadata": {
            "tags": null
          },
          "name": "stderr",
          "output_type": "stream",
          "text": [
            "Epoch [656/5000]: 100%|██████████| 10/10 [00:00<00:00, 61.43it/s, loss=1.55]\n"
          ]
        },
        {
          "metadata": {
            "tags": null
          },
          "name": "stdout",
          "output_type": "stream",
          "text": [
            "Epoch [656/5000]: Train loss: 1.4122, Valid loss: 0.9949\n"
          ]
        },
        {
          "metadata": {
            "tags": null
          },
          "name": "stderr",
          "output_type": "stream",
          "text": [
            "Epoch [657/5000]: 100%|██████████| 10/10 [00:00<00:00, 61.05it/s, loss=1.33]\n"
          ]
        },
        {
          "metadata": {
            "tags": null
          },
          "name": "stdout",
          "output_type": "stream",
          "text": [
            "Epoch [657/5000]: Train loss: 1.4160, Valid loss: 1.1626\n"
          ]
        },
        {
          "metadata": {
            "tags": null
          },
          "name": "stderr",
          "output_type": "stream",
          "text": [
            "Epoch [658/5000]: 100%|██████████| 10/10 [00:00<00:00, 64.87it/s, loss=1.32]\n"
          ]
        },
        {
          "metadata": {
            "tags": null
          },
          "name": "stdout",
          "output_type": "stream",
          "text": [
            "Epoch [658/5000]: Train loss: 1.4415, Valid loss: 1.1113\n"
          ]
        },
        {
          "metadata": {
            "tags": null
          },
          "name": "stderr",
          "output_type": "stream",
          "text": [
            "Epoch [659/5000]: 100%|██████████| 10/10 [00:00<00:00, 51.83it/s, loss=1.34]\n"
          ]
        },
        {
          "metadata": {
            "tags": null
          },
          "name": "stdout",
          "output_type": "stream",
          "text": [
            "Epoch [659/5000]: Train loss: 1.4308, Valid loss: 1.0023\n"
          ]
        },
        {
          "metadata": {
            "tags": null
          },
          "name": "stderr",
          "output_type": "stream",
          "text": [
            "Epoch [660/5000]: 100%|██████████| 10/10 [00:00<00:00, 59.26it/s, loss=1.29]\n"
          ]
        },
        {
          "metadata": {
            "tags": null
          },
          "name": "stdout",
          "output_type": "stream",
          "text": [
            "Epoch [660/5000]: Train loss: 1.4325, Valid loss: 0.9700\n",
            "Saving model with loss 0.970...\n"
          ]
        },
        {
          "metadata": {
            "tags": null
          },
          "name": "stderr",
          "output_type": "stream",
          "text": [
            "Epoch [661/5000]: 100%|██████████| 10/10 [00:00<00:00, 60.97it/s, loss=1.56]\n"
          ]
        },
        {
          "metadata": {
            "tags": null
          },
          "name": "stdout",
          "output_type": "stream",
          "text": [
            "Epoch [661/5000]: Train loss: 1.4447, Valid loss: 1.0211\n"
          ]
        },
        {
          "metadata": {
            "tags": null
          },
          "name": "stderr",
          "output_type": "stream",
          "text": [
            "Epoch [662/5000]: 100%|██████████| 10/10 [00:00<00:00, 21.13it/s, loss=1.69]\n"
          ]
        },
        {
          "metadata": {
            "tags": null
          },
          "name": "stdout",
          "output_type": "stream",
          "text": [
            "Epoch [662/5000]: Train loss: 1.4572, Valid loss: 1.0910\n"
          ]
        },
        {
          "metadata": {
            "tags": null
          },
          "name": "stderr",
          "output_type": "stream",
          "text": [
            "Epoch [663/5000]: 100%|██████████| 10/10 [00:00<00:00, 54.33it/s, loss=1.59]\n"
          ]
        },
        {
          "metadata": {
            "tags": null
          },
          "name": "stdout",
          "output_type": "stream",
          "text": [
            "Epoch [663/5000]: Train loss: 1.4498, Valid loss: 1.0337\n"
          ]
        },
        {
          "metadata": {
            "tags": null
          },
          "name": "stderr",
          "output_type": "stream",
          "text": [
            "Epoch [664/5000]: 100%|██████████| 10/10 [00:00<00:00, 58.93it/s, loss=1.37]\n"
          ]
        },
        {
          "metadata": {
            "tags": null
          },
          "name": "stdout",
          "output_type": "stream",
          "text": [
            "Epoch [664/5000]: Train loss: 1.4140, Valid loss: 1.0253\n"
          ]
        },
        {
          "metadata": {
            "tags": null
          },
          "name": "stderr",
          "output_type": "stream",
          "text": [
            "Epoch [665/5000]: 100%|██████████| 10/10 [00:00<00:00, 58.72it/s, loss=1.4]\n"
          ]
        },
        {
          "metadata": {
            "tags": null
          },
          "name": "stdout",
          "output_type": "stream",
          "text": [
            "Epoch [665/5000]: Train loss: 1.4504, Valid loss: 1.0813\n"
          ]
        },
        {
          "metadata": {
            "tags": null
          },
          "name": "stderr",
          "output_type": "stream",
          "text": [
            "Epoch [666/5000]: 100%|██████████| 10/10 [00:00<00:00, 65.00it/s, loss=1.27]\n"
          ]
        },
        {
          "metadata": {
            "tags": null
          },
          "name": "stdout",
          "output_type": "stream",
          "text": [
            "Epoch [666/5000]: Train loss: 1.4059, Valid loss: 1.0860\n"
          ]
        },
        {
          "metadata": {
            "tags": null
          },
          "name": "stderr",
          "output_type": "stream",
          "text": [
            "Epoch [667/5000]: 100%|██████████| 10/10 [00:00<00:00, 60.24it/s, loss=1.29]\n"
          ]
        },
        {
          "metadata": {
            "tags": null
          },
          "name": "stdout",
          "output_type": "stream",
          "text": [
            "Epoch [667/5000]: Train loss: 1.4286, Valid loss: 1.1508\n"
          ]
        },
        {
          "metadata": {
            "tags": null
          },
          "name": "stderr",
          "output_type": "stream",
          "text": [
            "Epoch [668/5000]: 100%|██████████| 10/10 [00:00<00:00, 57.11it/s, loss=1.38]\n"
          ]
        },
        {
          "metadata": {
            "tags": null
          },
          "name": "stdout",
          "output_type": "stream",
          "text": [
            "Epoch [668/5000]: Train loss: 1.4236, Valid loss: 1.1586\n"
          ]
        },
        {
          "metadata": {
            "tags": null
          },
          "name": "stderr",
          "output_type": "stream",
          "text": [
            "Epoch [669/5000]: 100%|██████████| 10/10 [00:00<00:00, 62.99it/s, loss=1.37]\n"
          ]
        },
        {
          "metadata": {
            "tags": null
          },
          "name": "stdout",
          "output_type": "stream",
          "text": [
            "Epoch [669/5000]: Train loss: 1.4330, Valid loss: 0.9741\n"
          ]
        },
        {
          "metadata": {
            "tags": null
          },
          "name": "stderr",
          "output_type": "stream",
          "text": [
            "Epoch [670/5000]: 100%|██████████| 10/10 [00:00<00:00, 49.22it/s, loss=1.4]\n"
          ]
        },
        {
          "metadata": {
            "tags": null
          },
          "name": "stdout",
          "output_type": "stream",
          "text": [
            "Epoch [670/5000]: Train loss: 1.4348, Valid loss: 0.9771\n"
          ]
        },
        {
          "metadata": {
            "tags": null
          },
          "name": "stderr",
          "output_type": "stream",
          "text": [
            "Epoch [671/5000]: 100%|██████████| 10/10 [00:00<00:00, 45.16it/s, loss=1.46]\n"
          ]
        },
        {
          "metadata": {
            "tags": null
          },
          "name": "stdout",
          "output_type": "stream",
          "text": [
            "Epoch [671/5000]: Train loss: 1.4588, Valid loss: 1.1175\n"
          ]
        },
        {
          "metadata": {
            "tags": null
          },
          "name": "stderr",
          "output_type": "stream",
          "text": [
            "Epoch [672/5000]: 100%|██████████| 10/10 [00:00<00:00, 44.74it/s, loss=1.44]\n"
          ]
        },
        {
          "metadata": {
            "tags": null
          },
          "name": "stdout",
          "output_type": "stream",
          "text": [
            "Epoch [672/5000]: Train loss: 1.4623, Valid loss: 1.0961\n"
          ]
        },
        {
          "metadata": {
            "tags": null
          },
          "name": "stderr",
          "output_type": "stream",
          "text": [
            "Epoch [673/5000]: 100%|██████████| 10/10 [00:00<00:00, 20.62it/s, loss=1.51]\n"
          ]
        },
        {
          "metadata": {
            "tags": null
          },
          "name": "stdout",
          "output_type": "stream",
          "text": [
            "Epoch [673/5000]: Train loss: 1.4454, Valid loss: 1.0565\n"
          ]
        },
        {
          "metadata": {
            "tags": null
          },
          "name": "stderr",
          "output_type": "stream",
          "text": [
            "Epoch [674/5000]: 100%|██████████| 10/10 [00:00<00:00, 54.09it/s, loss=1.46]\n"
          ]
        },
        {
          "metadata": {
            "tags": null
          },
          "name": "stdout",
          "output_type": "stream",
          "text": [
            "Epoch [674/5000]: Train loss: 1.4395, Valid loss: 1.1114\n"
          ]
        },
        {
          "metadata": {
            "tags": null
          },
          "name": "stderr",
          "output_type": "stream",
          "text": [
            "Epoch [675/5000]: 100%|██████████| 10/10 [00:00<00:00, 48.28it/s, loss=1.51]\n"
          ]
        },
        {
          "metadata": {
            "tags": null
          },
          "name": "stdout",
          "output_type": "stream",
          "text": [
            "Epoch [675/5000]: Train loss: 1.4450, Valid loss: 0.9930\n"
          ]
        },
        {
          "metadata": {
            "tags": null
          },
          "name": "stderr",
          "output_type": "stream",
          "text": [
            "Epoch [676/5000]: 100%|██████████| 10/10 [00:00<00:00, 54.13it/s, loss=1.47]\n"
          ]
        },
        {
          "metadata": {
            "tags": null
          },
          "name": "stdout",
          "output_type": "stream",
          "text": [
            "Epoch [676/5000]: Train loss: 1.4184, Valid loss: 1.0545\n"
          ]
        },
        {
          "metadata": {
            "tags": null
          },
          "name": "stderr",
          "output_type": "stream",
          "text": [
            "Epoch [677/5000]: 100%|██████████| 10/10 [00:00<00:00, 63.22it/s, loss=1.39]\n"
          ]
        },
        {
          "metadata": {
            "tags": null
          },
          "name": "stdout",
          "output_type": "stream",
          "text": [
            "Epoch [677/5000]: Train loss: 1.4519, Valid loss: 1.0226\n"
          ]
        },
        {
          "metadata": {
            "tags": null
          },
          "name": "stderr",
          "output_type": "stream",
          "text": [
            "Epoch [678/5000]: 100%|██████████| 10/10 [00:00<00:00, 61.02it/s, loss=1.58]\n"
          ]
        },
        {
          "metadata": {
            "tags": null
          },
          "name": "stdout",
          "output_type": "stream",
          "text": [
            "Epoch [678/5000]: Train loss: 1.4212, Valid loss: 1.0599\n"
          ]
        },
        {
          "metadata": {
            "tags": null
          },
          "name": "stderr",
          "output_type": "stream",
          "text": [
            "Epoch [679/5000]: 100%|██████████| 10/10 [00:00<00:00, 67.14it/s, loss=1.36]\n"
          ]
        },
        {
          "metadata": {
            "tags": null
          },
          "name": "stdout",
          "output_type": "stream",
          "text": [
            "Epoch [679/5000]: Train loss: 1.4613, Valid loss: 1.0465\n"
          ]
        },
        {
          "metadata": {
            "tags": null
          },
          "name": "stderr",
          "output_type": "stream",
          "text": [
            "Epoch [680/5000]: 100%|██████████| 10/10 [00:00<00:00, 67.88it/s, loss=1.49]\n"
          ]
        },
        {
          "metadata": {
            "tags": null
          },
          "name": "stdout",
          "output_type": "stream",
          "text": [
            "Epoch [680/5000]: Train loss: 1.4519, Valid loss: 1.0527\n"
          ]
        },
        {
          "metadata": {
            "tags": null
          },
          "name": "stderr",
          "output_type": "stream",
          "text": [
            "Epoch [681/5000]: 100%|██████████| 10/10 [00:00<00:00, 68.35it/s, loss=1.49]\n"
          ]
        },
        {
          "metadata": {
            "tags": null
          },
          "name": "stdout",
          "output_type": "stream",
          "text": [
            "Epoch [681/5000]: Train loss: 1.4426, Valid loss: 1.0329\n"
          ]
        },
        {
          "metadata": {
            "tags": null
          },
          "name": "stderr",
          "output_type": "stream",
          "text": [
            "Epoch [682/5000]: 100%|██████████| 10/10 [00:00<00:00, 57.14it/s, loss=1.52]\n"
          ]
        },
        {
          "metadata": {
            "tags": null
          },
          "name": "stdout",
          "output_type": "stream",
          "text": [
            "Epoch [682/5000]: Train loss: 1.4500, Valid loss: 1.0463\n"
          ]
        },
        {
          "metadata": {
            "tags": null
          },
          "name": "stderr",
          "output_type": "stream",
          "text": [
            "Epoch [683/5000]: 100%|██████████| 10/10 [00:00<00:00, 57.18it/s, loss=1.54]\n"
          ]
        },
        {
          "metadata": {
            "tags": null
          },
          "name": "stdout",
          "output_type": "stream",
          "text": [
            "Epoch [683/5000]: Train loss: 1.4395, Valid loss: 1.0736\n"
          ]
        },
        {
          "metadata": {
            "tags": null
          },
          "name": "stderr",
          "output_type": "stream",
          "text": [
            "Epoch [684/5000]: 100%|██████████| 10/10 [00:00<00:00, 62.40it/s, loss=1.51]\n"
          ]
        },
        {
          "metadata": {
            "tags": null
          },
          "name": "stdout",
          "output_type": "stream",
          "text": [
            "Epoch [684/5000]: Train loss: 1.4339, Valid loss: 1.0150\n"
          ]
        },
        {
          "metadata": {
            "tags": null
          },
          "name": "stderr",
          "output_type": "stream",
          "text": [
            "Epoch [685/5000]: 100%|██████████| 10/10 [00:00<00:00, 56.44it/s, loss=1.39]\n"
          ]
        },
        {
          "metadata": {
            "tags": null
          },
          "name": "stdout",
          "output_type": "stream",
          "text": [
            "Epoch [685/5000]: Train loss: 1.4504, Valid loss: 1.0650\n"
          ]
        },
        {
          "metadata": {
            "tags": null
          },
          "name": "stderr",
          "output_type": "stream",
          "text": [
            "Epoch [686/5000]: 100%|██████████| 10/10 [00:00<00:00, 63.52it/s, loss=1.25]\n"
          ]
        },
        {
          "metadata": {
            "tags": null
          },
          "name": "stdout",
          "output_type": "stream",
          "text": [
            "Epoch [686/5000]: Train loss: 1.4019, Valid loss: 1.0126\n"
          ]
        },
        {
          "metadata": {
            "tags": null
          },
          "name": "stderr",
          "output_type": "stream",
          "text": [
            "Epoch [687/5000]: 100%|██████████| 10/10 [00:00<00:00, 64.74it/s, loss=1.28]\n"
          ]
        },
        {
          "metadata": {
            "tags": null
          },
          "name": "stdout",
          "output_type": "stream",
          "text": [
            "Epoch [687/5000]: Train loss: 1.4240, Valid loss: 1.0299\n"
          ]
        },
        {
          "metadata": {
            "tags": null
          },
          "name": "stderr",
          "output_type": "stream",
          "text": [
            "Epoch [688/5000]: 100%|██████████| 10/10 [00:00<00:00, 66.71it/s, loss=1.43]\n"
          ]
        },
        {
          "metadata": {
            "tags": null
          },
          "name": "stdout",
          "output_type": "stream",
          "text": [
            "Epoch [688/5000]: Train loss: 1.4162, Valid loss: 1.0360\n"
          ]
        },
        {
          "metadata": {
            "tags": null
          },
          "name": "stderr",
          "output_type": "stream",
          "text": [
            "Epoch [689/5000]: 100%|██████████| 10/10 [00:00<00:00, 68.60it/s, loss=1.47]\n"
          ]
        },
        {
          "metadata": {
            "tags": null
          },
          "name": "stdout",
          "output_type": "stream",
          "text": [
            "Epoch [689/5000]: Train loss: 1.4350, Valid loss: 1.0340\n"
          ]
        },
        {
          "metadata": {
            "tags": null
          },
          "name": "stderr",
          "output_type": "stream",
          "text": [
            "Epoch [690/5000]: 100%|██████████| 10/10 [00:00<00:00, 67.99it/s, loss=1.3]\n"
          ]
        },
        {
          "metadata": {
            "tags": null
          },
          "name": "stdout",
          "output_type": "stream",
          "text": [
            "Epoch [690/5000]: Train loss: 1.4270, Valid loss: 1.1207\n"
          ]
        },
        {
          "metadata": {
            "tags": null
          },
          "name": "stderr",
          "output_type": "stream",
          "text": [
            "Epoch [691/5000]: 100%|██████████| 10/10 [00:00<00:00, 67.53it/s, loss=1.59]\n"
          ]
        },
        {
          "metadata": {
            "tags": null
          },
          "name": "stdout",
          "output_type": "stream",
          "text": [
            "Epoch [691/5000]: Train loss: 1.4863, Valid loss: 1.1118\n"
          ]
        },
        {
          "metadata": {
            "tags": null
          },
          "name": "stderr",
          "output_type": "stream",
          "text": [
            "Epoch [692/5000]: 100%|██████████| 10/10 [00:00<00:00, 57.48it/s, loss=1.48]\n"
          ]
        },
        {
          "metadata": {
            "tags": null
          },
          "name": "stdout",
          "output_type": "stream",
          "text": [
            "Epoch [692/5000]: Train loss: 1.4355, Valid loss: 1.0451\n"
          ]
        },
        {
          "metadata": {
            "tags": null
          },
          "name": "stderr",
          "output_type": "stream",
          "text": [
            "Epoch [693/5000]: 100%|██████████| 10/10 [00:00<00:00, 65.52it/s, loss=1.83]\n"
          ]
        },
        {
          "metadata": {
            "tags": null
          },
          "name": "stdout",
          "output_type": "stream",
          "text": [
            "Epoch [693/5000]: Train loss: 1.4328, Valid loss: 1.0689\n"
          ]
        },
        {
          "metadata": {
            "tags": null
          },
          "name": "stderr",
          "output_type": "stream",
          "text": [
            "Epoch [694/5000]: 100%|██████████| 10/10 [00:00<00:00, 67.07it/s, loss=1.25]\n"
          ]
        },
        {
          "metadata": {
            "tags": null
          },
          "name": "stdout",
          "output_type": "stream",
          "text": [
            "Epoch [694/5000]: Train loss: 1.4245, Valid loss: 1.0100\n"
          ]
        },
        {
          "metadata": {
            "tags": null
          },
          "name": "stderr",
          "output_type": "stream",
          "text": [
            "Epoch [695/5000]: 100%|██████████| 10/10 [00:00<00:00, 67.61it/s, loss=1.57]\n"
          ]
        },
        {
          "metadata": {
            "tags": null
          },
          "name": "stdout",
          "output_type": "stream",
          "text": [
            "Epoch [695/5000]: Train loss: 1.4430, Valid loss: 0.9936\n"
          ]
        },
        {
          "metadata": {
            "tags": null
          },
          "name": "stderr",
          "output_type": "stream",
          "text": [
            "Epoch [696/5000]: 100%|██████████| 10/10 [00:00<00:00, 67.59it/s, loss=1.58]\n"
          ]
        },
        {
          "metadata": {
            "tags": null
          },
          "name": "stdout",
          "output_type": "stream",
          "text": [
            "Epoch [696/5000]: Train loss: 1.4519, Valid loss: 1.0833\n"
          ]
        },
        {
          "metadata": {
            "tags": null
          },
          "name": "stderr",
          "output_type": "stream",
          "text": [
            "Epoch [697/5000]: 100%|██████████| 10/10 [00:00<00:00, 55.94it/s, loss=1.5]\n"
          ]
        },
        {
          "metadata": {
            "tags": null
          },
          "name": "stdout",
          "output_type": "stream",
          "text": [
            "Epoch [697/5000]: Train loss: 1.4304, Valid loss: 0.9870\n"
          ]
        },
        {
          "metadata": {
            "tags": null
          },
          "name": "stderr",
          "output_type": "stream",
          "text": [
            "Epoch [698/5000]: 100%|██████████| 10/10 [00:00<00:00, 22.72it/s, loss=1.27]\n"
          ]
        },
        {
          "metadata": {
            "tags": null
          },
          "name": "stdout",
          "output_type": "stream",
          "text": [
            "Epoch [698/5000]: Train loss: 1.4110, Valid loss: 1.0290\n"
          ]
        },
        {
          "metadata": {
            "tags": null
          },
          "name": "stderr",
          "output_type": "stream",
          "text": [
            "Epoch [699/5000]: 100%|██████████| 10/10 [00:00<00:00, 67.14it/s, loss=1.39]\n"
          ]
        },
        {
          "metadata": {
            "tags": null
          },
          "name": "stdout",
          "output_type": "stream",
          "text": [
            "Epoch [699/5000]: Train loss: 1.4319, Valid loss: 1.0548\n"
          ]
        },
        {
          "metadata": {
            "tags": null
          },
          "name": "stderr",
          "output_type": "stream",
          "text": [
            "Epoch [700/5000]: 100%|██████████| 10/10 [00:00<00:00, 65.75it/s, loss=1.38]\n"
          ]
        },
        {
          "metadata": {
            "tags": null
          },
          "name": "stdout",
          "output_type": "stream",
          "text": [
            "Epoch [700/5000]: Train loss: 1.4736, Valid loss: 1.0814\n"
          ]
        },
        {
          "metadata": {
            "tags": null
          },
          "name": "stderr",
          "output_type": "stream",
          "text": [
            "Epoch [701/5000]: 100%|██████████| 10/10 [00:00<00:00, 58.88it/s, loss=1.47]\n"
          ]
        },
        {
          "metadata": {
            "tags": null
          },
          "name": "stdout",
          "output_type": "stream",
          "text": [
            "Epoch [701/5000]: Train loss: 1.4420, Valid loss: 1.1055\n"
          ]
        },
        {
          "metadata": {
            "tags": null
          },
          "name": "stderr",
          "output_type": "stream",
          "text": [
            "Epoch [702/5000]: 100%|██████████| 10/10 [00:00<00:00, 68.04it/s, loss=1.55]\n"
          ]
        },
        {
          "metadata": {
            "tags": null
          },
          "name": "stdout",
          "output_type": "stream",
          "text": [
            "Epoch [702/5000]: Train loss: 1.4498, Valid loss: 0.9997\n"
          ]
        },
        {
          "metadata": {
            "tags": null
          },
          "name": "stderr",
          "output_type": "stream",
          "text": [
            "Epoch [703/5000]: 100%|██████████| 10/10 [00:00<00:00, 69.10it/s, loss=1.4]\n"
          ]
        },
        {
          "metadata": {
            "tags": null
          },
          "name": "stdout",
          "output_type": "stream",
          "text": [
            "Epoch [703/5000]: Train loss: 1.4569, Valid loss: 1.0514\n"
          ]
        },
        {
          "metadata": {
            "tags": null
          },
          "name": "stderr",
          "output_type": "stream",
          "text": [
            "Epoch [704/5000]: 100%|██████████| 10/10 [00:00<00:00, 65.21it/s, loss=1.49]\n"
          ]
        },
        {
          "metadata": {
            "tags": null
          },
          "name": "stdout",
          "output_type": "stream",
          "text": [
            "Epoch [704/5000]: Train loss: 1.4195, Valid loss: 1.0297\n"
          ]
        },
        {
          "metadata": {
            "tags": null
          },
          "name": "stderr",
          "output_type": "stream",
          "text": [
            "Epoch [705/5000]: 100%|██████████| 10/10 [00:00<00:00, 61.39it/s, loss=1.61]\n"
          ]
        },
        {
          "metadata": {
            "tags": null
          },
          "name": "stdout",
          "output_type": "stream",
          "text": [
            "Epoch [705/5000]: Train loss: 1.4463, Valid loss: 1.0728\n"
          ]
        },
        {
          "metadata": {
            "tags": null
          },
          "name": "stderr",
          "output_type": "stream",
          "text": [
            "Epoch [706/5000]: 100%|██████████| 10/10 [00:00<00:00, 65.58it/s, loss=1.36]\n"
          ]
        },
        {
          "metadata": {
            "tags": null
          },
          "name": "stdout",
          "output_type": "stream",
          "text": [
            "Epoch [706/5000]: Train loss: 1.4202, Valid loss: 1.0776\n"
          ]
        },
        {
          "metadata": {
            "tags": null
          },
          "name": "stderr",
          "output_type": "stream",
          "text": [
            "Epoch [707/5000]: 100%|██████████| 10/10 [00:00<00:00, 68.55it/s, loss=1.35]\n"
          ]
        },
        {
          "metadata": {
            "tags": null
          },
          "name": "stdout",
          "output_type": "stream",
          "text": [
            "Epoch [707/5000]: Train loss: 1.4499, Valid loss: 1.0963\n"
          ]
        },
        {
          "metadata": {
            "tags": null
          },
          "name": "stderr",
          "output_type": "stream",
          "text": [
            "Epoch [708/5000]: 100%|██████████| 10/10 [00:00<00:00, 68.10it/s, loss=1.43]\n"
          ]
        },
        {
          "metadata": {
            "tags": null
          },
          "name": "stdout",
          "output_type": "stream",
          "text": [
            "Epoch [708/5000]: Train loss: 1.4332, Valid loss: 1.0337\n"
          ]
        },
        {
          "metadata": {
            "tags": null
          },
          "name": "stderr",
          "output_type": "stream",
          "text": [
            "Epoch [709/5000]: 100%|██████████| 10/10 [00:00<00:00, 67.22it/s, loss=1.21]\n"
          ]
        },
        {
          "metadata": {
            "tags": null
          },
          "name": "stdout",
          "output_type": "stream",
          "text": [
            "Epoch [709/5000]: Train loss: 1.3721, Valid loss: 1.0876\n"
          ]
        },
        {
          "metadata": {
            "tags": null
          },
          "name": "stderr",
          "output_type": "stream",
          "text": [
            "Epoch [710/5000]: 100%|██████████| 10/10 [00:00<00:00, 55.30it/s, loss=1.57]\n"
          ]
        },
        {
          "metadata": {
            "tags": null
          },
          "name": "stdout",
          "output_type": "stream",
          "text": [
            "Epoch [710/5000]: Train loss: 1.4427, Valid loss: 1.1617\n"
          ]
        },
        {
          "metadata": {
            "tags": null
          },
          "name": "stderr",
          "output_type": "stream",
          "text": [
            "Epoch [711/5000]: 100%|██████████| 10/10 [00:00<00:00, 55.29it/s, loss=1.54]\n"
          ]
        },
        {
          "metadata": {
            "tags": null
          },
          "name": "stdout",
          "output_type": "stream",
          "text": [
            "Epoch [711/5000]: Train loss: 1.4480, Valid loss: 1.0132\n"
          ]
        },
        {
          "metadata": {
            "tags": null
          },
          "name": "stderr",
          "output_type": "stream",
          "text": [
            "Epoch [712/5000]: 100%|██████████| 10/10 [00:00<00:00, 56.47it/s, loss=1.15]\n"
          ]
        },
        {
          "metadata": {
            "tags": null
          },
          "name": "stdout",
          "output_type": "stream",
          "text": [
            "Epoch [712/5000]: Train loss: 1.3932, Valid loss: 1.1355\n"
          ]
        },
        {
          "metadata": {
            "tags": null
          },
          "name": "stderr",
          "output_type": "stream",
          "text": [
            "Epoch [713/5000]: 100%|██████████| 10/10 [00:00<00:00, 59.04it/s, loss=1.27]\n"
          ]
        },
        {
          "metadata": {
            "tags": null
          },
          "name": "stdout",
          "output_type": "stream",
          "text": [
            "Epoch [713/5000]: Train loss: 1.4411, Valid loss: 1.1107\n"
          ]
        },
        {
          "metadata": {
            "tags": null
          },
          "name": "stderr",
          "output_type": "stream",
          "text": [
            "Epoch [714/5000]: 100%|██████████| 10/10 [00:00<00:00, 58.04it/s, loss=1.41]\n"
          ]
        },
        {
          "metadata": {
            "tags": null
          },
          "name": "stdout",
          "output_type": "stream",
          "text": [
            "Epoch [714/5000]: Train loss: 1.4513, Valid loss: 1.0296\n"
          ]
        },
        {
          "metadata": {
            "tags": null
          },
          "name": "stderr",
          "output_type": "stream",
          "text": [
            "Epoch [715/5000]: 100%|██████████| 10/10 [00:00<00:00, 63.25it/s, loss=1.47]\n"
          ]
        },
        {
          "metadata": {
            "tags": null
          },
          "name": "stdout",
          "output_type": "stream",
          "text": [
            "Epoch [715/5000]: Train loss: 1.4647, Valid loss: 1.1176\n"
          ]
        },
        {
          "metadata": {
            "tags": null
          },
          "name": "stderr",
          "output_type": "stream",
          "text": [
            "Epoch [716/5000]: 100%|██████████| 10/10 [00:00<00:00, 59.72it/s, loss=1.63]\n"
          ]
        },
        {
          "metadata": {
            "tags": null
          },
          "name": "stdout",
          "output_type": "stream",
          "text": [
            "Epoch [716/5000]: Train loss: 1.4477, Valid loss: 1.0342\n"
          ]
        },
        {
          "metadata": {
            "tags": null
          },
          "name": "stderr",
          "output_type": "stream",
          "text": [
            "Epoch [717/5000]: 100%|██████████| 10/10 [00:00<00:00, 51.50it/s, loss=1.31]\n"
          ]
        },
        {
          "metadata": {
            "tags": null
          },
          "name": "stdout",
          "output_type": "stream",
          "text": [
            "Epoch [717/5000]: Train loss: 1.4199, Valid loss: 1.1303\n"
          ]
        },
        {
          "metadata": {
            "tags": null
          },
          "name": "stderr",
          "output_type": "stream",
          "text": [
            "Epoch [718/5000]: 100%|██████████| 10/10 [00:00<00:00, 56.16it/s, loss=1.43]\n"
          ]
        },
        {
          "metadata": {
            "tags": null
          },
          "name": "stdout",
          "output_type": "stream",
          "text": [
            "Epoch [718/5000]: Train loss: 1.4074, Valid loss: 1.1509\n"
          ]
        },
        {
          "metadata": {
            "tags": null
          },
          "name": "stderr",
          "output_type": "stream",
          "text": [
            "Epoch [719/5000]: 100%|██████████| 10/10 [00:00<00:00, 51.11it/s, loss=1.44]\n"
          ]
        },
        {
          "metadata": {
            "tags": null
          },
          "name": "stdout",
          "output_type": "stream",
          "text": [
            "Epoch [719/5000]: Train loss: 1.4086, Valid loss: 1.0770\n"
          ]
        },
        {
          "metadata": {
            "tags": null
          },
          "name": "stderr",
          "output_type": "stream",
          "text": [
            "Epoch [720/5000]: 100%|██████████| 10/10 [00:00<00:00, 49.89it/s, loss=1.52]\n"
          ]
        },
        {
          "metadata": {
            "tags": null
          },
          "name": "stdout",
          "output_type": "stream",
          "text": [
            "Epoch [720/5000]: Train loss: 1.4285, Valid loss: 1.0362\n"
          ]
        },
        {
          "metadata": {
            "tags": null
          },
          "name": "stderr",
          "output_type": "stream",
          "text": [
            "Epoch [721/5000]: 100%|██████████| 10/10 [00:00<00:00, 21.19it/s, loss=1.37]\n"
          ]
        },
        {
          "metadata": {
            "tags": null
          },
          "name": "stdout",
          "output_type": "stream",
          "text": [
            "Epoch [721/5000]: Train loss: 1.4372, Valid loss: 1.0651\n"
          ]
        },
        {
          "metadata": {
            "tags": null
          },
          "name": "stderr",
          "output_type": "stream",
          "text": [
            "Epoch [722/5000]: 100%|██████████| 10/10 [00:00<00:00, 55.77it/s, loss=1.32]\n"
          ]
        },
        {
          "metadata": {
            "tags": null
          },
          "name": "stdout",
          "output_type": "stream",
          "text": [
            "Epoch [722/5000]: Train loss: 1.3933, Valid loss: 1.1228\n"
          ]
        },
        {
          "metadata": {
            "tags": null
          },
          "name": "stderr",
          "output_type": "stream",
          "text": [
            "Epoch [723/5000]: 100%|██████████| 10/10 [00:00<00:00, 58.68it/s, loss=1.4]\n"
          ]
        },
        {
          "metadata": {
            "tags": null
          },
          "name": "stdout",
          "output_type": "stream",
          "text": [
            "Epoch [723/5000]: Train loss: 1.4237, Valid loss: 1.1069\n"
          ]
        },
        {
          "metadata": {
            "tags": null
          },
          "name": "stderr",
          "output_type": "stream",
          "text": [
            "Epoch [724/5000]: 100%|██████████| 10/10 [00:00<00:00, 55.59it/s, loss=1.46]\n"
          ]
        },
        {
          "metadata": {
            "tags": null
          },
          "name": "stdout",
          "output_type": "stream",
          "text": [
            "Epoch [724/5000]: Train loss: 1.4292, Valid loss: 1.0686\n"
          ]
        },
        {
          "metadata": {
            "tags": null
          },
          "name": "stderr",
          "output_type": "stream",
          "text": [
            "Epoch [725/5000]: 100%|██████████| 10/10 [00:00<00:00, 56.67it/s, loss=1.33]\n"
          ]
        },
        {
          "metadata": {
            "tags": null
          },
          "name": "stdout",
          "output_type": "stream",
          "text": [
            "Epoch [725/5000]: Train loss: 1.4142, Valid loss: 1.0107\n"
          ]
        },
        {
          "metadata": {
            "tags": null
          },
          "name": "stderr",
          "output_type": "stream",
          "text": [
            "Epoch [726/5000]: 100%|██████████| 10/10 [00:00<00:00, 53.93it/s, loss=1.43]\n"
          ]
        },
        {
          "metadata": {
            "tags": null
          },
          "name": "stdout",
          "output_type": "stream",
          "text": [
            "Epoch [726/5000]: Train loss: 1.4399, Valid loss: 1.0739\n"
          ]
        },
        {
          "metadata": {
            "tags": null
          },
          "name": "stderr",
          "output_type": "stream",
          "text": [
            "Epoch [727/5000]: 100%|██████████| 10/10 [00:00<00:00, 66.34it/s, loss=1.38]\n"
          ]
        },
        {
          "metadata": {
            "tags": null
          },
          "name": "stdout",
          "output_type": "stream",
          "text": [
            "Epoch [727/5000]: Train loss: 1.4443, Valid loss: 1.0656\n"
          ]
        },
        {
          "metadata": {
            "tags": null
          },
          "name": "stderr",
          "output_type": "stream",
          "text": [
            "Epoch [728/5000]: 100%|██████████| 10/10 [00:00<00:00, 57.88it/s, loss=1.46]\n"
          ]
        },
        {
          "metadata": {
            "tags": null
          },
          "name": "stdout",
          "output_type": "stream",
          "text": [
            "Epoch [728/5000]: Train loss: 1.3864, Valid loss: 1.0239\n"
          ]
        },
        {
          "metadata": {
            "tags": null
          },
          "name": "stderr",
          "output_type": "stream",
          "text": [
            "Epoch [729/5000]: 100%|██████████| 10/10 [00:00<00:00, 52.70it/s, loss=1.4]\n"
          ]
        },
        {
          "metadata": {
            "tags": null
          },
          "name": "stdout",
          "output_type": "stream",
          "text": [
            "Epoch [729/5000]: Train loss: 1.4349, Valid loss: 1.0237\n"
          ]
        },
        {
          "metadata": {
            "tags": null
          },
          "name": "stderr",
          "output_type": "stream",
          "text": [
            "Epoch [730/5000]: 100%|██████████| 10/10 [00:00<00:00, 50.02it/s, loss=1.26]\n"
          ]
        },
        {
          "metadata": {
            "tags": null
          },
          "name": "stdout",
          "output_type": "stream",
          "text": [
            "Epoch [730/5000]: Train loss: 1.4097, Valid loss: 1.0669\n"
          ]
        },
        {
          "metadata": {
            "tags": null
          },
          "name": "stderr",
          "output_type": "stream",
          "text": [
            "Epoch [731/5000]: 100%|██████████| 10/10 [00:00<00:00, 53.24it/s, loss=1.58]\n"
          ]
        },
        {
          "metadata": {
            "tags": null
          },
          "name": "stdout",
          "output_type": "stream",
          "text": [
            "Epoch [731/5000]: Train loss: 1.4271, Valid loss: 1.0180\n"
          ]
        },
        {
          "metadata": {
            "tags": null
          },
          "name": "stderr",
          "output_type": "stream",
          "text": [
            "Epoch [732/5000]: 100%|██████████| 10/10 [00:00<00:00, 47.97it/s, loss=1.32]\n"
          ]
        },
        {
          "metadata": {
            "tags": null
          },
          "name": "stdout",
          "output_type": "stream",
          "text": [
            "Epoch [732/5000]: Train loss: 1.4059, Valid loss: 1.0351\n"
          ]
        },
        {
          "metadata": {
            "tags": null
          },
          "name": "stderr",
          "output_type": "stream",
          "text": [
            "Epoch [733/5000]: 100%|██████████| 10/10 [00:00<00:00, 48.20it/s, loss=1.53]\n"
          ]
        },
        {
          "metadata": {
            "tags": null
          },
          "name": "stdout",
          "output_type": "stream",
          "text": [
            "Epoch [733/5000]: Train loss: 1.4331, Valid loss: 1.0011\n"
          ]
        },
        {
          "metadata": {
            "tags": null
          },
          "name": "stderr",
          "output_type": "stream",
          "text": [
            "Epoch [734/5000]: 100%|██████████| 10/10 [00:00<00:00, 49.77it/s, loss=1.48]\n"
          ]
        },
        {
          "metadata": {
            "tags": null
          },
          "name": "stdout",
          "output_type": "stream",
          "text": [
            "Epoch [734/5000]: Train loss: 1.4256, Valid loss: 1.0947\n"
          ]
        },
        {
          "metadata": {
            "tags": null
          },
          "name": "stderr",
          "output_type": "stream",
          "text": [
            "Epoch [735/5000]: 100%|██████████| 10/10 [00:00<00:00, 49.10it/s, loss=1.25]\n"
          ]
        },
        {
          "metadata": {
            "tags": null
          },
          "name": "stdout",
          "output_type": "stream",
          "text": [
            "Epoch [735/5000]: Train loss: 1.4286, Valid loss: 1.0576\n"
          ]
        },
        {
          "metadata": {
            "tags": null
          },
          "name": "stderr",
          "output_type": "stream",
          "text": [
            "Epoch [736/5000]: 100%|██████████| 10/10 [00:00<00:00, 46.86it/s, loss=1.45]\n"
          ]
        },
        {
          "metadata": {
            "tags": null
          },
          "name": "stdout",
          "output_type": "stream",
          "text": [
            "Epoch [736/5000]: Train loss: 1.4596, Valid loss: 1.0416\n"
          ]
        },
        {
          "metadata": {
            "tags": null
          },
          "name": "stderr",
          "output_type": "stream",
          "text": [
            "Epoch [737/5000]: 100%|██████████| 10/10 [00:00<00:00, 48.23it/s, loss=1.59]\n"
          ]
        },
        {
          "metadata": {
            "tags": null
          },
          "name": "stdout",
          "output_type": "stream",
          "text": [
            "Epoch [737/5000]: Train loss: 1.4041, Valid loss: 1.0496\n"
          ]
        },
        {
          "metadata": {
            "tags": null
          },
          "name": "stderr",
          "output_type": "stream",
          "text": [
            "Epoch [738/5000]: 100%|██████████| 10/10 [00:00<00:00, 46.83it/s, loss=1.59]\n"
          ]
        },
        {
          "metadata": {
            "tags": null
          },
          "name": "stdout",
          "output_type": "stream",
          "text": [
            "Epoch [738/5000]: Train loss: 1.4293, Valid loss: 0.9985\n"
          ]
        },
        {
          "metadata": {
            "tags": null
          },
          "name": "stderr",
          "output_type": "stream",
          "text": [
            "Epoch [739/5000]: 100%|██████████| 10/10 [00:00<00:00, 49.84it/s, loss=1.34]\n"
          ]
        },
        {
          "metadata": {
            "tags": null
          },
          "name": "stdout",
          "output_type": "stream",
          "text": [
            "Epoch [739/5000]: Train loss: 1.4109, Valid loss: 0.9953\n"
          ]
        },
        {
          "metadata": {
            "tags": null
          },
          "name": "stderr",
          "output_type": "stream",
          "text": [
            "Epoch [740/5000]: 100%|██████████| 10/10 [00:00<00:00, 47.99it/s, loss=1.4]\n"
          ]
        },
        {
          "metadata": {
            "tags": null
          },
          "name": "stdout",
          "output_type": "stream",
          "text": [
            "Epoch [740/5000]: Train loss: 1.4310, Valid loss: 0.9859\n"
          ]
        },
        {
          "output_type": "stream",
          "name": "stderr",
          "text": [
            "Epoch [741/5000]: 100%|██████████| 10/10 [00:00<00:00, 45.45it/s, loss=1.3]\n"
          ]
        },
        {
          "output_type": "stream",
          "name": "stdout",
          "text": [
            "Epoch [741/5000]: Train loss: 1.4045, Valid loss: 1.1957\n"
          ]
        },
        {
          "output_type": "stream",
          "name": "stderr",
          "text": [
            "Epoch [742/5000]: 100%|██████████| 10/10 [00:00<00:00, 49.12it/s, loss=1.21]\n"
          ]
        },
        {
          "output_type": "stream",
          "name": "stdout",
          "text": [
            "Epoch [742/5000]: Train loss: 1.4089, Valid loss: 1.0019\n"
          ]
        },
        {
          "output_type": "stream",
          "name": "stderr",
          "text": [
            "Epoch [743/5000]: 100%|██████████| 10/10 [00:00<00:00, 51.62it/s, loss=1.14]\n"
          ]
        },
        {
          "output_type": "stream",
          "name": "stdout",
          "text": [
            "Epoch [743/5000]: Train loss: 1.4067, Valid loss: 1.0315\n"
          ]
        },
        {
          "output_type": "stream",
          "name": "stderr",
          "text": [
            "Epoch [744/5000]: 100%|██████████| 10/10 [00:00<00:00, 51.68it/s, loss=1.63]\n"
          ]
        },
        {
          "output_type": "stream",
          "name": "stdout",
          "text": [
            "Epoch [744/5000]: Train loss: 1.4089, Valid loss: 1.0077\n"
          ]
        },
        {
          "output_type": "stream",
          "name": "stderr",
          "text": [
            "Epoch [745/5000]: 100%|██████████| 10/10 [00:00<00:00, 64.53it/s, loss=1.45]\n"
          ]
        },
        {
          "output_type": "stream",
          "name": "stdout",
          "text": [
            "Epoch [745/5000]: Train loss: 1.4374, Valid loss: 0.9587\n",
            "Saving model with loss 0.959...\n"
          ]
        },
        {
          "output_type": "stream",
          "name": "stderr",
          "text": [
            "Epoch [746/5000]: 100%|██████████| 10/10 [00:00<00:00, 66.28it/s, loss=1.34]\n"
          ]
        },
        {
          "output_type": "stream",
          "name": "stdout",
          "text": [
            "Epoch [746/5000]: Train loss: 1.4027, Valid loss: 1.0479\n"
          ]
        },
        {
          "output_type": "stream",
          "name": "stderr",
          "text": [
            "Epoch [747/5000]: 100%|██████████| 10/10 [00:00<00:00, 23.19it/s, loss=1.38]\n"
          ]
        },
        {
          "output_type": "stream",
          "name": "stdout",
          "text": [
            "Epoch [747/5000]: Train loss: 1.4022, Valid loss: 1.0254\n"
          ]
        },
        {
          "output_type": "stream",
          "name": "stderr",
          "text": [
            "Epoch [748/5000]: 100%|██████████| 10/10 [00:00<00:00, 65.52it/s, loss=1.32]\n"
          ]
        },
        {
          "output_type": "stream",
          "name": "stdout",
          "text": [
            "Epoch [748/5000]: Train loss: 1.4135, Valid loss: 1.0922\n"
          ]
        },
        {
          "output_type": "stream",
          "name": "stderr",
          "text": [
            "Epoch [749/5000]: 100%|██████████| 10/10 [00:00<00:00, 63.04it/s, loss=1.47]\n"
          ]
        },
        {
          "output_type": "stream",
          "name": "stdout",
          "text": [
            "Epoch [749/5000]: Train loss: 1.4063, Valid loss: 1.0641\n"
          ]
        },
        {
          "output_type": "stream",
          "name": "stderr",
          "text": [
            "Epoch [750/5000]: 100%|██████████| 10/10 [00:00<00:00, 61.63it/s, loss=1.48]\n"
          ]
        },
        {
          "output_type": "stream",
          "name": "stdout",
          "text": [
            "Epoch [750/5000]: Train loss: 1.4324, Valid loss: 1.0123\n"
          ]
        },
        {
          "output_type": "stream",
          "name": "stderr",
          "text": [
            "Epoch [751/5000]: 100%|██████████| 10/10 [00:00<00:00, 65.04it/s, loss=1.59]\n"
          ]
        },
        {
          "output_type": "stream",
          "name": "stdout",
          "text": [
            "Epoch [751/5000]: Train loss: 1.4170, Valid loss: 1.0525\n"
          ]
        },
        {
          "output_type": "stream",
          "name": "stderr",
          "text": [
            "Epoch [752/5000]: 100%|██████████| 10/10 [00:00<00:00, 56.28it/s, loss=1.32]\n"
          ]
        },
        {
          "output_type": "stream",
          "name": "stdout",
          "text": [
            "Epoch [752/5000]: Train loss: 1.4521, Valid loss: 1.0598\n"
          ]
        },
        {
          "output_type": "stream",
          "name": "stderr",
          "text": [
            "Epoch [753/5000]: 100%|██████████| 10/10 [00:00<00:00, 63.23it/s, loss=1.34]\n"
          ]
        },
        {
          "output_type": "stream",
          "name": "stdout",
          "text": [
            "Epoch [753/5000]: Train loss: 1.3907, Valid loss: 1.1048\n"
          ]
        },
        {
          "output_type": "stream",
          "name": "stderr",
          "text": [
            "Epoch [754/5000]: 100%|██████████| 10/10 [00:00<00:00, 65.10it/s, loss=1.54]\n"
          ]
        },
        {
          "output_type": "stream",
          "name": "stdout",
          "text": [
            "Epoch [754/5000]: Train loss: 1.4748, Valid loss: 1.1024\n"
          ]
        },
        {
          "output_type": "stream",
          "name": "stderr",
          "text": [
            "Epoch [755/5000]: 100%|██████████| 10/10 [00:00<00:00, 64.08it/s, loss=1.65]\n"
          ]
        },
        {
          "output_type": "stream",
          "name": "stdout",
          "text": [
            "Epoch [755/5000]: Train loss: 1.4572, Valid loss: 1.2198\n"
          ]
        },
        {
          "output_type": "stream",
          "name": "stderr",
          "text": [
            "Epoch [756/5000]: 100%|██████████| 10/10 [00:00<00:00, 66.49it/s, loss=1.37]\n"
          ]
        },
        {
          "output_type": "stream",
          "name": "stdout",
          "text": [
            "Epoch [756/5000]: Train loss: 1.4886, Valid loss: 1.1353\n"
          ]
        },
        {
          "output_type": "stream",
          "name": "stderr",
          "text": [
            "Epoch [757/5000]: 100%|██████████| 10/10 [00:00<00:00, 22.59it/s, loss=1.64]\n"
          ]
        },
        {
          "output_type": "stream",
          "name": "stdout",
          "text": [
            "Epoch [757/5000]: Train loss: 1.4580, Valid loss: 1.0873\n"
          ]
        },
        {
          "output_type": "stream",
          "name": "stderr",
          "text": [
            "Epoch [758/5000]: 100%|██████████| 10/10 [00:00<00:00, 59.64it/s, loss=1.39]\n"
          ]
        },
        {
          "output_type": "stream",
          "name": "stdout",
          "text": [
            "Epoch [758/5000]: Train loss: 1.4416, Valid loss: 1.0417\n"
          ]
        },
        {
          "output_type": "stream",
          "name": "stderr",
          "text": [
            "Epoch [759/5000]: 100%|██████████| 10/10 [00:00<00:00, 64.67it/s, loss=1.49]\n"
          ]
        },
        {
          "output_type": "stream",
          "name": "stdout",
          "text": [
            "Epoch [759/5000]: Train loss: 1.4289, Valid loss: 1.0398\n"
          ]
        },
        {
          "output_type": "stream",
          "name": "stderr",
          "text": [
            "Epoch [760/5000]: 100%|██████████| 10/10 [00:00<00:00, 50.79it/s, loss=1.37]\n"
          ]
        },
        {
          "output_type": "stream",
          "name": "stdout",
          "text": [
            "Epoch [760/5000]: Train loss: 1.3992, Valid loss: 1.0215\n"
          ]
        },
        {
          "output_type": "stream",
          "name": "stderr",
          "text": [
            "Epoch [761/5000]: 100%|██████████| 10/10 [00:00<00:00, 56.61it/s, loss=1.38]\n"
          ]
        },
        {
          "output_type": "stream",
          "name": "stdout",
          "text": [
            "Epoch [761/5000]: Train loss: 1.3969, Valid loss: 1.0491\n"
          ]
        },
        {
          "output_type": "stream",
          "name": "stderr",
          "text": [
            "Epoch [762/5000]: 100%|██████████| 10/10 [00:00<00:00, 54.00it/s, loss=1.29]\n"
          ]
        },
        {
          "output_type": "stream",
          "name": "stdout",
          "text": [
            "Epoch [762/5000]: Train loss: 1.3867, Valid loss: 1.0893\n"
          ]
        },
        {
          "output_type": "stream",
          "name": "stderr",
          "text": [
            "Epoch [763/5000]: 100%|██████████| 10/10 [00:00<00:00, 57.14it/s, loss=1.27]\n"
          ]
        },
        {
          "output_type": "stream",
          "name": "stdout",
          "text": [
            "Epoch [763/5000]: Train loss: 1.3994, Valid loss: 1.0667\n"
          ]
        },
        {
          "output_type": "stream",
          "name": "stderr",
          "text": [
            "Epoch [764/5000]: 100%|██████████| 10/10 [00:00<00:00, 51.31it/s, loss=1.43]\n"
          ]
        },
        {
          "output_type": "stream",
          "name": "stdout",
          "text": [
            "Epoch [764/5000]: Train loss: 1.4147, Valid loss: 1.0441\n"
          ]
        },
        {
          "output_type": "stream",
          "name": "stderr",
          "text": [
            "Epoch [765/5000]: 100%|██████████| 10/10 [00:00<00:00, 60.96it/s, loss=1.39]\n"
          ]
        },
        {
          "output_type": "stream",
          "name": "stdout",
          "text": [
            "Epoch [765/5000]: Train loss: 1.3940, Valid loss: 1.1128\n"
          ]
        },
        {
          "output_type": "stream",
          "name": "stderr",
          "text": [
            "Epoch [766/5000]: 100%|██████████| 10/10 [00:00<00:00, 64.95it/s, loss=1.68]\n"
          ]
        },
        {
          "output_type": "stream",
          "name": "stdout",
          "text": [
            "Epoch [766/5000]: Train loss: 1.4334, Valid loss: 1.0411\n"
          ]
        },
        {
          "output_type": "stream",
          "name": "stderr",
          "text": [
            "Epoch [767/5000]: 100%|██████████| 10/10 [00:00<00:00, 23.95it/s, loss=1.43]\n"
          ]
        },
        {
          "output_type": "stream",
          "name": "stdout",
          "text": [
            "Epoch [767/5000]: Train loss: 1.4198, Valid loss: 1.0061\n"
          ]
        },
        {
          "output_type": "stream",
          "name": "stderr",
          "text": [
            "Epoch [768/5000]: 100%|██████████| 10/10 [00:00<00:00, 66.52it/s, loss=1.5]"
          ]
        },
        {
          "output_type": "stream",
          "name": "stdout",
          "text": [
            "Epoch [768/5000]: Train loss: 1.4276, Valid loss: 1.0824\n"
          ]
        },
        {
          "output_type": "stream",
          "name": "stderr",
          "text": [
            "\n",
            "Epoch [769/5000]: 100%|██████████| 10/10 [00:00<00:00, 58.76it/s, loss=1.6]\n"
          ]
        },
        {
          "output_type": "stream",
          "name": "stdout",
          "text": [
            "Epoch [769/5000]: Train loss: 1.4602, Valid loss: 1.0920\n"
          ]
        },
        {
          "output_type": "stream",
          "name": "stderr",
          "text": [
            "Epoch [770/5000]: 100%|██████████| 10/10 [00:00<00:00, 66.53it/s, loss=1.49]\n"
          ]
        },
        {
          "output_type": "stream",
          "name": "stdout",
          "text": [
            "Epoch [770/5000]: Train loss: 1.4329, Valid loss: 1.0339\n"
          ]
        },
        {
          "output_type": "stream",
          "name": "stderr",
          "text": [
            "Epoch [771/5000]: 100%|██████████| 10/10 [00:00<00:00, 65.99it/s, loss=1.38]"
          ]
        },
        {
          "output_type": "stream",
          "name": "stdout",
          "text": [
            "Epoch [771/5000]: Train loss: 1.4126, Valid loss: 1.1046"
          ]
        },
        {
          "output_type": "stream",
          "name": "stderr",
          "text": [
            "\n"
          ]
        },
        {
          "output_type": "stream",
          "name": "stdout",
          "text": [
            "\n"
          ]
        },
        {
          "output_type": "stream",
          "name": "stderr",
          "text": [
            "Epoch [772/5000]: 100%|██████████| 10/10 [00:00<00:00, 59.97it/s, loss=1.43]\n"
          ]
        },
        {
          "output_type": "stream",
          "name": "stdout",
          "text": [
            "Epoch [772/5000]: Train loss: 1.4169, Valid loss: 1.1263\n"
          ]
        },
        {
          "output_type": "stream",
          "name": "stderr",
          "text": [
            "Epoch [773/5000]: 100%|██████████| 10/10 [00:00<00:00, 62.81it/s, loss=1.58]\n"
          ]
        },
        {
          "output_type": "stream",
          "name": "stdout",
          "text": [
            "Epoch [773/5000]: Train loss: 1.4312, Valid loss: 1.0714\n"
          ]
        },
        {
          "output_type": "stream",
          "name": "stderr",
          "text": [
            "Epoch [774/5000]: 100%|██████████| 10/10 [00:00<00:00, 62.07it/s, loss=1.35]\n"
          ]
        },
        {
          "output_type": "stream",
          "name": "stdout",
          "text": [
            "Epoch [774/5000]: Train loss: 1.3914, Valid loss: 1.0457\n"
          ]
        },
        {
          "output_type": "stream",
          "name": "stderr",
          "text": [
            "Epoch [775/5000]: 100%|██████████| 10/10 [00:00<00:00, 66.32it/s, loss=1.36]\n"
          ]
        },
        {
          "output_type": "stream",
          "name": "stdout",
          "text": [
            "Epoch [775/5000]: Train loss: 1.4019, Valid loss: 1.0156\n"
          ]
        },
        {
          "output_type": "stream",
          "name": "stderr",
          "text": [
            "Epoch [776/5000]: 100%|██████████| 10/10 [00:00<00:00, 63.56it/s, loss=1.56]\n"
          ]
        },
        {
          "output_type": "stream",
          "name": "stdout",
          "text": [
            "Epoch [776/5000]: Train loss: 1.4096, Valid loss: 1.0918\n"
          ]
        },
        {
          "output_type": "stream",
          "name": "stderr",
          "text": [
            "Epoch [777/5000]: 100%|██████████| 10/10 [00:00<00:00, 57.00it/s, loss=1.25]\n"
          ]
        },
        {
          "output_type": "stream",
          "name": "stdout",
          "text": [
            "Epoch [777/5000]: Train loss: 1.3894, Valid loss: 1.0035\n"
          ]
        },
        {
          "output_type": "stream",
          "name": "stderr",
          "text": [
            "Epoch [778/5000]: 100%|██████████| 10/10 [00:00<00:00, 21.25it/s, loss=1.43]\n"
          ]
        },
        {
          "output_type": "stream",
          "name": "stdout",
          "text": [
            "Epoch [778/5000]: Train loss: 1.4150, Valid loss: 1.0539\n"
          ]
        },
        {
          "output_type": "stream",
          "name": "stderr",
          "text": [
            "Epoch [779/5000]: 100%|██████████| 10/10 [00:00<00:00, 59.10it/s, loss=1.46]\n"
          ]
        },
        {
          "output_type": "stream",
          "name": "stdout",
          "text": [
            "Epoch [779/5000]: Train loss: 1.4180, Valid loss: 1.0128\n"
          ]
        },
        {
          "output_type": "stream",
          "name": "stderr",
          "text": [
            "Epoch [780/5000]: 100%|██████████| 10/10 [00:00<00:00, 59.50it/s, loss=1.39]\n"
          ]
        },
        {
          "output_type": "stream",
          "name": "stdout",
          "text": [
            "Epoch [780/5000]: Train loss: 1.4295, Valid loss: 1.1111\n"
          ]
        },
        {
          "output_type": "stream",
          "name": "stderr",
          "text": [
            "Epoch [781/5000]: 100%|██████████| 10/10 [00:00<00:00, 58.76it/s, loss=1.3]\n"
          ]
        },
        {
          "output_type": "stream",
          "name": "stdout",
          "text": [
            "Epoch [781/5000]: Train loss: 1.4007, Valid loss: 1.0106\n"
          ]
        },
        {
          "output_type": "stream",
          "name": "stderr",
          "text": [
            "Epoch [782/5000]: 100%|██████████| 10/10 [00:00<00:00, 55.57it/s, loss=1.53]\n"
          ]
        },
        {
          "output_type": "stream",
          "name": "stdout",
          "text": [
            "Epoch [782/5000]: Train loss: 1.4058, Valid loss: 1.0330\n"
          ]
        },
        {
          "output_type": "stream",
          "name": "stderr",
          "text": [
            "Epoch [783/5000]: 100%|██████████| 10/10 [00:00<00:00, 61.56it/s, loss=1.25]\n"
          ]
        },
        {
          "output_type": "stream",
          "name": "stdout",
          "text": [
            "Epoch [783/5000]: Train loss: 1.3748, Valid loss: 0.9843\n"
          ]
        },
        {
          "output_type": "stream",
          "name": "stderr",
          "text": [
            "Epoch [784/5000]: 100%|██████████| 10/10 [00:00<00:00, 51.39it/s, loss=1.92]\n"
          ]
        },
        {
          "output_type": "stream",
          "name": "stdout",
          "text": [
            "Epoch [784/5000]: Train loss: 1.4581, Valid loss: 1.0008\n"
          ]
        },
        {
          "output_type": "stream",
          "name": "stderr",
          "text": [
            "Epoch [785/5000]: 100%|██████████| 10/10 [00:00<00:00, 49.29it/s, loss=1.31]\n"
          ]
        },
        {
          "output_type": "stream",
          "name": "stdout",
          "text": [
            "Epoch [785/5000]: Train loss: 1.4255, Valid loss: 1.0074\n"
          ]
        },
        {
          "output_type": "stream",
          "name": "stderr",
          "text": [
            "Epoch [786/5000]: 100%|██████████| 10/10 [00:00<00:00, 44.93it/s, loss=1.71]\n"
          ]
        },
        {
          "output_type": "stream",
          "name": "stdout",
          "text": [
            "Epoch [786/5000]: Train loss: 1.4239, Valid loss: 1.0526\n"
          ]
        },
        {
          "output_type": "stream",
          "name": "stderr",
          "text": [
            "Epoch [787/5000]: 100%|██████████| 10/10 [00:00<00:00, 45.00it/s, loss=1.56]\n"
          ]
        },
        {
          "output_type": "stream",
          "name": "stdout",
          "text": [
            "Epoch [787/5000]: Train loss: 1.4197, Valid loss: 1.0368\n"
          ]
        },
        {
          "output_type": "stream",
          "name": "stderr",
          "text": [
            "Epoch [788/5000]: 100%|██████████| 10/10 [00:00<00:00, 53.01it/s, loss=1.53]\n"
          ]
        },
        {
          "output_type": "stream",
          "name": "stdout",
          "text": [
            "Epoch [788/5000]: Train loss: 1.4390, Valid loss: 1.0547\n"
          ]
        },
        {
          "output_type": "stream",
          "name": "stderr",
          "text": [
            "Epoch [789/5000]: 100%|██████████| 10/10 [00:00<00:00, 56.85it/s, loss=1.5]\n"
          ]
        },
        {
          "output_type": "stream",
          "name": "stdout",
          "text": [
            "Epoch [789/5000]: Train loss: 1.4298, Valid loss: 1.0179\n"
          ]
        },
        {
          "output_type": "stream",
          "name": "stderr",
          "text": [
            "Epoch [790/5000]: 100%|██████████| 10/10 [00:00<00:00, 60.83it/s, loss=1.42]\n"
          ]
        },
        {
          "output_type": "stream",
          "name": "stdout",
          "text": [
            "Epoch [790/5000]: Train loss: 1.4471, Valid loss: 1.0855\n"
          ]
        },
        {
          "output_type": "stream",
          "name": "stderr",
          "text": [
            "Epoch [791/5000]: 100%|██████████| 10/10 [00:00<00:00, 62.24it/s, loss=1.5]\n"
          ]
        },
        {
          "output_type": "stream",
          "name": "stdout",
          "text": [
            "Epoch [791/5000]: Train loss: 1.4114, Valid loss: 0.9862\n"
          ]
        },
        {
          "output_type": "stream",
          "name": "stderr",
          "text": [
            "Epoch [792/5000]: 100%|██████████| 10/10 [00:00<00:00, 61.67it/s, loss=1.34]\n"
          ]
        },
        {
          "output_type": "stream",
          "name": "stdout",
          "text": [
            "Epoch [792/5000]: Train loss: 1.3985, Valid loss: 1.1067\n"
          ]
        },
        {
          "output_type": "stream",
          "name": "stderr",
          "text": [
            "Epoch [793/5000]: 100%|██████████| 10/10 [00:00<00:00, 62.16it/s, loss=1.47]\n"
          ]
        },
        {
          "output_type": "stream",
          "name": "stdout",
          "text": [
            "Epoch [793/5000]: Train loss: 1.4282, Valid loss: 1.0326\n"
          ]
        },
        {
          "output_type": "stream",
          "name": "stderr",
          "text": [
            "Epoch [794/5000]: 100%|██████████| 10/10 [00:00<00:00, 58.77it/s, loss=1.45]\n"
          ]
        },
        {
          "output_type": "stream",
          "name": "stdout",
          "text": [
            "Epoch [794/5000]: Train loss: 1.4101, Valid loss: 1.0270\n"
          ]
        },
        {
          "output_type": "stream",
          "name": "stderr",
          "text": [
            "Epoch [795/5000]: 100%|██████████| 10/10 [00:00<00:00, 63.02it/s, loss=1.52]\n"
          ]
        },
        {
          "output_type": "stream",
          "name": "stdout",
          "text": [
            "Epoch [795/5000]: Train loss: 1.4335, Valid loss: 1.0584\n"
          ]
        },
        {
          "output_type": "stream",
          "name": "stderr",
          "text": [
            "Epoch [796/5000]: 100%|██████████| 10/10 [00:00<00:00, 64.31it/s, loss=1.43]\n"
          ]
        },
        {
          "output_type": "stream",
          "name": "stdout",
          "text": [
            "Epoch [796/5000]: Train loss: 1.4082, Valid loss: 1.0099\n"
          ]
        },
        {
          "output_type": "stream",
          "name": "stderr",
          "text": [
            "Epoch [797/5000]: 100%|██████████| 10/10 [00:00<00:00, 64.59it/s, loss=1.26]\n"
          ]
        },
        {
          "output_type": "stream",
          "name": "stdout",
          "text": [
            "Epoch [797/5000]: Train loss: 1.4092, Valid loss: 1.1395\n"
          ]
        },
        {
          "output_type": "stream",
          "name": "stderr",
          "text": [
            "Epoch [798/5000]: 100%|██████████| 10/10 [00:00<00:00, 52.53it/s, loss=1.49]\n"
          ]
        },
        {
          "output_type": "stream",
          "name": "stdout",
          "text": [
            "Epoch [798/5000]: Train loss: 1.4526, Valid loss: 1.1172\n"
          ]
        },
        {
          "output_type": "stream",
          "name": "stderr",
          "text": [
            "Epoch [799/5000]: 100%|██████████| 10/10 [00:00<00:00, 58.30it/s, loss=1.37]\n"
          ]
        },
        {
          "output_type": "stream",
          "name": "stdout",
          "text": [
            "Epoch [799/5000]: Train loss: 1.4367, Valid loss: 0.9891\n"
          ]
        },
        {
          "output_type": "stream",
          "name": "stderr",
          "text": [
            "Epoch [800/5000]: 100%|██████████| 10/10 [00:00<00:00, 55.95it/s, loss=1.51]\n"
          ]
        },
        {
          "output_type": "stream",
          "name": "stdout",
          "text": [
            "Epoch [800/5000]: Train loss: 1.4254, Valid loss: 1.1533\n"
          ]
        },
        {
          "output_type": "stream",
          "name": "stderr",
          "text": [
            "Epoch [801/5000]: 100%|██████████| 10/10 [00:00<00:00, 58.32it/s, loss=1.22]\n"
          ]
        },
        {
          "output_type": "stream",
          "name": "stdout",
          "text": [
            "Epoch [801/5000]: Train loss: 1.3869, Valid loss: 0.9911\n"
          ]
        },
        {
          "output_type": "stream",
          "name": "stderr",
          "text": [
            "Epoch [802/5000]: 100%|██████████| 10/10 [00:00<00:00, 55.59it/s, loss=1.48]\n"
          ]
        },
        {
          "output_type": "stream",
          "name": "stdout",
          "text": [
            "Epoch [802/5000]: Train loss: 1.4302, Valid loss: 0.9979\n"
          ]
        },
        {
          "output_type": "stream",
          "name": "stderr",
          "text": [
            "Epoch [803/5000]: 100%|██████████| 10/10 [00:00<00:00, 22.46it/s, loss=1.48]\n"
          ]
        },
        {
          "output_type": "stream",
          "name": "stdout",
          "text": [
            "Epoch [803/5000]: Train loss: 1.4264, Valid loss: 1.0045\n"
          ]
        },
        {
          "output_type": "stream",
          "name": "stderr",
          "text": [
            "Epoch [804/5000]: 100%|██████████| 10/10 [00:00<00:00, 68.35it/s, loss=1.43]\n"
          ]
        },
        {
          "output_type": "stream",
          "name": "stdout",
          "text": [
            "Epoch [804/5000]: Train loss: 1.4236, Valid loss: 1.0060\n"
          ]
        },
        {
          "output_type": "stream",
          "name": "stderr",
          "text": [
            "Epoch [805/5000]: 100%|██████████| 10/10 [00:00<00:00, 65.90it/s, loss=1.39]\n"
          ]
        },
        {
          "output_type": "stream",
          "name": "stdout",
          "text": [
            "Epoch [805/5000]: Train loss: 1.4385, Valid loss: 1.0467\n"
          ]
        },
        {
          "output_type": "stream",
          "name": "stderr",
          "text": [
            "Epoch [806/5000]: 100%|██████████| 10/10 [00:00<00:00, 65.02it/s, loss=1.3]\n"
          ]
        },
        {
          "output_type": "stream",
          "name": "stdout",
          "text": [
            "Epoch [806/5000]: Train loss: 1.3848, Valid loss: 1.0479\n"
          ]
        },
        {
          "output_type": "stream",
          "name": "stderr",
          "text": [
            "Epoch [807/5000]: 100%|██████████| 10/10 [00:00<00:00, 61.11it/s, loss=1.45]\n"
          ]
        },
        {
          "output_type": "stream",
          "name": "stdout",
          "text": [
            "Epoch [807/5000]: Train loss: 1.4508, Valid loss: 1.0084\n"
          ]
        },
        {
          "output_type": "stream",
          "name": "stderr",
          "text": [
            "Epoch [808/5000]: 100%|██████████| 10/10 [00:00<00:00, 65.51it/s, loss=1.57]\n"
          ]
        },
        {
          "output_type": "stream",
          "name": "stdout",
          "text": [
            "Epoch [808/5000]: Train loss: 1.4208, Valid loss: 1.1474\n"
          ]
        },
        {
          "output_type": "stream",
          "name": "stderr",
          "text": [
            "Epoch [809/5000]: 100%|██████████| 10/10 [00:00<00:00, 63.76it/s, loss=1.25]\n"
          ]
        },
        {
          "output_type": "stream",
          "name": "stdout",
          "text": [
            "Epoch [809/5000]: Train loss: 1.4208, Valid loss: 1.0697\n"
          ]
        },
        {
          "output_type": "stream",
          "name": "stderr",
          "text": [
            "Epoch [810/5000]: 100%|██████████| 10/10 [00:00<00:00, 55.00it/s, loss=1.43]\n"
          ]
        },
        {
          "output_type": "stream",
          "name": "stdout",
          "text": [
            "Epoch [810/5000]: Train loss: 1.3955, Valid loss: 1.0226\n"
          ]
        },
        {
          "output_type": "stream",
          "name": "stderr",
          "text": [
            "Epoch [811/5000]: 100%|██████████| 10/10 [00:00<00:00, 62.22it/s, loss=1.62]\n"
          ]
        },
        {
          "output_type": "stream",
          "name": "stdout",
          "text": [
            "Epoch [811/5000]: Train loss: 1.4014, Valid loss: 1.0613\n"
          ]
        },
        {
          "output_type": "stream",
          "name": "stderr",
          "text": [
            "Epoch [812/5000]: 100%|██████████| 10/10 [00:00<00:00, 59.53it/s, loss=1.4]\n"
          ]
        },
        {
          "output_type": "stream",
          "name": "stdout",
          "text": [
            "Epoch [812/5000]: Train loss: 1.3791, Valid loss: 1.0434\n"
          ]
        },
        {
          "output_type": "stream",
          "name": "stderr",
          "text": [
            "Epoch [813/5000]: 100%|██████████| 10/10 [00:00<00:00, 62.19it/s, loss=1.4]\n"
          ]
        },
        {
          "output_type": "stream",
          "name": "stdout",
          "text": [
            "Epoch [813/5000]: Train loss: 1.4056, Valid loss: 0.9853\n"
          ]
        },
        {
          "output_type": "stream",
          "name": "stderr",
          "text": [
            "Epoch [814/5000]: 100%|██████████| 10/10 [00:00<00:00, 61.63it/s, loss=1.32]\n"
          ]
        },
        {
          "output_type": "stream",
          "name": "stdout",
          "text": [
            "Epoch [814/5000]: Train loss: 1.4007, Valid loss: 1.0213\n"
          ]
        },
        {
          "output_type": "stream",
          "name": "stderr",
          "text": [
            "Epoch [815/5000]: 100%|██████████| 10/10 [00:00<00:00, 60.75it/s, loss=1.34]\n"
          ]
        },
        {
          "output_type": "stream",
          "name": "stdout",
          "text": [
            "Epoch [815/5000]: Train loss: 1.4137, Valid loss: 1.0490\n"
          ]
        },
        {
          "output_type": "stream",
          "name": "stderr",
          "text": [
            "Epoch [816/5000]: 100%|██████████| 10/10 [00:00<00:00, 57.11it/s, loss=1.42]\n"
          ]
        },
        {
          "output_type": "stream",
          "name": "stdout",
          "text": [
            "Epoch [816/5000]: Train loss: 1.4269, Valid loss: 1.0297\n"
          ]
        },
        {
          "output_type": "stream",
          "name": "stderr",
          "text": [
            "Epoch [817/5000]: 100%|██████████| 10/10 [00:00<00:00, 52.99it/s, loss=1.55]\n"
          ]
        },
        {
          "output_type": "stream",
          "name": "stdout",
          "text": [
            "Epoch [817/5000]: Train loss: 1.4166, Valid loss: 0.9978\n"
          ]
        },
        {
          "output_type": "stream",
          "name": "stderr",
          "text": [
            "Epoch [818/5000]: 100%|██████████| 10/10 [00:00<00:00, 61.69it/s, loss=1.55]\n"
          ]
        },
        {
          "output_type": "stream",
          "name": "stdout",
          "text": [
            "Epoch [818/5000]: Train loss: 1.4195, Valid loss: 1.1461\n"
          ]
        },
        {
          "output_type": "stream",
          "name": "stderr",
          "text": [
            "Epoch [819/5000]: 100%|██████████| 10/10 [00:00<00:00, 60.40it/s, loss=1.24]\n"
          ]
        },
        {
          "output_type": "stream",
          "name": "stdout",
          "text": [
            "Epoch [819/5000]: Train loss: 1.4111, Valid loss: 1.0796\n"
          ]
        },
        {
          "output_type": "stream",
          "name": "stderr",
          "text": [
            "Epoch [820/5000]: 100%|██████████| 10/10 [00:00<00:00, 59.00it/s, loss=1.56]\n"
          ]
        },
        {
          "output_type": "stream",
          "name": "stdout",
          "text": [
            "Epoch [820/5000]: Train loss: 1.4304, Valid loss: 1.0731\n"
          ]
        },
        {
          "output_type": "stream",
          "name": "stderr",
          "text": [
            "Epoch [821/5000]: 100%|██████████| 10/10 [00:00<00:00, 63.85it/s, loss=1.58]\n"
          ]
        },
        {
          "output_type": "stream",
          "name": "stdout",
          "text": [
            "Epoch [821/5000]: Train loss: 1.4057, Valid loss: 1.0262\n"
          ]
        },
        {
          "output_type": "stream",
          "name": "stderr",
          "text": [
            "Epoch [822/5000]: 100%|██████████| 10/10 [00:00<00:00, 63.44it/s, loss=1.52]\n"
          ]
        },
        {
          "output_type": "stream",
          "name": "stdout",
          "text": [
            "Epoch [822/5000]: Train loss: 1.4056, Valid loss: 1.1000\n"
          ]
        },
        {
          "output_type": "stream",
          "name": "stderr",
          "text": [
            "Epoch [823/5000]: 100%|██████████| 10/10 [00:00<00:00, 60.49it/s, loss=1.5]\n"
          ]
        },
        {
          "output_type": "stream",
          "name": "stdout",
          "text": [
            "Epoch [823/5000]: Train loss: 1.4357, Valid loss: 1.0083\n"
          ]
        },
        {
          "output_type": "stream",
          "name": "stderr",
          "text": [
            "Epoch [824/5000]: 100%|██████████| 10/10 [00:00<00:00, 64.06it/s, loss=1.32]\n"
          ]
        },
        {
          "output_type": "stream",
          "name": "stdout",
          "text": [
            "Epoch [824/5000]: Train loss: 1.3864, Valid loss: 1.0499\n"
          ]
        },
        {
          "output_type": "stream",
          "name": "stderr",
          "text": [
            "Epoch [825/5000]: 100%|██████████| 10/10 [00:00<00:00, 55.62it/s, loss=1.39]\n"
          ]
        },
        {
          "output_type": "stream",
          "name": "stdout",
          "text": [
            "Epoch [825/5000]: Train loss: 1.3992, Valid loss: 1.0111\n"
          ]
        },
        {
          "output_type": "stream",
          "name": "stderr",
          "text": [
            "Epoch [826/5000]: 100%|██████████| 10/10 [00:00<00:00, 22.87it/s, loss=1.34]\n"
          ]
        },
        {
          "output_type": "stream",
          "name": "stdout",
          "text": [
            "Epoch [826/5000]: Train loss: 1.3802, Valid loss: 0.9985\n"
          ]
        },
        {
          "output_type": "stream",
          "name": "stderr",
          "text": [
            "Epoch [827/5000]: 100%|██████████| 10/10 [00:00<00:00, 64.02it/s, loss=1.39]\n"
          ]
        },
        {
          "output_type": "stream",
          "name": "stdout",
          "text": [
            "Epoch [827/5000]: Train loss: 1.4036, Valid loss: 1.0184\n"
          ]
        },
        {
          "output_type": "stream",
          "name": "stderr",
          "text": [
            "Epoch [828/5000]: 100%|██████████| 10/10 [00:00<00:00, 61.03it/s, loss=1.45]\n"
          ]
        },
        {
          "output_type": "stream",
          "name": "stdout",
          "text": [
            "Epoch [828/5000]: Train loss: 1.4155, Valid loss: 1.0134\n"
          ]
        },
        {
          "output_type": "stream",
          "name": "stderr",
          "text": [
            "Epoch [829/5000]: 100%|██████████| 10/10 [00:00<00:00, 64.29it/s, loss=1.38]\n"
          ]
        },
        {
          "output_type": "stream",
          "name": "stdout",
          "text": [
            "Epoch [829/5000]: Train loss: 1.4420, Valid loss: 1.2494\n"
          ]
        },
        {
          "output_type": "stream",
          "name": "stderr",
          "text": [
            "Epoch [830/5000]: 100%|██████████| 10/10 [00:00<00:00, 63.98it/s, loss=1.31]\n"
          ]
        },
        {
          "output_type": "stream",
          "name": "stdout",
          "text": [
            "Epoch [830/5000]: Train loss: 1.4376, Valid loss: 1.0366\n"
          ]
        },
        {
          "output_type": "stream",
          "name": "stderr",
          "text": [
            "Epoch [831/5000]: 100%|██████████| 10/10 [00:00<00:00, 66.42it/s, loss=1.32]\n"
          ]
        },
        {
          "output_type": "stream",
          "name": "stdout",
          "text": [
            "Epoch [831/5000]: Train loss: 1.4229, Valid loss: 1.0050\n"
          ]
        },
        {
          "output_type": "stream",
          "name": "stderr",
          "text": [
            "Epoch [832/5000]: 100%|██████████| 10/10 [00:00<00:00, 56.26it/s, loss=1.33]\n"
          ]
        },
        {
          "output_type": "stream",
          "name": "stdout",
          "text": [
            "Epoch [832/5000]: Train loss: 1.3614, Valid loss: 1.0689\n"
          ]
        },
        {
          "output_type": "stream",
          "name": "stderr",
          "text": [
            "Epoch [833/5000]: 100%|██████████| 10/10 [00:00<00:00, 49.67it/s, loss=1.42]\n"
          ]
        },
        {
          "output_type": "stream",
          "name": "stdout",
          "text": [
            "Epoch [833/5000]: Train loss: 1.4108, Valid loss: 1.0212\n"
          ]
        },
        {
          "output_type": "stream",
          "name": "stderr",
          "text": [
            "Epoch [834/5000]: 100%|██████████| 10/10 [00:00<00:00, 64.37it/s, loss=1.29]\n"
          ]
        },
        {
          "output_type": "stream",
          "name": "stdout",
          "text": [
            "Epoch [834/5000]: Train loss: 1.3904, Valid loss: 1.0653\n"
          ]
        },
        {
          "output_type": "stream",
          "name": "stderr",
          "text": [
            "Epoch [835/5000]: 100%|██████████| 10/10 [00:00<00:00, 57.24it/s, loss=1.39]\n"
          ]
        },
        {
          "output_type": "stream",
          "name": "stdout",
          "text": [
            "Epoch [835/5000]: Train loss: 1.3972, Valid loss: 0.9918\n"
          ]
        },
        {
          "output_type": "stream",
          "name": "stderr",
          "text": [
            "Epoch [836/5000]: 100%|██████████| 10/10 [00:00<00:00, 52.53it/s, loss=1.59]\n"
          ]
        },
        {
          "output_type": "stream",
          "name": "stdout",
          "text": [
            "Epoch [836/5000]: Train loss: 1.4182, Valid loss: 1.0130\n"
          ]
        },
        {
          "output_type": "stream",
          "name": "stderr",
          "text": [
            "Epoch [837/5000]: 100%|██████████| 10/10 [00:00<00:00, 64.41it/s, loss=1.51]\n"
          ]
        },
        {
          "output_type": "stream",
          "name": "stdout",
          "text": [
            "Epoch [837/5000]: Train loss: 1.4206, Valid loss: 1.0401\n"
          ]
        },
        {
          "output_type": "stream",
          "name": "stderr",
          "text": [
            "Epoch [838/5000]: 100%|██████████| 10/10 [00:00<00:00, 59.97it/s, loss=1.46]\n"
          ]
        },
        {
          "output_type": "stream",
          "name": "stdout",
          "text": [
            "Epoch [838/5000]: Train loss: 1.4119, Valid loss: 1.0319\n"
          ]
        },
        {
          "output_type": "stream",
          "name": "stderr",
          "text": [
            "Epoch [839/5000]: 100%|██████████| 10/10 [00:00<00:00, 65.66it/s, loss=1.39]\n"
          ]
        },
        {
          "output_type": "stream",
          "name": "stdout",
          "text": [
            "Epoch [839/5000]: Train loss: 1.4272, Valid loss: 1.0552\n"
          ]
        },
        {
          "output_type": "stream",
          "name": "stderr",
          "text": [
            "Epoch [840/5000]: 100%|██████████| 10/10 [00:00<00:00, 64.22it/s, loss=1.44]\n"
          ]
        },
        {
          "output_type": "stream",
          "name": "stdout",
          "text": [
            "Epoch [840/5000]: Train loss: 1.4015, Valid loss: 1.0707\n"
          ]
        },
        {
          "output_type": "stream",
          "name": "stderr",
          "text": [
            "Epoch [841/5000]: 100%|██████████| 10/10 [00:00<00:00, 65.37it/s, loss=1.3]\n"
          ]
        },
        {
          "output_type": "stream",
          "name": "stdout",
          "text": [
            "Epoch [841/5000]: Train loss: 1.3757, Valid loss: 1.0558\n"
          ]
        },
        {
          "output_type": "stream",
          "name": "stderr",
          "text": [
            "Epoch [842/5000]: 100%|██████████| 10/10 [00:00<00:00, 56.77it/s, loss=1.49]\n"
          ]
        },
        {
          "output_type": "stream",
          "name": "stdout",
          "text": [
            "Epoch [842/5000]: Train loss: 1.4029, Valid loss: 1.0749\n"
          ]
        },
        {
          "output_type": "stream",
          "name": "stderr",
          "text": [
            "Epoch [843/5000]: 100%|██████████| 10/10 [00:00<00:00, 19.20it/s, loss=1.46]\n"
          ]
        },
        {
          "output_type": "stream",
          "name": "stdout",
          "text": [
            "Epoch [843/5000]: Train loss: 1.3941, Valid loss: 0.9674\n"
          ]
        },
        {
          "output_type": "stream",
          "name": "stderr",
          "text": [
            "Epoch [844/5000]: 100%|██████████| 10/10 [00:00<00:00, 37.10it/s, loss=1.68]\n"
          ]
        },
        {
          "output_type": "stream",
          "name": "stdout",
          "text": [
            "Epoch [844/5000]: Train loss: 1.4457, Valid loss: 0.9698\n"
          ]
        },
        {
          "output_type": "stream",
          "name": "stderr",
          "text": [
            "Epoch [845/5000]: 100%|██████████| 10/10 [00:00<00:00, 38.47it/s, loss=1.23]\n"
          ]
        },
        {
          "output_type": "stream",
          "name": "stdout",
          "text": [
            "Epoch [845/5000]: Train loss: 1.3982, Valid loss: 1.0005\n"
          ]
        },
        {
          "output_type": "stream",
          "name": "stderr",
          "text": [
            "Epoch [846/5000]: 100%|██████████| 10/10 [00:00<00:00, 46.64it/s, loss=1.32]\n"
          ]
        },
        {
          "output_type": "stream",
          "name": "stdout",
          "text": [
            "Epoch [846/5000]: Train loss: 1.3574, Valid loss: 1.0316\n"
          ]
        },
        {
          "output_type": "stream",
          "name": "stderr",
          "text": [
            "Epoch [847/5000]: 100%|██████████| 10/10 [00:00<00:00, 46.26it/s, loss=1.46]\n"
          ]
        },
        {
          "output_type": "stream",
          "name": "stdout",
          "text": [
            "Epoch [847/5000]: Train loss: 1.4227, Valid loss: 1.1460\n"
          ]
        },
        {
          "output_type": "stream",
          "name": "stderr",
          "text": [
            "Epoch [848/5000]: 100%|██████████| 10/10 [00:00<00:00, 46.90it/s, loss=1.51]\n"
          ]
        },
        {
          "output_type": "stream",
          "name": "stdout",
          "text": [
            "Epoch [848/5000]: Train loss: 1.4310, Valid loss: 1.0339\n"
          ]
        },
        {
          "output_type": "stream",
          "name": "stderr",
          "text": [
            "Epoch [849/5000]: 100%|██████████| 10/10 [00:00<00:00, 53.27it/s, loss=1.7]\n"
          ]
        },
        {
          "output_type": "stream",
          "name": "stdout",
          "text": [
            "Epoch [849/5000]: Train loss: 1.4277, Valid loss: 1.1766\n"
          ]
        },
        {
          "output_type": "stream",
          "name": "stderr",
          "text": [
            "Epoch [850/5000]: 100%|██████████| 10/10 [00:00<00:00, 64.48it/s, loss=1.53]\n"
          ]
        },
        {
          "output_type": "stream",
          "name": "stdout",
          "text": [
            "Epoch [850/5000]: Train loss: 1.4493, Valid loss: 0.9867\n"
          ]
        },
        {
          "output_type": "stream",
          "name": "stderr",
          "text": [
            "Epoch [851/5000]: 100%|██████████| 10/10 [00:00<00:00, 60.24it/s, loss=1.39]\n"
          ]
        },
        {
          "output_type": "stream",
          "name": "stdout",
          "text": [
            "Epoch [851/5000]: Train loss: 1.4257, Valid loss: 1.0519\n"
          ]
        },
        {
          "output_type": "stream",
          "name": "stderr",
          "text": [
            "Epoch [852/5000]: 100%|██████████| 10/10 [00:00<00:00, 21.70it/s, loss=1.48]\n"
          ]
        },
        {
          "output_type": "stream",
          "name": "stdout",
          "text": [
            "Epoch [852/5000]: Train loss: 1.4267, Valid loss: 1.0587\n"
          ]
        },
        {
          "output_type": "stream",
          "name": "stderr",
          "text": [
            "Epoch [853/5000]: 100%|██████████| 10/10 [00:00<00:00, 56.15it/s, loss=1.35]\n"
          ]
        },
        {
          "output_type": "stream",
          "name": "stdout",
          "text": [
            "Epoch [853/5000]: Train loss: 1.3948, Valid loss: 1.0506\n"
          ]
        },
        {
          "output_type": "stream",
          "name": "stderr",
          "text": [
            "Epoch [854/5000]: 100%|██████████| 10/10 [00:00<00:00, 51.71it/s, loss=1.37]\n"
          ]
        },
        {
          "output_type": "stream",
          "name": "stdout",
          "text": [
            "Epoch [854/5000]: Train loss: 1.4094, Valid loss: 1.0135\n"
          ]
        },
        {
          "output_type": "stream",
          "name": "stderr",
          "text": [
            "Epoch [855/5000]: 100%|██████████| 10/10 [00:00<00:00, 47.33it/s, loss=1.56]\n"
          ]
        },
        {
          "output_type": "stream",
          "name": "stdout",
          "text": [
            "Epoch [855/5000]: Train loss: 1.4022, Valid loss: 1.0736\n"
          ]
        },
        {
          "output_type": "stream",
          "name": "stderr",
          "text": [
            "Epoch [856/5000]: 100%|██████████| 10/10 [00:00<00:00, 49.53it/s, loss=1.39]\n"
          ]
        },
        {
          "output_type": "stream",
          "name": "stdout",
          "text": [
            "Epoch [856/5000]: Train loss: 1.4304, Valid loss: 1.0549\n"
          ]
        },
        {
          "output_type": "stream",
          "name": "stderr",
          "text": [
            "Epoch [857/5000]: 100%|██████████| 10/10 [00:00<00:00, 49.35it/s, loss=1.2]\n"
          ]
        },
        {
          "output_type": "stream",
          "name": "stdout",
          "text": [
            "Epoch [857/5000]: Train loss: 1.3658, Valid loss: 1.0359\n"
          ]
        },
        {
          "output_type": "stream",
          "name": "stderr",
          "text": [
            "Epoch [858/5000]: 100%|██████████| 10/10 [00:00<00:00, 55.06it/s, loss=1.36]\n"
          ]
        },
        {
          "output_type": "stream",
          "name": "stdout",
          "text": [
            "Epoch [858/5000]: Train loss: 1.3972, Valid loss: 1.0305\n"
          ]
        },
        {
          "output_type": "stream",
          "name": "stderr",
          "text": [
            "Epoch [859/5000]: 100%|██████████| 10/10 [00:00<00:00, 63.61it/s, loss=1.2]\n"
          ]
        },
        {
          "output_type": "stream",
          "name": "stdout",
          "text": [
            "Epoch [859/5000]: Train loss: 1.4042, Valid loss: 1.0031\n"
          ]
        },
        {
          "output_type": "stream",
          "name": "stderr",
          "text": [
            "Epoch [860/5000]: 100%|██████████| 10/10 [00:00<00:00, 63.14it/s, loss=1.44]\n"
          ]
        },
        {
          "output_type": "stream",
          "name": "stdout",
          "text": [
            "Epoch [860/5000]: Train loss: 1.4230, Valid loss: 1.1362\n"
          ]
        },
        {
          "output_type": "stream",
          "name": "stderr",
          "text": [
            "Epoch [861/5000]: 100%|██████████| 10/10 [00:00<00:00, 64.55it/s, loss=1.35]\n"
          ]
        },
        {
          "output_type": "stream",
          "name": "stdout",
          "text": [
            "Epoch [861/5000]: Train loss: 1.3835, Valid loss: 1.0138\n"
          ]
        },
        {
          "output_type": "stream",
          "name": "stderr",
          "text": [
            "Epoch [862/5000]: 100%|██████████| 10/10 [00:00<00:00, 22.85it/s, loss=1.55]\n"
          ]
        },
        {
          "output_type": "stream",
          "name": "stdout",
          "text": [
            "Epoch [862/5000]: Train loss: 1.4112, Valid loss: 1.0692\n"
          ]
        },
        {
          "output_type": "stream",
          "name": "stderr",
          "text": [
            "Epoch [863/5000]: 100%|██████████| 10/10 [00:00<00:00, 61.58it/s, loss=1.38]\n"
          ]
        },
        {
          "output_type": "stream",
          "name": "stdout",
          "text": [
            "Epoch [863/5000]: Train loss: 1.3885, Valid loss: 0.9904\n"
          ]
        },
        {
          "output_type": "stream",
          "name": "stderr",
          "text": [
            "Epoch [864/5000]: 100%|██████████| 10/10 [00:00<00:00, 58.38it/s, loss=1.34]\n"
          ]
        },
        {
          "output_type": "stream",
          "name": "stdout",
          "text": [
            "Epoch [864/5000]: Train loss: 1.3920, Valid loss: 1.1237\n"
          ]
        },
        {
          "output_type": "stream",
          "name": "stderr",
          "text": [
            "Epoch [865/5000]: 100%|██████████| 10/10 [00:00<00:00, 61.31it/s, loss=1.39]\n"
          ]
        },
        {
          "output_type": "stream",
          "name": "stdout",
          "text": [
            "Epoch [865/5000]: Train loss: 1.4231, Valid loss: 1.0347\n"
          ]
        },
        {
          "output_type": "stream",
          "name": "stderr",
          "text": [
            "Epoch [866/5000]: 100%|██████████| 10/10 [00:00<00:00, 57.83it/s, loss=1.48]\n"
          ]
        },
        {
          "output_type": "stream",
          "name": "stdout",
          "text": [
            "Epoch [866/5000]: Train loss: 1.4342, Valid loss: 1.0556\n"
          ]
        },
        {
          "output_type": "stream",
          "name": "stderr",
          "text": [
            "Epoch [867/5000]: 100%|██████████| 10/10 [00:00<00:00, 62.98it/s, loss=1.4]\n"
          ]
        },
        {
          "output_type": "stream",
          "name": "stdout",
          "text": [
            "Epoch [867/5000]: Train loss: 1.4148, Valid loss: 1.0791\n"
          ]
        },
        {
          "output_type": "stream",
          "name": "stderr",
          "text": [
            "Epoch [868/5000]: 100%|██████████| 10/10 [00:00<00:00, 63.99it/s, loss=1.37]\n"
          ]
        },
        {
          "output_type": "stream",
          "name": "stdout",
          "text": [
            "Epoch [868/5000]: Train loss: 1.4056, Valid loss: 1.0115\n"
          ]
        },
        {
          "output_type": "stream",
          "name": "stderr",
          "text": [
            "Epoch [869/5000]: 100%|██████████| 10/10 [00:00<00:00, 55.21it/s, loss=1.34]\n"
          ]
        },
        {
          "output_type": "stream",
          "name": "stdout",
          "text": [
            "Epoch [869/5000]: Train loss: 1.3989, Valid loss: 0.9955\n"
          ]
        },
        {
          "output_type": "stream",
          "name": "stderr",
          "text": [
            "Epoch [870/5000]: 100%|██████████| 10/10 [00:00<00:00, 62.19it/s, loss=1.22]\n"
          ]
        },
        {
          "output_type": "stream",
          "name": "stdout",
          "text": [
            "Epoch [870/5000]: Train loss: 1.3876, Valid loss: 0.9794\n"
          ]
        },
        {
          "output_type": "stream",
          "name": "stderr",
          "text": [
            "Epoch [871/5000]: 100%|██████████| 10/10 [00:00<00:00, 59.06it/s, loss=1.48]\n"
          ]
        },
        {
          "output_type": "stream",
          "name": "stdout",
          "text": [
            "Epoch [871/5000]: Train loss: 1.4106, Valid loss: 1.0372\n"
          ]
        },
        {
          "output_type": "stream",
          "name": "stderr",
          "text": [
            "Epoch [872/5000]: 100%|██████████| 10/10 [00:00<00:00, 23.81it/s, loss=1.49]\n"
          ]
        },
        {
          "output_type": "stream",
          "name": "stdout",
          "text": [
            "Epoch [872/5000]: Train loss: 1.4026, Valid loss: 0.9943\n"
          ]
        },
        {
          "output_type": "stream",
          "name": "stderr",
          "text": [
            "Epoch [873/5000]: 100%|██████████| 10/10 [00:00<00:00, 55.00it/s, loss=1.51]\n"
          ]
        },
        {
          "output_type": "stream",
          "name": "stdout",
          "text": [
            "Epoch [873/5000]: Train loss: 1.4454, Valid loss: 1.0052\n"
          ]
        },
        {
          "output_type": "stream",
          "name": "stderr",
          "text": [
            "Epoch [874/5000]: 100%|██████████| 10/10 [00:00<00:00, 58.92it/s, loss=1.29]\n"
          ]
        },
        {
          "output_type": "stream",
          "name": "stdout",
          "text": [
            "Epoch [874/5000]: Train loss: 1.4494, Valid loss: 1.0148\n"
          ]
        },
        {
          "output_type": "stream",
          "name": "stderr",
          "text": [
            "Epoch [875/5000]: 100%|██████████| 10/10 [00:00<00:00, 62.43it/s, loss=1.27]\n"
          ]
        },
        {
          "output_type": "stream",
          "name": "stdout",
          "text": [
            "Epoch [875/5000]: Train loss: 1.4091, Valid loss: 0.9916\n"
          ]
        },
        {
          "output_type": "stream",
          "name": "stderr",
          "text": [
            "Epoch [876/5000]: 100%|██████████| 10/10 [00:00<00:00, 62.64it/s, loss=1.27]\n"
          ]
        },
        {
          "output_type": "stream",
          "name": "stdout",
          "text": [
            "Epoch [876/5000]: Train loss: 1.3937, Valid loss: 1.0425\n"
          ]
        },
        {
          "output_type": "stream",
          "name": "stderr",
          "text": [
            "Epoch [877/5000]: 100%|██████████| 10/10 [00:00<00:00, 63.88it/s, loss=1.52]\n"
          ]
        },
        {
          "output_type": "stream",
          "name": "stdout",
          "text": [
            "Epoch [877/5000]: Train loss: 1.3848, Valid loss: 1.0429\n"
          ]
        },
        {
          "output_type": "stream",
          "name": "stderr",
          "text": [
            "Epoch [878/5000]: 100%|██████████| 10/10 [00:00<00:00, 61.78it/s, loss=1.35]\n"
          ]
        },
        {
          "output_type": "stream",
          "name": "stdout",
          "text": [
            "Epoch [878/5000]: Train loss: 1.4073, Valid loss: 1.0698\n"
          ]
        },
        {
          "output_type": "stream",
          "name": "stderr",
          "text": [
            "Epoch [879/5000]: 100%|██████████| 10/10 [00:00<00:00, 59.66it/s, loss=1.35]\n"
          ]
        },
        {
          "output_type": "stream",
          "name": "stdout",
          "text": [
            "Epoch [879/5000]: Train loss: 1.3904, Valid loss: 1.0130\n"
          ]
        },
        {
          "output_type": "stream",
          "name": "stderr",
          "text": [
            "Epoch [880/5000]: 100%|██████████| 10/10 [00:00<00:00, 57.85it/s, loss=1.44]\n"
          ]
        },
        {
          "output_type": "stream",
          "name": "stdout",
          "text": [
            "Epoch [880/5000]: Train loss: 1.3806, Valid loss: 1.0891\n"
          ]
        },
        {
          "output_type": "stream",
          "name": "stderr",
          "text": [
            "Epoch [881/5000]: 100%|██████████| 10/10 [00:00<00:00, 57.82it/s, loss=1.4]\n"
          ]
        },
        {
          "output_type": "stream",
          "name": "stdout",
          "text": [
            "Epoch [881/5000]: Train loss: 1.4033, Valid loss: 1.0415\n"
          ]
        },
        {
          "output_type": "stream",
          "name": "stderr",
          "text": [
            "Epoch [882/5000]: 100%|██████████| 10/10 [00:00<00:00, 55.60it/s, loss=1.47]\n"
          ]
        },
        {
          "output_type": "stream",
          "name": "stdout",
          "text": [
            "Epoch [882/5000]: Train loss: 1.3851, Valid loss: 1.0255\n"
          ]
        },
        {
          "output_type": "stream",
          "name": "stderr",
          "text": [
            "Epoch [883/5000]: 100%|██████████| 10/10 [00:00<00:00, 20.54it/s, loss=1.24]\n"
          ]
        },
        {
          "output_type": "stream",
          "name": "stdout",
          "text": [
            "Epoch [883/5000]: Train loss: 1.4065, Valid loss: 1.0560\n"
          ]
        },
        {
          "output_type": "stream",
          "name": "stderr",
          "text": [
            "Epoch [884/5000]: 100%|██████████| 10/10 [00:00<00:00, 54.03it/s, loss=1.35]\n"
          ]
        },
        {
          "output_type": "stream",
          "name": "stdout",
          "text": [
            "Epoch [884/5000]: Train loss: 1.3941, Valid loss: 1.0372\n"
          ]
        },
        {
          "output_type": "stream",
          "name": "stderr",
          "text": [
            "Epoch [885/5000]: 100%|██████████| 10/10 [00:00<00:00, 54.34it/s, loss=1.5]\n"
          ]
        },
        {
          "output_type": "stream",
          "name": "stdout",
          "text": [
            "Epoch [885/5000]: Train loss: 1.4141, Valid loss: 1.1447\n"
          ]
        },
        {
          "output_type": "stream",
          "name": "stderr",
          "text": [
            "Epoch [886/5000]: 100%|██████████| 10/10 [00:00<00:00, 59.63it/s, loss=1.39]\n"
          ]
        },
        {
          "output_type": "stream",
          "name": "stdout",
          "text": [
            "Epoch [886/5000]: Train loss: 1.3602, Valid loss: 1.0980\n"
          ]
        },
        {
          "output_type": "stream",
          "name": "stderr",
          "text": [
            "Epoch [887/5000]: 100%|██████████| 10/10 [00:00<00:00, 63.35it/s, loss=1.42]\n"
          ]
        },
        {
          "output_type": "stream",
          "name": "stdout",
          "text": [
            "Epoch [887/5000]: Train loss: 1.3924, Valid loss: 1.0186\n"
          ]
        },
        {
          "output_type": "stream",
          "name": "stderr",
          "text": [
            "Epoch [888/5000]: 100%|██████████| 10/10 [00:00<00:00, 67.11it/s, loss=1.45]\n"
          ]
        },
        {
          "output_type": "stream",
          "name": "stdout",
          "text": [
            "Epoch [888/5000]: Train loss: 1.4134, Valid loss: 1.0851\n"
          ]
        },
        {
          "output_type": "stream",
          "name": "stderr",
          "text": [
            "Epoch [889/5000]: 100%|██████████| 10/10 [00:00<00:00, 64.67it/s, loss=1.38]\n"
          ]
        },
        {
          "output_type": "stream",
          "name": "stdout",
          "text": [
            "Epoch [889/5000]: Train loss: 1.4097, Valid loss: 1.1507\n"
          ]
        },
        {
          "output_type": "stream",
          "name": "stderr",
          "text": [
            "Epoch [890/5000]: 100%|██████████| 10/10 [00:00<00:00, 65.32it/s, loss=1.37]\n"
          ]
        },
        {
          "output_type": "stream",
          "name": "stdout",
          "text": [
            "Epoch [890/5000]: Train loss: 1.4244, Valid loss: 1.0283\n"
          ]
        },
        {
          "output_type": "stream",
          "name": "stderr",
          "text": [
            "Epoch [891/5000]: 100%|██████████| 10/10 [00:00<00:00, 64.56it/s, loss=1.4]\n"
          ]
        },
        {
          "output_type": "stream",
          "name": "stdout",
          "text": [
            "Epoch [891/5000]: Train loss: 1.4024, Valid loss: 1.0947\n"
          ]
        },
        {
          "output_type": "stream",
          "name": "stderr",
          "text": [
            "Epoch [892/5000]: 100%|██████████| 10/10 [00:00<00:00, 59.52it/s, loss=1.44]\n"
          ]
        },
        {
          "output_type": "stream",
          "name": "stdout",
          "text": [
            "Epoch [892/5000]: Train loss: 1.3749, Valid loss: 1.0851\n"
          ]
        },
        {
          "output_type": "stream",
          "name": "stderr",
          "text": [
            "Epoch [893/5000]: 100%|██████████| 10/10 [00:00<00:00, 65.81it/s, loss=1.23]"
          ]
        },
        {
          "output_type": "stream",
          "name": "stdout",
          "text": [
            "Epoch [893/5000]: Train loss: 1.3871, Valid loss: 1.0485"
          ]
        },
        {
          "output_type": "stream",
          "name": "stderr",
          "text": [
            "\n"
          ]
        },
        {
          "output_type": "stream",
          "name": "stdout",
          "text": [
            "\n"
          ]
        },
        {
          "output_type": "stream",
          "name": "stderr",
          "text": [
            "Epoch [894/5000]: 100%|██████████| 10/10 [00:00<00:00, 67.40it/s, loss=1.18]\n"
          ]
        },
        {
          "output_type": "stream",
          "name": "stdout",
          "text": [
            "Epoch [894/5000]: Train loss: 1.3779, Valid loss: 1.0591\n"
          ]
        },
        {
          "output_type": "stream",
          "name": "stderr",
          "text": [
            "Epoch [895/5000]: 100%|██████████| 10/10 [00:00<00:00, 65.25it/s, loss=1.38]\n"
          ]
        },
        {
          "output_type": "stream",
          "name": "stdout",
          "text": [
            "Epoch [895/5000]: Train loss: 1.3992, Valid loss: 0.9880\n"
          ]
        },
        {
          "output_type": "stream",
          "name": "stderr",
          "text": [
            "Epoch [896/5000]: 100%|██████████| 10/10 [00:00<00:00, 65.07it/s, loss=1.44]\n"
          ]
        },
        {
          "output_type": "stream",
          "name": "stdout",
          "text": [
            "Epoch [896/5000]: Train loss: 1.4073, Valid loss: 1.0869\n"
          ]
        },
        {
          "output_type": "stream",
          "name": "stderr",
          "text": [
            "Epoch [897/5000]: 100%|██████████| 10/10 [00:00<00:00, 61.54it/s, loss=1.32]\n"
          ]
        },
        {
          "output_type": "stream",
          "name": "stdout",
          "text": [
            "Epoch [897/5000]: Train loss: 1.3898, Valid loss: 1.0437\n"
          ]
        },
        {
          "output_type": "stream",
          "name": "stderr",
          "text": [
            "Epoch [898/5000]: 100%|██████████| 10/10 [00:00<00:00, 60.89it/s, loss=1.25]\n"
          ]
        },
        {
          "output_type": "stream",
          "name": "stdout",
          "text": [
            "Epoch [898/5000]: Train loss: 1.3814, Valid loss: 1.0098\n"
          ]
        },
        {
          "output_type": "stream",
          "name": "stderr",
          "text": [
            "Epoch [899/5000]: 100%|██████████| 10/10 [00:00<00:00, 60.27it/s, loss=1.41]\n"
          ]
        },
        {
          "output_type": "stream",
          "name": "stdout",
          "text": [
            "Epoch [899/5000]: Train loss: 1.4115, Valid loss: 1.0071\n"
          ]
        },
        {
          "output_type": "stream",
          "name": "stderr",
          "text": [
            "Epoch [900/5000]: 100%|██████████| 10/10 [00:00<00:00, 56.71it/s, loss=1.59]\n"
          ]
        },
        {
          "output_type": "stream",
          "name": "stdout",
          "text": [
            "Epoch [900/5000]: Train loss: 1.4250, Valid loss: 1.0541\n"
          ]
        },
        {
          "output_type": "stream",
          "name": "stderr",
          "text": [
            "Epoch [901/5000]: 100%|██████████| 10/10 [00:00<00:00, 58.39it/s, loss=1.5]\n"
          ]
        },
        {
          "output_type": "stream",
          "name": "stdout",
          "text": [
            "Epoch [901/5000]: Train loss: 1.3748, Valid loss: 1.0295\n"
          ]
        },
        {
          "output_type": "stream",
          "name": "stderr",
          "text": [
            "Epoch [902/5000]: 100%|██████████| 10/10 [00:00<00:00, 65.11it/s, loss=1.52]\n"
          ]
        },
        {
          "output_type": "stream",
          "name": "stdout",
          "text": [
            "Epoch [902/5000]: Train loss: 1.3882, Valid loss: 1.0849\n"
          ]
        },
        {
          "output_type": "stream",
          "name": "stderr",
          "text": [
            "Epoch [903/5000]: 100%|██████████| 10/10 [00:00<00:00, 63.92it/s, loss=1.43]\n"
          ]
        },
        {
          "output_type": "stream",
          "name": "stdout",
          "text": [
            "Epoch [903/5000]: Train loss: 1.3795, Valid loss: 1.0253\n"
          ]
        },
        {
          "output_type": "stream",
          "name": "stderr",
          "text": [
            "Epoch [904/5000]: 100%|██████████| 10/10 [00:00<00:00, 63.96it/s, loss=1.56]\n"
          ]
        },
        {
          "output_type": "stream",
          "name": "stdout",
          "text": [
            "Epoch [904/5000]: Train loss: 1.3931, Valid loss: 1.0658\n"
          ]
        },
        {
          "output_type": "stream",
          "name": "stderr",
          "text": [
            "Epoch [905/5000]: 100%|██████████| 10/10 [00:00<00:00, 60.44it/s, loss=1.45]\n"
          ]
        },
        {
          "output_type": "stream",
          "name": "stdout",
          "text": [
            "Epoch [905/5000]: Train loss: 1.4036, Valid loss: 1.1005\n"
          ]
        },
        {
          "output_type": "stream",
          "name": "stderr",
          "text": [
            "Epoch [906/5000]: 100%|██████████| 10/10 [00:00<00:00, 63.85it/s, loss=1.35]\n"
          ]
        },
        {
          "output_type": "stream",
          "name": "stdout",
          "text": [
            "Epoch [906/5000]: Train loss: 1.4121, Valid loss: 0.9578\n",
            "Saving model with loss 0.958...\n"
          ]
        },
        {
          "output_type": "stream",
          "name": "stderr",
          "text": [
            "Epoch [907/5000]: 100%|██████████| 10/10 [00:00<00:00, 62.24it/s, loss=1.38]\n"
          ]
        },
        {
          "output_type": "stream",
          "name": "stdout",
          "text": [
            "Epoch [907/5000]: Train loss: 1.3891, Valid loss: 0.9635\n"
          ]
        },
        {
          "output_type": "stream",
          "name": "stderr",
          "text": [
            "Epoch [908/5000]: 100%|██████████| 10/10 [00:00<00:00, 18.12it/s, loss=1.34]\n"
          ]
        },
        {
          "output_type": "stream",
          "name": "stdout",
          "text": [
            "Epoch [908/5000]: Train loss: 1.3779, Valid loss: 1.0679\n"
          ]
        },
        {
          "output_type": "stream",
          "name": "stderr",
          "text": [
            "Epoch [909/5000]: 100%|██████████| 10/10 [00:00<00:00, 55.09it/s, loss=1.54]\n"
          ]
        },
        {
          "output_type": "stream",
          "name": "stdout",
          "text": [
            "Epoch [909/5000]: Train loss: 1.4176, Valid loss: 1.0367\n"
          ]
        },
        {
          "output_type": "stream",
          "name": "stderr",
          "text": [
            "Epoch [910/5000]: 100%|██████████| 10/10 [00:00<00:00, 50.57it/s, loss=1.43]\n"
          ]
        },
        {
          "output_type": "stream",
          "name": "stdout",
          "text": [
            "Epoch [910/5000]: Train loss: 1.4343, Valid loss: 0.9922\n"
          ]
        },
        {
          "output_type": "stream",
          "name": "stderr",
          "text": [
            "Epoch [911/5000]: 100%|██████████| 10/10 [00:00<00:00, 61.40it/s, loss=1.23]\n"
          ]
        },
        {
          "output_type": "stream",
          "name": "stdout",
          "text": [
            "Epoch [911/5000]: Train loss: 1.3919, Valid loss: 1.1739\n"
          ]
        },
        {
          "output_type": "stream",
          "name": "stderr",
          "text": [
            "Epoch [912/5000]: 100%|██████████| 10/10 [00:00<00:00, 66.03it/s, loss=1.53]\n"
          ]
        },
        {
          "output_type": "stream",
          "name": "stdout",
          "text": [
            "Epoch [912/5000]: Train loss: 1.4000, Valid loss: 1.0552\n"
          ]
        },
        {
          "output_type": "stream",
          "name": "stderr",
          "text": [
            "Epoch [913/5000]: 100%|██████████| 10/10 [00:00<00:00, 52.98it/s, loss=1.51]\n"
          ]
        },
        {
          "output_type": "stream",
          "name": "stdout",
          "text": [
            "Epoch [913/5000]: Train loss: 1.3947, Valid loss: 1.0851\n"
          ]
        },
        {
          "output_type": "stream",
          "name": "stderr",
          "text": [
            "Epoch [914/5000]: 100%|██████████| 10/10 [00:00<00:00, 50.55it/s, loss=1.31]\n"
          ]
        },
        {
          "output_type": "stream",
          "name": "stdout",
          "text": [
            "Epoch [914/5000]: Train loss: 1.3952, Valid loss: 1.0441\n"
          ]
        },
        {
          "output_type": "stream",
          "name": "stderr",
          "text": [
            "Epoch [915/5000]: 100%|██████████| 10/10 [00:00<00:00, 64.61it/s, loss=1.47]\n"
          ]
        },
        {
          "output_type": "stream",
          "name": "stdout",
          "text": [
            "Epoch [915/5000]: Train loss: 1.3981, Valid loss: 1.0212\n"
          ]
        },
        {
          "output_type": "stream",
          "name": "stderr",
          "text": [
            "Epoch [916/5000]: 100%|██████████| 10/10 [00:00<00:00, 63.89it/s, loss=1.3]\n"
          ]
        },
        {
          "output_type": "stream",
          "name": "stdout",
          "text": [
            "Epoch [916/5000]: Train loss: 1.3830, Valid loss: 1.0045\n"
          ]
        },
        {
          "output_type": "stream",
          "name": "stderr",
          "text": [
            "Epoch [917/5000]: 100%|██████████| 10/10 [00:00<00:00, 61.66it/s, loss=1.39]\n"
          ]
        },
        {
          "output_type": "stream",
          "name": "stdout",
          "text": [
            "Epoch [917/5000]: Train loss: 1.3723, Valid loss: 1.0378\n"
          ]
        },
        {
          "output_type": "stream",
          "name": "stderr",
          "text": [
            "Epoch [918/5000]: 100%|██████████| 10/10 [00:00<00:00, 64.26it/s, loss=1.24]\n"
          ]
        },
        {
          "output_type": "stream",
          "name": "stdout",
          "text": [
            "Epoch [918/5000]: Train loss: 1.3901, Valid loss: 1.0969\n"
          ]
        },
        {
          "output_type": "stream",
          "name": "stderr",
          "text": [
            "Epoch [919/5000]: 100%|██████████| 10/10 [00:00<00:00, 64.12it/s, loss=1.43]\n"
          ]
        },
        {
          "output_type": "stream",
          "name": "stdout",
          "text": [
            "Epoch [919/5000]: Train loss: 1.3945, Valid loss: 1.0025\n"
          ]
        },
        {
          "output_type": "stream",
          "name": "stderr",
          "text": [
            "Epoch [920/5000]: 100%|██████████| 10/10 [00:00<00:00, 59.26it/s, loss=1.33]\n"
          ]
        },
        {
          "output_type": "stream",
          "name": "stdout",
          "text": [
            "Epoch [920/5000]: Train loss: 1.3628, Valid loss: 1.0243\n"
          ]
        },
        {
          "output_type": "stream",
          "name": "stderr",
          "text": [
            "Epoch [921/5000]: 100%|██████████| 10/10 [00:00<00:00, 60.01it/s, loss=1.49]\n"
          ]
        },
        {
          "output_type": "stream",
          "name": "stdout",
          "text": [
            "Epoch [921/5000]: Train loss: 1.4339, Valid loss: 1.0388\n"
          ]
        },
        {
          "output_type": "stream",
          "name": "stderr",
          "text": [
            "Epoch [922/5000]: 100%|██████████| 10/10 [00:00<00:00, 51.38it/s, loss=1.55]\n"
          ]
        },
        {
          "output_type": "stream",
          "name": "stdout",
          "text": [
            "Epoch [922/5000]: Train loss: 1.4016, Valid loss: 1.1355\n"
          ]
        },
        {
          "output_type": "stream",
          "name": "stderr",
          "text": [
            "Epoch [923/5000]: 100%|██████████| 10/10 [00:00<00:00, 55.03it/s, loss=1.54]\n"
          ]
        },
        {
          "output_type": "stream",
          "name": "stdout",
          "text": [
            "Epoch [923/5000]: Train loss: 1.4053, Valid loss: 1.0430\n"
          ]
        },
        {
          "output_type": "stream",
          "name": "stderr",
          "text": [
            "Epoch [924/5000]: 100%|██████████| 10/10 [00:00<00:00, 58.40it/s, loss=1.26]\n"
          ]
        },
        {
          "output_type": "stream",
          "name": "stdout",
          "text": [
            "Epoch [924/5000]: Train loss: 1.3836, Valid loss: 1.0098\n"
          ]
        },
        {
          "output_type": "stream",
          "name": "stderr",
          "text": [
            "Epoch [925/5000]: 100%|██████████| 10/10 [00:00<00:00, 58.11it/s, loss=1.53]\n"
          ]
        },
        {
          "output_type": "stream",
          "name": "stdout",
          "text": [
            "Epoch [925/5000]: Train loss: 1.4089, Valid loss: 1.1105\n"
          ]
        },
        {
          "output_type": "stream",
          "name": "stderr",
          "text": [
            "Epoch [926/5000]: 100%|██████████| 10/10 [00:00<00:00, 55.76it/s, loss=1.47]\n"
          ]
        },
        {
          "output_type": "stream",
          "name": "stdout",
          "text": [
            "Epoch [926/5000]: Train loss: 1.4023, Valid loss: 1.1288\n"
          ]
        },
        {
          "output_type": "stream",
          "name": "stderr",
          "text": [
            "Epoch [927/5000]: 100%|██████████| 10/10 [00:00<00:00, 57.06it/s, loss=1.46]\n"
          ]
        },
        {
          "output_type": "stream",
          "name": "stdout",
          "text": [
            "Epoch [927/5000]: Train loss: 1.4096, Valid loss: 1.0308\n"
          ]
        },
        {
          "output_type": "stream",
          "name": "stderr",
          "text": [
            "Epoch [928/5000]: 100%|██████████| 10/10 [00:00<00:00, 51.60it/s, loss=1.49]\n"
          ]
        },
        {
          "output_type": "stream",
          "name": "stdout",
          "text": [
            "Epoch [928/5000]: Train loss: 1.3888, Valid loss: 1.0861\n"
          ]
        },
        {
          "output_type": "stream",
          "name": "stderr",
          "text": [
            "Epoch [929/5000]: 100%|██████████| 10/10 [00:00<00:00, 61.30it/s, loss=1.64]\n"
          ]
        },
        {
          "output_type": "stream",
          "name": "stdout",
          "text": [
            "Epoch [929/5000]: Train loss: 1.4064, Valid loss: 1.0068\n"
          ]
        },
        {
          "output_type": "stream",
          "name": "stderr",
          "text": [
            "Epoch [930/5000]: 100%|██████████| 10/10 [00:00<00:00, 58.53it/s, loss=1.42]\n"
          ]
        },
        {
          "output_type": "stream",
          "name": "stdout",
          "text": [
            "Epoch [930/5000]: Train loss: 1.4169, Valid loss: 1.1106\n"
          ]
        },
        {
          "output_type": "stream",
          "name": "stderr",
          "text": [
            "Epoch [931/5000]: 100%|██████████| 10/10 [00:00<00:00, 20.31it/s, loss=1.36]\n"
          ]
        },
        {
          "output_type": "stream",
          "name": "stdout",
          "text": [
            "Epoch [931/5000]: Train loss: 1.3837, Valid loss: 1.0088\n"
          ]
        },
        {
          "output_type": "stream",
          "name": "stderr",
          "text": [
            "Epoch [932/5000]: 100%|██████████| 10/10 [00:00<00:00, 61.80it/s, loss=1.15]\n"
          ]
        },
        {
          "output_type": "stream",
          "name": "stdout",
          "text": [
            "Epoch [932/5000]: Train loss: 1.3905, Valid loss: 1.0643\n"
          ]
        },
        {
          "output_type": "stream",
          "name": "stderr",
          "text": [
            "Epoch [933/5000]: 100%|██████████| 10/10 [00:00<00:00, 57.67it/s, loss=1.35]\n"
          ]
        },
        {
          "output_type": "stream",
          "name": "stdout",
          "text": [
            "Epoch [933/5000]: Train loss: 1.3862, Valid loss: 1.0433\n"
          ]
        },
        {
          "output_type": "stream",
          "name": "stderr",
          "text": [
            "Epoch [934/5000]: 100%|██████████| 10/10 [00:00<00:00, 56.15it/s, loss=1.29]\n"
          ]
        },
        {
          "output_type": "stream",
          "name": "stdout",
          "text": [
            "Epoch [934/5000]: Train loss: 1.4012, Valid loss: 1.1170\n"
          ]
        },
        {
          "output_type": "stream",
          "name": "stderr",
          "text": [
            "Epoch [935/5000]: 100%|██████████| 10/10 [00:00<00:00, 53.77it/s, loss=1.44]\n"
          ]
        },
        {
          "output_type": "stream",
          "name": "stdout",
          "text": [
            "Epoch [935/5000]: Train loss: 1.3944, Valid loss: 1.0341\n"
          ]
        },
        {
          "output_type": "stream",
          "name": "stderr",
          "text": [
            "Epoch [936/5000]: 100%|██████████| 10/10 [00:00<00:00, 51.40it/s, loss=1.41]\n"
          ]
        },
        {
          "output_type": "stream",
          "name": "stdout",
          "text": [
            "Epoch [936/5000]: Train loss: 1.3891, Valid loss: 0.9999\n"
          ]
        },
        {
          "output_type": "stream",
          "name": "stderr",
          "text": [
            "Epoch [937/5000]: 100%|██████████| 10/10 [00:00<00:00, 53.10it/s, loss=1.42]\n"
          ]
        },
        {
          "output_type": "stream",
          "name": "stdout",
          "text": [
            "Epoch [937/5000]: Train loss: 1.4140, Valid loss: 1.0923\n"
          ]
        },
        {
          "output_type": "stream",
          "name": "stderr",
          "text": [
            "Epoch [938/5000]: 100%|██████████| 10/10 [00:00<00:00, 64.99it/s, loss=1.48]\n"
          ]
        },
        {
          "output_type": "stream",
          "name": "stdout",
          "text": [
            "Epoch [938/5000]: Train loss: 1.3727, Valid loss: 1.0142\n"
          ]
        },
        {
          "output_type": "stream",
          "name": "stderr",
          "text": [
            "Epoch [939/5000]: 100%|██████████| 10/10 [00:00<00:00, 59.43it/s, loss=1.58]\n"
          ]
        },
        {
          "output_type": "stream",
          "name": "stdout",
          "text": [
            "Epoch [939/5000]: Train loss: 1.3878, Valid loss: 1.0276\n"
          ]
        },
        {
          "output_type": "stream",
          "name": "stderr",
          "text": [
            "Epoch [940/5000]: 100%|██████████| 10/10 [00:00<00:00, 54.87it/s, loss=1.27]\n"
          ]
        },
        {
          "output_type": "stream",
          "name": "stdout",
          "text": [
            "Epoch [940/5000]: Train loss: 1.3793, Valid loss: 0.9955\n"
          ]
        },
        {
          "output_type": "stream",
          "name": "stderr",
          "text": [
            "Epoch [941/5000]: 100%|██████████| 10/10 [00:00<00:00, 52.82it/s, loss=1.35]\n"
          ]
        },
        {
          "output_type": "stream",
          "name": "stdout",
          "text": [
            "Epoch [941/5000]: Train loss: 1.3770, Valid loss: 1.0203\n"
          ]
        },
        {
          "output_type": "stream",
          "name": "stderr",
          "text": [
            "Epoch [942/5000]: 100%|██████████| 10/10 [00:00<00:00, 51.02it/s, loss=1.32]\n"
          ]
        },
        {
          "output_type": "stream",
          "name": "stdout",
          "text": [
            "Epoch [942/5000]: Train loss: 1.4013, Valid loss: 1.0734\n"
          ]
        },
        {
          "output_type": "stream",
          "name": "stderr",
          "text": [
            "Epoch [943/5000]: 100%|██████████| 10/10 [00:00<00:00, 61.19it/s, loss=1.4]\n"
          ]
        },
        {
          "output_type": "stream",
          "name": "stdout",
          "text": [
            "Epoch [943/5000]: Train loss: 1.3680, Valid loss: 1.0566\n"
          ]
        },
        {
          "output_type": "stream",
          "name": "stderr",
          "text": [
            "Epoch [944/5000]: 100%|██████████| 10/10 [00:00<00:00, 63.19it/s, loss=1.46]\n"
          ]
        },
        {
          "output_type": "stream",
          "name": "stdout",
          "text": [
            "Epoch [944/5000]: Train loss: 1.3964, Valid loss: 1.0029\n"
          ]
        },
        {
          "output_type": "stream",
          "name": "stderr",
          "text": [
            "Epoch [945/5000]: 100%|██████████| 10/10 [00:00<00:00, 56.69it/s, loss=1.44]\n"
          ]
        },
        {
          "output_type": "stream",
          "name": "stdout",
          "text": [
            "Epoch [945/5000]: Train loss: 1.3811, Valid loss: 1.0048\n"
          ]
        },
        {
          "output_type": "stream",
          "name": "stderr",
          "text": [
            "Epoch [946/5000]: 100%|██████████| 10/10 [00:00<00:00, 61.76it/s, loss=1.42]\n"
          ]
        },
        {
          "output_type": "stream",
          "name": "stdout",
          "text": [
            "Epoch [946/5000]: Train loss: 1.3717, Valid loss: 1.0432\n"
          ]
        },
        {
          "output_type": "stream",
          "name": "stderr",
          "text": [
            "Epoch [947/5000]: 100%|██████████| 10/10 [00:00<00:00, 60.47it/s, loss=1.36]\n"
          ]
        },
        {
          "output_type": "stream",
          "name": "stdout",
          "text": [
            "Epoch [947/5000]: Train loss: 1.4061, Valid loss: 1.0827\n"
          ]
        },
        {
          "output_type": "stream",
          "name": "stderr",
          "text": [
            "Epoch [948/5000]: 100%|██████████| 10/10 [00:00<00:00, 62.29it/s, loss=1.33]\n"
          ]
        },
        {
          "output_type": "stream",
          "name": "stdout",
          "text": [
            "Epoch [948/5000]: Train loss: 1.3911, Valid loss: 1.0731\n"
          ]
        },
        {
          "output_type": "stream",
          "name": "stderr",
          "text": [
            "Epoch [949/5000]: 100%|██████████| 10/10 [00:00<00:00, 57.28it/s, loss=1.3]\n"
          ]
        },
        {
          "output_type": "stream",
          "name": "stdout",
          "text": [
            "Epoch [949/5000]: Train loss: 1.3810, Valid loss: 1.0994\n"
          ]
        },
        {
          "output_type": "stream",
          "name": "stderr",
          "text": [
            "Epoch [950/5000]: 100%|██████████| 10/10 [00:00<00:00, 65.60it/s, loss=1.49]\n"
          ]
        },
        {
          "output_type": "stream",
          "name": "stdout",
          "text": [
            "Epoch [950/5000]: Train loss: 1.3790, Valid loss: 1.0141\n"
          ]
        },
        {
          "output_type": "stream",
          "name": "stderr",
          "text": [
            "Epoch [951/5000]: 100%|██████████| 10/10 [00:00<00:00, 47.24it/s, loss=1.34]\n"
          ]
        },
        {
          "output_type": "stream",
          "name": "stdout",
          "text": [
            "Epoch [951/5000]: Train loss: 1.4285, Valid loss: 1.0617\n"
          ]
        },
        {
          "output_type": "stream",
          "name": "stderr",
          "text": [
            "Epoch [952/5000]: 100%|██████████| 10/10 [00:00<00:00, 46.38it/s, loss=1.22]\n"
          ]
        },
        {
          "output_type": "stream",
          "name": "stdout",
          "text": [
            "Epoch [952/5000]: Train loss: 1.3701, Valid loss: 1.1278\n"
          ]
        },
        {
          "output_type": "stream",
          "name": "stderr",
          "text": [
            "Epoch [953/5000]: 100%|██████████| 10/10 [00:00<00:00, 51.06it/s, loss=1.21]\n"
          ]
        },
        {
          "output_type": "stream",
          "name": "stdout",
          "text": [
            "Epoch [953/5000]: Train loss: 1.3870, Valid loss: 1.0125\n"
          ]
        },
        {
          "output_type": "stream",
          "name": "stderr",
          "text": [
            "Epoch [954/5000]: 100%|██████████| 10/10 [00:00<00:00, 53.12it/s, loss=1.36]\n"
          ]
        },
        {
          "output_type": "stream",
          "name": "stdout",
          "text": [
            "Epoch [954/5000]: Train loss: 1.3644, Valid loss: 1.0053\n"
          ]
        },
        {
          "output_type": "stream",
          "name": "stderr",
          "text": [
            "Epoch [955/5000]: 100%|██████████| 10/10 [00:00<00:00, 48.24it/s, loss=1.24]\n"
          ]
        },
        {
          "output_type": "stream",
          "name": "stdout",
          "text": [
            "Epoch [955/5000]: Train loss: 1.3934, Valid loss: 0.9763\n"
          ]
        },
        {
          "output_type": "stream",
          "name": "stderr",
          "text": [
            "Epoch [956/5000]: 100%|██████████| 10/10 [00:00<00:00, 50.15it/s, loss=1.7]\n"
          ]
        },
        {
          "output_type": "stream",
          "name": "stdout",
          "text": [
            "Epoch [956/5000]: Train loss: 1.4347, Valid loss: 1.0134\n"
          ]
        },
        {
          "output_type": "stream",
          "name": "stderr",
          "text": [
            "Epoch [957/5000]: 100%|██████████| 10/10 [00:00<00:00, 19.21it/s, loss=1.21]\n"
          ]
        },
        {
          "output_type": "stream",
          "name": "stdout",
          "text": [
            "Epoch [957/5000]: Train loss: 1.4011, Valid loss: 1.0591\n"
          ]
        },
        {
          "output_type": "stream",
          "name": "stderr",
          "text": [
            "Epoch [958/5000]: 100%|██████████| 10/10 [00:00<00:00, 53.30it/s, loss=1.29]\n"
          ]
        },
        {
          "output_type": "stream",
          "name": "stdout",
          "text": [
            "Epoch [958/5000]: Train loss: 1.3886, Valid loss: 1.0171\n"
          ]
        },
        {
          "output_type": "stream",
          "name": "stderr",
          "text": [
            "Epoch [959/5000]: 100%|██████████| 10/10 [00:00<00:00, 48.55it/s, loss=1.42]\n"
          ]
        },
        {
          "output_type": "stream",
          "name": "stdout",
          "text": [
            "Epoch [959/5000]: Train loss: 1.3794, Valid loss: 1.0133\n"
          ]
        },
        {
          "output_type": "stream",
          "name": "stderr",
          "text": [
            "Epoch [960/5000]: 100%|██████████| 10/10 [00:00<00:00, 52.90it/s, loss=1.34]\n"
          ]
        },
        {
          "output_type": "stream",
          "name": "stdout",
          "text": [
            "Epoch [960/5000]: Train loss: 1.3907, Valid loss: 1.0252\n"
          ]
        },
        {
          "output_type": "stream",
          "name": "stderr",
          "text": [
            "Epoch [961/5000]: 100%|██████████| 10/10 [00:00<00:00, 49.72it/s, loss=1.15]\n"
          ]
        },
        {
          "output_type": "stream",
          "name": "stdout",
          "text": [
            "Epoch [961/5000]: Train loss: 1.3753, Valid loss: 1.0145\n"
          ]
        },
        {
          "output_type": "stream",
          "name": "stderr",
          "text": [
            "Epoch [962/5000]: 100%|██████████| 10/10 [00:00<00:00, 58.20it/s, loss=1.39]\n"
          ]
        },
        {
          "output_type": "stream",
          "name": "stdout",
          "text": [
            "Epoch [962/5000]: Train loss: 1.4221, Valid loss: 1.0702\n"
          ]
        },
        {
          "output_type": "stream",
          "name": "stderr",
          "text": [
            "Epoch [963/5000]: 100%|██████████| 10/10 [00:00<00:00, 60.51it/s, loss=1.25]\n"
          ]
        },
        {
          "output_type": "stream",
          "name": "stdout",
          "text": [
            "Epoch [963/5000]: Train loss: 1.3853, Valid loss: 1.1140\n"
          ]
        },
        {
          "output_type": "stream",
          "name": "stderr",
          "text": [
            "Epoch [964/5000]: 100%|██████████| 10/10 [00:00<00:00, 59.79it/s, loss=1.51]\n"
          ]
        },
        {
          "output_type": "stream",
          "name": "stdout",
          "text": [
            "Epoch [964/5000]: Train loss: 1.4110, Valid loss: 1.0580\n"
          ]
        },
        {
          "output_type": "stream",
          "name": "stderr",
          "text": [
            "Epoch [965/5000]: 100%|██████████| 10/10 [00:00<00:00, 62.14it/s, loss=1.49]\n"
          ]
        },
        {
          "output_type": "stream",
          "name": "stdout",
          "text": [
            "Epoch [965/5000]: Train loss: 1.3976, Valid loss: 1.0363\n"
          ]
        },
        {
          "output_type": "stream",
          "name": "stderr",
          "text": [
            "Epoch [966/5000]: 100%|██████████| 10/10 [00:00<00:00, 62.57it/s, loss=1.46]\n"
          ]
        },
        {
          "output_type": "stream",
          "name": "stdout",
          "text": [
            "Epoch [966/5000]: Train loss: 1.4125, Valid loss: 1.0313\n"
          ]
        },
        {
          "output_type": "stream",
          "name": "stderr",
          "text": [
            "Epoch [967/5000]: 100%|██████████| 10/10 [00:00<00:00, 23.83it/s, loss=1.78]\n"
          ]
        },
        {
          "output_type": "stream",
          "name": "stdout",
          "text": [
            "Epoch [967/5000]: Train loss: 1.4380, Valid loss: 1.0863\n"
          ]
        },
        {
          "output_type": "stream",
          "name": "stderr",
          "text": [
            "Epoch [968/5000]: 100%|██████████| 10/10 [00:00<00:00, 60.89it/s, loss=1.48]\n"
          ]
        },
        {
          "output_type": "stream",
          "name": "stdout",
          "text": [
            "Epoch [968/5000]: Train loss: 1.3698, Valid loss: 1.0903\n"
          ]
        },
        {
          "output_type": "stream",
          "name": "stderr",
          "text": [
            "Epoch [969/5000]: 100%|██████████| 10/10 [00:00<00:00, 64.10it/s, loss=1.39]\n"
          ]
        },
        {
          "output_type": "stream",
          "name": "stdout",
          "text": [
            "Epoch [969/5000]: Train loss: 1.4093, Valid loss: 1.0979\n"
          ]
        },
        {
          "output_type": "stream",
          "name": "stderr",
          "text": [
            "Epoch [970/5000]: 100%|██████████| 10/10 [00:00<00:00, 62.83it/s, loss=1.32]\n"
          ]
        },
        {
          "output_type": "stream",
          "name": "stdout",
          "text": [
            "Epoch [970/5000]: Train loss: 1.3824, Valid loss: 1.0263\n"
          ]
        },
        {
          "output_type": "stream",
          "name": "stderr",
          "text": [
            "Epoch [971/5000]: 100%|██████████| 10/10 [00:00<00:00, 64.50it/s, loss=1.56]\n"
          ]
        },
        {
          "output_type": "stream",
          "name": "stdout",
          "text": [
            "Epoch [971/5000]: Train loss: 1.3896, Valid loss: 0.9799\n"
          ]
        },
        {
          "output_type": "stream",
          "name": "stderr",
          "text": [
            "Epoch [972/5000]: 100%|██████████| 10/10 [00:00<00:00, 63.07it/s, loss=1.32]\n"
          ]
        },
        {
          "output_type": "stream",
          "name": "stdout",
          "text": [
            "Epoch [972/5000]: Train loss: 1.3730, Valid loss: 1.0116\n"
          ]
        },
        {
          "output_type": "stream",
          "name": "stderr",
          "text": [
            "Epoch [973/5000]: 100%|██████████| 10/10 [00:00<00:00, 61.65it/s, loss=1.35]\n"
          ]
        },
        {
          "output_type": "stream",
          "name": "stdout",
          "text": [
            "Epoch [973/5000]: Train loss: 1.3907, Valid loss: 1.0187\n"
          ]
        },
        {
          "output_type": "stream",
          "name": "stderr",
          "text": [
            "Epoch [974/5000]: 100%|██████████| 10/10 [00:00<00:00, 64.15it/s, loss=1.36]\n"
          ]
        },
        {
          "output_type": "stream",
          "name": "stdout",
          "text": [
            "Epoch [974/5000]: Train loss: 1.4026, Valid loss: 1.1180\n"
          ]
        },
        {
          "output_type": "stream",
          "name": "stderr",
          "text": [
            "Epoch [975/5000]: 100%|██████████| 10/10 [00:00<00:00, 67.75it/s, loss=1.28]\n"
          ]
        },
        {
          "output_type": "stream",
          "name": "stdout",
          "text": [
            "Epoch [975/5000]: Train loss: 1.4054, Valid loss: 1.0342\n"
          ]
        },
        {
          "output_type": "stream",
          "name": "stderr",
          "text": [
            "Epoch [976/5000]: 100%|██████████| 10/10 [00:00<00:00, 61.36it/s, loss=1.35]\n"
          ]
        },
        {
          "output_type": "stream",
          "name": "stdout",
          "text": [
            "Epoch [976/5000]: Train loss: 1.3822, Valid loss: 1.0234\n"
          ]
        },
        {
          "output_type": "stream",
          "name": "stderr",
          "text": [
            "Epoch [977/5000]: 100%|██████████| 10/10 [00:00<00:00, 23.81it/s, loss=1.32]\n"
          ]
        },
        {
          "output_type": "stream",
          "name": "stdout",
          "text": [
            "Epoch [977/5000]: Train loss: 1.3655, Valid loss: 0.9952\n"
          ]
        },
        {
          "output_type": "stream",
          "name": "stderr",
          "text": [
            "Epoch [978/5000]: 100%|██████████| 10/10 [00:00<00:00, 64.94it/s, loss=1.3]\n"
          ]
        },
        {
          "output_type": "stream",
          "name": "stdout",
          "text": [
            "Epoch [978/5000]: Train loss: 1.3864, Valid loss: 0.9851\n"
          ]
        },
        {
          "output_type": "stream",
          "name": "stderr",
          "text": [
            "Epoch [979/5000]: 100%|██████████| 10/10 [00:00<00:00, 65.18it/s, loss=1.39]\n"
          ]
        },
        {
          "output_type": "stream",
          "name": "stdout",
          "text": [
            "Epoch [979/5000]: Train loss: 1.3761, Valid loss: 1.0675\n"
          ]
        },
        {
          "output_type": "stream",
          "name": "stderr",
          "text": [
            "Epoch [980/5000]: 100%|██████████| 10/10 [00:00<00:00, 64.82it/s, loss=1.4]\n"
          ]
        },
        {
          "output_type": "stream",
          "name": "stdout",
          "text": [
            "Epoch [980/5000]: Train loss: 1.3776, Valid loss: 1.0936\n"
          ]
        },
        {
          "output_type": "stream",
          "name": "stderr",
          "text": [
            "Epoch [981/5000]: 100%|██████████| 10/10 [00:00<00:00, 61.82it/s, loss=1.4]\n"
          ]
        },
        {
          "output_type": "stream",
          "name": "stdout",
          "text": [
            "Epoch [981/5000]: Train loss: 1.3997, Valid loss: 1.0057\n"
          ]
        },
        {
          "output_type": "stream",
          "name": "stderr",
          "text": [
            "Epoch [982/5000]: 100%|██████████| 10/10 [00:00<00:00, 62.56it/s, loss=1.43]\n"
          ]
        },
        {
          "output_type": "stream",
          "name": "stdout",
          "text": [
            "Epoch [982/5000]: Train loss: 1.3896, Valid loss: 1.0030\n"
          ]
        },
        {
          "output_type": "stream",
          "name": "stderr",
          "text": [
            "Epoch [983/5000]: 100%|██████████| 10/10 [00:00<00:00, 64.65it/s, loss=1.44]\n"
          ]
        },
        {
          "output_type": "stream",
          "name": "stdout",
          "text": [
            "Epoch [983/5000]: Train loss: 1.4088, Valid loss: 0.9738\n"
          ]
        },
        {
          "output_type": "stream",
          "name": "stderr",
          "text": [
            "Epoch [984/5000]: 100%|██████████| 10/10 [00:00<00:00, 57.39it/s, loss=1.24]\n"
          ]
        },
        {
          "output_type": "stream",
          "name": "stdout",
          "text": [
            "Epoch [984/5000]: Train loss: 1.3459, Valid loss: 1.0518\n"
          ]
        },
        {
          "output_type": "stream",
          "name": "stderr",
          "text": [
            "Epoch [985/5000]: 100%|██████████| 10/10 [00:00<00:00, 62.92it/s, loss=1.5]\n"
          ]
        },
        {
          "output_type": "stream",
          "name": "stdout",
          "text": [
            "Epoch [985/5000]: Train loss: 1.4137, Valid loss: 1.0001\n"
          ]
        },
        {
          "output_type": "stream",
          "name": "stderr",
          "text": [
            "Epoch [986/5000]: 100%|██████████| 10/10 [00:00<00:00, 56.77it/s, loss=1.46]\n"
          ]
        },
        {
          "output_type": "stream",
          "name": "stdout",
          "text": [
            "Epoch [986/5000]: Train loss: 1.4035, Valid loss: 1.0525\n"
          ]
        },
        {
          "output_type": "stream",
          "name": "stderr",
          "text": [
            "Epoch [987/5000]: 100%|██████████| 10/10 [00:00<00:00, 49.90it/s, loss=1.3]\n"
          ]
        },
        {
          "output_type": "stream",
          "name": "stdout",
          "text": [
            "Epoch [987/5000]: Train loss: 1.4110, Valid loss: 1.1105\n"
          ]
        },
        {
          "output_type": "stream",
          "name": "stderr",
          "text": [
            "Epoch [988/5000]: 100%|██████████| 10/10 [00:00<00:00, 22.32it/s, loss=1.28]\n"
          ]
        },
        {
          "output_type": "stream",
          "name": "stdout",
          "text": [
            "Epoch [988/5000]: Train loss: 1.3740, Valid loss: 1.0000\n"
          ]
        },
        {
          "output_type": "stream",
          "name": "stderr",
          "text": [
            "Epoch [989/5000]: 100%|██████████| 10/10 [00:00<00:00, 63.44it/s, loss=1.24]\n"
          ]
        },
        {
          "output_type": "stream",
          "name": "stdout",
          "text": [
            "Epoch [989/5000]: Train loss: 1.3913, Valid loss: 1.0839\n"
          ]
        },
        {
          "output_type": "stream",
          "name": "stderr",
          "text": [
            "Epoch [990/5000]: 100%|██████████| 10/10 [00:00<00:00, 58.36it/s, loss=1.41]\n"
          ]
        },
        {
          "output_type": "stream",
          "name": "stdout",
          "text": [
            "Epoch [990/5000]: Train loss: 1.3575, Valid loss: 1.1344\n"
          ]
        },
        {
          "output_type": "stream",
          "name": "stderr",
          "text": [
            "Epoch [991/5000]: 100%|██████████| 10/10 [00:00<00:00, 58.99it/s, loss=1.41]\n"
          ]
        },
        {
          "output_type": "stream",
          "name": "stdout",
          "text": [
            "Epoch [991/5000]: Train loss: 1.4127, Valid loss: 1.0700\n"
          ]
        },
        {
          "output_type": "stream",
          "name": "stderr",
          "text": [
            "Epoch [992/5000]: 100%|██████████| 10/10 [00:00<00:00, 59.74it/s, loss=1.51]\n"
          ]
        },
        {
          "output_type": "stream",
          "name": "stdout",
          "text": [
            "Epoch [992/5000]: Train loss: 1.4195, Valid loss: 1.0024\n"
          ]
        },
        {
          "output_type": "stream",
          "name": "stderr",
          "text": [
            "Epoch [993/5000]: 100%|██████████| 10/10 [00:00<00:00, 61.76it/s, loss=1.44]\n"
          ]
        },
        {
          "output_type": "stream",
          "name": "stdout",
          "text": [
            "Epoch [993/5000]: Train loss: 1.3718, Valid loss: 1.0365\n"
          ]
        },
        {
          "output_type": "stream",
          "name": "stderr",
          "text": [
            "Epoch [994/5000]: 100%|██████████| 10/10 [00:00<00:00, 55.47it/s, loss=1.41]\n"
          ]
        },
        {
          "output_type": "stream",
          "name": "stdout",
          "text": [
            "Epoch [994/5000]: Train loss: 1.3987, Valid loss: 1.0136\n"
          ]
        },
        {
          "output_type": "stream",
          "name": "stderr",
          "text": [
            "Epoch [995/5000]: 100%|██████████| 10/10 [00:00<00:00, 57.05it/s, loss=1.37]\n"
          ]
        },
        {
          "output_type": "stream",
          "name": "stdout",
          "text": [
            "Epoch [995/5000]: Train loss: 1.3969, Valid loss: 1.0029\n"
          ]
        },
        {
          "output_type": "stream",
          "name": "stderr",
          "text": [
            "Epoch [996/5000]: 100%|██████████| 10/10 [00:00<00:00, 66.12it/s, loss=1.45]\n"
          ]
        },
        {
          "output_type": "stream",
          "name": "stdout",
          "text": [
            "Epoch [996/5000]: Train loss: 1.3956, Valid loss: 1.0906\n"
          ]
        },
        {
          "output_type": "stream",
          "name": "stderr",
          "text": [
            "Epoch [997/5000]: 100%|██████████| 10/10 [00:00<00:00, 54.60it/s, loss=1.38]\n"
          ]
        },
        {
          "output_type": "stream",
          "name": "stdout",
          "text": [
            "Epoch [997/5000]: Train loss: 1.3884, Valid loss: 1.0130\n"
          ]
        },
        {
          "output_type": "stream",
          "name": "stderr",
          "text": [
            "Epoch [998/5000]: 100%|██████████| 10/10 [00:00<00:00, 63.46it/s, loss=1.18]\n"
          ]
        },
        {
          "output_type": "stream",
          "name": "stdout",
          "text": [
            "Epoch [998/5000]: Train loss: 1.3664, Valid loss: 1.0357\n"
          ]
        },
        {
          "output_type": "stream",
          "name": "stderr",
          "text": [
            "Epoch [999/5000]: 100%|██████████| 10/10 [00:00<00:00, 51.40it/s, loss=1.48]\n"
          ]
        },
        {
          "output_type": "stream",
          "name": "stdout",
          "text": [
            "Epoch [999/5000]: Train loss: 1.3779, Valid loss: 1.0025\n"
          ]
        },
        {
          "output_type": "stream",
          "name": "stderr",
          "text": [
            "Epoch [1000/5000]: 100%|██████████| 10/10 [00:00<00:00, 50.59it/s, loss=1.31]\n"
          ]
        },
        {
          "output_type": "stream",
          "name": "stdout",
          "text": [
            "Epoch [1000/5000]: Train loss: 1.3805, Valid loss: 1.0185\n"
          ]
        },
        {
          "output_type": "stream",
          "name": "stderr",
          "text": [
            "Epoch [1001/5000]: 100%|██████████| 10/10 [00:00<00:00, 57.94it/s, loss=1.62]\n"
          ]
        },
        {
          "output_type": "stream",
          "name": "stdout",
          "text": [
            "Epoch [1001/5000]: Train loss: 1.4439, Valid loss: 1.0621\n"
          ]
        },
        {
          "output_type": "stream",
          "name": "stderr",
          "text": [
            "Epoch [1002/5000]: 100%|██████████| 10/10 [00:00<00:00, 61.09it/s, loss=1.54]\n"
          ]
        },
        {
          "output_type": "stream",
          "name": "stdout",
          "text": [
            "Epoch [1002/5000]: Train loss: 1.4097, Valid loss: 1.0614\n"
          ]
        },
        {
          "output_type": "stream",
          "name": "stderr",
          "text": [
            "Epoch [1003/5000]: 100%|██████████| 10/10 [00:00<00:00, 53.66it/s, loss=1.64]\n"
          ]
        },
        {
          "output_type": "stream",
          "name": "stdout",
          "text": [
            "Epoch [1003/5000]: Train loss: 1.4112, Valid loss: 1.0922\n"
          ]
        },
        {
          "output_type": "stream",
          "name": "stderr",
          "text": [
            "Epoch [1004/5000]: 100%|██████████| 10/10 [00:00<00:00, 49.59it/s, loss=1.43]\n"
          ]
        },
        {
          "output_type": "stream",
          "name": "stdout",
          "text": [
            "Epoch [1004/5000]: Train loss: 1.4056, Valid loss: 1.0445\n"
          ]
        },
        {
          "output_type": "stream",
          "name": "stderr",
          "text": [
            "Epoch [1005/5000]: 100%|██████████| 10/10 [00:00<00:00, 47.81it/s, loss=1.56]\n"
          ]
        },
        {
          "output_type": "stream",
          "name": "stdout",
          "text": [
            "Epoch [1005/5000]: Train loss: 1.3969, Valid loss: 1.1139\n"
          ]
        },
        {
          "output_type": "stream",
          "name": "stderr",
          "text": [
            "Epoch [1006/5000]: 100%|██████████| 10/10 [00:00<00:00, 47.54it/s, loss=1.43]\n"
          ]
        },
        {
          "output_type": "stream",
          "name": "stdout",
          "text": [
            "Epoch [1006/5000]: Train loss: 1.3972, Valid loss: 1.0375\n"
          ]
        },
        {
          "output_type": "stream",
          "name": "stderr",
          "text": [
            "Epoch [1007/5000]: 100%|██████████| 10/10 [00:00<00:00, 49.62it/s, loss=1.49]\n"
          ]
        },
        {
          "output_type": "stream",
          "name": "stdout",
          "text": [
            "Epoch [1007/5000]: Train loss: 1.4140, Valid loss: 1.0047\n"
          ]
        },
        {
          "output_type": "stream",
          "name": "stderr",
          "text": [
            "Epoch [1008/5000]: 100%|██████████| 10/10 [00:00<00:00, 44.18it/s, loss=1.4]\n"
          ]
        },
        {
          "output_type": "stream",
          "name": "stdout",
          "text": [
            "Epoch [1008/5000]: Train loss: 1.3861, Valid loss: 1.0502\n"
          ]
        },
        {
          "output_type": "stream",
          "name": "stderr",
          "text": [
            "Epoch [1009/5000]: 100%|██████████| 10/10 [00:00<00:00, 50.76it/s, loss=1.48]\n"
          ]
        },
        {
          "output_type": "stream",
          "name": "stdout",
          "text": [
            "Epoch [1009/5000]: Train loss: 1.4013, Valid loss: 1.0175\n"
          ]
        },
        {
          "output_type": "stream",
          "name": "stderr",
          "text": [
            "Epoch [1010/5000]: 100%|██████████| 10/10 [00:00<00:00, 56.22it/s, loss=1.34]\n"
          ]
        },
        {
          "output_type": "stream",
          "name": "stdout",
          "text": [
            "Epoch [1010/5000]: Train loss: 1.3733, Valid loss: 1.0978\n"
          ]
        },
        {
          "output_type": "stream",
          "name": "stderr",
          "text": [
            "Epoch [1011/5000]: 100%|██████████| 10/10 [00:00<00:00, 54.58it/s, loss=1.49]\n"
          ]
        },
        {
          "output_type": "stream",
          "name": "stdout",
          "text": [
            "Epoch [1011/5000]: Train loss: 1.3886, Valid loss: 1.0996\n"
          ]
        },
        {
          "output_type": "stream",
          "name": "stderr",
          "text": [
            "Epoch [1012/5000]: 100%|██████████| 10/10 [00:00<00:00, 56.89it/s, loss=1.46]\n"
          ]
        },
        {
          "output_type": "stream",
          "name": "stdout",
          "text": [
            "Epoch [1012/5000]: Train loss: 1.3891, Valid loss: 1.0621\n"
          ]
        },
        {
          "output_type": "stream",
          "name": "stderr",
          "text": [
            "Epoch [1013/5000]: 100%|██████████| 10/10 [00:00<00:00, 22.28it/s, loss=1.44]\n"
          ]
        },
        {
          "output_type": "stream",
          "name": "stdout",
          "text": [
            "Epoch [1013/5000]: Train loss: 1.3967, Valid loss: 1.0331\n"
          ]
        },
        {
          "output_type": "stream",
          "name": "stderr",
          "text": [
            "Epoch [1014/5000]: 100%|██████████| 10/10 [00:00<00:00, 53.65it/s, loss=1.48]\n"
          ]
        },
        {
          "output_type": "stream",
          "name": "stdout",
          "text": [
            "Epoch [1014/5000]: Train loss: 1.3653, Valid loss: 1.0248\n"
          ]
        },
        {
          "output_type": "stream",
          "name": "stderr",
          "text": [
            "Epoch [1015/5000]: 100%|██████████| 10/10 [00:00<00:00, 59.51it/s, loss=1.38]\n"
          ]
        },
        {
          "output_type": "stream",
          "name": "stdout",
          "text": [
            "Epoch [1015/5000]: Train loss: 1.4047, Valid loss: 1.0578\n"
          ]
        },
        {
          "output_type": "stream",
          "name": "stderr",
          "text": [
            "Epoch [1016/5000]: 100%|██████████| 10/10 [00:00<00:00, 51.88it/s, loss=1.34]\n"
          ]
        },
        {
          "output_type": "stream",
          "name": "stdout",
          "text": [
            "Epoch [1016/5000]: Train loss: 1.3904, Valid loss: 1.0082\n"
          ]
        },
        {
          "output_type": "stream",
          "name": "stderr",
          "text": [
            "Epoch [1017/5000]: 100%|██████████| 10/10 [00:00<00:00, 56.69it/s, loss=1.57]\n"
          ]
        },
        {
          "output_type": "stream",
          "name": "stdout",
          "text": [
            "Epoch [1017/5000]: Train loss: 1.3742, Valid loss: 1.0048\n"
          ]
        },
        {
          "output_type": "stream",
          "name": "stderr",
          "text": [
            "Epoch [1018/5000]: 100%|██████████| 10/10 [00:00<00:00, 59.06it/s, loss=1.49]\n"
          ]
        },
        {
          "output_type": "stream",
          "name": "stdout",
          "text": [
            "Epoch [1018/5000]: Train loss: 1.3996, Valid loss: 1.0216\n"
          ]
        },
        {
          "output_type": "stream",
          "name": "stderr",
          "text": [
            "Epoch [1019/5000]: 100%|██████████| 10/10 [00:00<00:00, 50.34it/s, loss=1.34]\n"
          ]
        },
        {
          "output_type": "stream",
          "name": "stdout",
          "text": [
            "Epoch [1019/5000]: Train loss: 1.3556, Valid loss: 1.0209\n"
          ]
        },
        {
          "output_type": "stream",
          "name": "stderr",
          "text": [
            "Epoch [1020/5000]: 100%|██████████| 10/10 [00:00<00:00, 46.63it/s, loss=1.25]\n"
          ]
        },
        {
          "output_type": "stream",
          "name": "stdout",
          "text": [
            "Epoch [1020/5000]: Train loss: 1.3636, Valid loss: 1.0153\n"
          ]
        },
        {
          "output_type": "stream",
          "name": "stderr",
          "text": [
            "Epoch [1021/5000]: 100%|██████████| 10/10 [00:00<00:00, 51.39it/s, loss=1.5]\n"
          ]
        },
        {
          "output_type": "stream",
          "name": "stdout",
          "text": [
            "Epoch [1021/5000]: Train loss: 1.3943, Valid loss: 1.1211\n"
          ]
        },
        {
          "output_type": "stream",
          "name": "stderr",
          "text": [
            "Epoch [1022/5000]: 100%|██████████| 10/10 [00:00<00:00, 56.94it/s, loss=1.36]\n"
          ]
        },
        {
          "output_type": "stream",
          "name": "stdout",
          "text": [
            "Epoch [1022/5000]: Train loss: 1.3971, Valid loss: 1.0644\n"
          ]
        },
        {
          "output_type": "stream",
          "name": "stderr",
          "text": [
            "Epoch [1023/5000]: 100%|██████████| 10/10 [00:00<00:00, 61.94it/s, loss=1.14]\n"
          ]
        },
        {
          "output_type": "stream",
          "name": "stdout",
          "text": [
            "Epoch [1023/5000]: Train loss: 1.3853, Valid loss: 1.0285\n"
          ]
        },
        {
          "output_type": "stream",
          "name": "stderr",
          "text": [
            "Epoch [1024/5000]: 100%|██████████| 10/10 [00:00<00:00, 61.06it/s, loss=1.51]\n"
          ]
        },
        {
          "output_type": "stream",
          "name": "stdout",
          "text": [
            "Epoch [1024/5000]: Train loss: 1.4101, Valid loss: 1.0781\n"
          ]
        },
        {
          "output_type": "stream",
          "name": "stderr",
          "text": [
            "Epoch [1025/5000]: 100%|██████████| 10/10 [00:00<00:00, 56.03it/s, loss=1.43]\n"
          ]
        },
        {
          "output_type": "stream",
          "name": "stdout",
          "text": [
            "Epoch [1025/5000]: Train loss: 1.4118, Valid loss: 1.0225\n"
          ]
        },
        {
          "output_type": "stream",
          "name": "stderr",
          "text": [
            "Epoch [1026/5000]: 100%|██████████| 10/10 [00:00<00:00, 64.12it/s, loss=1.23]\n"
          ]
        },
        {
          "output_type": "stream",
          "name": "stdout",
          "text": [
            "Epoch [1026/5000]: Train loss: 1.3640, Valid loss: 1.1256\n"
          ]
        },
        {
          "output_type": "stream",
          "name": "stderr",
          "text": [
            "Epoch [1027/5000]: 100%|██████████| 10/10 [00:00<00:00, 63.74it/s, loss=1.23]\n"
          ]
        },
        {
          "output_type": "stream",
          "name": "stdout",
          "text": [
            "Epoch [1027/5000]: Train loss: 1.3757, Valid loss: 1.0227\n"
          ]
        },
        {
          "output_type": "stream",
          "name": "stderr",
          "text": [
            "Epoch [1028/5000]: 100%|██████████| 10/10 [00:00<00:00, 61.23it/s, loss=1.4]\n"
          ]
        },
        {
          "output_type": "stream",
          "name": "stdout",
          "text": [
            "Epoch [1028/5000]: Train loss: 1.4095, Valid loss: 1.0509\n"
          ]
        },
        {
          "output_type": "stream",
          "name": "stderr",
          "text": [
            "Epoch [1029/5000]: 100%|██████████| 10/10 [00:00<00:00, 63.69it/s, loss=1.38]\n"
          ]
        },
        {
          "output_type": "stream",
          "name": "stdout",
          "text": [
            "Epoch [1029/5000]: Train loss: 1.3793, Valid loss: 1.1543\n"
          ]
        },
        {
          "output_type": "stream",
          "name": "stderr",
          "text": [
            "Epoch [1030/5000]: 100%|██████████| 10/10 [00:00<00:00, 61.96it/s, loss=1.41]\n"
          ]
        },
        {
          "output_type": "stream",
          "name": "stdout",
          "text": [
            "Epoch [1030/5000]: Train loss: 1.4101, Valid loss: 1.0365\n"
          ]
        },
        {
          "output_type": "stream",
          "name": "stderr",
          "text": [
            "Epoch [1031/5000]: 100%|██████████| 10/10 [00:00<00:00, 63.50it/s, loss=1.42]\n"
          ]
        },
        {
          "output_type": "stream",
          "name": "stdout",
          "text": [
            "Epoch [1031/5000]: Train loss: 1.3818, Valid loss: 1.0369\n"
          ]
        },
        {
          "output_type": "stream",
          "name": "stderr",
          "text": [
            "Epoch [1032/5000]: 100%|██████████| 10/10 [00:00<00:00, 59.80it/s, loss=1.4]\n"
          ]
        },
        {
          "output_type": "stream",
          "name": "stdout",
          "text": [
            "Epoch [1032/5000]: Train loss: 1.3890, Valid loss: 0.9904\n"
          ]
        },
        {
          "output_type": "stream",
          "name": "stderr",
          "text": [
            "Epoch [1033/5000]: 100%|██████████| 10/10 [00:00<00:00, 64.64it/s, loss=1.47]\n"
          ]
        },
        {
          "output_type": "stream",
          "name": "stdout",
          "text": [
            "Epoch [1033/5000]: Train loss: 1.4018, Valid loss: 1.0106\n"
          ]
        },
        {
          "output_type": "stream",
          "name": "stderr",
          "text": [
            "Epoch [1034/5000]: 100%|██████████| 10/10 [00:00<00:00, 60.30it/s, loss=1.45]\n"
          ]
        },
        {
          "output_type": "stream",
          "name": "stdout",
          "text": [
            "Epoch [1034/5000]: Train loss: 1.3857, Valid loss: 1.0554\n"
          ]
        },
        {
          "output_type": "stream",
          "name": "stderr",
          "text": [
            "Epoch [1035/5000]: 100%|██████████| 10/10 [00:00<00:00, 64.80it/s, loss=1.45]\n"
          ]
        },
        {
          "output_type": "stream",
          "name": "stdout",
          "text": [
            "Epoch [1035/5000]: Train loss: 1.3972, Valid loss: 0.9924\n"
          ]
        },
        {
          "output_type": "stream",
          "name": "stderr",
          "text": [
            "Epoch [1036/5000]: 100%|██████████| 10/10 [00:00<00:00, 23.85it/s, loss=1.46]\n"
          ]
        },
        {
          "output_type": "stream",
          "name": "stdout",
          "text": [
            "Epoch [1036/5000]: Train loss: 1.3735, Valid loss: 1.0028\n"
          ]
        },
        {
          "output_type": "stream",
          "name": "stderr",
          "text": [
            "Epoch [1037/5000]: 100%|██████████| 10/10 [00:00<00:00, 62.20it/s, loss=1.46]\n"
          ]
        },
        {
          "output_type": "stream",
          "name": "stdout",
          "text": [
            "Epoch [1037/5000]: Train loss: 1.3715, Valid loss: 1.0086\n"
          ]
        },
        {
          "output_type": "stream",
          "name": "stderr",
          "text": [
            "Epoch [1038/5000]: 100%|██████████| 10/10 [00:00<00:00, 61.18it/s, loss=1.32]\n"
          ]
        },
        {
          "output_type": "stream",
          "name": "stdout",
          "text": [
            "Epoch [1038/5000]: Train loss: 1.4280, Valid loss: 1.1772\n"
          ]
        },
        {
          "output_type": "stream",
          "name": "stderr",
          "text": [
            "Epoch [1039/5000]: 100%|██████████| 10/10 [00:00<00:00, 63.48it/s, loss=1.42]\n"
          ]
        },
        {
          "output_type": "stream",
          "name": "stdout",
          "text": [
            "Epoch [1039/5000]: Train loss: 1.4028, Valid loss: 1.0327\n"
          ]
        },
        {
          "output_type": "stream",
          "name": "stderr",
          "text": [
            "Epoch [1040/5000]: 100%|██████████| 10/10 [00:00<00:00, 61.95it/s, loss=1.36]\n"
          ]
        },
        {
          "output_type": "stream",
          "name": "stdout",
          "text": [
            "Epoch [1040/5000]: Train loss: 1.3903, Valid loss: 1.0538\n"
          ]
        },
        {
          "output_type": "stream",
          "name": "stderr",
          "text": [
            "Epoch [1041/5000]: 100%|██████████| 10/10 [00:00<00:00, 64.39it/s, loss=1.3]\n"
          ]
        },
        {
          "output_type": "stream",
          "name": "stdout",
          "text": [
            "Epoch [1041/5000]: Train loss: 1.3632, Valid loss: 0.9849\n"
          ]
        },
        {
          "output_type": "stream",
          "name": "stderr",
          "text": [
            "Epoch [1042/5000]: 100%|██████████| 10/10 [00:00<00:00, 62.99it/s, loss=1.23]\n"
          ]
        },
        {
          "output_type": "stream",
          "name": "stdout",
          "text": [
            "Epoch [1042/5000]: Train loss: 1.3596, Valid loss: 1.0489\n"
          ]
        },
        {
          "output_type": "stream",
          "name": "stderr",
          "text": [
            "Epoch [1043/5000]: 100%|██████████| 10/10 [00:00<00:00, 64.88it/s, loss=1.47]\n"
          ]
        },
        {
          "output_type": "stream",
          "name": "stdout",
          "text": [
            "Epoch [1043/5000]: Train loss: 1.3578, Valid loss: 1.0803\n"
          ]
        },
        {
          "output_type": "stream",
          "name": "stderr",
          "text": [
            "Epoch [1044/5000]: 100%|██████████| 10/10 [00:00<00:00, 64.13it/s, loss=1.44]\n"
          ]
        },
        {
          "output_type": "stream",
          "name": "stdout",
          "text": [
            "Epoch [1044/5000]: Train loss: 1.3847, Valid loss: 1.0363\n"
          ]
        },
        {
          "output_type": "stream",
          "name": "stderr",
          "text": [
            "Epoch [1045/5000]: 100%|██████████| 10/10 [00:00<00:00, 62.24it/s, loss=1.36]\n"
          ]
        },
        {
          "output_type": "stream",
          "name": "stdout",
          "text": [
            "Epoch [1045/5000]: Train loss: 1.4185, Valid loss: 1.0756\n"
          ]
        },
        {
          "output_type": "stream",
          "name": "stderr",
          "text": [
            "Epoch [1046/5000]: 100%|██████████| 10/10 [00:00<00:00, 57.16it/s, loss=1.46]\n"
          ]
        },
        {
          "output_type": "stream",
          "name": "stdout",
          "text": [
            "Epoch [1046/5000]: Train loss: 1.4155, Valid loss: 1.0955\n"
          ]
        },
        {
          "output_type": "stream",
          "name": "stderr",
          "text": [
            "Epoch [1047/5000]: 100%|██████████| 10/10 [00:00<00:00, 60.24it/s, loss=1.64]\n"
          ]
        },
        {
          "output_type": "stream",
          "name": "stdout",
          "text": [
            "Epoch [1047/5000]: Train loss: 1.4353, Valid loss: 1.0327\n"
          ]
        },
        {
          "output_type": "stream",
          "name": "stderr",
          "text": [
            "Epoch [1048/5000]: 100%|██████████| 10/10 [00:00<00:00, 51.68it/s, loss=1.29]\n"
          ]
        },
        {
          "output_type": "stream",
          "name": "stdout",
          "text": [
            "Epoch [1048/5000]: Train loss: 1.3607, Valid loss: 1.0180\n"
          ]
        },
        {
          "output_type": "stream",
          "name": "stderr",
          "text": [
            "Epoch [1049/5000]: 100%|██████████| 10/10 [00:00<00:00, 61.33it/s, loss=1.16]\n"
          ]
        },
        {
          "output_type": "stream",
          "name": "stdout",
          "text": [
            "Epoch [1049/5000]: Train loss: 1.3684, Valid loss: 1.0292\n"
          ]
        },
        {
          "output_type": "stream",
          "name": "stderr",
          "text": [
            "Epoch [1050/5000]: 100%|██████████| 10/10 [00:00<00:00, 56.73it/s, loss=1.34]\n"
          ]
        },
        {
          "output_type": "stream",
          "name": "stdout",
          "text": [
            "Epoch [1050/5000]: Train loss: 1.3841, Valid loss: 1.0605\n"
          ]
        },
        {
          "output_type": "stream",
          "name": "stderr",
          "text": [
            "Epoch [1051/5000]: 100%|██████████| 10/10 [00:00<00:00, 55.32it/s, loss=1.58]\n"
          ]
        },
        {
          "output_type": "stream",
          "name": "stdout",
          "text": [
            "Epoch [1051/5000]: Train loss: 1.3656, Valid loss: 0.9894\n"
          ]
        },
        {
          "output_type": "stream",
          "name": "stderr",
          "text": [
            "Epoch [1052/5000]: 100%|██████████| 10/10 [00:00<00:00, 62.31it/s, loss=1.52]\n"
          ]
        },
        {
          "output_type": "stream",
          "name": "stdout",
          "text": [
            "Epoch [1052/5000]: Train loss: 1.3760, Valid loss: 1.0595\n"
          ]
        },
        {
          "output_type": "stream",
          "name": "stderr",
          "text": [
            "Epoch [1053/5000]: 100%|██████████| 10/10 [00:00<00:00, 62.79it/s, loss=1.27]\n"
          ]
        },
        {
          "output_type": "stream",
          "name": "stdout",
          "text": [
            "Epoch [1053/5000]: Train loss: 1.3487, Valid loss: 0.9518\n",
            "Saving model with loss 0.952...\n"
          ]
        },
        {
          "output_type": "stream",
          "name": "stderr",
          "text": [
            "Epoch [1054/5000]: 100%|██████████| 10/10 [00:00<00:00, 58.31it/s, loss=1.43]\n"
          ]
        },
        {
          "output_type": "stream",
          "name": "stdout",
          "text": [
            "Epoch [1054/5000]: Train loss: 1.3974, Valid loss: 1.0661\n"
          ]
        },
        {
          "output_type": "stream",
          "name": "stderr",
          "text": [
            "Epoch [1055/5000]: 100%|██████████| 10/10 [00:00<00:00, 62.65it/s, loss=1.44]\n"
          ]
        },
        {
          "output_type": "stream",
          "name": "stdout",
          "text": [
            "Epoch [1055/5000]: Train loss: 1.3793, Valid loss: 1.0409\n"
          ]
        },
        {
          "output_type": "stream",
          "name": "stderr",
          "text": [
            "Epoch [1056/5000]: 100%|██████████| 10/10 [00:00<00:00, 63.17it/s, loss=1.66]\n"
          ]
        },
        {
          "output_type": "stream",
          "name": "stdout",
          "text": [
            "Epoch [1056/5000]: Train loss: 1.3696, Valid loss: 0.9996\n"
          ]
        },
        {
          "output_type": "stream",
          "name": "stderr",
          "text": [
            "Epoch [1057/5000]: 100%|██████████| 10/10 [00:00<00:00, 59.25it/s, loss=1.26]\n"
          ]
        },
        {
          "output_type": "stream",
          "name": "stdout",
          "text": [
            "Epoch [1057/5000]: Train loss: 1.4066, Valid loss: 1.0387\n"
          ]
        },
        {
          "output_type": "stream",
          "name": "stderr",
          "text": [
            "Epoch [1058/5000]: 100%|██████████| 10/10 [00:00<00:00, 53.17it/s, loss=1.35]\n"
          ]
        },
        {
          "output_type": "stream",
          "name": "stdout",
          "text": [
            "Epoch [1058/5000]: Train loss: 1.3840, Valid loss: 1.0683\n"
          ]
        },
        {
          "output_type": "stream",
          "name": "stderr",
          "text": [
            "Epoch [1059/5000]: 100%|██████████| 10/10 [00:00<00:00, 54.11it/s, loss=1.37]\n"
          ]
        },
        {
          "output_type": "stream",
          "name": "stdout",
          "text": [
            "Epoch [1059/5000]: Train loss: 1.3964, Valid loss: 1.0036\n"
          ]
        },
        {
          "output_type": "stream",
          "name": "stderr",
          "text": [
            "Epoch [1060/5000]: 100%|██████████| 10/10 [00:00<00:00, 46.36it/s, loss=1.49]\n"
          ]
        },
        {
          "output_type": "stream",
          "name": "stdout",
          "text": [
            "Epoch [1060/5000]: Train loss: 1.3734, Valid loss: 1.1353\n"
          ]
        },
        {
          "output_type": "stream",
          "name": "stderr",
          "text": [
            "Epoch [1061/5000]: 100%|██████████| 10/10 [00:00<00:00, 46.15it/s, loss=1.44]\n"
          ]
        },
        {
          "output_type": "stream",
          "name": "stdout",
          "text": [
            "Epoch [1061/5000]: Train loss: 1.3733, Valid loss: 0.9975\n"
          ]
        },
        {
          "output_type": "stream",
          "name": "stderr",
          "text": [
            "Epoch [1062/5000]: 100%|██████████| 10/10 [00:00<00:00, 21.30it/s, loss=1.37]\n"
          ]
        },
        {
          "output_type": "stream",
          "name": "stdout",
          "text": [
            "Epoch [1062/5000]: Train loss: 1.3721, Valid loss: 1.0154\n"
          ]
        },
        {
          "output_type": "stream",
          "name": "stderr",
          "text": [
            "Epoch [1063/5000]: 100%|██████████| 10/10 [00:00<00:00, 52.03it/s, loss=1.38]\n"
          ]
        },
        {
          "output_type": "stream",
          "name": "stdout",
          "text": [
            "Epoch [1063/5000]: Train loss: 1.3766, Valid loss: 1.0360\n"
          ]
        },
        {
          "output_type": "stream",
          "name": "stderr",
          "text": [
            "Epoch [1064/5000]: 100%|██████████| 10/10 [00:00<00:00, 49.95it/s, loss=1.41]\n"
          ]
        },
        {
          "output_type": "stream",
          "name": "stdout",
          "text": [
            "Epoch [1064/5000]: Train loss: 1.3743, Valid loss: 0.9984\n"
          ]
        },
        {
          "output_type": "stream",
          "name": "stderr",
          "text": [
            "Epoch [1065/5000]: 100%|██████████| 10/10 [00:00<00:00, 53.31it/s, loss=1.26]\n"
          ]
        },
        {
          "output_type": "stream",
          "name": "stdout",
          "text": [
            "Epoch [1065/5000]: Train loss: 1.3555, Valid loss: 1.0488\n"
          ]
        },
        {
          "output_type": "stream",
          "name": "stderr",
          "text": [
            "Epoch [1066/5000]: 100%|██████████| 10/10 [00:00<00:00, 60.12it/s, loss=1.51]\n"
          ]
        },
        {
          "output_type": "stream",
          "name": "stdout",
          "text": [
            "Epoch [1066/5000]: Train loss: 1.3489, Valid loss: 0.9958\n"
          ]
        },
        {
          "output_type": "stream",
          "name": "stderr",
          "text": [
            "Epoch [1067/5000]: 100%|██████████| 10/10 [00:00<00:00, 52.34it/s, loss=1.54]\n"
          ]
        },
        {
          "output_type": "stream",
          "name": "stdout",
          "text": [
            "Epoch [1067/5000]: Train loss: 1.3874, Valid loss: 1.0180\n"
          ]
        },
        {
          "output_type": "stream",
          "name": "stderr",
          "text": [
            "Epoch [1068/5000]: 100%|██████████| 10/10 [00:00<00:00, 52.63it/s, loss=1.32]\n"
          ]
        },
        {
          "output_type": "stream",
          "name": "stdout",
          "text": [
            "Epoch [1068/5000]: Train loss: 1.4116, Valid loss: 0.9700\n"
          ]
        },
        {
          "output_type": "stream",
          "name": "stderr",
          "text": [
            "Epoch [1069/5000]: 100%|██████████| 10/10 [00:00<00:00, 58.11it/s, loss=1.41]\n"
          ]
        },
        {
          "output_type": "stream",
          "name": "stdout",
          "text": [
            "Epoch [1069/5000]: Train loss: 1.3637, Valid loss: 0.9854\n"
          ]
        },
        {
          "output_type": "stream",
          "name": "stderr",
          "text": [
            "Epoch [1070/5000]: 100%|██████████| 10/10 [00:00<00:00, 51.04it/s, loss=1.16]\n"
          ]
        },
        {
          "output_type": "stream",
          "name": "stdout",
          "text": [
            "Epoch [1070/5000]: Train loss: 1.3422, Valid loss: 1.0985\n"
          ]
        },
        {
          "output_type": "stream",
          "name": "stderr",
          "text": [
            "Epoch [1071/5000]: 100%|██████████| 10/10 [00:00<00:00, 48.65it/s, loss=1.32]\n"
          ]
        },
        {
          "output_type": "stream",
          "name": "stdout",
          "text": [
            "Epoch [1071/5000]: Train loss: 1.3867, Valid loss: 1.0032\n"
          ]
        },
        {
          "output_type": "stream",
          "name": "stderr",
          "text": [
            "Epoch [1072/5000]: 100%|██████████| 10/10 [00:00<00:00, 23.71it/s, loss=1.25]\n"
          ]
        },
        {
          "output_type": "stream",
          "name": "stdout",
          "text": [
            "Epoch [1072/5000]: Train loss: 1.3725, Valid loss: 1.0508\n"
          ]
        },
        {
          "output_type": "stream",
          "name": "stderr",
          "text": [
            "Epoch [1073/5000]: 100%|██████████| 10/10 [00:00<00:00, 65.11it/s, loss=1.21]\n"
          ]
        },
        {
          "output_type": "stream",
          "name": "stdout",
          "text": [
            "Epoch [1073/5000]: Train loss: 1.3586, Valid loss: 1.0281\n"
          ]
        },
        {
          "output_type": "stream",
          "name": "stderr",
          "text": [
            "Epoch [1074/5000]: 100%|██████████| 10/10 [00:00<00:00, 62.61it/s, loss=1.37]\n"
          ]
        },
        {
          "output_type": "stream",
          "name": "stdout",
          "text": [
            "Epoch [1074/5000]: Train loss: 1.3719, Valid loss: 1.0492\n"
          ]
        },
        {
          "output_type": "stream",
          "name": "stderr",
          "text": [
            "Epoch [1075/5000]: 100%|██████████| 10/10 [00:00<00:00, 42.60it/s, loss=1.33]\n"
          ]
        },
        {
          "output_type": "stream",
          "name": "stdout",
          "text": [
            "Epoch [1075/5000]: Train loss: 1.3766, Valid loss: 1.0537\n"
          ]
        },
        {
          "output_type": "stream",
          "name": "stderr",
          "text": [
            "Epoch [1076/5000]: 100%|██████████| 10/10 [00:00<00:00, 54.67it/s, loss=1.23]\n"
          ]
        },
        {
          "output_type": "stream",
          "name": "stdout",
          "text": [
            "Epoch [1076/5000]: Train loss: 1.3611, Valid loss: 0.9984\n"
          ]
        },
        {
          "output_type": "stream",
          "name": "stderr",
          "text": [
            "Epoch [1077/5000]: 100%|██████████| 10/10 [00:00<00:00, 52.15it/s, loss=1.44]\n"
          ]
        },
        {
          "output_type": "stream",
          "name": "stdout",
          "text": [
            "Epoch [1077/5000]: Train loss: 1.3851, Valid loss: 1.0047\n"
          ]
        },
        {
          "output_type": "stream",
          "name": "stderr",
          "text": [
            "Epoch [1078/5000]: 100%|██████████| 10/10 [00:00<00:00, 51.51it/s, loss=1.47]\n"
          ]
        },
        {
          "output_type": "stream",
          "name": "stdout",
          "text": [
            "Epoch [1078/5000]: Train loss: 1.4152, Valid loss: 1.0140\n"
          ]
        },
        {
          "output_type": "stream",
          "name": "stderr",
          "text": [
            "Epoch [1079/5000]: 100%|██████████| 10/10 [00:00<00:00, 61.05it/s, loss=1.6]\n"
          ]
        },
        {
          "output_type": "stream",
          "name": "stdout",
          "text": [
            "Epoch [1079/5000]: Train loss: 1.3925, Valid loss: 1.0304\n"
          ]
        },
        {
          "output_type": "stream",
          "name": "stderr",
          "text": [
            "Epoch [1080/5000]: 100%|██████████| 10/10 [00:00<00:00, 51.70it/s, loss=1.29]\n"
          ]
        },
        {
          "output_type": "stream",
          "name": "stdout",
          "text": [
            "Epoch [1080/5000]: Train loss: 1.3549, Valid loss: 0.9529\n"
          ]
        },
        {
          "output_type": "stream",
          "name": "stderr",
          "text": [
            "Epoch [1081/5000]: 100%|██████████| 10/10 [00:00<00:00, 52.15it/s, loss=1.46]\n"
          ]
        },
        {
          "output_type": "stream",
          "name": "stdout",
          "text": [
            "Epoch [1081/5000]: Train loss: 1.3538, Valid loss: 1.0845\n"
          ]
        },
        {
          "output_type": "stream",
          "name": "stderr",
          "text": [
            "Epoch [1082/5000]: 100%|██████████| 10/10 [00:00<00:00, 21.71it/s, loss=1.53]\n"
          ]
        },
        {
          "output_type": "stream",
          "name": "stdout",
          "text": [
            "Epoch [1082/5000]: Train loss: 1.3929, Valid loss: 1.0525\n"
          ]
        },
        {
          "output_type": "stream",
          "name": "stderr",
          "text": [
            "Epoch [1083/5000]: 100%|██████████| 10/10 [00:00<00:00, 54.30it/s, loss=1.26]\n"
          ]
        },
        {
          "output_type": "stream",
          "name": "stdout",
          "text": [
            "Epoch [1083/5000]: Train loss: 1.3804, Valid loss: 1.0647\n"
          ]
        },
        {
          "output_type": "stream",
          "name": "stderr",
          "text": [
            "Epoch [1084/5000]: 100%|██████████| 10/10 [00:00<00:00, 46.57it/s, loss=1.35]\n"
          ]
        },
        {
          "output_type": "stream",
          "name": "stdout",
          "text": [
            "Epoch [1084/5000]: Train loss: 1.3460, Valid loss: 1.0331\n"
          ]
        },
        {
          "output_type": "stream",
          "name": "stderr",
          "text": [
            "Epoch [1085/5000]: 100%|██████████| 10/10 [00:00<00:00, 57.13it/s, loss=1.53]\n"
          ]
        },
        {
          "output_type": "stream",
          "name": "stdout",
          "text": [
            "Epoch [1085/5000]: Train loss: 1.3982, Valid loss: 1.0819\n"
          ]
        },
        {
          "output_type": "stream",
          "name": "stderr",
          "text": [
            "Epoch [1086/5000]: 100%|██████████| 10/10 [00:00<00:00, 62.88it/s, loss=1.36]\n"
          ]
        },
        {
          "output_type": "stream",
          "name": "stdout",
          "text": [
            "Epoch [1086/5000]: Train loss: 1.3772, Valid loss: 1.0072\n"
          ]
        },
        {
          "output_type": "stream",
          "name": "stderr",
          "text": [
            "Epoch [1087/5000]: 100%|██████████| 10/10 [00:00<00:00, 64.49it/s, loss=1.53]\n"
          ]
        },
        {
          "output_type": "stream",
          "name": "stdout",
          "text": [
            "Epoch [1087/5000]: Train loss: 1.4036, Valid loss: 1.0617\n"
          ]
        },
        {
          "output_type": "stream",
          "name": "stderr",
          "text": [
            "Epoch [1088/5000]: 100%|██████████| 10/10 [00:00<00:00, 61.53it/s, loss=1.34]\n"
          ]
        },
        {
          "output_type": "stream",
          "name": "stdout",
          "text": [
            "Epoch [1088/5000]: Train loss: 1.3833, Valid loss: 0.9864\n"
          ]
        },
        {
          "output_type": "stream",
          "name": "stderr",
          "text": [
            "Epoch [1089/5000]: 100%|██████████| 10/10 [00:00<00:00, 62.66it/s, loss=1.36]\n"
          ]
        },
        {
          "output_type": "stream",
          "name": "stdout",
          "text": [
            "Epoch [1089/5000]: Train loss: 1.3474, Valid loss: 1.1137\n"
          ]
        },
        {
          "output_type": "stream",
          "name": "stderr",
          "text": [
            "Epoch [1090/5000]: 100%|██████████| 10/10 [00:00<00:00, 53.67it/s, loss=1.17]\n"
          ]
        },
        {
          "output_type": "stream",
          "name": "stdout",
          "text": [
            "Epoch [1090/5000]: Train loss: 1.3699, Valid loss: 1.0146\n"
          ]
        },
        {
          "output_type": "stream",
          "name": "stderr",
          "text": [
            "Epoch [1091/5000]: 100%|██████████| 10/10 [00:00<00:00, 63.23it/s, loss=1.5]\n"
          ]
        },
        {
          "output_type": "stream",
          "name": "stdout",
          "text": [
            "Epoch [1091/5000]: Train loss: 1.3721, Valid loss: 0.9982\n"
          ]
        },
        {
          "output_type": "stream",
          "name": "stderr",
          "text": [
            "Epoch [1092/5000]: 100%|██████████| 10/10 [00:00<00:00, 62.56it/s, loss=1.47]\n"
          ]
        },
        {
          "output_type": "stream",
          "name": "stdout",
          "text": [
            "Epoch [1092/5000]: Train loss: 1.3861, Valid loss: 1.1209\n"
          ]
        },
        {
          "output_type": "stream",
          "name": "stderr",
          "text": [
            "Epoch [1093/5000]: 100%|██████████| 10/10 [00:00<00:00, 22.98it/s, loss=1.13]\n"
          ]
        },
        {
          "output_type": "stream",
          "name": "stdout",
          "text": [
            "Epoch [1093/5000]: Train loss: 1.3813, Valid loss: 1.0391\n"
          ]
        },
        {
          "output_type": "stream",
          "name": "stderr",
          "text": [
            "Epoch [1094/5000]: 100%|██████████| 10/10 [00:00<00:00, 64.35it/s, loss=1.23]\n"
          ]
        },
        {
          "output_type": "stream",
          "name": "stdout",
          "text": [
            "Epoch [1094/5000]: Train loss: 1.3934, Valid loss: 1.0635\n"
          ]
        },
        {
          "output_type": "stream",
          "name": "stderr",
          "text": [
            "Epoch [1095/5000]: 100%|██████████| 10/10 [00:00<00:00, 63.26it/s, loss=1.41]\n"
          ]
        },
        {
          "output_type": "stream",
          "name": "stdout",
          "text": [
            "Epoch [1095/5000]: Train loss: 1.3459, Valid loss: 1.0481\n"
          ]
        },
        {
          "output_type": "stream",
          "name": "stderr",
          "text": [
            "Epoch [1096/5000]: 100%|██████████| 10/10 [00:00<00:00, 62.86it/s, loss=1.49]\n"
          ]
        },
        {
          "output_type": "stream",
          "name": "stdout",
          "text": [
            "Epoch [1096/5000]: Train loss: 1.3539, Valid loss: 1.0756\n"
          ]
        },
        {
          "output_type": "stream",
          "name": "stderr",
          "text": [
            "Epoch [1097/5000]: 100%|██████████| 10/10 [00:00<00:00, 62.77it/s, loss=1.4]\n"
          ]
        },
        {
          "output_type": "stream",
          "name": "stdout",
          "text": [
            "Epoch [1097/5000]: Train loss: 1.3544, Valid loss: 1.0942\n"
          ]
        },
        {
          "output_type": "stream",
          "name": "stderr",
          "text": [
            "Epoch [1098/5000]: 100%|██████████| 10/10 [00:00<00:00, 57.47it/s, loss=1.52]\n"
          ]
        },
        {
          "output_type": "stream",
          "name": "stdout",
          "text": [
            "Epoch [1098/5000]: Train loss: 1.4020, Valid loss: 1.0455\n"
          ]
        },
        {
          "output_type": "stream",
          "name": "stderr",
          "text": [
            "Epoch [1099/5000]: 100%|██████████| 10/10 [00:00<00:00, 64.54it/s, loss=1.32]\n"
          ]
        },
        {
          "output_type": "stream",
          "name": "stdout",
          "text": [
            "Epoch [1099/5000]: Train loss: 1.3738, Valid loss: 1.0474\n"
          ]
        },
        {
          "output_type": "stream",
          "name": "stderr",
          "text": [
            "Epoch [1100/5000]: 100%|██████████| 10/10 [00:00<00:00, 60.24it/s, loss=1.41]\n"
          ]
        },
        {
          "output_type": "stream",
          "name": "stdout",
          "text": [
            "Epoch [1100/5000]: Train loss: 1.3897, Valid loss: 1.0177\n"
          ]
        },
        {
          "output_type": "stream",
          "name": "stderr",
          "text": [
            "Epoch [1101/5000]: 100%|██████████| 10/10 [00:00<00:00, 55.31it/s, loss=1.49]\n"
          ]
        },
        {
          "output_type": "stream",
          "name": "stdout",
          "text": [
            "Epoch [1101/5000]: Train loss: 1.3917, Valid loss: 1.0299\n"
          ]
        },
        {
          "output_type": "stream",
          "name": "stderr",
          "text": [
            "Epoch [1102/5000]: 100%|██████████| 10/10 [00:00<00:00, 53.27it/s, loss=1.44]\n"
          ]
        },
        {
          "output_type": "stream",
          "name": "stdout",
          "text": [
            "Epoch [1102/5000]: Train loss: 1.3883, Valid loss: 1.0709\n"
          ]
        },
        {
          "output_type": "stream",
          "name": "stderr",
          "text": [
            "Epoch [1103/5000]: 100%|██████████| 10/10 [00:00<00:00, 53.25it/s, loss=1.26]\n"
          ]
        },
        {
          "output_type": "stream",
          "name": "stdout",
          "text": [
            "Epoch [1103/5000]: Train loss: 1.3422, Valid loss: 1.0416\n"
          ]
        },
        {
          "output_type": "stream",
          "name": "stderr",
          "text": [
            "Epoch [1104/5000]: 100%|██████████| 10/10 [00:00<00:00, 53.36it/s, loss=1.39]\n"
          ]
        },
        {
          "output_type": "stream",
          "name": "stdout",
          "text": [
            "Epoch [1104/5000]: Train loss: 1.3631, Valid loss: 1.0095\n"
          ]
        },
        {
          "output_type": "stream",
          "name": "stderr",
          "text": [
            "Epoch [1105/5000]: 100%|██████████| 10/10 [00:00<00:00, 64.41it/s, loss=1.41]\n"
          ]
        },
        {
          "output_type": "stream",
          "name": "stdout",
          "text": [
            "Epoch [1105/5000]: Train loss: 1.3686, Valid loss: 1.0691\n"
          ]
        },
        {
          "output_type": "stream",
          "name": "stderr",
          "text": [
            "Epoch [1106/5000]: 100%|██████████| 10/10 [00:00<00:00, 62.54it/s, loss=1.72]\n"
          ]
        },
        {
          "output_type": "stream",
          "name": "stdout",
          "text": [
            "Epoch [1106/5000]: Train loss: 1.4205, Valid loss: 1.0456\n"
          ]
        },
        {
          "output_type": "stream",
          "name": "stderr",
          "text": [
            "Epoch [1107/5000]: 100%|██████████| 10/10 [00:00<00:00, 56.72it/s, loss=1.36]\n"
          ]
        },
        {
          "output_type": "stream",
          "name": "stdout",
          "text": [
            "Epoch [1107/5000]: Train loss: 1.3461, Valid loss: 1.0049\n"
          ]
        },
        {
          "output_type": "stream",
          "name": "stderr",
          "text": [
            "Epoch [1108/5000]: 100%|██████████| 10/10 [00:00<00:00, 63.66it/s, loss=1.36]\n"
          ]
        },
        {
          "output_type": "stream",
          "name": "stdout",
          "text": [
            "Epoch [1108/5000]: Train loss: 1.3666, Valid loss: 1.1086\n"
          ]
        },
        {
          "output_type": "stream",
          "name": "stderr",
          "text": [
            "Epoch [1109/5000]: 100%|██████████| 10/10 [00:00<00:00, 61.28it/s, loss=1.41]\n"
          ]
        },
        {
          "output_type": "stream",
          "name": "stdout",
          "text": [
            "Epoch [1109/5000]: Train loss: 1.3928, Valid loss: 1.0667\n"
          ]
        },
        {
          "output_type": "stream",
          "name": "stderr",
          "text": [
            "Epoch [1110/5000]: 100%|██████████| 10/10 [00:00<00:00, 57.47it/s, loss=1.71]\n"
          ]
        },
        {
          "output_type": "stream",
          "name": "stdout",
          "text": [
            "Epoch [1110/5000]: Train loss: 1.4319, Valid loss: 1.0135\n"
          ]
        },
        {
          "output_type": "stream",
          "name": "stderr",
          "text": [
            "Epoch [1111/5000]: 100%|██████████| 10/10 [00:00<00:00, 52.53it/s, loss=1.29]\n"
          ]
        },
        {
          "output_type": "stream",
          "name": "stdout",
          "text": [
            "Epoch [1111/5000]: Train loss: 1.3693, Valid loss: 1.1247\n"
          ]
        },
        {
          "output_type": "stream",
          "name": "stderr",
          "text": [
            "Epoch [1112/5000]: 100%|██████████| 10/10 [00:00<00:00, 60.58it/s, loss=1.26]\n"
          ]
        },
        {
          "output_type": "stream",
          "name": "stdout",
          "text": [
            "Epoch [1112/5000]: Train loss: 1.3379, Valid loss: 1.0137\n"
          ]
        },
        {
          "output_type": "stream",
          "name": "stderr",
          "text": [
            "Epoch [1113/5000]: 100%|██████████| 10/10 [00:00<00:00, 47.93it/s, loss=1.38]\n"
          ]
        },
        {
          "output_type": "stream",
          "name": "stdout",
          "text": [
            "Epoch [1113/5000]: Train loss: 1.3739, Valid loss: 1.0405\n"
          ]
        },
        {
          "output_type": "stream",
          "name": "stderr",
          "text": [
            "Epoch [1114/5000]: 100%|██████████| 10/10 [00:00<00:00, 50.78it/s, loss=1.29]\n"
          ]
        },
        {
          "output_type": "stream",
          "name": "stdout",
          "text": [
            "Epoch [1114/5000]: Train loss: 1.3651, Valid loss: 1.0475\n"
          ]
        },
        {
          "output_type": "stream",
          "name": "stderr",
          "text": [
            "Epoch [1115/5000]: 100%|██████████| 10/10 [00:00<00:00, 60.04it/s, loss=1.32]\n"
          ]
        },
        {
          "output_type": "stream",
          "name": "stdout",
          "text": [
            "Epoch [1115/5000]: Train loss: 1.3830, Valid loss: 1.0601\n"
          ]
        },
        {
          "output_type": "stream",
          "name": "stderr",
          "text": [
            "Epoch [1116/5000]: 100%|██████████| 10/10 [00:00<00:00, 52.70it/s, loss=1.34]\n"
          ]
        },
        {
          "output_type": "stream",
          "name": "stdout",
          "text": [
            "Epoch [1116/5000]: Train loss: 1.3401, Valid loss: 1.0161\n"
          ]
        },
        {
          "output_type": "stream",
          "name": "stderr",
          "text": [
            "Epoch [1117/5000]: 100%|██████████| 10/10 [00:00<00:00, 54.83it/s, loss=1.33]\n"
          ]
        },
        {
          "output_type": "stream",
          "name": "stdout",
          "text": [
            "Epoch [1117/5000]: Train loss: 1.3619, Valid loss: 0.9730\n"
          ]
        },
        {
          "output_type": "stream",
          "name": "stderr",
          "text": [
            "Epoch [1118/5000]: 100%|██████████| 10/10 [00:00<00:00, 21.75it/s, loss=1.24]\n"
          ]
        },
        {
          "output_type": "stream",
          "name": "stdout",
          "text": [
            "Epoch [1118/5000]: Train loss: 1.3399, Valid loss: 0.9862\n"
          ]
        },
        {
          "output_type": "stream",
          "name": "stderr",
          "text": [
            "Epoch [1119/5000]: 100%|██████████| 10/10 [00:00<00:00, 53.15it/s, loss=1.26]\n"
          ]
        },
        {
          "output_type": "stream",
          "name": "stdout",
          "text": [
            "Epoch [1119/5000]: Train loss: 1.3607, Valid loss: 1.0333\n"
          ]
        },
        {
          "output_type": "stream",
          "name": "stderr",
          "text": [
            "Epoch [1120/5000]: 100%|██████████| 10/10 [00:00<00:00, 60.99it/s, loss=1.41]\n"
          ]
        },
        {
          "output_type": "stream",
          "name": "stdout",
          "text": [
            "Epoch [1120/5000]: Train loss: 1.3625, Valid loss: 0.9904\n"
          ]
        },
        {
          "output_type": "stream",
          "name": "stderr",
          "text": [
            "Epoch [1121/5000]: 100%|██████████| 10/10 [00:00<00:00, 61.98it/s, loss=1.27]\n"
          ]
        },
        {
          "output_type": "stream",
          "name": "stdout",
          "text": [
            "Epoch [1121/5000]: Train loss: 1.3379, Valid loss: 1.0990\n"
          ]
        },
        {
          "output_type": "stream",
          "name": "stderr",
          "text": [
            "Epoch [1122/5000]: 100%|██████████| 10/10 [00:00<00:00, 49.14it/s, loss=1.45]\n"
          ]
        },
        {
          "output_type": "stream",
          "name": "stdout",
          "text": [
            "Epoch [1122/5000]: Train loss: 1.4040, Valid loss: 1.0019\n"
          ]
        },
        {
          "output_type": "stream",
          "name": "stderr",
          "text": [
            "Epoch [1123/5000]: 100%|██████████| 10/10 [00:00<00:00, 58.01it/s, loss=1.27]\n"
          ]
        },
        {
          "output_type": "stream",
          "name": "stdout",
          "text": [
            "Epoch [1123/5000]: Train loss: 1.3859, Valid loss: 1.0790\n"
          ]
        },
        {
          "output_type": "stream",
          "name": "stderr",
          "text": [
            "Epoch [1124/5000]: 100%|██████████| 10/10 [00:00<00:00, 48.90it/s, loss=1.2]\n"
          ]
        },
        {
          "output_type": "stream",
          "name": "stdout",
          "text": [
            "Epoch [1124/5000]: Train loss: 1.3563, Valid loss: 1.0706\n"
          ]
        },
        {
          "output_type": "stream",
          "name": "stderr",
          "text": [
            "Epoch [1125/5000]: 100%|██████████| 10/10 [00:00<00:00, 56.59it/s, loss=1.34]\n"
          ]
        },
        {
          "output_type": "stream",
          "name": "stdout",
          "text": [
            "Epoch [1125/5000]: Train loss: 1.3523, Valid loss: 1.0990\n"
          ]
        },
        {
          "output_type": "stream",
          "name": "stderr",
          "text": [
            "Epoch [1126/5000]: 100%|██████████| 10/10 [00:00<00:00, 52.58it/s, loss=1.38]\n"
          ]
        },
        {
          "output_type": "stream",
          "name": "stdout",
          "text": [
            "Epoch [1126/5000]: Train loss: 1.3906, Valid loss: 1.2040\n"
          ]
        },
        {
          "output_type": "stream",
          "name": "stderr",
          "text": [
            "Epoch [1127/5000]: 100%|██████████| 10/10 [00:00<00:00, 53.57it/s, loss=1.34]\n"
          ]
        },
        {
          "output_type": "stream",
          "name": "stdout",
          "text": [
            "Epoch [1127/5000]: Train loss: 1.3880, Valid loss: 1.0172\n"
          ]
        },
        {
          "output_type": "stream",
          "name": "stderr",
          "text": [
            "Epoch [1128/5000]: 100%|██████████| 10/10 [00:00<00:00, 64.87it/s, loss=1.33]\n"
          ]
        },
        {
          "output_type": "stream",
          "name": "stdout",
          "text": [
            "Epoch [1128/5000]: Train loss: 1.3976, Valid loss: 1.0169\n"
          ]
        },
        {
          "output_type": "stream",
          "name": "stderr",
          "text": [
            "Epoch [1129/5000]: 100%|██████████| 10/10 [00:00<00:00, 54.67it/s, loss=1.18]\n"
          ]
        },
        {
          "output_type": "stream",
          "name": "stdout",
          "text": [
            "Epoch [1129/5000]: Train loss: 1.3667, Valid loss: 1.0071\n"
          ]
        },
        {
          "output_type": "stream",
          "name": "stderr",
          "text": [
            "Epoch [1130/5000]: 100%|██████████| 10/10 [00:00<00:00, 50.08it/s, loss=1.23]\n"
          ]
        },
        {
          "output_type": "stream",
          "name": "stdout",
          "text": [
            "Epoch [1130/5000]: Train loss: 1.3517, Valid loss: 1.0146\n"
          ]
        },
        {
          "output_type": "stream",
          "name": "stderr",
          "text": [
            "Epoch [1131/5000]: 100%|██████████| 10/10 [00:00<00:00, 53.15it/s, loss=1.3]\n"
          ]
        },
        {
          "output_type": "stream",
          "name": "stdout",
          "text": [
            "Epoch [1131/5000]: Train loss: 1.3739, Valid loss: 1.0188\n"
          ]
        },
        {
          "output_type": "stream",
          "name": "stderr",
          "text": [
            "Epoch [1132/5000]: 100%|██████████| 10/10 [00:00<00:00, 58.71it/s, loss=1.51]\n"
          ]
        },
        {
          "output_type": "stream",
          "name": "stdout",
          "text": [
            "Epoch [1132/5000]: Train loss: 1.3641, Valid loss: 1.0730\n"
          ]
        },
        {
          "output_type": "stream",
          "name": "stderr",
          "text": [
            "Epoch [1133/5000]: 100%|██████████| 10/10 [00:00<00:00, 53.94it/s, loss=1.54]\n"
          ]
        },
        {
          "output_type": "stream",
          "name": "stdout",
          "text": [
            "Epoch [1133/5000]: Train loss: 1.4072, Valid loss: 1.0039\n"
          ]
        },
        {
          "output_type": "stream",
          "name": "stderr",
          "text": [
            "Epoch [1134/5000]: 100%|██████████| 10/10 [00:00<00:00, 60.61it/s, loss=1.32]\n"
          ]
        },
        {
          "output_type": "stream",
          "name": "stdout",
          "text": [
            "Epoch [1134/5000]: Train loss: 1.3586, Valid loss: 1.0060\n"
          ]
        },
        {
          "output_type": "stream",
          "name": "stderr",
          "text": [
            "Epoch [1135/5000]: 100%|██████████| 10/10 [00:00<00:00, 59.77it/s, loss=1.4]\n"
          ]
        },
        {
          "output_type": "stream",
          "name": "stdout",
          "text": [
            "Epoch [1135/5000]: Train loss: 1.3645, Valid loss: 1.0742\n"
          ]
        },
        {
          "output_type": "stream",
          "name": "stderr",
          "text": [
            "Epoch [1136/5000]: 100%|██████████| 10/10 [00:00<00:00, 65.91it/s, loss=1.43]\n"
          ]
        },
        {
          "output_type": "stream",
          "name": "stdout",
          "text": [
            "Epoch [1136/5000]: Train loss: 1.4084, Valid loss: 1.0545\n"
          ]
        },
        {
          "output_type": "stream",
          "name": "stderr",
          "text": [
            "Epoch [1137/5000]: 100%|██████████| 10/10 [00:00<00:00, 65.53it/s, loss=1.32]\n"
          ]
        },
        {
          "output_type": "stream",
          "name": "stdout",
          "text": [
            "Epoch [1137/5000]: Train loss: 1.3895, Valid loss: 1.0680\n"
          ]
        },
        {
          "output_type": "stream",
          "name": "stderr",
          "text": [
            "Epoch [1138/5000]: 100%|██████████| 10/10 [00:00<00:00, 63.54it/s, loss=1.28]\n"
          ]
        },
        {
          "output_type": "stream",
          "name": "stdout",
          "text": [
            "Epoch [1138/5000]: Train loss: 1.3639, Valid loss: 1.0292\n"
          ]
        },
        {
          "output_type": "stream",
          "name": "stderr",
          "text": [
            "Epoch [1139/5000]: 100%|██████████| 10/10 [00:00<00:00, 62.26it/s, loss=1.49]\n"
          ]
        },
        {
          "output_type": "stream",
          "name": "stdout",
          "text": [
            "Epoch [1139/5000]: Train loss: 1.4127, Valid loss: 1.1511\n"
          ]
        },
        {
          "output_type": "stream",
          "name": "stderr",
          "text": [
            "Epoch [1140/5000]: 100%|██████████| 10/10 [00:00<00:00, 65.87it/s, loss=1.34]\n"
          ]
        },
        {
          "output_type": "stream",
          "name": "stdout",
          "text": [
            "Epoch [1140/5000]: Train loss: 1.3728, Valid loss: 1.1096\n"
          ]
        },
        {
          "output_type": "stream",
          "name": "stderr",
          "text": [
            "Epoch [1141/5000]: 100%|██████████| 10/10 [00:00<00:00, 22.72it/s, loss=1.23]\n"
          ]
        },
        {
          "output_type": "stream",
          "name": "stdout",
          "text": [
            "Epoch [1141/5000]: Train loss: 1.3791, Valid loss: 1.0671\n"
          ]
        },
        {
          "output_type": "stream",
          "name": "stderr",
          "text": [
            "Epoch [1142/5000]: 100%|██████████| 10/10 [00:00<00:00, 38.61it/s, loss=1.28]\n"
          ]
        },
        {
          "output_type": "stream",
          "name": "stdout",
          "text": [
            "Epoch [1142/5000]: Train loss: 1.3604, Valid loss: 1.0357\n"
          ]
        },
        {
          "output_type": "stream",
          "name": "stderr",
          "text": [
            "Epoch [1143/5000]: 100%|██████████| 10/10 [00:00<00:00, 47.36it/s, loss=1.47]\n"
          ]
        },
        {
          "output_type": "stream",
          "name": "stdout",
          "text": [
            "Epoch [1143/5000]: Train loss: 1.3845, Valid loss: 1.0302\n"
          ]
        },
        {
          "output_type": "stream",
          "name": "stderr",
          "text": [
            "Epoch [1144/5000]: 100%|██████████| 10/10 [00:00<00:00, 55.69it/s, loss=1.35]\n"
          ]
        },
        {
          "output_type": "stream",
          "name": "stdout",
          "text": [
            "Epoch [1144/5000]: Train loss: 1.3931, Valid loss: 0.9936\n"
          ]
        },
        {
          "output_type": "stream",
          "name": "stderr",
          "text": [
            "Epoch [1145/5000]: 100%|██████████| 10/10 [00:00<00:00, 63.17it/s, loss=1.59]\n"
          ]
        },
        {
          "output_type": "stream",
          "name": "stdout",
          "text": [
            "Epoch [1145/5000]: Train loss: 1.4136, Valid loss: 1.0501\n"
          ]
        },
        {
          "output_type": "stream",
          "name": "stderr",
          "text": [
            "Epoch [1146/5000]: 100%|██████████| 10/10 [00:00<00:00, 62.44it/s, loss=1.66]\n"
          ]
        },
        {
          "output_type": "stream",
          "name": "stdout",
          "text": [
            "Epoch [1146/5000]: Train loss: 1.4131, Valid loss: 1.0452\n"
          ]
        },
        {
          "output_type": "stream",
          "name": "stderr",
          "text": [
            "Epoch [1147/5000]: 100%|██████████| 10/10 [00:00<00:00, 63.85it/s, loss=1.4]\n"
          ]
        },
        {
          "output_type": "stream",
          "name": "stdout",
          "text": [
            "Epoch [1147/5000]: Train loss: 1.4060, Valid loss: 1.1911\n"
          ]
        },
        {
          "output_type": "stream",
          "name": "stderr",
          "text": [
            "Epoch [1148/5000]: 100%|██████████| 10/10 [00:00<00:00, 66.18it/s, loss=1.32]\n"
          ]
        },
        {
          "output_type": "stream",
          "name": "stdout",
          "text": [
            "Epoch [1148/5000]: Train loss: 1.3786, Valid loss: 1.0125\n"
          ]
        },
        {
          "output_type": "stream",
          "name": "stderr",
          "text": [
            "Epoch [1149/5000]: 100%|██████████| 10/10 [00:00<00:00, 64.82it/s, loss=1.48]\n"
          ]
        },
        {
          "output_type": "stream",
          "name": "stdout",
          "text": [
            "Epoch [1149/5000]: Train loss: 1.3972, Valid loss: 0.9892\n"
          ]
        },
        {
          "output_type": "stream",
          "name": "stderr",
          "text": [
            "Epoch [1150/5000]: 100%|██████████| 10/10 [00:00<00:00, 65.92it/s, loss=1.46]\n"
          ]
        },
        {
          "output_type": "stream",
          "name": "stdout",
          "text": [
            "Epoch [1150/5000]: Train loss: 1.3915, Valid loss: 1.0290\n"
          ]
        },
        {
          "output_type": "stream",
          "name": "stderr",
          "text": [
            "Epoch [1151/5000]: 100%|██████████| 10/10 [00:00<00:00, 55.65it/s, loss=1.75]\n"
          ]
        },
        {
          "output_type": "stream",
          "name": "stdout",
          "text": [
            "Epoch [1151/5000]: Train loss: 1.4137, Valid loss: 1.0626\n"
          ]
        },
        {
          "output_type": "stream",
          "name": "stderr",
          "text": [
            "Epoch [1152/5000]: 100%|██████████| 10/10 [00:00<00:00, 65.23it/s, loss=1.4]\n"
          ]
        },
        {
          "output_type": "stream",
          "name": "stdout",
          "text": [
            "Epoch [1152/5000]: Train loss: 1.3505, Valid loss: 1.0148\n"
          ]
        },
        {
          "output_type": "stream",
          "name": "stderr",
          "text": [
            "Epoch [1153/5000]: 100%|██████████| 10/10 [00:00<00:00, 64.36it/s, loss=1.28]\n"
          ]
        },
        {
          "output_type": "stream",
          "name": "stdout",
          "text": [
            "Epoch [1153/5000]: Train loss: 1.3540, Valid loss: 1.0758\n"
          ]
        },
        {
          "output_type": "stream",
          "name": "stderr",
          "text": [
            "Epoch [1154/5000]: 100%|██████████| 10/10 [00:00<00:00, 57.63it/s, loss=1.46]\n"
          ]
        },
        {
          "output_type": "stream",
          "name": "stdout",
          "text": [
            "Epoch [1154/5000]: Train loss: 1.3645, Valid loss: 1.0492\n"
          ]
        },
        {
          "output_type": "stream",
          "name": "stderr",
          "text": [
            "Epoch [1155/5000]: 100%|██████████| 10/10 [00:00<00:00, 58.55it/s, loss=1.5]\n"
          ]
        },
        {
          "output_type": "stream",
          "name": "stdout",
          "text": [
            "Epoch [1155/5000]: Train loss: 1.3640, Valid loss: 1.0113\n"
          ]
        },
        {
          "output_type": "stream",
          "name": "stderr",
          "text": [
            "Epoch [1156/5000]: 100%|██████████| 10/10 [00:00<00:00, 49.07it/s, loss=1.44]\n"
          ]
        },
        {
          "output_type": "stream",
          "name": "stdout",
          "text": [
            "Epoch [1156/5000]: Train loss: 1.3400, Valid loss: 1.0492\n"
          ]
        },
        {
          "output_type": "stream",
          "name": "stderr",
          "text": [
            "Epoch [1157/5000]: 100%|██████████| 10/10 [00:00<00:00, 63.72it/s, loss=1.41]\n"
          ]
        },
        {
          "output_type": "stream",
          "name": "stdout",
          "text": [
            "Epoch [1157/5000]: Train loss: 1.3752, Valid loss: 1.0125\n"
          ]
        },
        {
          "output_type": "stream",
          "name": "stderr",
          "text": [
            "Epoch [1158/5000]: 100%|██████████| 10/10 [00:00<00:00, 65.50it/s, loss=1.26]\n"
          ]
        },
        {
          "output_type": "stream",
          "name": "stdout",
          "text": [
            "Epoch [1158/5000]: Train loss: 1.3757, Valid loss: 1.0311\n"
          ]
        },
        {
          "output_type": "stream",
          "name": "stderr",
          "text": [
            "Epoch [1159/5000]: 100%|██████████| 10/10 [00:00<00:00, 64.08it/s, loss=1.5]\n"
          ]
        },
        {
          "output_type": "stream",
          "name": "stdout",
          "text": [
            "Epoch [1159/5000]: Train loss: 1.3720, Valid loss: 1.0122\n"
          ]
        },
        {
          "output_type": "stream",
          "name": "stderr",
          "text": [
            "Epoch [1160/5000]: 100%|██████████| 10/10 [00:00<00:00, 52.01it/s, loss=1.42]\n"
          ]
        },
        {
          "output_type": "stream",
          "name": "stdout",
          "text": [
            "Epoch [1160/5000]: Train loss: 1.3678, Valid loss: 1.0419\n"
          ]
        },
        {
          "output_type": "stream",
          "name": "stderr",
          "text": [
            "Epoch [1161/5000]: 100%|██████████| 10/10 [00:00<00:00, 47.10it/s, loss=1.19]\n"
          ]
        },
        {
          "output_type": "stream",
          "name": "stdout",
          "text": [
            "Epoch [1161/5000]: Train loss: 1.3276, Valid loss: 1.0242\n"
          ]
        },
        {
          "output_type": "stream",
          "name": "stderr",
          "text": [
            "Epoch [1162/5000]: 100%|██████████| 10/10 [00:00<00:00, 54.68it/s, loss=1.39]\n"
          ]
        },
        {
          "output_type": "stream",
          "name": "stdout",
          "text": [
            "Epoch [1162/5000]: Train loss: 1.3474, Valid loss: 1.0044\n"
          ]
        },
        {
          "output_type": "stream",
          "name": "stderr",
          "text": [
            "Epoch [1163/5000]: 100%|██████████| 10/10 [00:00<00:00, 49.94it/s, loss=1.45]\n"
          ]
        },
        {
          "output_type": "stream",
          "name": "stdout",
          "text": [
            "Epoch [1163/5000]: Train loss: 1.3960, Valid loss: 1.0812\n"
          ]
        },
        {
          "output_type": "stream",
          "name": "stderr",
          "text": [
            "Epoch [1164/5000]: 100%|██████████| 10/10 [00:00<00:00, 53.55it/s, loss=1.51]\n"
          ]
        },
        {
          "output_type": "stream",
          "name": "stdout",
          "text": [
            "Epoch [1164/5000]: Train loss: 1.3629, Valid loss: 1.0992\n"
          ]
        },
        {
          "output_type": "stream",
          "name": "stderr",
          "text": [
            "Epoch [1165/5000]: 100%|██████████| 10/10 [00:00<00:00, 50.92it/s, loss=1.37]\n"
          ]
        },
        {
          "output_type": "stream",
          "name": "stdout",
          "text": [
            "Epoch [1165/5000]: Train loss: 1.3826, Valid loss: 1.0032\n"
          ]
        },
        {
          "output_type": "stream",
          "name": "stderr",
          "text": [
            "Epoch [1166/5000]: 100%|██████████| 10/10 [00:00<00:00, 55.43it/s, loss=1.28]\n"
          ]
        },
        {
          "output_type": "stream",
          "name": "stdout",
          "text": [
            "Epoch [1166/5000]: Train loss: 1.3393, Valid loss: 1.0509\n"
          ]
        },
        {
          "output_type": "stream",
          "name": "stderr",
          "text": [
            "Epoch [1167/5000]: 100%|██████████| 10/10 [00:00<00:00, 22.32it/s, loss=1.39]\n"
          ]
        },
        {
          "output_type": "stream",
          "name": "stdout",
          "text": [
            "Epoch [1167/5000]: Train loss: 1.3579, Valid loss: 1.0448\n"
          ]
        },
        {
          "output_type": "stream",
          "name": "stderr",
          "text": [
            "Epoch [1168/5000]: 100%|██████████| 10/10 [00:00<00:00, 53.21it/s, loss=1.44]\n"
          ]
        },
        {
          "output_type": "stream",
          "name": "stdout",
          "text": [
            "Epoch [1168/5000]: Train loss: 1.3426, Valid loss: 1.0025\n"
          ]
        },
        {
          "output_type": "stream",
          "name": "stderr",
          "text": [
            "Epoch [1169/5000]: 100%|██████████| 10/10 [00:00<00:00, 52.26it/s, loss=1.25]\n"
          ]
        },
        {
          "output_type": "stream",
          "name": "stdout",
          "text": [
            "Epoch [1169/5000]: Train loss: 1.3713, Valid loss: 1.0406\n"
          ]
        },
        {
          "output_type": "stream",
          "name": "stderr",
          "text": [
            "Epoch [1170/5000]: 100%|██████████| 10/10 [00:00<00:00, 57.31it/s, loss=1.16]\n"
          ]
        },
        {
          "output_type": "stream",
          "name": "stdout",
          "text": [
            "Epoch [1170/5000]: Train loss: 1.3446, Valid loss: 1.0447\n"
          ]
        },
        {
          "output_type": "stream",
          "name": "stderr",
          "text": [
            "Epoch [1171/5000]: 100%|██████████| 10/10 [00:00<00:00, 56.55it/s, loss=1.5]\n"
          ]
        },
        {
          "output_type": "stream",
          "name": "stdout",
          "text": [
            "Epoch [1171/5000]: Train loss: 1.4096, Valid loss: 1.0958\n"
          ]
        },
        {
          "output_type": "stream",
          "name": "stderr",
          "text": [
            "Epoch [1172/5000]: 100%|██████████| 10/10 [00:00<00:00, 60.65it/s, loss=1.35]\n"
          ]
        },
        {
          "output_type": "stream",
          "name": "stdout",
          "text": [
            "Epoch [1172/5000]: Train loss: 1.3429, Valid loss: 1.0266\n"
          ]
        },
        {
          "output_type": "stream",
          "name": "stderr",
          "text": [
            "Epoch [1173/5000]: 100%|██████████| 10/10 [00:00<00:00, 56.60it/s, loss=1.53]\n"
          ]
        },
        {
          "output_type": "stream",
          "name": "stdout",
          "text": [
            "Epoch [1173/5000]: Train loss: 1.3489, Valid loss: 0.9958\n"
          ]
        },
        {
          "output_type": "stream",
          "name": "stderr",
          "text": [
            "Epoch [1174/5000]: 100%|██████████| 10/10 [00:00<00:00, 62.54it/s, loss=1.52]\n"
          ]
        },
        {
          "output_type": "stream",
          "name": "stdout",
          "text": [
            "Epoch [1174/5000]: Train loss: 1.3757, Valid loss: 1.0331\n"
          ]
        },
        {
          "output_type": "stream",
          "name": "stderr",
          "text": [
            "Epoch [1175/5000]: 100%|██████████| 10/10 [00:00<00:00, 52.36it/s, loss=1.46]\n"
          ]
        },
        {
          "output_type": "stream",
          "name": "stdout",
          "text": [
            "Epoch [1175/5000]: Train loss: 1.3649, Valid loss: 1.1073\n"
          ]
        },
        {
          "output_type": "stream",
          "name": "stderr",
          "text": [
            "Epoch [1176/5000]: 100%|██████████| 10/10 [00:00<00:00, 61.04it/s, loss=1.42]\n"
          ]
        },
        {
          "output_type": "stream",
          "name": "stdout",
          "text": [
            "Epoch [1176/5000]: Train loss: 1.3805, Valid loss: 1.0433\n"
          ]
        },
        {
          "output_type": "stream",
          "name": "stderr",
          "text": [
            "Epoch [1177/5000]: 100%|██████████| 10/10 [00:00<00:00, 23.52it/s, loss=1.44]\n"
          ]
        },
        {
          "output_type": "stream",
          "name": "stdout",
          "text": [
            "Epoch [1177/5000]: Train loss: 1.3606, Valid loss: 1.0411\n"
          ]
        },
        {
          "output_type": "stream",
          "name": "stderr",
          "text": [
            "Epoch [1178/5000]: 100%|██████████| 10/10 [00:00<00:00, 62.58it/s, loss=1.4]\n"
          ]
        },
        {
          "output_type": "stream",
          "name": "stdout",
          "text": [
            "Epoch [1178/5000]: Train loss: 1.3612, Valid loss: 1.0472\n"
          ]
        },
        {
          "output_type": "stream",
          "name": "stderr",
          "text": [
            "Epoch [1179/5000]: 100%|██████████| 10/10 [00:00<00:00, 60.40it/s, loss=1.51]\n"
          ]
        },
        {
          "output_type": "stream",
          "name": "stdout",
          "text": [
            "Epoch [1179/5000]: Train loss: 1.3820, Valid loss: 1.0536\n"
          ]
        },
        {
          "output_type": "stream",
          "name": "stderr",
          "text": [
            "Epoch [1180/5000]: 100%|██████████| 10/10 [00:00<00:00, 61.83it/s, loss=1.38]\n"
          ]
        },
        {
          "output_type": "stream",
          "name": "stdout",
          "text": [
            "Epoch [1180/5000]: Train loss: 1.3337, Valid loss: 0.9834\n"
          ]
        },
        {
          "output_type": "stream",
          "name": "stderr",
          "text": [
            "Epoch [1181/5000]: 100%|██████████| 10/10 [00:00<00:00, 62.35it/s, loss=1.22]\n"
          ]
        },
        {
          "output_type": "stream",
          "name": "stdout",
          "text": [
            "Epoch [1181/5000]: Train loss: 1.3547, Valid loss: 1.0279\n"
          ]
        },
        {
          "output_type": "stream",
          "name": "stderr",
          "text": [
            "Epoch [1182/5000]: 100%|██████████| 10/10 [00:00<00:00, 62.32it/s, loss=1.41]\n"
          ]
        },
        {
          "output_type": "stream",
          "name": "stdout",
          "text": [
            "Epoch [1182/5000]: Train loss: 1.3611, Valid loss: 1.0710\n"
          ]
        },
        {
          "output_type": "stream",
          "name": "stderr",
          "text": [
            "Epoch [1183/5000]: 100%|██████████| 10/10 [00:00<00:00, 63.52it/s, loss=1.18]\n"
          ]
        },
        {
          "output_type": "stream",
          "name": "stdout",
          "text": [
            "Epoch [1183/5000]: Train loss: 1.3450, Valid loss: 1.0754\n"
          ]
        },
        {
          "output_type": "stream",
          "name": "stderr",
          "text": [
            "Epoch [1184/5000]: 100%|██████████| 10/10 [00:00<00:00, 57.49it/s, loss=1.47]\n"
          ]
        },
        {
          "output_type": "stream",
          "name": "stdout",
          "text": [
            "Epoch [1184/5000]: Train loss: 1.3351, Valid loss: 1.0545\n"
          ]
        },
        {
          "output_type": "stream",
          "name": "stderr",
          "text": [
            "Epoch [1185/5000]: 100%|██████████| 10/10 [00:00<00:00, 63.52it/s, loss=1.19]\n"
          ]
        },
        {
          "output_type": "stream",
          "name": "stdout",
          "text": [
            "Epoch [1185/5000]: Train loss: 1.3340, Valid loss: 1.0464\n"
          ]
        },
        {
          "output_type": "stream",
          "name": "stderr",
          "text": [
            "Epoch [1186/5000]: 100%|██████████| 10/10 [00:00<00:00, 62.76it/s, loss=1.19]\n"
          ]
        },
        {
          "output_type": "stream",
          "name": "stdout",
          "text": [
            "Epoch [1186/5000]: Train loss: 1.3453, Valid loss: 0.9780\n"
          ]
        },
        {
          "output_type": "stream",
          "name": "stderr",
          "text": [
            "Epoch [1187/5000]: 100%|██████████| 10/10 [00:00<00:00, 22.70it/s, loss=1.45]\n"
          ]
        },
        {
          "output_type": "stream",
          "name": "stdout",
          "text": [
            "Epoch [1187/5000]: Train loss: 1.3766, Valid loss: 1.0198\n"
          ]
        },
        {
          "output_type": "stream",
          "name": "stderr",
          "text": [
            "Epoch [1188/5000]: 100%|██████████| 10/10 [00:00<00:00, 63.34it/s, loss=1.42]\n"
          ]
        },
        {
          "output_type": "stream",
          "name": "stdout",
          "text": [
            "Epoch [1188/5000]: Train loss: 1.3609, Valid loss: 1.1459\n"
          ]
        },
        {
          "output_type": "stream",
          "name": "stderr",
          "text": [
            "Epoch [1189/5000]: 100%|██████████| 10/10 [00:00<00:00, 60.61it/s, loss=1.51]\n"
          ]
        },
        {
          "output_type": "stream",
          "name": "stdout",
          "text": [
            "Epoch [1189/5000]: Train loss: 1.3954, Valid loss: 1.0214\n"
          ]
        },
        {
          "output_type": "stream",
          "name": "stderr",
          "text": [
            "Epoch [1190/5000]: 100%|██████████| 10/10 [00:00<00:00, 58.38it/s, loss=1.25]\n"
          ]
        },
        {
          "output_type": "stream",
          "name": "stdout",
          "text": [
            "Epoch [1190/5000]: Train loss: 1.3663, Valid loss: 0.9997\n"
          ]
        },
        {
          "output_type": "stream",
          "name": "stderr",
          "text": [
            "Epoch [1191/5000]: 100%|██████████| 10/10 [00:00<00:00, 61.64it/s, loss=1.24]\n"
          ]
        },
        {
          "output_type": "stream",
          "name": "stdout",
          "text": [
            "Epoch [1191/5000]: Train loss: 1.3766, Valid loss: 1.0816\n"
          ]
        },
        {
          "output_type": "stream",
          "name": "stderr",
          "text": [
            "Epoch [1192/5000]: 100%|██████████| 10/10 [00:00<00:00, 59.63it/s, loss=1.5]\n"
          ]
        },
        {
          "output_type": "stream",
          "name": "stdout",
          "text": [
            "Epoch [1192/5000]: Train loss: 1.3945, Valid loss: 0.9937\n"
          ]
        },
        {
          "output_type": "stream",
          "name": "stderr",
          "text": [
            "Epoch [1193/5000]: 100%|██████████| 10/10 [00:00<00:00, 60.94it/s, loss=1.32]\n"
          ]
        },
        {
          "output_type": "stream",
          "name": "stdout",
          "text": [
            "Epoch [1193/5000]: Train loss: 1.3702, Valid loss: 1.1243\n"
          ]
        },
        {
          "output_type": "stream",
          "name": "stderr",
          "text": [
            "Epoch [1194/5000]: 100%|██████████| 10/10 [00:00<00:00, 59.58it/s, loss=1.48]\n"
          ]
        },
        {
          "output_type": "stream",
          "name": "stdout",
          "text": [
            "Epoch [1194/5000]: Train loss: 1.3541, Valid loss: 1.0210\n"
          ]
        },
        {
          "output_type": "stream",
          "name": "stderr",
          "text": [
            "Epoch [1195/5000]: 100%|██████████| 10/10 [00:00<00:00, 59.30it/s, loss=1.58]\n"
          ]
        },
        {
          "output_type": "stream",
          "name": "stdout",
          "text": [
            "Epoch [1195/5000]: Train loss: 1.3399, Valid loss: 0.9867\n"
          ]
        },
        {
          "output_type": "stream",
          "name": "stderr",
          "text": [
            "Epoch [1196/5000]: 100%|██████████| 10/10 [00:00<00:00, 59.96it/s, loss=1.35]\n"
          ]
        },
        {
          "output_type": "stream",
          "name": "stdout",
          "text": [
            "Epoch [1196/5000]: Train loss: 1.3713, Valid loss: 1.0801\n"
          ]
        },
        {
          "output_type": "stream",
          "name": "stderr",
          "text": [
            "Epoch [1197/5000]: 100%|██████████| 10/10 [00:00<00:00, 59.40it/s, loss=1.19]\n"
          ]
        },
        {
          "output_type": "stream",
          "name": "stdout",
          "text": [
            "Epoch [1197/5000]: Train loss: 1.3498, Valid loss: 1.0886\n"
          ]
        },
        {
          "output_type": "stream",
          "name": "stderr",
          "text": [
            "Epoch [1198/5000]: 100%|██████████| 10/10 [00:00<00:00, 22.25it/s, loss=1.55]\n"
          ]
        },
        {
          "output_type": "stream",
          "name": "stdout",
          "text": [
            "Epoch [1198/5000]: Train loss: 1.3848, Valid loss: 1.0019\n"
          ]
        },
        {
          "output_type": "stream",
          "name": "stderr",
          "text": [
            "Epoch [1199/5000]: 100%|██████████| 10/10 [00:00<00:00, 60.95it/s, loss=1.5]\n"
          ]
        },
        {
          "output_type": "stream",
          "name": "stdout",
          "text": [
            "Epoch [1199/5000]: Train loss: 1.3665, Valid loss: 1.0759\n"
          ]
        },
        {
          "output_type": "stream",
          "name": "stderr",
          "text": [
            "Epoch [1200/5000]: 100%|██████████| 10/10 [00:00<00:00, 58.69it/s, loss=1.14]\n"
          ]
        },
        {
          "output_type": "stream",
          "name": "stdout",
          "text": [
            "Epoch [1200/5000]: Train loss: 1.3708, Valid loss: 1.0055\n"
          ]
        },
        {
          "output_type": "stream",
          "name": "stderr",
          "text": [
            "Epoch [1201/5000]: 100%|██████████| 10/10 [00:00<00:00, 62.67it/s, loss=1.36]\n"
          ]
        },
        {
          "output_type": "stream",
          "name": "stdout",
          "text": [
            "Epoch [1201/5000]: Train loss: 1.3354, Valid loss: 0.9805\n"
          ]
        },
        {
          "output_type": "stream",
          "name": "stderr",
          "text": [
            "Epoch [1202/5000]: 100%|██████████| 10/10 [00:00<00:00, 62.10it/s, loss=1.36]\n"
          ]
        },
        {
          "output_type": "stream",
          "name": "stdout",
          "text": [
            "Epoch [1202/5000]: Train loss: 1.3410, Valid loss: 1.0928\n"
          ]
        },
        {
          "output_type": "stream",
          "name": "stderr",
          "text": [
            "Epoch [1203/5000]: 100%|██████████| 10/10 [00:00<00:00, 61.52it/s, loss=1.34]\n"
          ]
        },
        {
          "output_type": "stream",
          "name": "stdout",
          "text": [
            "Epoch [1203/5000]: Train loss: 1.3883, Valid loss: 1.0504\n"
          ]
        },
        {
          "output_type": "stream",
          "name": "stderr",
          "text": [
            "Epoch [1204/5000]: 100%|██████████| 10/10 [00:00<00:00, 56.01it/s, loss=1.42]\n"
          ]
        },
        {
          "output_type": "stream",
          "name": "stdout",
          "text": [
            "Epoch [1204/5000]: Train loss: 1.3885, Valid loss: 1.0714\n"
          ]
        },
        {
          "output_type": "stream",
          "name": "stderr",
          "text": [
            "Epoch [1205/5000]: 100%|██████████| 10/10 [00:00<00:00, 61.29it/s, loss=1.47]\n"
          ]
        },
        {
          "output_type": "stream",
          "name": "stdout",
          "text": [
            "Epoch [1205/5000]: Train loss: 1.3725, Valid loss: 1.0404\n"
          ]
        },
        {
          "output_type": "stream",
          "name": "stderr",
          "text": [
            "Epoch [1206/5000]: 100%|██████████| 10/10 [00:00<00:00, 62.20it/s, loss=1.36]\n"
          ]
        },
        {
          "output_type": "stream",
          "name": "stdout",
          "text": [
            "Epoch [1206/5000]: Train loss: 1.3814, Valid loss: 0.9958\n"
          ]
        },
        {
          "output_type": "stream",
          "name": "stderr",
          "text": [
            "Epoch [1207/5000]: 100%|██████████| 10/10 [00:00<00:00, 63.13it/s, loss=1.49]\n"
          ]
        },
        {
          "output_type": "stream",
          "name": "stdout",
          "text": [
            "Epoch [1207/5000]: Train loss: 1.3725, Valid loss: 1.1604\n"
          ]
        },
        {
          "output_type": "stream",
          "name": "stderr",
          "text": [
            "Epoch [1208/5000]: 100%|██████████| 10/10 [00:00<00:00, 59.18it/s, loss=1.44]\n"
          ]
        },
        {
          "output_type": "stream",
          "name": "stdout",
          "text": [
            "Epoch [1208/5000]: Train loss: 1.3598, Valid loss: 1.0051\n"
          ]
        },
        {
          "output_type": "stream",
          "name": "stderr",
          "text": [
            "Epoch [1209/5000]: 100%|██████████| 10/10 [00:00<00:00, 54.90it/s, loss=1.34]\n"
          ]
        },
        {
          "output_type": "stream",
          "name": "stdout",
          "text": [
            "Epoch [1209/5000]: Train loss: 1.3629, Valid loss: 1.0557\n"
          ]
        },
        {
          "output_type": "stream",
          "name": "stderr",
          "text": [
            "Epoch [1210/5000]: 100%|██████████| 10/10 [00:00<00:00, 64.97it/s, loss=1.37]\n"
          ]
        },
        {
          "output_type": "stream",
          "name": "stdout",
          "text": [
            "Epoch [1210/5000]: Train loss: 1.3451, Valid loss: 1.0830\n"
          ]
        },
        {
          "output_type": "stream",
          "name": "stderr",
          "text": [
            "Epoch [1211/5000]: 100%|██████████| 10/10 [00:00<00:00, 60.15it/s, loss=1.29]\n"
          ]
        },
        {
          "output_type": "stream",
          "name": "stdout",
          "text": [
            "Epoch [1211/5000]: Train loss: 1.3497, Valid loss: 0.9720\n"
          ]
        },
        {
          "output_type": "stream",
          "name": "stderr",
          "text": [
            "Epoch [1212/5000]: 100%|██████████| 10/10 [00:00<00:00, 62.65it/s, loss=1.7]\n"
          ]
        },
        {
          "output_type": "stream",
          "name": "stdout",
          "text": [
            "Epoch [1212/5000]: Train loss: 1.3756, Valid loss: 1.0031\n"
          ]
        },
        {
          "output_type": "stream",
          "name": "stderr",
          "text": [
            "Epoch [1213/5000]: 100%|██████████| 10/10 [00:00<00:00, 54.74it/s, loss=1.32]\n"
          ]
        },
        {
          "output_type": "stream",
          "name": "stdout",
          "text": [
            "Epoch [1213/5000]: Train loss: 1.3671, Valid loss: 0.9789\n"
          ]
        },
        {
          "output_type": "stream",
          "name": "stderr",
          "text": [
            "Epoch [1214/5000]: 100%|██████████| 10/10 [00:00<00:00, 55.20it/s, loss=1.3]\n"
          ]
        },
        {
          "output_type": "stream",
          "name": "stdout",
          "text": [
            "Epoch [1214/5000]: Train loss: 1.3797, Valid loss: 1.0942\n"
          ]
        },
        {
          "output_type": "stream",
          "name": "stderr",
          "text": [
            "Epoch [1215/5000]: 100%|██████████| 10/10 [00:00<00:00, 52.28it/s, loss=1.37]\n"
          ]
        },
        {
          "output_type": "stream",
          "name": "stdout",
          "text": [
            "Epoch [1215/5000]: Train loss: 1.3673, Valid loss: 0.9932\n"
          ]
        },
        {
          "output_type": "stream",
          "name": "stderr",
          "text": [
            "Epoch [1216/5000]: 100%|██████████| 10/10 [00:00<00:00, 55.13it/s, loss=1.31]\n"
          ]
        },
        {
          "output_type": "stream",
          "name": "stdout",
          "text": [
            "Epoch [1216/5000]: Train loss: 1.3647, Valid loss: 1.0073\n"
          ]
        },
        {
          "output_type": "stream",
          "name": "stderr",
          "text": [
            "Epoch [1217/5000]: 100%|██████████| 10/10 [00:00<00:00, 47.98it/s, loss=1.36]\n"
          ]
        },
        {
          "output_type": "stream",
          "name": "stdout",
          "text": [
            "Epoch [1217/5000]: Train loss: 1.3503, Valid loss: 1.0408\n"
          ]
        },
        {
          "output_type": "stream",
          "name": "stderr",
          "text": [
            "Epoch [1218/5000]: 100%|██████████| 10/10 [00:00<00:00, 53.70it/s, loss=1.23]\n"
          ]
        },
        {
          "output_type": "stream",
          "name": "stdout",
          "text": [
            "Epoch [1218/5000]: Train loss: 1.3725, Valid loss: 1.0323\n"
          ]
        },
        {
          "output_type": "stream",
          "name": "stderr",
          "text": [
            "Epoch [1219/5000]: 100%|██████████| 10/10 [00:00<00:00, 56.18it/s, loss=1.25]\n"
          ]
        },
        {
          "output_type": "stream",
          "name": "stdout",
          "text": [
            "Epoch [1219/5000]: Train loss: 1.3486, Valid loss: 0.9865\n"
          ]
        },
        {
          "output_type": "stream",
          "name": "stderr",
          "text": [
            "Epoch [1220/5000]: 100%|██████████| 10/10 [00:00<00:00, 63.78it/s, loss=1.38]\n"
          ]
        },
        {
          "output_type": "stream",
          "name": "stdout",
          "text": [
            "Epoch [1220/5000]: Train loss: 1.3467, Valid loss: 1.1395\n"
          ]
        },
        {
          "output_type": "stream",
          "name": "stderr",
          "text": [
            "Epoch [1221/5000]: 100%|██████████| 10/10 [00:00<00:00, 56.15it/s, loss=1.45]\n"
          ]
        },
        {
          "output_type": "stream",
          "name": "stdout",
          "text": [
            "Epoch [1221/5000]: Train loss: 1.3585, Valid loss: 1.1536\n"
          ]
        },
        {
          "output_type": "stream",
          "name": "stderr",
          "text": [
            "Epoch [1222/5000]: 100%|██████████| 10/10 [00:00<00:00, 57.09it/s, loss=1.26]\n"
          ]
        },
        {
          "output_type": "stream",
          "name": "stdout",
          "text": [
            "Epoch [1222/5000]: Train loss: 1.3597, Valid loss: 1.0444\n"
          ]
        },
        {
          "output_type": "stream",
          "name": "stderr",
          "text": [
            "Epoch [1223/5000]: 100%|██████████| 10/10 [00:00<00:00, 21.68it/s, loss=1.22]\n"
          ]
        },
        {
          "output_type": "stream",
          "name": "stdout",
          "text": [
            "Epoch [1223/5000]: Train loss: 1.3393, Valid loss: 0.9875\n"
          ]
        },
        {
          "output_type": "stream",
          "name": "stderr",
          "text": [
            "Epoch [1224/5000]: 100%|██████████| 10/10 [00:00<00:00, 60.64it/s, loss=1.29]\n"
          ]
        },
        {
          "output_type": "stream",
          "name": "stdout",
          "text": [
            "Epoch [1224/5000]: Train loss: 1.3629, Valid loss: 1.0863\n"
          ]
        },
        {
          "output_type": "stream",
          "name": "stderr",
          "text": [
            "Epoch [1225/5000]: 100%|██████████| 10/10 [00:00<00:00, 57.29it/s, loss=1.32]\n"
          ]
        },
        {
          "output_type": "stream",
          "name": "stdout",
          "text": [
            "Epoch [1225/5000]: Train loss: 1.3645, Valid loss: 0.9774\n"
          ]
        },
        {
          "output_type": "stream",
          "name": "stderr",
          "text": [
            "Epoch [1226/5000]: 100%|██████████| 10/10 [00:00<00:00, 59.08it/s, loss=1.49]\n"
          ]
        },
        {
          "output_type": "stream",
          "name": "stdout",
          "text": [
            "Epoch [1226/5000]: Train loss: 1.3907, Valid loss: 1.0111\n"
          ]
        },
        {
          "output_type": "stream",
          "name": "stderr",
          "text": [
            "Epoch [1227/5000]: 100%|██████████| 10/10 [00:00<00:00, 60.49it/s, loss=1.37]\n"
          ]
        },
        {
          "output_type": "stream",
          "name": "stdout",
          "text": [
            "Epoch [1227/5000]: Train loss: 1.3628, Valid loss: 0.9684\n"
          ]
        },
        {
          "output_type": "stream",
          "name": "stderr",
          "text": [
            "Epoch [1228/5000]: 100%|██████████| 10/10 [00:00<00:00, 59.47it/s, loss=1.29]\n"
          ]
        },
        {
          "output_type": "stream",
          "name": "stdout",
          "text": [
            "Epoch [1228/5000]: Train loss: 1.3570, Valid loss: 0.9627\n"
          ]
        },
        {
          "output_type": "stream",
          "name": "stderr",
          "text": [
            "Epoch [1229/5000]: 100%|██████████| 10/10 [00:00<00:00, 57.59it/s, loss=1.2]\n"
          ]
        },
        {
          "output_type": "stream",
          "name": "stdout",
          "text": [
            "Epoch [1229/5000]: Train loss: 1.3459, Valid loss: 1.0002\n"
          ]
        },
        {
          "output_type": "stream",
          "name": "stderr",
          "text": [
            "Epoch [1230/5000]: 100%|██████████| 10/10 [00:00<00:00, 60.70it/s, loss=1.38]\n"
          ]
        },
        {
          "output_type": "stream",
          "name": "stdout",
          "text": [
            "Epoch [1230/5000]: Train loss: 1.3674, Valid loss: 1.0741\n"
          ]
        },
        {
          "output_type": "stream",
          "name": "stderr",
          "text": [
            "Epoch [1231/5000]: 100%|██████████| 10/10 [00:00<00:00, 58.49it/s, loss=1.35]\n"
          ]
        },
        {
          "output_type": "stream",
          "name": "stdout",
          "text": [
            "Epoch [1231/5000]: Train loss: 1.3406, Valid loss: 1.0049\n"
          ]
        },
        {
          "output_type": "stream",
          "name": "stderr",
          "text": [
            "Epoch [1232/5000]: 100%|██████████| 10/10 [00:00<00:00, 61.06it/s, loss=1.42]\n"
          ]
        },
        {
          "output_type": "stream",
          "name": "stdout",
          "text": [
            "Epoch [1232/5000]: Train loss: 1.3915, Valid loss: 1.0106\n"
          ]
        },
        {
          "output_type": "stream",
          "name": "stderr",
          "text": [
            "Epoch [1233/5000]: 100%|██████████| 10/10 [00:00<00:00, 58.43it/s, loss=1.43]\n"
          ]
        },
        {
          "output_type": "stream",
          "name": "stdout",
          "text": [
            "Epoch [1233/5000]: Train loss: 1.3680, Valid loss: 1.0255\n"
          ]
        },
        {
          "output_type": "stream",
          "name": "stderr",
          "text": [
            "Epoch [1234/5000]: 100%|██████████| 10/10 [00:00<00:00, 57.32it/s, loss=1.4]\n"
          ]
        },
        {
          "output_type": "stream",
          "name": "stdout",
          "text": [
            "Epoch [1234/5000]: Train loss: 1.3433, Valid loss: 1.0525\n"
          ]
        },
        {
          "output_type": "stream",
          "name": "stderr",
          "text": [
            "Epoch [1235/5000]: 100%|██████████| 10/10 [00:00<00:00, 57.77it/s, loss=1.26]\n"
          ]
        },
        {
          "output_type": "stream",
          "name": "stdout",
          "text": [
            "Epoch [1235/5000]: Train loss: 1.3502, Valid loss: 1.0602\n"
          ]
        },
        {
          "output_type": "stream",
          "name": "stderr",
          "text": [
            "Epoch [1236/5000]: 100%|██████████| 10/10 [00:00<00:00, 59.83it/s, loss=1.34]\n"
          ]
        },
        {
          "output_type": "stream",
          "name": "stdout",
          "text": [
            "Epoch [1236/5000]: Train loss: 1.3554, Valid loss: 1.0005\n"
          ]
        },
        {
          "output_type": "stream",
          "name": "stderr",
          "text": [
            "Epoch [1237/5000]: 100%|██████████| 10/10 [00:00<00:00, 60.82it/s, loss=1.35]\n"
          ]
        },
        {
          "output_type": "stream",
          "name": "stdout",
          "text": [
            "Epoch [1237/5000]: Train loss: 1.3588, Valid loss: 1.1419\n"
          ]
        },
        {
          "output_type": "stream",
          "name": "stderr",
          "text": [
            "Epoch [1238/5000]: 100%|██████████| 10/10 [00:00<00:00, 61.06it/s, loss=1.45]\n"
          ]
        },
        {
          "output_type": "stream",
          "name": "stdout",
          "text": [
            "Epoch [1238/5000]: Train loss: 1.3835, Valid loss: 1.0940\n"
          ]
        },
        {
          "output_type": "stream",
          "name": "stderr",
          "text": [
            "Epoch [1239/5000]: 100%|██████████| 10/10 [00:00<00:00, 62.05it/s, loss=1.41]\n"
          ]
        },
        {
          "output_type": "stream",
          "name": "stdout",
          "text": [
            "Epoch [1239/5000]: Train loss: 1.3739, Valid loss: 0.9738\n"
          ]
        },
        {
          "output_type": "stream",
          "name": "stderr",
          "text": [
            "Epoch [1240/5000]: 100%|██████████| 10/10 [00:00<00:00, 62.61it/s, loss=1.23]\n"
          ]
        },
        {
          "output_type": "stream",
          "name": "stdout",
          "text": [
            "Epoch [1240/5000]: Train loss: 1.3698, Valid loss: 1.0403\n"
          ]
        },
        {
          "output_type": "stream",
          "name": "stderr",
          "text": [
            "Epoch [1241/5000]: 100%|██████████| 10/10 [00:00<00:00, 61.69it/s, loss=1.43]\n"
          ]
        },
        {
          "output_type": "stream",
          "name": "stdout",
          "text": [
            "Epoch [1241/5000]: Train loss: 1.3705, Valid loss: 1.0628\n"
          ]
        },
        {
          "output_type": "stream",
          "name": "stderr",
          "text": [
            "Epoch [1242/5000]: 100%|██████████| 10/10 [00:00<00:00, 59.57it/s, loss=1.28]\n"
          ]
        },
        {
          "output_type": "stream",
          "name": "stdout",
          "text": [
            "Epoch [1242/5000]: Train loss: 1.3979, Valid loss: 1.1024\n"
          ]
        },
        {
          "output_type": "stream",
          "name": "stderr",
          "text": [
            "Epoch [1243/5000]: 100%|██████████| 10/10 [00:00<00:00, 59.73it/s, loss=1.35]\n"
          ]
        },
        {
          "output_type": "stream",
          "name": "stdout",
          "text": [
            "Epoch [1243/5000]: Train loss: 1.3687, Valid loss: 0.9752\n"
          ]
        },
        {
          "output_type": "stream",
          "name": "stderr",
          "text": [
            "Epoch [1244/5000]: 100%|██████████| 10/10 [00:00<00:00, 62.17it/s, loss=1.31]\n"
          ]
        },
        {
          "output_type": "stream",
          "name": "stdout",
          "text": [
            "Epoch [1244/5000]: Train loss: 1.3562, Valid loss: 1.0300\n"
          ]
        },
        {
          "output_type": "stream",
          "name": "stderr",
          "text": [
            "Epoch [1245/5000]: 100%|██████████| 10/10 [00:00<00:00, 62.76it/s, loss=1.41]\n"
          ]
        },
        {
          "output_type": "stream",
          "name": "stdout",
          "text": [
            "Epoch [1245/5000]: Train loss: 1.3597, Valid loss: 1.2188\n"
          ]
        },
        {
          "output_type": "stream",
          "name": "stderr",
          "text": [
            "Epoch [1246/5000]: 100%|██████████| 10/10 [00:00<00:00, 22.01it/s, loss=1.32]\n"
          ]
        },
        {
          "output_type": "stream",
          "name": "stdout",
          "text": [
            "Epoch [1246/5000]: Train loss: 1.3685, Valid loss: 1.0460\n"
          ]
        },
        {
          "output_type": "stream",
          "name": "stderr",
          "text": [
            "Epoch [1247/5000]: 100%|██████████| 10/10 [00:00<00:00, 61.07it/s, loss=1.33]\n"
          ]
        },
        {
          "output_type": "stream",
          "name": "stdout",
          "text": [
            "Epoch [1247/5000]: Train loss: 1.3688, Valid loss: 1.0180\n"
          ]
        },
        {
          "output_type": "stream",
          "name": "stderr",
          "text": [
            "Epoch [1248/5000]: 100%|██████████| 10/10 [00:00<00:00, 61.45it/s, loss=1.27]\n"
          ]
        },
        {
          "output_type": "stream",
          "name": "stdout",
          "text": [
            "Epoch [1248/5000]: Train loss: 1.3536, Valid loss: 1.1311\n"
          ]
        },
        {
          "output_type": "stream",
          "name": "stderr",
          "text": [
            "Epoch [1249/5000]: 100%|██████████| 10/10 [00:00<00:00, 61.15it/s, loss=1.49]\n"
          ]
        },
        {
          "output_type": "stream",
          "name": "stdout",
          "text": [
            "Epoch [1249/5000]: Train loss: 1.3808, Valid loss: 1.0148\n"
          ]
        },
        {
          "output_type": "stream",
          "name": "stderr",
          "text": [
            "Epoch [1250/5000]: 100%|██████████| 10/10 [00:00<00:00, 59.50it/s, loss=1.21]\n"
          ]
        },
        {
          "output_type": "stream",
          "name": "stdout",
          "text": [
            "Epoch [1250/5000]: Train loss: 1.3526, Valid loss: 1.0389\n"
          ]
        },
        {
          "output_type": "stream",
          "name": "stderr",
          "text": [
            "Epoch [1251/5000]: 100%|██████████| 10/10 [00:00<00:00, 59.86it/s, loss=1.41]\n"
          ]
        },
        {
          "output_type": "stream",
          "name": "stdout",
          "text": [
            "Epoch [1251/5000]: Train loss: 1.3471, Valid loss: 1.0215\n"
          ]
        },
        {
          "output_type": "stream",
          "name": "stderr",
          "text": [
            "Epoch [1252/5000]: 100%|██████████| 10/10 [00:00<00:00, 60.08it/s, loss=1.36]\n"
          ]
        },
        {
          "output_type": "stream",
          "name": "stdout",
          "text": [
            "Epoch [1252/5000]: Train loss: 1.3658, Valid loss: 1.0611\n"
          ]
        },
        {
          "output_type": "stream",
          "name": "stderr",
          "text": [
            "Epoch [1253/5000]: 100%|██████████| 10/10 [00:00<00:00, 60.89it/s, loss=1.35]\n"
          ]
        },
        {
          "output_type": "stream",
          "name": "stdout",
          "text": [
            "Epoch [1253/5000]: Train loss: 1.3720, Valid loss: 1.0143\n"
          ]
        },
        {
          "output_type": "stream",
          "name": "stderr",
          "text": [
            "Epoch [1254/5000]: 100%|██████████| 10/10 [00:00<00:00, 52.76it/s, loss=1.36]\n"
          ]
        },
        {
          "output_type": "stream",
          "name": "stdout",
          "text": [
            "Epoch [1254/5000]: Train loss: 1.3600, Valid loss: 0.9988\n"
          ]
        },
        {
          "output_type": "stream",
          "name": "stderr",
          "text": [
            "Epoch [1255/5000]: 100%|██████████| 10/10 [00:00<00:00, 56.68it/s, loss=1.38]\n"
          ]
        },
        {
          "output_type": "stream",
          "name": "stdout",
          "text": [
            "Epoch [1255/5000]: Train loss: 1.3409, Valid loss: 1.0231\n"
          ]
        },
        {
          "output_type": "stream",
          "name": "stderr",
          "text": [
            "Epoch [1256/5000]: 100%|██████████| 10/10 [00:00<00:00, 60.41it/s, loss=1.4]\n"
          ]
        },
        {
          "output_type": "stream",
          "name": "stdout",
          "text": [
            "Epoch [1256/5000]: Train loss: 1.3744, Valid loss: 1.0590\n"
          ]
        },
        {
          "output_type": "stream",
          "name": "stderr",
          "text": [
            "Epoch [1257/5000]: 100%|██████████| 10/10 [00:00<00:00, 62.61it/s, loss=1.38]\n"
          ]
        },
        {
          "output_type": "stream",
          "name": "stdout",
          "text": [
            "Epoch [1257/5000]: Train loss: 1.3733, Valid loss: 1.0270\n"
          ]
        },
        {
          "output_type": "stream",
          "name": "stderr",
          "text": [
            "Epoch [1258/5000]: 100%|██████████| 10/10 [00:00<00:00, 63.48it/s, loss=1.35]\n"
          ]
        },
        {
          "output_type": "stream",
          "name": "stdout",
          "text": [
            "Epoch [1258/5000]: Train loss: 1.3604, Valid loss: 0.9972\n"
          ]
        },
        {
          "output_type": "stream",
          "name": "stderr",
          "text": [
            "Epoch [1259/5000]: 100%|██████████| 10/10 [00:00<00:00, 59.42it/s, loss=1.28]\n"
          ]
        },
        {
          "output_type": "stream",
          "name": "stdout",
          "text": [
            "Epoch [1259/5000]: Train loss: 1.3423, Valid loss: 1.0651\n"
          ]
        },
        {
          "output_type": "stream",
          "name": "stderr",
          "text": [
            "Epoch [1260/5000]: 100%|██████████| 10/10 [00:00<00:00, 52.09it/s, loss=1.2]\n"
          ]
        },
        {
          "output_type": "stream",
          "name": "stdout",
          "text": [
            "Epoch [1260/5000]: Train loss: 1.3055, Valid loss: 0.9914\n"
          ]
        },
        {
          "output_type": "stream",
          "name": "stderr",
          "text": [
            "Epoch [1261/5000]: 100%|██████████| 10/10 [00:00<00:00, 50.10it/s, loss=1.23]\n"
          ]
        },
        {
          "output_type": "stream",
          "name": "stdout",
          "text": [
            "Epoch [1261/5000]: Train loss: 1.3395, Valid loss: 0.9974\n"
          ]
        },
        {
          "output_type": "stream",
          "name": "stderr",
          "text": [
            "Epoch [1262/5000]: 100%|██████████| 10/10 [00:00<00:00, 49.09it/s, loss=1.37]\n"
          ]
        },
        {
          "output_type": "stream",
          "name": "stdout",
          "text": [
            "Epoch [1262/5000]: Train loss: 1.3496, Valid loss: 1.0059\n"
          ]
        },
        {
          "output_type": "stream",
          "name": "stderr",
          "text": [
            "Epoch [1263/5000]: 100%|██████████| 10/10 [00:00<00:00, 50.74it/s, loss=1.3]\n"
          ]
        },
        {
          "output_type": "stream",
          "name": "stdout",
          "text": [
            "Epoch [1263/5000]: Train loss: 1.3694, Valid loss: 1.0262\n"
          ]
        },
        {
          "output_type": "stream",
          "name": "stderr",
          "text": [
            "Epoch [1264/5000]: 100%|██████████| 10/10 [00:00<00:00, 52.99it/s, loss=1.39]\n"
          ]
        },
        {
          "output_type": "stream",
          "name": "stdout",
          "text": [
            "Epoch [1264/5000]: Train loss: 1.3462, Valid loss: 1.0355\n"
          ]
        },
        {
          "output_type": "stream",
          "name": "stderr",
          "text": [
            "Epoch [1265/5000]: 100%|██████████| 10/10 [00:00<00:00, 49.98it/s, loss=1.4]\n"
          ]
        },
        {
          "output_type": "stream",
          "name": "stdout",
          "text": [
            "Epoch [1265/5000]: Train loss: 1.3391, Valid loss: 1.0547\n"
          ]
        },
        {
          "output_type": "stream",
          "name": "stderr",
          "text": [
            "Epoch [1266/5000]: 100%|██████████| 10/10 [00:00<00:00, 46.95it/s, loss=1.35]\n"
          ]
        },
        {
          "output_type": "stream",
          "name": "stdout",
          "text": [
            "Epoch [1266/5000]: Train loss: 1.3182, Valid loss: 1.0717\n"
          ]
        },
        {
          "output_type": "stream",
          "name": "stderr",
          "text": [
            "Epoch [1267/5000]: 100%|██████████| 10/10 [00:00<00:00, 46.77it/s, loss=1.42]\n"
          ]
        },
        {
          "output_type": "stream",
          "name": "stdout",
          "text": [
            "Epoch [1267/5000]: Train loss: 1.3491, Valid loss: 1.0029\n"
          ]
        },
        {
          "output_type": "stream",
          "name": "stderr",
          "text": [
            "Epoch [1268/5000]: 100%|██████████| 10/10 [00:00<00:00, 51.99it/s, loss=1.31]\n"
          ]
        },
        {
          "output_type": "stream",
          "name": "stdout",
          "text": [
            "Epoch [1268/5000]: Train loss: 1.3658, Valid loss: 1.0229\n"
          ]
        },
        {
          "output_type": "stream",
          "name": "stderr",
          "text": [
            "Epoch [1269/5000]: 100%|██████████| 10/10 [00:00<00:00, 45.29it/s, loss=1.45]\n"
          ]
        },
        {
          "output_type": "stream",
          "name": "stdout",
          "text": [
            "Epoch [1269/5000]: Train loss: 1.3576, Valid loss: 1.0419\n"
          ]
        },
        {
          "output_type": "stream",
          "name": "stderr",
          "text": [
            "Epoch [1270/5000]: 100%|██████████| 10/10 [00:00<00:00, 48.62it/s, loss=1.4]\n"
          ]
        },
        {
          "output_type": "stream",
          "name": "stdout",
          "text": [
            "Epoch [1270/5000]: Train loss: 1.3746, Valid loss: 1.0346\n"
          ]
        },
        {
          "output_type": "stream",
          "name": "stderr",
          "text": [
            "Epoch [1271/5000]: 100%|██████████| 10/10 [00:00<00:00, 57.01it/s, loss=1.19]\n"
          ]
        },
        {
          "output_type": "stream",
          "name": "stdout",
          "text": [
            "Epoch [1271/5000]: Train loss: 1.3618, Valid loss: 1.0789\n"
          ]
        },
        {
          "output_type": "stream",
          "name": "stderr",
          "text": [
            "Epoch [1272/5000]: 100%|██████████| 10/10 [00:00<00:00, 22.64it/s, loss=1.41]\n"
          ]
        },
        {
          "output_type": "stream",
          "name": "stdout",
          "text": [
            "Epoch [1272/5000]: Train loss: 1.3543, Valid loss: 1.0624\n"
          ]
        },
        {
          "output_type": "stream",
          "name": "stderr",
          "text": [
            "Epoch [1273/5000]: 100%|██████████| 10/10 [00:00<00:00, 53.92it/s, loss=1.52]\n"
          ]
        },
        {
          "output_type": "stream",
          "name": "stdout",
          "text": [
            "Epoch [1273/5000]: Train loss: 1.3599, Valid loss: 1.0344\n"
          ]
        },
        {
          "output_type": "stream",
          "name": "stderr",
          "text": [
            "Epoch [1274/5000]: 100%|██████████| 10/10 [00:00<00:00, 58.53it/s, loss=1.44]\n"
          ]
        },
        {
          "output_type": "stream",
          "name": "stdout",
          "text": [
            "Epoch [1274/5000]: Train loss: 1.3674, Valid loss: 1.1143\n"
          ]
        },
        {
          "output_type": "stream",
          "name": "stderr",
          "text": [
            "Epoch [1275/5000]: 100%|██████████| 10/10 [00:00<00:00, 60.46it/s, loss=1.37]\n"
          ]
        },
        {
          "output_type": "stream",
          "name": "stdout",
          "text": [
            "Epoch [1275/5000]: Train loss: 1.3502, Valid loss: 1.0499\n"
          ]
        },
        {
          "output_type": "stream",
          "name": "stderr",
          "text": [
            "Epoch [1276/5000]: 100%|██████████| 10/10 [00:00<00:00, 58.98it/s, loss=1.42]\n"
          ]
        },
        {
          "output_type": "stream",
          "name": "stdout",
          "text": [
            "Epoch [1276/5000]: Train loss: 1.3777, Valid loss: 1.0778\n"
          ]
        },
        {
          "output_type": "stream",
          "name": "stderr",
          "text": [
            "Epoch [1277/5000]: 100%|██████████| 10/10 [00:00<00:00, 60.80it/s, loss=1.52]\n"
          ]
        },
        {
          "output_type": "stream",
          "name": "stdout",
          "text": [
            "Epoch [1277/5000]: Train loss: 1.3554, Valid loss: 1.0134\n"
          ]
        },
        {
          "output_type": "stream",
          "name": "stderr",
          "text": [
            "Epoch [1278/5000]: 100%|██████████| 10/10 [00:00<00:00, 55.46it/s, loss=1.3]\n"
          ]
        },
        {
          "output_type": "stream",
          "name": "stdout",
          "text": [
            "Epoch [1278/5000]: Train loss: 1.3408, Valid loss: 1.0852\n"
          ]
        },
        {
          "output_type": "stream",
          "name": "stderr",
          "text": [
            "Epoch [1279/5000]: 100%|██████████| 10/10 [00:00<00:00, 62.28it/s, loss=1.36]\n"
          ]
        },
        {
          "output_type": "stream",
          "name": "stdout",
          "text": [
            "Epoch [1279/5000]: Train loss: 1.3351, Valid loss: 1.0143\n"
          ]
        },
        {
          "output_type": "stream",
          "name": "stderr",
          "text": [
            "Epoch [1280/5000]: 100%|██████████| 10/10 [00:00<00:00, 59.47it/s, loss=1.2]\n"
          ]
        },
        {
          "output_type": "stream",
          "name": "stdout",
          "text": [
            "Epoch [1280/5000]: Train loss: 1.3485, Valid loss: 1.0054\n"
          ]
        },
        {
          "output_type": "stream",
          "name": "stderr",
          "text": [
            "Epoch [1281/5000]: 100%|██████████| 10/10 [00:00<00:00, 61.64it/s, loss=1.37]\n"
          ]
        },
        {
          "output_type": "stream",
          "name": "stdout",
          "text": [
            "Epoch [1281/5000]: Train loss: 1.3357, Valid loss: 1.0759\n"
          ]
        },
        {
          "output_type": "stream",
          "name": "stderr",
          "text": [
            "Epoch [1282/5000]: 100%|██████████| 10/10 [00:00<00:00, 22.51it/s, loss=1.29]\n"
          ]
        },
        {
          "output_type": "stream",
          "name": "stdout",
          "text": [
            "Epoch [1282/5000]: Train loss: 1.3540, Valid loss: 1.0080\n"
          ]
        },
        {
          "output_type": "stream",
          "name": "stderr",
          "text": [
            "Epoch [1283/5000]: 100%|██████████| 10/10 [00:00<00:00, 60.20it/s, loss=1.3]\n"
          ]
        },
        {
          "output_type": "stream",
          "name": "stdout",
          "text": [
            "Epoch [1283/5000]: Train loss: 1.3810, Valid loss: 1.0998\n"
          ]
        },
        {
          "output_type": "stream",
          "name": "stderr",
          "text": [
            "Epoch [1284/5000]: 100%|██████████| 10/10 [00:00<00:00, 62.28it/s, loss=1.38]\n"
          ]
        },
        {
          "output_type": "stream",
          "name": "stdout",
          "text": [
            "Epoch [1284/5000]: Train loss: 1.3431, Valid loss: 0.9961\n"
          ]
        },
        {
          "output_type": "stream",
          "name": "stderr",
          "text": [
            "Epoch [1285/5000]: 100%|██████████| 10/10 [00:00<00:00, 63.11it/s, loss=1.29]\n"
          ]
        },
        {
          "output_type": "stream",
          "name": "stdout",
          "text": [
            "Epoch [1285/5000]: Train loss: 1.3508, Valid loss: 1.0573\n"
          ]
        },
        {
          "output_type": "stream",
          "name": "stderr",
          "text": [
            "Epoch [1286/5000]: 100%|██████████| 10/10 [00:00<00:00, 57.06it/s, loss=1.35]\n"
          ]
        },
        {
          "output_type": "stream",
          "name": "stdout",
          "text": [
            "Epoch [1286/5000]: Train loss: 1.3541, Valid loss: 1.0158\n"
          ]
        },
        {
          "output_type": "stream",
          "name": "stderr",
          "text": [
            "Epoch [1287/5000]: 100%|██████████| 10/10 [00:00<00:00, 62.39it/s, loss=1.34]\n"
          ]
        },
        {
          "output_type": "stream",
          "name": "stdout",
          "text": [
            "Epoch [1287/5000]: Train loss: 1.3532, Valid loss: 1.0144\n"
          ]
        },
        {
          "output_type": "stream",
          "name": "stderr",
          "text": [
            "Epoch [1288/5000]: 100%|██████████| 10/10 [00:00<00:00, 61.21it/s, loss=1.42]\n"
          ]
        },
        {
          "output_type": "stream",
          "name": "stdout",
          "text": [
            "Epoch [1288/5000]: Train loss: 1.3462, Valid loss: 1.0087\n"
          ]
        },
        {
          "output_type": "stream",
          "name": "stderr",
          "text": [
            "Epoch [1289/5000]: 100%|██████████| 10/10 [00:00<00:00, 62.45it/s, loss=1.44]\n"
          ]
        },
        {
          "output_type": "stream",
          "name": "stdout",
          "text": [
            "Epoch [1289/5000]: Train loss: 1.3476, Valid loss: 1.0359\n"
          ]
        },
        {
          "output_type": "stream",
          "name": "stderr",
          "text": [
            "Epoch [1290/5000]: 100%|██████████| 10/10 [00:00<00:00, 58.72it/s, loss=1.37]\n"
          ]
        },
        {
          "output_type": "stream",
          "name": "stdout",
          "text": [
            "Epoch [1290/5000]: Train loss: 1.3232, Valid loss: 1.0322\n"
          ]
        },
        {
          "output_type": "stream",
          "name": "stderr",
          "text": [
            "Epoch [1291/5000]: 100%|██████████| 10/10 [00:00<00:00, 57.11it/s, loss=1.24]\n"
          ]
        },
        {
          "output_type": "stream",
          "name": "stdout",
          "text": [
            "Epoch [1291/5000]: Train loss: 1.3488, Valid loss: 1.0240\n"
          ]
        },
        {
          "output_type": "stream",
          "name": "stderr",
          "text": [
            "Epoch [1292/5000]: 100%|██████████| 10/10 [00:00<00:00, 23.95it/s, loss=1.24]\n"
          ]
        },
        {
          "output_type": "stream",
          "name": "stdout",
          "text": [
            "Epoch [1292/5000]: Train loss: 1.3383, Valid loss: 1.0237\n"
          ]
        },
        {
          "output_type": "stream",
          "name": "stderr",
          "text": [
            "Epoch [1293/5000]: 100%|██████████| 10/10 [00:00<00:00, 63.06it/s, loss=1.34]\n"
          ]
        },
        {
          "output_type": "stream",
          "name": "stdout",
          "text": [
            "Epoch [1293/5000]: Train loss: 1.3699, Valid loss: 1.0637\n"
          ]
        },
        {
          "output_type": "stream",
          "name": "stderr",
          "text": [
            "Epoch [1294/5000]: 100%|██████████| 10/10 [00:00<00:00, 61.30it/s, loss=1.23]\n"
          ]
        },
        {
          "output_type": "stream",
          "name": "stdout",
          "text": [
            "Epoch [1294/5000]: Train loss: 1.3458, Valid loss: 1.0775\n"
          ]
        },
        {
          "output_type": "stream",
          "name": "stderr",
          "text": [
            "Epoch [1295/5000]: 100%|██████████| 10/10 [00:00<00:00, 61.72it/s, loss=1.39]\n"
          ]
        },
        {
          "output_type": "stream",
          "name": "stdout",
          "text": [
            "Epoch [1295/5000]: Train loss: 1.3286, Valid loss: 0.9553\n"
          ]
        },
        {
          "output_type": "stream",
          "name": "stderr",
          "text": [
            "Epoch [1296/5000]: 100%|██████████| 10/10 [00:00<00:00, 63.14it/s, loss=1.28]\n"
          ]
        },
        {
          "output_type": "stream",
          "name": "stdout",
          "text": [
            "Epoch [1296/5000]: Train loss: 1.3533, Valid loss: 1.1264\n"
          ]
        },
        {
          "output_type": "stream",
          "name": "stderr",
          "text": [
            "Epoch [1297/5000]: 100%|██████████| 10/10 [00:00<00:00, 64.23it/s, loss=1.3]\n"
          ]
        },
        {
          "output_type": "stream",
          "name": "stdout",
          "text": [
            "Epoch [1297/5000]: Train loss: 1.3253, Valid loss: 1.0229\n"
          ]
        },
        {
          "output_type": "stream",
          "name": "stderr",
          "text": [
            "Epoch [1298/5000]: 100%|██████████| 10/10 [00:00<00:00, 59.55it/s, loss=1.47]\n"
          ]
        },
        {
          "output_type": "stream",
          "name": "stdout",
          "text": [
            "Epoch [1298/5000]: Train loss: 1.3374, Valid loss: 0.9747\n"
          ]
        },
        {
          "output_type": "stream",
          "name": "stderr",
          "text": [
            "Epoch [1299/5000]: 100%|██████████| 10/10 [00:00<00:00, 52.75it/s, loss=1.28]\n"
          ]
        },
        {
          "output_type": "stream",
          "name": "stdout",
          "text": [
            "Epoch [1299/5000]: Train loss: 1.3612, Valid loss: 1.0387\n"
          ]
        },
        {
          "output_type": "stream",
          "name": "stderr",
          "text": [
            "Epoch [1300/5000]: 100%|██████████| 10/10 [00:00<00:00, 62.24it/s, loss=1.4]\n"
          ]
        },
        {
          "output_type": "stream",
          "name": "stdout",
          "text": [
            "Epoch [1300/5000]: Train loss: 1.3399, Valid loss: 1.1061\n"
          ]
        },
        {
          "output_type": "stream",
          "name": "stderr",
          "text": [
            "Epoch [1301/5000]: 100%|██████████| 10/10 [00:00<00:00, 62.76it/s, loss=1.62]\n"
          ]
        },
        {
          "output_type": "stream",
          "name": "stdout",
          "text": [
            "Epoch [1301/5000]: Train loss: 1.3872, Valid loss: 1.0125\n"
          ]
        },
        {
          "output_type": "stream",
          "name": "stderr",
          "text": [
            "Epoch [1302/5000]: 100%|██████████| 10/10 [00:00<00:00, 58.88it/s, loss=1.39]\n"
          ]
        },
        {
          "output_type": "stream",
          "name": "stdout",
          "text": [
            "Epoch [1302/5000]: Train loss: 1.3382, Valid loss: 1.0402\n"
          ]
        },
        {
          "output_type": "stream",
          "name": "stderr",
          "text": [
            "Epoch [1303/5000]: 100%|██████████| 10/10 [00:00<00:00, 22.41it/s, loss=1.27]\n"
          ]
        },
        {
          "output_type": "stream",
          "name": "stdout",
          "text": [
            "Epoch [1303/5000]: Train loss: 1.3371, Valid loss: 1.1167\n"
          ]
        },
        {
          "output_type": "stream",
          "name": "stderr",
          "text": [
            "Epoch [1304/5000]: 100%|██████████| 10/10 [00:00<00:00, 54.97it/s, loss=1.32]\n"
          ]
        },
        {
          "output_type": "stream",
          "name": "stdout",
          "text": [
            "Epoch [1304/5000]: Train loss: 1.3432, Valid loss: 1.0087\n"
          ]
        },
        {
          "output_type": "stream",
          "name": "stderr",
          "text": [
            "Epoch [1305/5000]: 100%|██████████| 10/10 [00:00<00:00, 58.67it/s, loss=1.36]\n"
          ]
        },
        {
          "output_type": "stream",
          "name": "stdout",
          "text": [
            "Epoch [1305/5000]: Train loss: 1.3496, Valid loss: 1.0091\n"
          ]
        },
        {
          "output_type": "stream",
          "name": "stderr",
          "text": [
            "Epoch [1306/5000]: 100%|██████████| 10/10 [00:00<00:00, 61.64it/s, loss=1.41]\n"
          ]
        },
        {
          "output_type": "stream",
          "name": "stdout",
          "text": [
            "Epoch [1306/5000]: Train loss: 1.3706, Valid loss: 1.0506\n"
          ]
        },
        {
          "output_type": "stream",
          "name": "stderr",
          "text": [
            "Epoch [1307/5000]: 100%|██████████| 10/10 [00:00<00:00, 60.70it/s, loss=1.35]\n"
          ]
        },
        {
          "output_type": "stream",
          "name": "stdout",
          "text": [
            "Epoch [1307/5000]: Train loss: 1.3563, Valid loss: 1.0825\n"
          ]
        },
        {
          "output_type": "stream",
          "name": "stderr",
          "text": [
            "Epoch [1308/5000]: 100%|██████████| 10/10 [00:00<00:00, 63.16it/s, loss=1.45]\n"
          ]
        },
        {
          "output_type": "stream",
          "name": "stdout",
          "text": [
            "Epoch [1308/5000]: Train loss: 1.3424, Valid loss: 1.0248\n"
          ]
        },
        {
          "output_type": "stream",
          "name": "stderr",
          "text": [
            "Epoch [1309/5000]: 100%|██████████| 10/10 [00:00<00:00, 63.13it/s, loss=1.32]\n"
          ]
        },
        {
          "output_type": "stream",
          "name": "stdout",
          "text": [
            "Epoch [1309/5000]: Train loss: 1.3467, Valid loss: 1.0032\n"
          ]
        },
        {
          "output_type": "stream",
          "name": "stderr",
          "text": [
            "Epoch [1310/5000]: 100%|██████████| 10/10 [00:00<00:00, 64.39it/s, loss=1.19]\n"
          ]
        },
        {
          "output_type": "stream",
          "name": "stdout",
          "text": [
            "Epoch [1310/5000]: Train loss: 1.3449, Valid loss: 1.0075\n"
          ]
        },
        {
          "output_type": "stream",
          "name": "stderr",
          "text": [
            "Epoch [1311/5000]: 100%|██████████| 10/10 [00:00<00:00, 55.50it/s, loss=1.25]\n"
          ]
        },
        {
          "output_type": "stream",
          "name": "stdout",
          "text": [
            "Epoch [1311/5000]: Train loss: 1.3320, Valid loss: 1.0054\n"
          ]
        },
        {
          "output_type": "stream",
          "name": "stderr",
          "text": [
            "Epoch [1312/5000]: 100%|██████████| 10/10 [00:00<00:00, 57.79it/s, loss=1.35]\n"
          ]
        },
        {
          "output_type": "stream",
          "name": "stdout",
          "text": [
            "Epoch [1312/5000]: Train loss: 1.3301, Valid loss: 0.9788\n"
          ]
        },
        {
          "output_type": "stream",
          "name": "stderr",
          "text": [
            "Epoch [1313/5000]: 100%|██████████| 10/10 [00:00<00:00, 56.80it/s, loss=1.43]\n"
          ]
        },
        {
          "output_type": "stream",
          "name": "stdout",
          "text": [
            "Epoch [1313/5000]: Train loss: 1.3573, Valid loss: 1.0000\n"
          ]
        },
        {
          "output_type": "stream",
          "name": "stderr",
          "text": [
            "Epoch [1314/5000]: 100%|██████████| 10/10 [00:00<00:00, 58.15it/s, loss=1.4]\n"
          ]
        },
        {
          "output_type": "stream",
          "name": "stdout",
          "text": [
            "Epoch [1314/5000]: Train loss: 1.3408, Valid loss: 1.1103\n"
          ]
        },
        {
          "output_type": "stream",
          "name": "stderr",
          "text": [
            "Epoch [1315/5000]: 100%|██████████| 10/10 [00:00<00:00, 64.29it/s, loss=1.45]\n"
          ]
        },
        {
          "output_type": "stream",
          "name": "stdout",
          "text": [
            "Epoch [1315/5000]: Train loss: 1.3529, Valid loss: 0.9804\n"
          ]
        },
        {
          "output_type": "stream",
          "name": "stderr",
          "text": [
            "Epoch [1316/5000]: 100%|██████████| 10/10 [00:00<00:00, 64.45it/s, loss=1.56]\n"
          ]
        },
        {
          "output_type": "stream",
          "name": "stdout",
          "text": [
            "Epoch [1316/5000]: Train loss: 1.3552, Valid loss: 0.9830\n"
          ]
        },
        {
          "output_type": "stream",
          "name": "stderr",
          "text": [
            "Epoch [1317/5000]: 100%|██████████| 10/10 [00:00<00:00, 62.04it/s, loss=1.48]\n"
          ]
        },
        {
          "output_type": "stream",
          "name": "stdout",
          "text": [
            "Epoch [1317/5000]: Train loss: 1.3637, Valid loss: 1.0558\n"
          ]
        },
        {
          "output_type": "stream",
          "name": "stderr",
          "text": [
            "Epoch [1318/5000]: 100%|██████████| 10/10 [00:00<00:00, 64.15it/s, loss=1.22]\n"
          ]
        },
        {
          "output_type": "stream",
          "name": "stdout",
          "text": [
            "Epoch [1318/5000]: Train loss: 1.3440, Valid loss: 1.0467\n"
          ]
        },
        {
          "output_type": "stream",
          "name": "stderr",
          "text": [
            "Epoch [1319/5000]: 100%|██████████| 10/10 [00:00<00:00, 59.67it/s, loss=1.29]\n"
          ]
        },
        {
          "output_type": "stream",
          "name": "stdout",
          "text": [
            "Epoch [1319/5000]: Train loss: 1.3557, Valid loss: 1.0083\n"
          ]
        },
        {
          "output_type": "stream",
          "name": "stderr",
          "text": [
            "Epoch [1320/5000]: 100%|██████████| 10/10 [00:00<00:00, 62.23it/s, loss=1.5]\n"
          ]
        },
        {
          "output_type": "stream",
          "name": "stdout",
          "text": [
            "Epoch [1320/5000]: Train loss: 1.3776, Valid loss: 1.1259\n"
          ]
        },
        {
          "output_type": "stream",
          "name": "stderr",
          "text": [
            "Epoch [1321/5000]: 100%|██████████| 10/10 [00:00<00:00, 51.22it/s, loss=1.4]\n"
          ]
        },
        {
          "output_type": "stream",
          "name": "stdout",
          "text": [
            "Epoch [1321/5000]: Train loss: 1.3930, Valid loss: 0.9863\n"
          ]
        },
        {
          "output_type": "stream",
          "name": "stderr",
          "text": [
            "Epoch [1322/5000]: 100%|██████████| 10/10 [00:00<00:00, 54.84it/s, loss=1.29]\n"
          ]
        },
        {
          "output_type": "stream",
          "name": "stdout",
          "text": [
            "Epoch [1322/5000]: Train loss: 1.3331, Valid loss: 1.0428\n"
          ]
        },
        {
          "output_type": "stream",
          "name": "stderr",
          "text": [
            "Epoch [1323/5000]: 100%|██████████| 10/10 [00:00<00:00, 49.60it/s, loss=1.44]\n"
          ]
        },
        {
          "output_type": "stream",
          "name": "stdout",
          "text": [
            "Epoch [1323/5000]: Train loss: 1.3796, Valid loss: 1.1956\n"
          ]
        },
        {
          "output_type": "stream",
          "name": "stderr",
          "text": [
            "Epoch [1324/5000]: 100%|██████████| 10/10 [00:00<00:00, 57.97it/s, loss=1.11]\n"
          ]
        },
        {
          "output_type": "stream",
          "name": "stdout",
          "text": [
            "Epoch [1324/5000]: Train loss: 1.3600, Valid loss: 1.0456\n"
          ]
        },
        {
          "output_type": "stream",
          "name": "stderr",
          "text": [
            "Epoch [1325/5000]: 100%|██████████| 10/10 [00:00<00:00, 51.58it/s, loss=1.35]\n"
          ]
        },
        {
          "output_type": "stream",
          "name": "stdout",
          "text": [
            "Epoch [1325/5000]: Train loss: 1.3609, Valid loss: 0.9981\n"
          ]
        },
        {
          "output_type": "stream",
          "name": "stderr",
          "text": [
            "Epoch [1326/5000]: 100%|██████████| 10/10 [00:00<00:00, 60.61it/s, loss=1.29]\n"
          ]
        },
        {
          "output_type": "stream",
          "name": "stdout",
          "text": [
            "Epoch [1326/5000]: Train loss: 1.3859, Valid loss: 1.1003\n"
          ]
        },
        {
          "output_type": "stream",
          "name": "stderr",
          "text": [
            "Epoch [1327/5000]: 100%|██████████| 10/10 [00:00<00:00, 59.89it/s, loss=1.25]\n"
          ]
        },
        {
          "output_type": "stream",
          "name": "stdout",
          "text": [
            "Epoch [1327/5000]: Train loss: 1.3384, Valid loss: 1.0397\n"
          ]
        },
        {
          "output_type": "stream",
          "name": "stderr",
          "text": [
            "Epoch [1328/5000]: 100%|██████████| 10/10 [00:00<00:00, 21.64it/s, loss=1.45]\n"
          ]
        },
        {
          "output_type": "stream",
          "name": "stdout",
          "text": [
            "Epoch [1328/5000]: Train loss: 1.4059, Valid loss: 1.1363\n"
          ]
        },
        {
          "output_type": "stream",
          "name": "stderr",
          "text": [
            "Epoch [1329/5000]: 100%|██████████| 10/10 [00:00<00:00, 59.68it/s, loss=1.58]\n"
          ]
        },
        {
          "output_type": "stream",
          "name": "stdout",
          "text": [
            "Epoch [1329/5000]: Train loss: 1.3667, Valid loss: 1.0554\n"
          ]
        },
        {
          "output_type": "stream",
          "name": "stderr",
          "text": [
            "Epoch [1330/5000]: 100%|██████████| 10/10 [00:00<00:00, 51.21it/s, loss=1.35]\n"
          ]
        },
        {
          "output_type": "stream",
          "name": "stdout",
          "text": [
            "Epoch [1330/5000]: Train loss: 1.3230, Valid loss: 1.0110\n"
          ]
        },
        {
          "output_type": "stream",
          "name": "stderr",
          "text": [
            "Epoch [1331/5000]: 100%|██████████| 10/10 [00:00<00:00, 51.06it/s, loss=1.47]\n"
          ]
        },
        {
          "output_type": "stream",
          "name": "stdout",
          "text": [
            "Epoch [1331/5000]: Train loss: 1.3694, Valid loss: 1.0385\n"
          ]
        },
        {
          "output_type": "stream",
          "name": "stderr",
          "text": [
            "Epoch [1332/5000]: 100%|██████████| 10/10 [00:00<00:00, 52.36it/s, loss=1.52]\n"
          ]
        },
        {
          "output_type": "stream",
          "name": "stdout",
          "text": [
            "Epoch [1332/5000]: Train loss: 1.3398, Valid loss: 1.1198\n"
          ]
        },
        {
          "output_type": "stream",
          "name": "stderr",
          "text": [
            "Epoch [1333/5000]: 100%|██████████| 10/10 [00:00<00:00, 53.44it/s, loss=1.42]\n"
          ]
        },
        {
          "output_type": "stream",
          "name": "stdout",
          "text": [
            "Epoch [1333/5000]: Train loss: 1.3343, Valid loss: 1.0388\n"
          ]
        },
        {
          "output_type": "stream",
          "name": "stderr",
          "text": [
            "Epoch [1334/5000]: 100%|██████████| 10/10 [00:00<00:00, 52.53it/s, loss=1.3]\n"
          ]
        },
        {
          "output_type": "stream",
          "name": "stdout",
          "text": [
            "Epoch [1334/5000]: Train loss: 1.3518, Valid loss: 1.0242\n"
          ]
        },
        {
          "output_type": "stream",
          "name": "stderr",
          "text": [
            "Epoch [1335/5000]: 100%|██████████| 10/10 [00:00<00:00, 54.79it/s, loss=1.26]\n"
          ]
        },
        {
          "output_type": "stream",
          "name": "stdout",
          "text": [
            "Epoch [1335/5000]: Train loss: 1.3712, Valid loss: 1.0518\n"
          ]
        },
        {
          "output_type": "stream",
          "name": "stderr",
          "text": [
            "Epoch [1336/5000]: 100%|██████████| 10/10 [00:00<00:00, 56.22it/s, loss=1.21]\n"
          ]
        },
        {
          "output_type": "stream",
          "name": "stdout",
          "text": [
            "Epoch [1336/5000]: Train loss: 1.3313, Valid loss: 1.0572\n"
          ]
        },
        {
          "output_type": "stream",
          "name": "stderr",
          "text": [
            "Epoch [1337/5000]: 100%|██████████| 10/10 [00:00<00:00, 56.57it/s, loss=1.34]\n"
          ]
        },
        {
          "output_type": "stream",
          "name": "stdout",
          "text": [
            "Epoch [1337/5000]: Train loss: 1.3416, Valid loss: 1.0461\n"
          ]
        },
        {
          "output_type": "stream",
          "name": "stderr",
          "text": [
            "Epoch [1338/5000]: 100%|██████████| 10/10 [00:00<00:00, 59.50it/s, loss=1.48]\n"
          ]
        },
        {
          "output_type": "stream",
          "name": "stdout",
          "text": [
            "Epoch [1338/5000]: Train loss: 1.3521, Valid loss: 1.0856\n"
          ]
        },
        {
          "output_type": "stream",
          "name": "stderr",
          "text": [
            "Epoch [1339/5000]: 100%|██████████| 10/10 [00:00<00:00, 55.67it/s, loss=1.24]\n"
          ]
        },
        {
          "output_type": "stream",
          "name": "stdout",
          "text": [
            "Epoch [1339/5000]: Train loss: 1.3714, Valid loss: 1.0775\n"
          ]
        },
        {
          "output_type": "stream",
          "name": "stderr",
          "text": [
            "Epoch [1340/5000]: 100%|██████████| 10/10 [00:00<00:00, 52.60it/s, loss=1.25]\n"
          ]
        },
        {
          "output_type": "stream",
          "name": "stdout",
          "text": [
            "Epoch [1340/5000]: Train loss: 1.3606, Valid loss: 1.0563\n"
          ]
        },
        {
          "output_type": "stream",
          "name": "stderr",
          "text": [
            "Epoch [1341/5000]: 100%|██████████| 10/10 [00:00<00:00, 49.83it/s, loss=1.45]\n"
          ]
        },
        {
          "output_type": "stream",
          "name": "stdout",
          "text": [
            "Epoch [1341/5000]: Train loss: 1.3600, Valid loss: 1.0715\n"
          ]
        },
        {
          "output_type": "stream",
          "name": "stderr",
          "text": [
            "Epoch [1342/5000]: 100%|██████████| 10/10 [00:00<00:00, 55.26it/s, loss=1.5]\n"
          ]
        },
        {
          "output_type": "stream",
          "name": "stdout",
          "text": [
            "Epoch [1342/5000]: Train loss: 1.3660, Valid loss: 1.0390\n"
          ]
        },
        {
          "output_type": "stream",
          "name": "stderr",
          "text": [
            "Epoch [1343/5000]: 100%|██████████| 10/10 [00:00<00:00, 60.91it/s, loss=1.14]\n"
          ]
        },
        {
          "output_type": "stream",
          "name": "stdout",
          "text": [
            "Epoch [1343/5000]: Train loss: 1.3333, Valid loss: 1.0042\n"
          ]
        },
        {
          "output_type": "stream",
          "name": "stderr",
          "text": [
            "Epoch [1344/5000]: 100%|██████████| 10/10 [00:00<00:00, 61.33it/s, loss=1.23]\n"
          ]
        },
        {
          "output_type": "stream",
          "name": "stdout",
          "text": [
            "Epoch [1344/5000]: Train loss: 1.3352, Valid loss: 1.0134\n"
          ]
        },
        {
          "output_type": "stream",
          "name": "stderr",
          "text": [
            "Epoch [1345/5000]: 100%|██████████| 10/10 [00:00<00:00, 58.82it/s, loss=1.5]\n"
          ]
        },
        {
          "output_type": "stream",
          "name": "stdout",
          "text": [
            "Epoch [1345/5000]: Train loss: 1.3543, Valid loss: 1.0248\n"
          ]
        },
        {
          "output_type": "stream",
          "name": "stderr",
          "text": [
            "Epoch [1346/5000]: 100%|██████████| 10/10 [00:00<00:00, 61.45it/s, loss=1.4]\n"
          ]
        },
        {
          "output_type": "stream",
          "name": "stdout",
          "text": [
            "Epoch [1346/5000]: Train loss: 1.3488, Valid loss: 1.0881\n"
          ]
        },
        {
          "output_type": "stream",
          "name": "stderr",
          "text": [
            "Epoch [1347/5000]: 100%|██████████| 10/10 [00:00<00:00, 51.19it/s, loss=1.37]\n"
          ]
        },
        {
          "output_type": "stream",
          "name": "stdout",
          "text": [
            "Epoch [1347/5000]: Train loss: 1.3502, Valid loss: 1.0705\n"
          ]
        },
        {
          "output_type": "stream",
          "name": "stderr",
          "text": [
            "Epoch [1348/5000]: 100%|██████████| 10/10 [00:00<00:00, 61.06it/s, loss=1.39]\n"
          ]
        },
        {
          "output_type": "stream",
          "name": "stdout",
          "text": [
            "Epoch [1348/5000]: Train loss: 1.3475, Valid loss: 1.0966\n"
          ]
        },
        {
          "output_type": "stream",
          "name": "stderr",
          "text": [
            "Epoch [1349/5000]: 100%|██████████| 10/10 [00:00<00:00, 60.17it/s, loss=1.28]\n"
          ]
        },
        {
          "output_type": "stream",
          "name": "stdout",
          "text": [
            "Epoch [1349/5000]: Train loss: 1.3553, Valid loss: 0.9985\n"
          ]
        },
        {
          "output_type": "stream",
          "name": "stderr",
          "text": [
            "Epoch [1350/5000]: 100%|██████████| 10/10 [00:00<00:00, 56.50it/s, loss=1.33]\n"
          ]
        },
        {
          "output_type": "stream",
          "name": "stdout",
          "text": [
            "Epoch [1350/5000]: Train loss: 1.3662, Valid loss: 1.1182\n"
          ]
        },
        {
          "output_type": "stream",
          "name": "stderr",
          "text": [
            "Epoch [1351/5000]: 100%|██████████| 10/10 [00:00<00:00, 21.70it/s, loss=1.32]\n"
          ]
        },
        {
          "output_type": "stream",
          "name": "stdout",
          "text": [
            "Epoch [1351/5000]: Train loss: 1.3884, Valid loss: 1.0111\n"
          ]
        },
        {
          "output_type": "stream",
          "name": "stderr",
          "text": [
            "Epoch [1352/5000]: 100%|██████████| 10/10 [00:00<00:00, 60.91it/s, loss=1.3]\n"
          ]
        },
        {
          "output_type": "stream",
          "name": "stdout",
          "text": [
            "Epoch [1352/5000]: Train loss: 1.3444, Valid loss: 1.0055\n"
          ]
        },
        {
          "output_type": "stream",
          "name": "stderr",
          "text": [
            "Epoch [1353/5000]: 100%|██████████| 10/10 [00:00<00:00, 56.29it/s, loss=1.39]\n"
          ]
        },
        {
          "output_type": "stream",
          "name": "stdout",
          "text": [
            "Epoch [1353/5000]: Train loss: 1.3663, Valid loss: 1.0575\n",
            "\n",
            "Model is not improving, so we halt the training session.\n",
            "Best Loss: 0.9517762303352356\n"
          ]
        }
      ],
      "source": [
        "model = My_Model(input_dim=x_train.shape[1]).to(device) # put your model and data on the same computation device.\n",
        "trainer(train_loader, valid_loader, model, config, device)"
      ]
    },
    {
      "cell_type": "code",
      "execution_count": 13,
      "metadata": {
        "id": "KBcodjJjODyY"
      },
      "outputs": [],
      "source": [
        "# Best Valid loss without FS: 2.4238\n",
        "# Best Valid loss with FS: 1.1371\n",
        "# Best Valid loss with Adam: 1.0121\n",
        "# Best Valid loss with AdamW: 0.9102\n",
        "# Current Best: 0.9029\n",
        "\n",
        "# 0.8854"
      ]
    },
    {
      "cell_type": "markdown",
      "metadata": {
        "id": "Ik09KPqU-di-"
      },
      "source": [
        "# Plot learning curves with `tensorboard` (optional)\n",
        "\n",
        "`tensorboard` is a tool that allows you to visualize your training progress.\n",
        "\n",
        "If this block does not display your learning curve, please wait for few minutes, and re-run this block. It might take some time to load your logging information. "
      ]
    },
    {
      "cell_type": "code",
      "execution_count": 14,
      "metadata": {
        "id": "loA4nKmLGQ-n",
        "outputId": "edc0687e-e56a-4eb0-b509-972a0687c7bf",
        "colab": {
          "base_uri": "https://localhost:8080/",
          "height": 820
        }
      },
      "outputs": [
        {
          "output_type": "display_data",
          "data": {
            "text/plain": [
              "<IPython.core.display.Javascript object>"
            ],
            "application/javascript": [
              "\n",
              "        (async () => {\n",
              "            const url = new URL(await google.colab.kernel.proxyPort(6006, {'cache': true}));\n",
              "            url.searchParams.set('tensorboardColab', 'true');\n",
              "            const iframe = document.createElement('iframe');\n",
              "            iframe.src = url;\n",
              "            iframe.setAttribute('width', '100%');\n",
              "            iframe.setAttribute('height', '800');\n",
              "            iframe.setAttribute('frameborder', 0);\n",
              "            document.body.appendChild(iframe);\n",
              "        })();\n",
              "    "
            ]
          },
          "metadata": {}
        }
      ],
      "source": [
        "%reload_ext tensorboard\n",
        "%tensorboard --logdir=./runs/"
      ]
    },
    {
      "cell_type": "markdown",
      "metadata": {
        "id": "yhAHGqC9-woK"
      },
      "source": [
        "# Testing\n",
        "The predictions of your model on testing set will be stored at `pred.csv`."
      ]
    },
    {
      "cell_type": "code",
      "execution_count": 29,
      "metadata": {
        "id": "Q5eVdpbvAlAe",
        "outputId": "b6e27ba8-ce5f-4240-b6a7-7eb9cdb99c9b",
        "colab": {
          "base_uri": "https://localhost:8080/"
        }
      },
      "outputs": [
        {
          "output_type": "stream",
          "name": "stderr",
          "text": [
            "100%|██████████| 2/2 [00:00<00:00, 232.20it/s]\n"
          ]
        }
      ],
      "source": [
        "def save_pred(preds, file):\n",
        "    ''' Save predictions to specified file '''\n",
        "    with open(file, 'w') as fp:\n",
        "        writer = csv.writer(fp)\n",
        "        writer.writerow(['id', 'tested_positive'])\n",
        "        for i, p in enumerate(preds):\n",
        "            writer.writerow([i, p])\n",
        "\n",
        "model = My_Model(input_dim=x_train.shape[1]).to(device)\n",
        "model.load_state_dict(torch.load(config['save_path']))\n",
        "preds = predict(test_loader, model, device) \n",
        "save_pred(preds, 'pred.csv')         "
      ]
    },
    {
      "cell_type": "code",
      "execution_count": 16,
      "metadata": {
        "id": "0QcEFO2t3f7N",
        "outputId": "68163d90-3a96-49f7-bef2-3b364f2d5d04",
        "colab": {
          "base_uri": "https://localhost:8080/"
        }
      },
      "outputs": [
        {
          "data": {
            "text/plain": [
              "array([ 8.343389 ,  9.135548 ,  5.2473874, ..., 36.817524 , 36.571102 ,\n",
              "       39.56911  ], dtype=float32)"
            ]
          },
          "execution_count": 16,
          "metadata": {},
          "output_type": "execute_result"
        }
      ],
      "source": [
        "preds"
      ]
    },
    {
      "cell_type": "code",
      "execution_count": 17,
      "metadata": {
        "id": "TPf9WbUp3f7N"
      },
      "outputs": [],
      "source": [
        "# np.save('pred_arr_train_test_1', preds)"
      ]
    },
    {
      "cell_type": "markdown",
      "metadata": {
        "id": "IJ_k5rY0GvSV"
      },
      "source": [
        "# Reference\n",
        "This notebook uses code written by Heng-Jui Chang @ NTUEE (https://github.com/ga642381/ML2021-Spring/blob/main/HW01/HW01.ipynb)"
      ]
    }
  ],
  "metadata": {
    "accelerator": "GPU",
    "colab": {
      "name": "ML2022Spring_HW1.ipynb",
      "provenance": []
    },
    "kernelspec": {
      "display_name": "Python 3 (ipykernel)",
      "language": "python",
      "name": "python3"
    },
    "language_info": {
      "codemirror_mode": {
        "name": "ipython",
        "version": 3
      },
      "file_extension": ".py",
      "mimetype": "text/x-python",
      "name": "python",
      "nbconvert_exporter": "python",
      "pygments_lexer": "ipython3",
      "version": "3.7.5"
    },
    "toc": {
      "base_numbering": 1,
      "nav_menu": {},
      "number_sections": true,
      "sideBar": true,
      "skip_h1_title": false,
      "title_cell": "Table of Contents",
      "title_sidebar": "Contents",
      "toc_cell": false,
      "toc_position": {},
      "toc_section_display": true,
      "toc_window_display": true
    }
  },
  "nbformat": 4,
  "nbformat_minor": 0
}